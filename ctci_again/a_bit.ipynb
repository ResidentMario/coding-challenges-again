{
 "cells": [
  {
   "cell_type": "code",
   "execution_count": 19,
   "metadata": {},
   "outputs": [],
   "source": [
    "class Node:\n",
    "    def __init__(self, v):\n",
    "        self.v = v\n",
    "        self.next = None"
   ]
  },
  {
   "cell_type": "code",
   "execution_count": 35,
   "metadata": {},
   "outputs": [],
   "source": [
    "def removeDupes(ll):\n",
    "    if ll is None or ll.next is None:\n",
    "        return ll\n",
    "    \n",
    "    a = ll\n",
    "    b = ll.next\n",
    "    first = ll\n",
    "    \n",
    "    while b is not None:\n",
    "        if a.v == b.v:\n",
    "            a.next, b = b.next, b.next\n",
    "        else:\n",
    "            b = b.next\n",
    "    \n",
    "    return first"
   ]
  },
  {
   "cell_type": "code",
   "execution_count": 21,
   "metadata": {},
   "outputs": [],
   "source": [
    "ll = None\n",
    "removeDupes(ll)"
   ]
  },
  {
   "cell_type": "code",
   "execution_count": 23,
   "metadata": {},
   "outputs": [
    {
     "data": {
      "text/plain": [
       "1"
      ]
     },
     "execution_count": 23,
     "metadata": {},
     "output_type": "execute_result"
    }
   ],
   "source": [
    "ll = Node(1)\n",
    "removeDupes(ll).v"
   ]
  },
  {
   "cell_type": "code",
   "execution_count": 28,
   "metadata": {},
   "outputs": [
    {
     "data": {
      "text/plain": [
       "(1, 2)"
      ]
     },
     "execution_count": 28,
     "metadata": {},
     "output_type": "execute_result"
    }
   ],
   "source": [
    "ll = Node(1)\n",
    "ll.next = Node(2)\n",
    "ll.v, ll.next.v"
   ]
  },
  {
   "cell_type": "code",
   "execution_count": 36,
   "metadata": {},
   "outputs": [],
   "source": [
    "ll = Node(1)\n",
    "ll.next = Node(1)\n",
    "removeDupes(ll).next"
   ]
  },
  {
   "cell_type": "code",
   "execution_count": 41,
   "metadata": {},
   "outputs": [],
   "source": [
    "def deleteMiddle(n):\n",
    "    while n is not None:\n",
    "        v = n.next.v if n.next is not None else None\n",
    "        n.v = v\n",
    "        n = n.next"
   ]
  },
  {
   "cell_type": "code",
   "execution_count": 46,
   "metadata": {},
   "outputs": [
    {
     "data": {
      "text/plain": [
       "(3, 1, 4, None)"
      ]
     },
     "execution_count": 46,
     "metadata": {},
     "output_type": "execute_result"
    }
   ],
   "source": [
    "ll = Node(1)\n",
    "ll.next = Node(2)\n",
    "ll.next.next = Node(3)\n",
    "ll.next.next.next = Node(4)\n",
    "deleteMiddle(ll.next)\n",
    "(ll.next.v, ll.v, ll.next.next.v, ll.next.next.next.v)"
   ]
  },
  {
   "cell_type": "code",
   "execution_count": 86,
   "metadata": {},
   "outputs": [],
   "source": [
    "def sumLists(a, b):\n",
    "    if a is None:\n",
    "        return b\n",
    "    if b is None:\n",
    "        return a\n",
    "    \n",
    "    result_pointer = Node(0)\n",
    "    result_first_pointer = result_pointer\n",
    "    carry_bit = 0\n",
    "    \n",
    "    while True:\n",
    "        s = a.v + b.v + carry_bit\n",
    "        if s < 10:\n",
    "            result_pointer.v = s\n",
    "            carry_bit = 0\n",
    "        else:\n",
    "            result_pointer.v = s % 10\n",
    "            carry_bit = 1\n",
    "        \n",
    "        if (carry_bit == 0 and a.next is None and b.next is None):\n",
    "            return result_first_pointer\n",
    "        else:\n",
    "            if a.next is None:\n",
    "                a.next = Node(0)\n",
    "            if b.next is None:\n",
    "                b.next = Node(0)\n",
    "            a = a.next\n",
    "            b = b.next\n",
    "            result_pointer.next = Node(0)\n",
    "            result_pointer = result_pointer.next"
   ]
  },
  {
   "cell_type": "code",
   "execution_count": 87,
   "metadata": {},
   "outputs": [
    {
     "data": {
      "text/plain": [
       "3"
      ]
     },
     "execution_count": 87,
     "metadata": {},
     "output_type": "execute_result"
    }
   ],
   "source": [
    "a = Node(1)\n",
    "b = Node(2)\n",
    "sumLists(a, b).v"
   ]
  },
  {
   "cell_type": "code",
   "execution_count": 88,
   "metadata": {},
   "outputs": [
    {
     "data": {
      "text/plain": [
       "(0, 1)"
      ]
     },
     "execution_count": 88,
     "metadata": {},
     "output_type": "execute_result"
    }
   ],
   "source": [
    "a = Node(5)\n",
    "b = Node(5)\n",
    "r = sumLists(a, b)\n",
    "r.v, r.next.v"
   ]
  },
  {
   "cell_type": "code",
   "execution_count": 90,
   "metadata": {},
   "outputs": [
    {
     "data": {
      "text/plain": [
       "(8, 0, 1)"
      ]
     },
     "execution_count": 90,
     "metadata": {},
     "output_type": "execute_result"
    }
   ],
   "source": [
    "a = Node(9)\n",
    "a.next = Node(9)\n",
    "b = Node(9)\n",
    "r = sumLists(a, b)\n",
    "r.v, r.next.v, r.next.next.v"
   ]
  }
 ],
 "metadata": {
  "kernelspec": {
   "display_name": "Python 3",
   "language": "python",
   "name": "python3"
  },
  "language_info": {
   "codemirror_mode": {
    "name": "ipython",
    "version": 3
   },
   "file_extension": ".py",
   "mimetype": "text/x-python",
   "name": "python",
   "nbconvert_exporter": "python",
   "pygments_lexer": "ipython3",
   "version": "3.7.3"
  }
 },
 "nbformat": 4,
 "nbformat_minor": 2
}
