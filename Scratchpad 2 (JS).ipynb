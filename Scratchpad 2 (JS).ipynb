{
 "cells": [
  {
   "cell_type": "markdown",
   "metadata": {},
   "source": [
    "## Longest Common Prefix (Leetcode 14)"
   ]
  },
  {
   "cell_type": "code",
   "execution_count": 107,
   "metadata": {},
   "outputs": [],
   "source": [
    "function longestCommonPrefix(words) {\n",
    "    let remaining_words = words;\n",
    "    let prefix_map = new Map;\n",
    "\n",
    "    if (Math.max(...words.map(w => w.length)) === 0) {\n",
    "        return ''\n",
    "    }\n",
    "    \n",
    "    for (let remaining_word of remaining_words) {\n",
    "        let first_letter = remaining_word[0];\n",
    "        if ([...prefix_map.keys()].includes(first_letter)) {\n",
    "            prefix_map.set(first_letter, prefix_map.get(first_letter).concat(remaining_word))\n",
    "        } else {\n",
    "            prefix_map.set(first_letter, [remaining_word]);\n",
    "        }\n",
    "    }\n",
    "\n",
    "    let longest_common_prefix_candidates = [];\n",
    "    for (let mapping of prefix_map.keys()) {\n",
    "        if (prefix_map.get(mapping).length > 1) {\n",
    "            let remaining_word_part = prefix_map.get(mapping).map(w => w.slice(1));\n",
    "            console.log(mapping, remaining_word_part);\n",
    "            longest_common_prefix_candidates.push(\n",
    "                mapping + longestCommonPrefix(remaining_word_part)\n",
    "            );\n",
    "        }\n",
    "    }\n",
    "    return longest_common_prefix_candidates.reduce((a, b) => a.length > b.length ? a : b, '');\n",
    "    \n",
    "}"
   ]
  },
  {
   "cell_type": "code",
   "execution_count": 1,
   "metadata": {},
   "outputs": [],
   "source": [
    "function longestCommonPrefix(words) {\n",
    "    if (words.length === 0) return '';\n",
    "    if (words.length === 1) return words[0];\n",
    "\n",
    "    let prefix = '';\n",
    "    let prefix_length_limit = Math.min(...words.map(w => w.length));\n",
    "    if (prefix_length_limit === 0) return '';\n",
    "    \n",
    "    while (true) {\n",
    "        const base_char = words[0][prefix.length];\n",
    "        for (let char of words.slice(1).map(w => w[prefix.length])) {\n",
    "            if (char !== base_char) return prefix;\n",
    "        }\n",
    "        prefix += base_char;\n",
    "        if (prefix.length === prefix_length_limit) return prefix;\n",
    "    }\n",
    "}"
   ]
  },
  {
   "cell_type": "markdown",
   "metadata": {},
   "source": [
    "## Balanced Binary Tree (Leetcode 110)"
   ]
  },
  {
   "cell_type": "code",
   "execution_count": 1,
   "metadata": {},
   "outputs": [],
   "source": [
    "class TreeNode {\n",
    "    constructor(val) {\n",
    "        this.val = val;\n",
    "        this.left = this.right = null;\n",
    "    }\n",
    "}"
   ]
  },
  {
   "cell_type": "code",
   "execution_count": 15,
   "metadata": {},
   "outputs": [],
   "source": [
    "function isBalanced(root) {\n",
    "    function _isBalanced(root, short_circuit) {\n",
    "        if (!root) return [0, short_circuit];\n",
    "        if (short_circuit) return [-1, short_circuit];\n",
    "        \n",
    "        let [left_height, left_short_circuit] = _isBalanced(root.left, short_circuit);\n",
    "        let [right_height, right_short_circuit] = _isBalanced(root.right, short_circuit);\n",
    "        \n",
    "        if (left_short_circuit || right_short_circuit) return [-1, true];\n",
    "        \n",
    "        if (Math.abs(left_height - right_height) <= 1) {\n",
    "            return [Math.max(left_height, right_height) + 1, false];\n",
    "        } else {\n",
    "            return [-1, true];\n",
    "        }\n",
    "    }\n",
    "    \n",
    "    let [_, short_circuit] = _isBalanced(root, false);\n",
    "    return !short_circuit;\n",
    "}"
   ]
  },
  {
   "cell_type": "code",
   "execution_count": 8,
   "metadata": {},
   "outputs": [
    {
     "data": {
      "text/plain": [
       "TreeNode { val: 3, right: null, left: null }"
      ]
     },
     "execution_count": 8,
     "metadata": {},
     "output_type": "execute_result"
    }
   ],
   "source": [
    "let badThreeTree = new TreeNode(1);\n",
    "badThreeTree.left = new TreeNode(2);\n",
    "badThreeTree.left.left = new TreeNode(3);"
   ]
  },
  {
   "cell_type": "code",
   "execution_count": 16,
   "metadata": {},
   "outputs": [
    {
     "data": {
      "text/plain": [
       "false"
      ]
     },
     "execution_count": 16,
     "metadata": {},
     "output_type": "execute_result"
    }
   ],
   "source": [
    "isBalanced(badThreeTree)"
   ]
  },
  {
   "cell_type": "markdown",
   "metadata": {},
   "source": [
    "Comment: this one went very well! Got it on the first try. The $O$ characteristic is $O(n)$, as the algorithm will maximally visit every single node in the tree. But it short-circuits every node after the exit case."
   ]
  },
  {
   "cell_type": "markdown",
   "metadata": {},
   "source": [
    "## Minimum Depth of a Binary Tree (Leetcode 111)\n",
    "\n",
    "Given a binary tree, find its minimum depth.\n",
    "\n",
    "The minimum depth is the number of nodes along the shortest path from the root node down to the nearest leaf node.\n",
    "\n",
    "Note: A leaf is a node with no children.\n",
    "\n",
    "```\n",
    "Example:\n",
    "\n",
    "Given binary tree [3,9,20,null,null,15,7],\n",
    "\n",
    "    3\n",
    "   / \\\n",
    "  9  20\n",
    "    /  \\\n",
    "   15   7\n",
    "return its minimum depth = 2.\n",
    "```"
   ]
  },
  {
   "cell_type": "code",
   "execution_count": 1,
   "metadata": {},
   "outputs": [],
   "source": [
    "class TreeNode {\n",
    "    constructor(val) {\n",
    "        this.val = val;\n",
    "        this.left = this.right = null;\n",
    "    }\n",
    "}"
   ]
  },
  {
   "cell_type": "code",
   "execution_count": 6,
   "metadata": {},
   "outputs": [],
   "source": [
    "function minDepth(root) {\n",
    "    if (!root) return 0;\n",
    "    else if (!root.left && !root.right) return 1;\n",
    "    else if ((root.left && !root.left.left && !root.left.right)) return 2;\n",
    "    else if ((root.right && !root.right.left && !root.right.right)) return 2;\n",
    "    else {\n",
    "        if (!root.left) return minDepth(root.right) + 1;\n",
    "        else if (!root.right) return minDepth(root.left) + 1;\n",
    "        else return Math.min(minDepth(root.left), minDepth(root.right)) + 1;\n",
    "    }\n",
    "}"
   ]
  },
  {
   "cell_type": "code",
   "execution_count": 3,
   "metadata": {},
   "outputs": [
    {
     "data": {
      "text/plain": [
       "TreeNode { val: 3, right: null, left: null }"
      ]
     },
     "execution_count": 3,
     "metadata": {},
     "output_type": "execute_result"
    }
   ],
   "source": [
    "let balancedThreeTree = new TreeNode(1);\n",
    "balancedThreeTree.left = new TreeNode(2);\n",
    "balancedThreeTree.right = new TreeNode(2);\n",
    "balancedThreeTree.left.left = new TreeNode(3);\n",
    "balancedThreeTree.left.right = new TreeNode(3);\n",
    "balancedThreeTree.right.left = new TreeNode(3);\n",
    "balancedThreeTree.right.right = new TreeNode(3);"
   ]
  },
  {
   "cell_type": "markdown",
   "metadata": {},
   "source": [
    "## Path Sum (Leetcode 112)"
   ]
  },
  {
   "cell_type": "code",
   "execution_count": 7,
   "metadata": {},
   "outputs": [],
   "source": [
    "function hasPathSum(root, sum) {\n",
    "    if (!root) return false;\n",
    "    \n",
    "    if (!root.left && !root.right) {\n",
    "        return root.val === sum;\n",
    "    } else {\n",
    "        let left_val = root.left ? hasPathSum(root.left, sum - root.val) : false;\n",
    "        let right_val = root.right ? hasPathSum(root.right, sum - root.val) : false;\n",
    "        return left_val || right_val;\n",
    "    }\n",
    "}"
   ]
  },
  {
   "cell_type": "markdown",
   "metadata": {},
   "source": [
    "Comment: Got it in one go! Nice. This feels like progress to me."
   ]
  },
  {
   "cell_type": "markdown",
   "metadata": {},
   "source": [
    "## Binary Tree Level Order Traversal II (Leetcode 107)\n",
    "\n",
    "Given a binary tree, return the bottom-up level order traversal of its nodes' values. (ie, from left to right, level by level from leaf to root).\n",
    "\n",
    "```\n",
    "For example:\n",
    "Given binary tree [3,9,20,null,null,15,7],\n",
    "    3\n",
    "   / \\\n",
    "  9  20\n",
    "    /  \\\n",
    "   15   7\n",
    "return its bottom-up level order traversal as:\n",
    "[\n",
    "  [15,7],\n",
    "  [9,20],\n",
    "  [3]\n",
    "]\n",
    "```"
   ]
  },
  {
   "cell_type": "code",
   "execution_count": 9,
   "metadata": {},
   "outputs": [],
   "source": [
    "function levelOrderBottom(root) {\n",
    "    let out = [];\n",
    "    \n",
    "    function appendOut(node, curr_depth) {\n",
    "        if (out.length < curr_depth + 1) out[curr_depth] = [node.val];\n",
    "        else out[curr_depth].push(node.val);\n",
    "    }\n",
    "    \n",
    "    function traverseWithDepth(root, curr_depth) {\n",
    "        if (!root) return;\n",
    "        \n",
    "        appendOut(root, curr_depth);\n",
    "        traverseWithDepth(root.left, curr_depth + 1);\n",
    "        traverseWithDepth(root.right, curr_depth + 1);\n",
    "    }\n",
    "    \n",
    "    traverseWithDepth(root, 0);\n",
    "    return out.reverse();\n",
    "}"
   ]
  },
  {
   "cell_type": "markdown",
   "metadata": {},
   "source": [
    "A similarly immediate solve. This algorithm is $O(n)$, as it requires traversing every node in the tree."
   ]
  },
  {
   "cell_type": "markdown",
   "metadata": {},
   "source": [
    "## Linked List Cycle (Leetcode 141)\n",
    "\n",
    "Given a singly linked list, determine if it has a cycle in it.\n",
    "\n",
    "Discussion: the trivial solution is easy. The follow-up challenge is to find a way to do this work with $O(1)$ space. The solution to that uses a clever trick, which I did not see, which follows:"
   ]
  },
  {
   "cell_type": "code",
   "execution_count": 10,
   "metadata": {},
   "outputs": [],
   "source": [
    "function hasCycle(head) {\n",
    "    let fast = head;\n",
    "    let slow = head;\n",
    "    \n",
    "    while (fast && fast.next && fast.next.next) {\n",
    "        fast = fast.next.next;\n",
    "        slow = slow.next;\n",
    "\n",
    "        if (fast === slow) {\n",
    "            return true;\n",
    "        }\n",
    "    }\n",
    "    \n",
    "    return false;\n",
    "}"
   ]
  },
  {
   "cell_type": "markdown",
   "metadata": {},
   "source": [
    "We use a pointer race and the fact that a cycle means that the cyclic list is an infinite iterator, whilst a non-cyclic list is non-infinite. This is inefficient computationally, but admittedly clever. Something to keep in mind for future problems."
   ]
  },
  {
   "cell_type": "markdown",
   "metadata": {},
   "source": [
    "## Add Two Numbers (Leetcode 2)"
   ]
  },
  {
   "cell_type": "code",
   "execution_count": 11,
   "metadata": {},
   "outputs": [],
   "source": [
    "class ListNode {\n",
    "    constructor(val) {\n",
    "        this.val = val;\n",
    "        this.next = null;\n",
    "    }\n",
    "}"
   ]
  },
  {
   "cell_type": "code",
   "execution_count": 46,
   "metadata": {},
   "outputs": [],
   "source": [
    "function addTwoNumbers(l1, l2) {\n",
    "    let p1 = l1;\n",
    "    let p2 = l2;\n",
    "    let out = null;\n",
    "    let out_pointer = null;\n",
    "    let carry = false;\n",
    "    \n",
    "    while (p1 || p2) {\n",
    "        // collect sum of digits and increment pointer\n",
    "        let val = 0;\n",
    "        if (p1) {\n",
    "            val += p1.val;\n",
    "            p1 = p1.next;\n",
    "        }\n",
    "        if (p2) {\n",
    "            val += p2.val;\n",
    "            p2 = p2.next;\n",
    "        }\n",
    "        \n",
    "        // set next value and carry bit\n",
    "        [val, carry] = [carry ? (val % 10 + 1) % 10 : val % 10, (val > 9) || (carry && (val % 10 + 1) > 9)];\n",
    "        \n",
    "        // create and increment nodes\n",
    "        if (!out_pointer) {\n",
    "            out = new ListNode(val);\n",
    "            out_pointer = out;\n",
    "        } else {\n",
    "            out_pointer.next = new ListNode(val);\n",
    "            out_pointer = out_pointer.next;\n",
    "        }\n",
    "    }\n",
    "    \n",
    "    // if there is a carry bit left over, add it to the output\n",
    "    if (carry) {\n",
    "        out_pointer.next = new ListNode(1);\n",
    "    }\n",
    "    \n",
    "    return out;\n",
    "}"
   ]
  },
  {
   "cell_type": "markdown",
   "metadata": {},
   "source": [
    "**Comment**: this is a good example of a question that I did not manage very well. I found the following cases in the prior exploration:\n",
    "\n",
    "* Regular case (e.g. 4 + 5 = 9).\n",
    "* Simple carry case (e.g. 99 + 99 = 188).\n",
    "\n",
    "I did not find the following case:\n",
    "* Compound carry case (e.g. 99 + 1 = 100).\n",
    "\n",
    "This last case is different in that the value overflows twice not because of the sum of the digits in the tens place but because of the sum of the digits in the tens place plus the 1 value that gets carried over.\n",
    "\n",
    "I could have written correct code the first time around if I had caught this last case! Case exploration is hard!"
   ]
  },
  {
   "cell_type": "markdown",
   "metadata": {},
   "source": [
    "## Longest Substring Without Repeated Characters (Leetcode 3)"
   ]
  },
  {
   "cell_type": "code",
   "execution_count": 54,
   "metadata": {},
   "outputs": [],
   "source": [
    "function lengthOfLongestSubstring(s) {\n",
    "    let buffer = '';\n",
    "    let buffer_charset = new Set();\n",
    "    let longest_buffer_seen = 0;\n",
    "    \n",
    "    for (let idx of Array(s.length).keys()) {\n",
    "        let char = s[idx];\n",
    "\n",
    "        // console.log(buffer, char, buffer_charset, buffer.slice(0, buffer.indexOf(char) + 1));\n",
    "        if (buffer_charset.has(char)) {\n",
    "            let indexOfChar = buffer.indexOf(char);\n",
    "            let chars_to_remove = buffer.slice(0, indexOfChar + 1);\n",
    "            for (let char of chars_to_remove) { buffer_charset.delete(char); }\n",
    "            buffer = buffer.slice(indexOfChar + 1) + char;\n",
    "            buffer_charset.add(char);\n",
    "        } else {\n",
    "            buffer += char;\n",
    "            longest_buffer_seen = Math.max(longest_buffer_seen, buffer.length);\n",
    "            buffer_charset.add(char);\n",
    "        }\n",
    "    }\n",
    "    return longest_buffer_seen;\n",
    "};"
   ]
  },
  {
   "cell_type": "markdown",
   "metadata": {},
   "source": [
    "**Comment**: I got the problem specification right, but missed the need to append the last character added back to the set buffer. I could catch this bug with tests."
   ]
  },
  {
   "cell_type": "markdown",
   "metadata": {},
   "source": [
    "## Longest Palindromic Substring (Leetcode 5)"
   ]
  },
  {
   "cell_type": "code",
   "execution_count": 164,
   "metadata": {},
   "outputs": [],
   "source": [
    "function longestPalindrome(s) {\n",
    "    if (s.length === 0) return '';\n",
    "\n",
    "    function sizeUpTwo(p_infos) {\n",
    "        let out = [];\n",
    "        for (let p_info of p_infos) {\n",
    "            let [l_char, r_char] = [p_info[0][0], p_info[0][1]];\n",
    "            let [l_idx, r_idx] = [p_info[1][0], p_info[1][1]];\n",
    "            \n",
    "            if (\n",
    "                !(l_idx === 0 || r_idx === s.length) &&\n",
    "                (s[l_idx - 1] === s[r_idx])\n",
    "            ) {\n",
    "                out.push([[s[l_idx - 1], s[r_idx]], [l_idx - 1, r_idx + 1]]);\n",
    "            }\n",
    "        }\n",
    "        return out;\n",
    "    }\n",
    "    \n",
    "    let l1 = s.split('').map((v, idx) => [[v, v], [idx, idx + 1]]);\n",
    "    let l2 = ([...Array(s.length - 1).keys()]\n",
    "              .filter(v => s[v] === s[v + 1])\n",
    "              .map(v => [[s[v], s[v + 1]], [v, v + 2]]));\n",
    "    \n",
    "    let l_odd = l1;\n",
    "    let l_even = l2;\n",
    "    while (true) {\n",
    "        let next_l_odd = sizeUpTwo(l_odd);\n",
    "        if (next_l_odd.length > 0) {\n",
    "            l_odd = next_l_odd;\n",
    "        } else {\n",
    "            break\n",
    "        }\n",
    "    }\n",
    "    while (true) {\n",
    "        let next_l_even = sizeUpTwo(l_even);\n",
    "        if (next_l_even.length > 0) {\n",
    "            l_even = next_l_even;\n",
    "        } else {\n",
    "            break\n",
    "        }\n",
    "    }\n",
    "    \n",
    "    if (l_odd.length > 0 && l_even.length > 0) {\n",
    "        let [l, r] = [s.slice(l_even[0][1][0], l_even[0][1][1]), s.slice(l_odd[0][1][0], l_odd[0][1][1])];\n",
    "        return l.length > r.length ? l : r;\n",
    "    } else if (l_odd) {\n",
    "        return s.slice(l_odd[0][1][0], l_odd[0][1][1]);\n",
    "    } else {  // l_even\n",
    "        return s.slice(l_even[0][1][0], l_even[0][1][1]);\n",
    "    }\n",
    "}"
   ]
  },
  {
   "cell_type": "markdown",
   "metadata": {},
   "source": [
    "**Comment**: our implementation is fundamentally correct.\n",
    "\n",
    "I did this exercise as one of the interview practice questions that came up while I was at RC. I recall at the time that I implemented something broadly similar, and that there was a more clever dynamic programming solution.\n",
    "\n",
    "This algorithm is $O(n^2)$: the maximum amount of work we have to do is for a fully palindromic string of length $n$, in which case we iterate through the loops $n + (n - 2) + (n - 4) \\approx n * n / 2 \\leq n^2$ times."
   ]
  },
  {
   "cell_type": "code",
   "execution_count": 230,
   "metadata": {},
   "outputs": [],
   "source": [
    "function longestPalindrome(s) {\n",
    "    let longest_palindrome = '';\n",
    "    function testSetLongestPalindrome(start, stop) {\n",
    "        if ((stop - start + 1) > longest_palindrome.length) {\n",
    "            longest_palindrome = s.slice(start, stop + 1);\n",
    "        }\n",
    "    }\n",
    "    \n",
    "    for (let idx of Array(s.length).keys()) {\n",
    "        if (idx === s.length - 1) {\n",
    "            return longest_palindrome.length > 1 ? longest_palindrome : s.slice(0, 1);\n",
    "        } else {\n",
    "            let diag_case = [idx, idx];\n",
    "            let cases = [diag_case];\n",
    "            if (s[idx] === s[idx + 1]) {\n",
    "                let off_diag_case = [idx, idx + 1];\n",
    "                cases.push(off_diag_case);\n",
    "            }\n",
    "\n",
    "            for (let _case of cases) {\n",
    "                while (true) {\n",
    "                    if (_case[0] === 0 || _case[1] === s.length - 1) {\n",
    "                        testSetLongestPalindrome(_case[0], _case[1]);\n",
    "                        break;\n",
    "                    } else if (s[_case[0] - 1] === s[_case[0] + 1]) {\n",
    "                        _case = [_case[0] - 1, _case[1] + 1];\n",
    "                    } else {\n",
    "                        testSetLongestPalindrome(_case[0], _case[1]);\n",
    "                        break;\n",
    "                    }\n",
    "                }\n",
    "            }\n",
    "        }\n",
    "    }\n",
    "    \n",
    "    return longest_palindrome;\n",
    "}"
   ]
  },
  {
   "cell_type": "markdown",
   "metadata": {},
   "source": [
    "This algorithm is not correct (it's not worth fixing it up any further than I have already attempted to), but demonstrates what the intended solve is. We diagonalize the problem on a $n \\times n$ upper-triangular matrix. The diagonal entries are $f(n, n)$, and are naively palindromic because a single letter is always a palindrome. The off-diagonal entries are $f(n, n + 1)$, and are similarly suitable starting points for functional iteration so long as $s[n] = s[n + 1]$. We then iterate functionally: $f(n, n) \\to f(n - 1, n + 1) \\to \\ldots$ or $f(n, n + 1) \\to f(n - 1, n + 2) \\to \\ldots$ until we reach a problem boundary."
   ]
  },
  {
   "cell_type": "markdown",
   "metadata": {},
   "source": [
    "## Container with the Most Water (Leetcode 11)"
   ]
  },
  {
   "cell_type": "code",
   "execution_count": 15,
   "metadata": {},
   "outputs": [],
   "source": [
    "function maxArea(height) {\n",
    "    let reverse = new Map();  // idx -> [elements...]\n",
    "    height.forEach((_height, idx) => {\n",
    "        reverse.has(_height) ? \n",
    "            reverse.set(_height, reverse.get(_height).concat([idx])) :\n",
    "            reverse.set(_height, [idx]);\n",
    "    });\n",
    "    \n",
    "    let heights_sorted_desc = [...reverse.keys()].sort((a, b) => b - a);\n",
    "    let best_idx_left = null;\n",
    "    let best_idx_right = null;\n",
    "    let best_height = 0;\n",
    "\n",
    "    for (let height of heights_sorted_desc) {\n",
    "        let candidate_new_best_idx_left = Math.min(...reverse.get(height));\n",
    "        let candidate_new_best_idx_right = Math.max(...reverse.get(height));\n",
    "        \n",
    "        if (!best_idx_left || candidate_new_best_idx_left < best_idx_left) {\n",
    "            best_idx_left = candidate_new_best_idx_left;\n",
    "        }\n",
    "        if (!best_idx_right || candidate_new_best_idx_right > best_idx_right) {\n",
    "            best_idx_right = candidate_new_best_idx_right;\n",
    "        }\n",
    "        \n",
    "        let candidate_new_best_height = height * (best_idx_right - best_idx_left);\n",
    "        if (candidate_new_best_height > best_height) {\n",
    "            best_height = candidate_new_best_height;\n",
    "        }\n",
    "    }\n",
    "    \n",
    "    return best_height;\n",
    "}"
   ]
  },
  {
   "cell_type": "markdown",
   "metadata": {},
   "source": [
    "**Comment**: to solve this one, I made a line graph that was super obvious, with two large numbers on the edges, and tried to understand what was obvious about it. It was the fact that they were the leftmost and rightmost values above the min of their levels. This allows to solve the problem by descending down the \"levels\" (the set of entries whose values are at or above the given level), keeping track at each level of the leftmost and rightmost entries at that level.\n",
    "\n",
    "<!--\n",
    "An attempted mathematical formulation:\n",
    "\n",
    "Let $L$ be a \"level\" represented by at least one element of the list $H$. Let $V$ be the volume contained by two elements. Let $i_L = \\min{\\{\\text{idx}(h)|h \\geq l\\}}$ and let $i_R = \\max{\\{\\text{idx}(h)|h \\geq l\\}}$. Then $\\max[L]\\{V\\} = L * (i_R - i_L)$.\n",
    "\n",
    "Given $L_i < L_j$, $i_R(L_i) =\\max{\\{i_R(L_j), x \\in i(L_i) \\notin i(L_j)}\\}$\n",
    "\n",
    "OK quit wasting time. :P\n",
    "-->\n",
    "\n",
    "This solution has a time complexity of $O(n)$ and a space complexity of $O(n)$ (really $O(2n)$ in both cases).\n",
    "\n",
    "I got a bit distracted with a amortized time optimization that didn't matter so much. Don't perform premature optimization!"
   ]
  },
  {
   "cell_type": "markdown",
   "metadata": {},
   "source": [
    "Actually, after reading some of the answers, there is a simpler (more clever) solution: two pointers converging on one another. Damn."
   ]
  },
  {
   "cell_type": "markdown",
   "metadata": {},
   "source": [
    "## Integer to Roman (Leetcode 12)"
   ]
  },
  {
   "cell_type": "code",
   "execution_count": null,
   "metadata": {},
   "outputs": [],
   "source": [
    "function intToRoman(num) {\n",
    "    let out = '';\n",
    "    \n",
    "    if (((num % 1000) / 900) >= 1) {\n",
    "        out += 'C';\n",
    "        num -= 900\n",
    "    }\n",
    "    while ((num / 1000) >= 1) {\n",
    "        out += 'M';\n",
    "        num -= 1000;\n",
    "    }\n",
    "\n",
    "    if (((num % 500) / 400) >= 1) {\n",
    "        out += 'C';\n",
    "        num -= 400;\n",
    "    }\n",
    "    while ((num / 500) >= 1) {\n",
    "        out += 'D';\n",
    "        num -= 500;\n",
    "    }\n",
    "    \n",
    "    // And so on...\n",
    "}"
   ]
  },
  {
   "cell_type": "markdown",
   "metadata": {},
   "source": [
    "Unfinished."
   ]
  },
  {
   "cell_type": "markdown",
   "metadata": {},
   "source": [
    "## 3Sum (Leetcode 15)"
   ]
  },
  {
   "cell_type": "code",
   "execution_count": 96,
   "metadata": {},
   "outputs": [],
   "source": [
    "function threeSum(nums) {\n",
    "    if (nums.length <= 2) return [];\n",
    "    \n",
    "    let ans = new Set();\n",
    "    let sum_arrs = [\n",
    "        [[nums[0]], nums[0]],\n",
    "        [[nums[1]], nums[1]],\n",
    "        [[nums[0], nums[1]], nums[0] + nums[1]]\n",
    "    ];\n",
    "    \n",
    "    for (let num of nums.slice(2)) {\n",
    "        console.log(num, sum_arrs);\n",
    "        for (let sum_arr of sum_arrs) {\n",
    "            let new_sum_arr = [sum_arr[0].concat([num]), sum_arr[1] + num];\n",
    "\n",
    "            if (new_sum_arr[0].length < 3) {\n",
    "                sum_arrs.push(new_sum_arr);\n",
    "            } else if (new_sum_arr[1] === 0) {\n",
    "                ans.add(JSON.stringify(new_sum_arr[0]));\n",
    "            }\n",
    "        }\n",
    "        sum_arrs.push([[num], num]);        \n",
    "    }\n",
    "    \n",
    "    console.log(ans);\n",
    "    return [...ans].map(v => v.slice(1, v.length - 1).split(',').map(v => parseInt(v)));\n",
    "};"
   ]
  },
  {
   "cell_type": "markdown",
   "metadata": {},
   "source": [
    "Ths is a conceptually simple single-iterator solution: go along each number and maintain a running list of candidate sub-arrays for addition.\n",
    "\n",
    "This solution is $O(n^2)$. While we only iterate over the list of numbers once (which is $n$ operations), each nth number we touch increases the list of further combinations we have to consider by n - 1.\n",
    "\n",
    "This solution is complicated by JavaScript's lack of support for tuples. Arrays cannot be included in a set because they are non-unique. JSON stringification creates a unique value, but these values are not naively de-duplicateble. If I had known a bit more about how sets work ahead of time, I would have written this a different way...the overall idea is correct, the implementation is slightly wrong.\n",
    "\n",
    "A better solution takes advantage of numeric sort order and uses pointer conversion:"
   ]
  },
  {
   "cell_type": "code",
   "execution_count": 100,
   "metadata": {},
   "outputs": [],
   "source": [
    "var threeSum = function(nums) {\n",
    "  nums.sort((a, b) => a - b);\n",
    "  const r = [];\n",
    "  for (let i = 0; i < nums.length - 2; i++) {\n",
    "    if (nums[i] > 0) break;\n",
    "    if (i > 0 && nums[i] === nums[i - 1]) continue;\n",
    "    let left = i + 1;\n",
    "    let right = nums.length - 1;\n",
    "    while (left < right) {\n",
    "      const s = nums[i] + nums[left] + nums[right];\n",
    "      if (s < 0) left += 1;\n",
    "      else if (s > 0) right -= 1;\n",
    "      else {\n",
    "        r.push([nums[i], nums[left], nums[right]]);\n",
    "        while (left < right && nums[left] === nums[left + 1]) left += 1;\n",
    "        while (left < right && nums[right] === nums[right - 1]) right -= 1;\n",
    "        left += 1;\n",
    "        right -= 1;\n",
    "      }\n",
    "    }\n",
    "  }\n",
    "  \n",
    "  return r;\n",
    "};"
   ]
  },
  {
   "cell_type": "markdown",
   "metadata": {},
   "source": [
    "This is the correct solution. I did not get anywhere near to this, so, lots more to do. =("
   ]
  },
  {
   "cell_type": "markdown",
   "metadata": {},
   "source": [
    "## 3Sum Closest (Leetcode 16)"
   ]
  },
  {
   "cell_type": "code",
   "execution_count": 28,
   "metadata": {},
   "outputs": [],
   "source": [
    "function threeSumClosest(nums, target) {\n",
    "    if (nums.length < 3) return null;\n",
    "    \n",
    "    let closest_sum = Infinity;\n",
    "    let first_num_idx = 0;\n",
    "    \n",
    "    nums = nums.sort((a, b) => a - b);\n",
    "    \n",
    "    while (first_num_idx < nums.length - 2) {\n",
    "        let [left_idx, right_idx] = [first_num_idx + 1, nums.length - 1];\n",
    "        \n",
    "        while (left_idx < right_idx) {\n",
    "            let candidate_closest_sum = nums[first_num_idx] + nums[left_idx] + nums[right_idx];\n",
    "            let diff = candidate_closest_sum - target;\n",
    "            // console.log(first_num_idx, left_idx, right_idx, diff, candidate_closest_sum);\n",
    "            if (Math.abs(diff) < Math.abs(closest_sum - target)) {\n",
    "                if (diff === 0) {\n",
    "                    return target;\n",
    "                } else {\n",
    "                    closest_sum = candidate_closest_sum;\n",
    "                }\n",
    "            }\n",
    "            (diff < 0) ? left_idx += 1 : right_idx -= 1;\n",
    "        }\n",
    "        \n",
    "        first_num_idx += 1;\n",
    "    }\n",
    "    \n",
    "    return closest_sum;\n",
    "}"
   ]
  },
  {
   "cell_type": "markdown",
   "metadata": {},
   "source": [
    "Solved relatively easily (no conceptual mistakes, some implementation foibles) using the pointer conversion concept from the 3Sum problem. Solution is $O(n^2)$."
   ]
  },
  {
   "cell_type": "markdown",
   "metadata": {},
   "source": [
    "## Remove Nth Node (Leetcode 19)\n",
    "\n",
    "Given a linked list, remove the n-th node from the end of list and return its head.\n",
    "\n",
    "```\n",
    "Example:\n",
    "\n",
    "Given linked list: 1->2->3->4->5, and n = 2.\n",
    "\n",
    "After removing the second node from the end, the linked list becomes 1->2->3->5.\n",
    "```\n",
    "\n",
    "Note:\n",
    "\n",
    "Given n will always be valid."
   ]
  },
  {
   "cell_type": "code",
   "execution_count": 3,
   "metadata": {},
   "outputs": [],
   "source": [
    "class ListNode {\n",
    "    constructor(val) {\n",
    "        this.val = val;\n",
    "        this.next = null;\n",
    "    }\n",
    "}"
   ]
  },
  {
   "cell_type": "code",
   "execution_count": 20,
   "metadata": {},
   "outputs": [],
   "source": [
    "function removeNthFromEnd(head, n) {\n",
    "    if (!head) return head;\n",
    "    else if (n === 0) {\n",
    "        return head ? head.next : head;\n",
    "    }\n",
    "    let lead_pointer = head;\n",
    "    for (let _ of Array(n - 1).keys()) {\n",
    "        lead_pointer = lead_pointer.next;\n",
    "    }\n",
    "    \n",
    "    if (!lead_pointer.next) {\n",
    "        return head.next;\n",
    "    } else {\n",
    "        let follower_pointer = head;\n",
    "        lead_pointer = lead_pointer.next;\n",
    "        \n",
    "        while (lead_pointer.next) {\n",
    "            follower_pointer = follower_pointer.next;\n",
    "            lead_pointer = lead_pointer.next;\n",
    "        }\n",
    "        \n",
    "        follower_pointer.next = follower_pointer.next.next;\n",
    "    }\n",
    "    return head;\n",
    "}"
   ]
  },
  {
   "cell_type": "code",
   "execution_count": 24,
   "metadata": {},
   "outputs": [
    {
     "data": {
      "text/plain": [
       "null"
      ]
     },
     "execution_count": 24,
     "metadata": {},
     "output_type": "execute_result"
    }
   ],
   "source": [
    "removeNthFromEnd(new ListNode(1), 1);"
   ]
  },
  {
   "cell_type": "code",
   "execution_count": 27,
   "metadata": {},
   "outputs": [
    {
     "data": {
      "text/plain": [
       "ListNode { val: 1, next: null }"
      ]
     },
     "execution_count": 27,
     "metadata": {},
     "output_type": "execute_result"
    }
   ],
   "source": [
    "function test1() {\n",
    "    let head = new ListNode(1);\n",
    "    head.next = new ListNode(2);\n",
    "    return removeNthFromEnd(head, 1);\n",
    "}\n",
    "test1();"
   ]
  },
  {
   "cell_type": "code",
   "execution_count": 28,
   "metadata": {},
   "outputs": [
    {
     "data": {
      "text/plain": [
       "ListNode { val: 2, next: null }"
      ]
     },
     "execution_count": 28,
     "metadata": {},
     "output_type": "execute_result"
    }
   ],
   "source": [
    "function test2() {\n",
    "    let head = new ListNode(1);\n",
    "    head.next = new ListNode(2);\n",
    "    return removeNthFromEnd(head, 2);\n",
    "}\n",
    "test2();"
   ]
  },
  {
   "cell_type": "code",
   "execution_count": 29,
   "metadata": {},
   "outputs": [
    {
     "data": {
      "text/plain": [
       "ListNode { val: 1, next: ListNode { val: 3, next: null } }"
      ]
     },
     "execution_count": 29,
     "metadata": {},
     "output_type": "execute_result"
    }
   ],
   "source": [
    "function test3() {\n",
    "    let head = new ListNode(1);\n",
    "    head.next = new ListNode(2);\n",
    "    head.next.next = new ListNode(3);\n",
    "    return removeNthFromEnd(head, 2);\n",
    "}\n",
    "test3();"
   ]
  },
  {
   "cell_type": "code",
   "execution_count": 31,
   "metadata": {},
   "outputs": [
    {
     "data": {
      "text/plain": [
       "ListNode {\n",
       "  val: 1,\n",
       "  next: ListNode { val: 2, next: ListNode { val: 4, next: null } } }"
      ]
     },
     "execution_count": 31,
     "metadata": {},
     "output_type": "execute_result"
    }
   ],
   "source": [
    "function test4() {\n",
    "    let head = new ListNode(1);\n",
    "    head.next = new ListNode(2);\n",
    "    head.next.next = new ListNode(3);\n",
    "    head.next.next.next = new ListNode(4);\n",
    "    return removeNthFromEnd(head, 2);\n",
    "}\n",
    "test4();"
   ]
  },
  {
   "cell_type": "markdown",
   "metadata": {},
   "source": [
    "My first successful (unprompted and correct on the first try) pointer race implementation 🎉. Correctly handled case management and implementation (though struggled with the latter a bit)."
   ]
  },
  {
   "cell_type": "markdown",
   "metadata": {},
   "source": [
    "## Generate Parentheses (Leetcode 22)\n",
    "\n",
    "Given n pairs of parentheses, write a function to generate all combinations of well-formed parentheses.\n",
    "\n",
    "```\n",
    "For example, given n = 3, a solution set is:\n",
    "\n",
    "[\n",
    "  \"((()))\",\n",
    "  \"(()())\",\n",
    "  \"(())()\",\n",
    "  \"()(())\",\n",
    "  \"()()()\"\n",
    "]\n",
    "```"
   ]
  },
  {
   "cell_type": "code",
   "execution_count": 96,
   "metadata": {},
   "outputs": [],
   "source": [
    "function generateParenthesis(n) {\n",
    "    function reverse(s) { \n",
    "        return [...s].reverse().map(v => v === ')' ? '(' : ')').join('');\n",
    "    }\n",
    "    \n",
    "    if (n === 0) return [];\n",
    "    \n",
    "    let out = [[\"()\", 0]];\n",
    "    \n",
    "    for (let v of Array(n - 1).keys()) {\n",
    "        let new_out = [];\n",
    "        let skip_idx_set = new Set();\n",
    "        for (let idx of Array(out.length).keys()) {\n",
    "            if (skip_idx_set.has(idx)) continue;\n",
    "            \n",
    "            let paren = out[idx][0];\n",
    "            let idx_reflection = out[idx][1];\n",
    "            \n",
    "            console.log(v, paren, idx_reflection);\n",
    "            // ( + paren + ) case\n",
    "            let new_paren = \"(\" + paren + \")\";\n",
    "            if (paren === reverse(paren)) {\n",
    "                new_out.push([new_paren, out.length]);\n",
    "            } else {\n",
    "                let prior_out_len = out.length;\n",
    "                new_out.push([new_paren, prior_out_len + 1]);\n",
    "                new_out.push([\"(\" + reverse(paren) + \")\", prior_out_len]);\n",
    "            }\n",
    "            \n",
    "            // paren + () case\n",
    "            new_paren = paren + \"()\";\n",
    "            if (new_paren === reverse(new_paren)) {\n",
    "                new_out.push([new_paren, out.length]);\n",
    "            } else {\n",
    "                let prior_out_len = out.length;\n",
    "                new_out.push([new_paren, prior_out_len + 1]);\n",
    "                new_out.push([\"()\" + reverse(paren), prior_out_len]);\n",
    "            }\n",
    "\n",
    "            // () + paren case\n",
    "            new_paren = \"()\" + paren;\n",
    "            if (new_paren === reverse(new_paren)) {\n",
    "                // pass\n",
    "            } else {\n",
    "                let prior_out_len = out.length;\n",
    "                new_out.push([new_paren, prior_out_len + 1]);\n",
    "                new_out.push([\"()\" + reverse(paren), prior_out_len]);\n",
    "            }\n",
    "            \n",
    "            skip_idx_set.add(idx);\n",
    "        }\n",
    "        out = new_out;\n",
    "        skip_idx_set = new Set();\n",
    "    }\n",
    "    \n",
    "    return out.map(tup => tup[0]);\n",
    "}"
   ]
  },
  {
   "cell_type": "markdown",
   "metadata": {},
   "source": [
    "My attempted solution builds $f(n)$ using $f(n - 1)$ in a loop. But it's too complicated, requires reversing a string, and doesn't work correctly on my first attempt at the code. This is pretty clearly not the correct solution.\n",
    "\n",
    "...the correct solution, which I didn't discover, uses recursion with memoization. It takes advantage of the fact (that I did not discover) that $f(n) = \\sum_{k=0}^{k=n-1} \\{\\text{\"(\"}, f(n - 1), \\text{\")\"}, f(n - k - 1)\\}$."
   ]
  },
  {
   "cell_type": "code",
   "execution_count": 159,
   "metadata": {},
   "outputs": [],
   "source": [
    "function generateParenthesis(n) {\n",
    "    let memo = [[''], ['()']];\n",
    "    \n",
    "    function recur(n) {\n",
    "        if (memo[n]) {\n",
    "            return memo[n]; \n",
    "        } else {\n",
    "            let ans = [];\n",
    "            for (let i of Array(n).keys()) {\n",
    "                for (let left of recur(i)) {\n",
    "                    for (let right of recur(n - i - 1)) {\n",
    "                        ans.push('(' + left + ')' + right);\n",
    "                    }\n",
    "                }\n",
    "            }\n",
    "            memo[n] = ans;\n",
    "            return ans;\n",
    "        }\n",
    "    }\n",
    "    \n",
    "    return recur(n);\n",
    "}"
   ]
  },
  {
   "cell_type": "markdown",
   "metadata": {},
   "source": [
    "## Swap Nodes in Pairs (Leetcode 24)"
   ]
  },
  {
   "cell_type": "markdown",
   "metadata": {},
   "source": [
    "Given a linked list, swap every two adjacent nodes and return its head.\n",
    "\n",
    "You may not modify the values in the list's nodes, only nodes itself may be changed.\n",
    "\n",
    "```\n",
    "Example:\n",
    "\n",
    "Given 1->2->3->4, you should return the list as 2->1->4->3.\n",
    "```"
   ]
  },
  {
   "cell_type": "code",
   "execution_count": 1,
   "metadata": {},
   "outputs": [],
   "source": [
    "class ListNode {\n",
    "    constructor(val) {\n",
    "        this.val = val;\n",
    "        this.next = null;\n",
    "    }\n",
    "}"
   ]
  },
  {
   "cell_type": "code",
   "execution_count": 39,
   "metadata": {},
   "outputs": [],
   "source": [
    "function swapPairs(head) {\n",
    "    if (!head || !head.next) return head;\n",
    "    \n",
    "    let [p1, p2] = [head, head.next];\n",
    "    let first = true;\n",
    "    let lagging_pointer = null;\n",
    "    \n",
    "    while (true) {\n",
    "        [p1.next, p2.next] = [p2.next, p1];\n",
    "        \n",
    "        if (first) {\n",
    "            head = p2;\n",
    "            first = false;\n",
    "        } else {\n",
    "            lagging_pointer.next = p2;\n",
    "        }\n",
    "        \n",
    "        if (!p1.next || !p1.next.next) {\n",
    "            break\n",
    "        } else {\n",
    "            lagging_pointer = p1;\n",
    "            p1 = p1.next;\n",
    "            p2 = p2.next.next.next;\n",
    "        }\n",
    "    }\n",
    "    \n",
    "    return head;\n",
    "}"
   ]
  },
  {
   "cell_type": "code",
   "execution_count": 27,
   "metadata": {},
   "outputs": [
    {
     "data": {
      "text/plain": [
       "ListNode { val: 2, next: ListNode { val: 1, next: null } }"
      ]
     },
     "execution_count": 27,
     "metadata": {},
     "output_type": "execute_result"
    }
   ],
   "source": [
    "function test1() {\n",
    "    let head = new ListNode(1);\n",
    "    head.next = new ListNode(2);\n",
    "    return swapPairs(head);\n",
    "}\n",
    "test1();"
   ]
  },
  {
   "cell_type": "code",
   "execution_count": 28,
   "metadata": {},
   "outputs": [
    {
     "data": {
      "text/plain": [
       "ListNode { val: 1, next: null }"
      ]
     },
     "execution_count": 28,
     "metadata": {},
     "output_type": "execute_result"
    }
   ],
   "source": [
    "function test2() {\n",
    "    let head = new ListNode(1);\n",
    "    return swapPairs(head);\n",
    "}\n",
    "test2();"
   ]
  },
  {
   "cell_type": "code",
   "execution_count": 29,
   "metadata": {},
   "outputs": [
    {
     "data": {
      "text/plain": [
       "null"
      ]
     },
     "execution_count": 29,
     "metadata": {},
     "output_type": "execute_result"
    }
   ],
   "source": [
    "function test3() {\n",
    "    let head = null;\n",
    "    return swapPairs(head);\n",
    "}\n",
    "test3();"
   ]
  },
  {
   "cell_type": "code",
   "execution_count": 30,
   "metadata": {},
   "outputs": [
    {
     "data": {
      "text/plain": [
       "ListNode {\n",
       "  val: 2,\n",
       "  next: ListNode { val: 1, next: ListNode { val: 3, next: null } } }"
      ]
     },
     "execution_count": 30,
     "metadata": {},
     "output_type": "execute_result"
    }
   ],
   "source": [
    "function test4() {\n",
    "    let head = new ListNode(1);\n",
    "    head.next = new ListNode(2);\n",
    "    head.next.next = new ListNode(3);\n",
    "    return swapPairs(head);\n",
    "}\n",
    "test4();"
   ]
  },
  {
   "cell_type": "code",
   "execution_count": 40,
   "metadata": {
    "scrolled": true
   },
   "outputs": [
    {
     "data": {
      "text/plain": [
       "ListNode {\n",
       "  val: 2,\n",
       "  next:\n",
       "   ListNode {\n",
       "     val: 1,\n",
       "     next: ListNode { val: 4, next: ListNode { val: 3, next: null } } } }"
      ]
     },
     "execution_count": 40,
     "metadata": {},
     "output_type": "execute_result"
    }
   ],
   "source": [
    "function test5() {\n",
    "    let head = new ListNode(1);\n",
    "    head.next = new ListNode(2);\n",
    "    head.next.next = new ListNode(3);\n",
    "    head.next.next.next = new ListNode(4);\n",
    "    return swapPairs(head);\n",
    "}\n",
    "test5();"
   ]
  },
  {
   "cell_type": "markdown",
   "metadata": {},
   "source": [
    "## Leetcode 31 (Next Permutation)\n",
    "\n",
    "Implement next permutation, which rearranges numbers into the lexicographically next greater permutation of numbers.\n",
    "\n",
    "If such arrangement is not possible, it must rearrange it as the lowest possible order (ie, sorted in ascending order).\n",
    "\n",
    "The replacement must be in-place and use only constant extra memory.\n",
    "\n",
    "Here are some examples. Inputs are in the left-hand column and its corresponding outputs are in the right-hand column.\n",
    "\n",
    "```\n",
    "1,2,3 → 1,3,2\n",
    "3,2,1 → 1,2,3\n",
    "1,1,5 → 1,5,1\n",
    "```"
   ]
  },
  {
   "cell_type": "markdown",
   "metadata": {},
   "source": [
    "**Comment**: this function must be done in-place and with constant memory, which basically requires a bounded number of compare and swap operations per input.\n",
    "\n",
    "After analyzing some sequences, here's the pattern. From the edge of the number and moving left, find the first $>$ relationship between the number on the right and the number on the left. The boundary between the two numbers is the fence. Find the smallest number right of the fence, and swap its place with that of the number immediately left of the fence. Now, for each number right of the fence, move it as far to the left edge of the fence as possible, according to the $<$ relationship. Example:\n",
    "\n",
    "$1234|5 \\to 123|54 \\to 1243|5 \\to 124|53 \\to 12|534 \\to 1324|5 \\to 132|54 \\to \\ldots$\n",
    "\n",
    "The other issue is what to do when every right digit is $<$ with respect to its left neighbor. That indicates that the maximum value has been reached, and we need to overflow to the minimum value. In that case, mirror the digits across the center of the sequence. E.g. $54|3|21 \\to 12|3|45$, or $43|21$ to $12|34$."
   ]
  },
  {
   "cell_type": "code",
   "execution_count": 15,
   "metadata": {},
   "outputs": [],
   "source": [
    "function nextPermutation(nums) {\n",
    "    if (nums.length == 1) return nums;\n",
    "    \n",
    "    let fence_idx = nums.length - 2;\n",
    "    while(fence_idx > -1) {\n",
    "        if (nums[fence_idx + 1] > nums[fence_idx]) break;\n",
    "        else fence_idx -= 1; \n",
    "    }\n",
    "    if (fence_idx === -1) {\n",
    "        // total resort case\n",
    "        let l = 0;\n",
    "        let r = nums.length - 1;\n",
    "        while (r > l) {\n",
    "            [nums[l], nums[r]] = [nums[r], nums[l]];\n",
    "            l += 1;\n",
    "            r -= 1;\n",
    "        }\n",
    "    } else {\n",
    "        // swap case\n",
    "        \n",
    "        // first, find the smallest digit right of the fence value that is larger\n",
    "        // than the fence value, and swap it with the fence value\n",
    "        let sidx = nums.length - 1;\n",
    "        let best_idx = fence_idx + 1;\n",
    "        \n",
    "        while (sidx > (fence_idx + 1)) {\n",
    "            if (nums[sidx] < nums[best_idx] && nums[sidx] > nums[fence_idx]) {\n",
    "                best_idx = sidx;\n",
    "            }\n",
    "            sidx -= 1;\n",
    "        }\n",
    "        [nums[best_idx], nums[fence_idx]] = [nums[fence_idx], nums[best_idx]];\n",
    "        \n",
    "        // then, cascade the right-of-fence values leftwards\n",
    "        let left_move_idxs = [...Array(nums.length - fence_idx - 1).keys()].map(v => nums.length - v - 1).reverse();\n",
    "        for (let left_move_idx of left_move_idxs) {\n",
    "            let curr_idx = left_move_idx;\n",
    "            while (curr_idx > (fence_idx + 1) && nums[curr_idx - 1] > nums[curr_idx]) {\n",
    "                [nums[curr_idx - 1], nums[curr_idx]] = [nums[curr_idx], nums[curr_idx - 1]];\n",
    "                curr_idx -= 1;\n",
    "            }\n",
    "        }\n",
    "    }\n",
    "}"
   ]
  },
  {
   "cell_type": "code",
   "execution_count": 7,
   "metadata": {},
   "outputs": [
    {
     "data": {
      "text/plain": [
       "[ 1, 3, 2 ]"
      ]
     },
     "execution_count": 7,
     "metadata": {},
     "output_type": "execute_result"
    }
   ],
   "source": [
    "function test1() {\n",
    "    let nums = [1,2,3];\n",
    "    nextPermutation(nums);\n",
    "    return nums;\n",
    "}\n",
    "test1();"
   ]
  },
  {
   "cell_type": "code",
   "execution_count": 8,
   "metadata": {},
   "outputs": [
    {
     "data": {
      "text/plain": [
       "[ 3, 1, 2 ]"
      ]
     },
     "execution_count": 8,
     "metadata": {},
     "output_type": "execute_result"
    }
   ],
   "source": [
    "function test2() {\n",
    "    let nums = [2,3,1];\n",
    "    nextPermutation(nums);\n",
    "    return nums;\n",
    "}\n",
    "test2();"
   ]
  },
  {
   "cell_type": "code",
   "execution_count": 9,
   "metadata": {},
   "outputs": [
    {
     "data": {
      "text/plain": [
       "[ 1, 3, 2, 4, 5 ]"
      ]
     },
     "execution_count": 9,
     "metadata": {},
     "output_type": "execute_result"
    }
   ],
   "source": [
    "function test3() {\n",
    "    let nums = [1,2,5,4,3];\n",
    "    nextPermutation(nums);\n",
    "    return nums;\n",
    "}\n",
    "test3();"
   ]
  },
  {
   "cell_type": "code",
   "execution_count": 16,
   "metadata": {},
   "outputs": [
    {
     "data": {
      "text/plain": [
       "[ 1, 2, 3, 4, 5 ]"
      ]
     },
     "execution_count": 16,
     "metadata": {},
     "output_type": "execute_result"
    }
   ],
   "source": [
    "function test4() {\n",
    "    let nums = [5,4,3,2,1];\n",
    "    nextPermutation(nums);\n",
    "    return nums;\n",
    "}\n",
    "test4();"
   ]
  },
  {
   "cell_type": "markdown",
   "metadata": {},
   "source": [
    "This solution is correct, but requires a lot of very careful management of pointers that are exceptionally vulnerable to fencepost errors whilst coding. I made a ton of fencepost errors throughout my implementation.\n",
    "\n",
    "This solution is $O(n^2)$ due to the use of comparison sort in determining the integer order after the fence. This algorithm will in the worst case have to completely invert an array, resulting in $(n - \\text{fence} - 1) + (n - \\text{fence} - 2) + (\\ldots) \\leq n\\times n = n^2$ operations. Typical performance is more $O(n\\log{n})$. Using a more complex in-place merge sort would reduce the worst-case complexity to $O(n \\log{n})$."
   ]
  },
  {
   "cell_type": "code",
   "execution_count": 173,
   "metadata": {},
   "outputs": [],
   "source": [
    "function nextPermutation(nums) {\n",
    "    function _nextPermutation(nums, short_circuit) {\n",
    "        console.log(nums.length === 2, nums[1] > nums[0], nums.reverse());\n",
    "        \n",
    "        if (short_circuit) return [nums, true];\n",
    "        else if (nums.length === 1) return [nums, true];\n",
    "        else if (nums.length === 2)\n",
    "            return nums[1] >= nums[0] ? [nums.reverse(), true] : [nums, false];\n",
    "\n",
    "        else {\n",
    "            let [subperm, short_circuit] = _nextPermutation(nums.slice(1));\n",
    "\n",
    "            if (short_circuit) {\n",
    "                return [nums.slice(0, 1).concat(subperm), short_circuit];\n",
    "            } else {\n",
    "                // if the numbers are already in total descending order, there is no swap we\n",
    "                // could make that would result in an incrementally increased value\n",
    "                //\n",
    "                // if the numbers are not in total descending order, there is an incrementally\n",
    "                // increasing permutation, which we need to find; find the fence value, swap\n",
    "                // it to the last position, then reverse the array\n",
    "                    let fence_idx = nums.length - 2;\n",
    "                    while(fence_idx > -1) {\n",
    "                        if (nums[fence_idx + 1] > nums[fence_idx]) break;\n",
    "                        else fence_idx -= 1; \n",
    "                    }\n",
    "                    if (fence_idx === -1) {\n",
    "                        // pass up\n",
    "                        return [nums, short_circuit];\n",
    "                    } else {\n",
    "                        let replace_idx = nums.indexOf(\n",
    "                            nums.slice(fence_idx + 1).filter(v => v >= nums[fence_idx]).reduce((a, b) => b)\n",
    "                        );\n",
    "                        [nums[fence_idx], nums[replace_idx]] = [nums[replace_idx], nums[fence_idx]];\n",
    "                        nums = nums.slice(0, fence_idx + 1).concat(nums.slice(fence_idx + 1).reverse());\n",
    "                        short_circuit = true;\n",
    "                        return [nums, short_circuit];\n",
    "                    }\n",
    "            }\n",
    "        }        \n",
    "    }\n",
    "    \n",
    "    out = _nextPermutation(nums, false)[0];\n",
    "    console.log(out);\n",
    "    \n",
    "    if (out.length > 1 && out.slice(1).map((v, idx) => out[idx] > out[idx + 1]).every(v => v)) {\n",
    "        // total reversal case\n",
    "        let l = 0;\n",
    "        let r = out.length - 1;\n",
    "        while (r > l) {\n",
    "            [out[l], out[r]] = [out[r], out[l]];\n",
    "            l += 1;\n",
    "            r -= 1;\n",
    "        }\n",
    "    }\n",
    "    \n",
    "    for (let idx of nums.keys()) {\n",
    "        nums[idx] = out[idx];\n",
    "    }\n",
    "    return nums;\n",
    "}"
   ]
  },
  {
   "cell_type": "markdown",
   "metadata": {},
   "source": [
    "This solution is not correct and has some issues in its recursive structure at low array sizes due to some mid-implementation refactoring.\n",
    "\n",
    "I wrote this solution up after watching [a YouTube video explaining the recursive permutation approach to this problem](https://www.youtube.com/watch?v=quAS1iydq7U).\n",
    "\n",
    "This solution is not fundamentally different from my previous one (besides the fact that this a recursive solution whilst that is an iterative solution), with one notable exception, except that it takes advantage of a property of the list of elements right of fencepost that I had missed: the fact that they are arranged in a monotonically decreasing sequence. This means that we can actually reduce the complexity of the algorithm down to $O(n)$, as no sorting of the second part of the list is necessary: we merely swap two element and reverse the list in place."
   ]
  }
 ],
 "metadata": {
  "kernelspec": {
   "display_name": "Javascript (Node.js)",
   "language": "javascript",
   "name": "javascript"
  },
  "language_info": {
   "file_extension": ".js",
   "mimetype": "application/javascript",
   "name": "javascript",
   "version": "11.3.0"
  }
 },
 "nbformat": 4,
 "nbformat_minor": 2
}
