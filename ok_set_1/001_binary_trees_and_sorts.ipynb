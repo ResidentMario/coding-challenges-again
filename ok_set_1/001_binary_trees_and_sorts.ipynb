{
 "cells": [
  {
   "cell_type": "markdown",
   "metadata": {},
   "source": [
    "> * know the visitor patterns for binary trees: inorder, postorder, preorder\n",
    "\n",
    "A **binary tree** is a tree structure where every node has two children, a left child and a right child.\n",
    "\n",
    "**Pre-order traversal** means that each parent is visited before its children are visited. This is recursive iteration with the parent returned first.\n",
    "\n",
    "**Post-order traversal** means that each parent is visited after its children are visited. This is recursive iteration with the parent returned last.\n",
    "\n",
    "**In-order traversal** of a binary tree means that the left subchildren of the node are visited, then the node, then the right subchildren of the node.\n",
    "\n",
    "The names of these different types of traversals stem from how they return the values of a binary search tree. The \"in-order\" traversal is so named because it returns the node by their assigned values in sorted order.\n",
    "\n",
    "> * https://leetcode.com/problems/maximum-depth-of-binary-tree/\n",
    "\n"
   ]
  },
  {
   "cell_type": "code",
   "execution_count": 2,
   "metadata": {},
   "outputs": [],
   "source": [
    "class TreeNode {\n",
    "    constructor(val) {\n",
    "        this.val = val;\n",
    "        this.left = this.right = null;        \n",
    "    }\n",
    "}"
   ]
  },
  {
   "cell_type": "code",
   "execution_count": 10,
   "metadata": {},
   "outputs": [],
   "source": [
    "function maxDepth(root) {\n",
    "    if (root === null) return 0;\n",
    "    if (root.left === null && root.right === null) return 1;\n",
    "    \n",
    "    let l = root.left === null ? 0 : maxDepth(root.left);\n",
    "    let r = root.right === null ? 0 : maxDepth(root.right);\n",
    "    return Math.max(l, r) + 1;\n",
    "}"
   ]
  },
  {
   "cell_type": "code",
   "execution_count": 11,
   "metadata": {},
   "outputs": [
    {
     "data": {
      "text/plain": [
       "0"
      ]
     },
     "execution_count": 11,
     "metadata": {},
     "output_type": "execute_result"
    }
   ],
   "source": [
    "maxDepth(null);"
   ]
  },
  {
   "cell_type": "markdown",
   "metadata": {},
   "source": [
    "> https://leetcode.com/problems/minimum-depth-of-binary-tree/"
   ]
  },
  {
   "cell_type": "code",
   "execution_count": 12,
   "metadata": {},
   "outputs": [],
   "source": [
    "function minDepth(root) {\n",
    "    if (!root) return 0;\n",
    "    else if (!root.left && !root.right) return 1;\n",
    "    else if ((root.left && !root.left.left && !root.left.right)) return 2;\n",
    "    else if ((root.right && !root.right.left && !root.right.right)) return 2;\n",
    "    else {\n",
    "        if (!root.left) return minDepth(root.right) + 1;\n",
    "        else if (!root.right) return minDepth(root.left) + 1;\n",
    "        else return Math.min(minDepth(root.left), minDepth(root.right)) + 1;\n",
    "    }\n",
    "}"
   ]
  },
  {
   "cell_type": "markdown",
   "metadata": {},
   "source": [
    "> https://leetcode.com/problems/binary-tree-paths/"
   ]
  },
  {
   "cell_type": "code",
   "execution_count": 18,
   "metadata": {},
   "outputs": [
    {
     "data": {
      "text/plain": [
       "TreeNode { val: 5, right: null, left: null }"
      ]
     },
     "execution_count": 18,
     "metadata": {},
     "output_type": "execute_result"
    }
   ],
   "source": [
    "let root = new TreeNode(1);\n",
    "root.left = new TreeNode(2);\n",
    "root.right = new TreeNode(3);\n",
    "root.left.right = new TreeNode(5);"
   ]
  },
  {
   "cell_type": "code",
   "execution_count": 29,
   "metadata": {},
   "outputs": [],
   "source": [
    "function binaryTreePaths(root) {\n",
    "    if (!root) return [];\n",
    "    if (!root.left && !root.right) return [root.val.toString()];\n",
    "    \n",
    "    let [left_lout, right_lout] = [[], []];\n",
    "    \n",
    "    if (root.left) {\n",
    "        left_lout = binaryTreePaths(root.left)\n",
    "            .map(value_l => `${root.val}->${value_l}`);\n",
    "    }\n",
    "    if (root.right) {\n",
    "        right_lout = binaryTreePaths(root.right)\n",
    "            .map(value_r => `${root.val}->${value_r}`);\n",
    "    }\n",
    "    \n",
    "    return [...left_lout, ...right_lout];\n",
    "}"
   ]
  },
  {
   "cell_type": "code",
   "execution_count": 31,
   "metadata": {},
   "outputs": [
    {
     "data": {
      "text/plain": [
       "[ '1->2->5', '1->3' ]"
      ]
     },
     "execution_count": 31,
     "metadata": {},
     "output_type": "execute_result"
    }
   ],
   "source": [
    "binaryTreePaths(root)"
   ]
  },
  {
   "cell_type": "markdown",
   "metadata": {},
   "source": [
    "> https://leetcode.com/problems/sum-of-root-to-leaf-binary-numbers/"
   ]
  },
  {
   "cell_type": "code",
   "execution_count": 68,
   "metadata": {},
   "outputs": [],
   "source": [
    "function binaryTreePaths(root) {\n",
    "    if (!root) return [];\n",
    "    if (!root.left && !root.right) return [[root.val]];\n",
    "    \n",
    "    let [left_lout, right_lout] = [[], []];\n",
    "    \n",
    "    if (root.left) {\n",
    "        left_lout = binaryTreePaths(root.left)\n",
    "            .map(value_l => [root.val, ...value_l]);\n",
    "    }\n",
    "    if (root.right) {\n",
    "        right_lout = binaryTreePaths(root.right)\n",
    "            .map(value_r => [root.val, ...value_r]);\n",
    "    }\n",
    "    \n",
    "    return [...left_lout, ...right_lout];\n",
    "}\n",
    "\n",
    "function sumRootToLeaf(root) {\n",
    "    paths = binaryTreePaths(root);\n",
    "    let out = 0;\n",
    "    for (let bnum of paths) {\n",
    "        out += bnum.reverse()\n",
    "            .map((v, i) => v * 2**i)\n",
    "            .reduce((a, b) => a + b);\n",
    "    }\n",
    "    return out;\n",
    "};"
   ]
  },
  {
   "cell_type": "code",
   "execution_count": 69,
   "metadata": {},
   "outputs": [
    {
     "data": {
      "text/plain": [
       "[ [ 1, 2, 5 ], [ 1, 3 ] ]"
      ]
     },
     "execution_count": 69,
     "metadata": {},
     "output_type": "execute_result"
    }
   ],
   "source": [
    "binaryTreePaths(root)"
   ]
  },
  {
   "cell_type": "code",
   "execution_count": 70,
   "metadata": {},
   "outputs": [
    {
     "data": {
      "text/plain": [
       "18"
      ]
     },
     "execution_count": 70,
     "metadata": {},
     "output_type": "execute_result"
    }
   ],
   "source": [
    "sumRootToLeaf(root)"
   ]
  },
  {
   "cell_type": "markdown",
   "metadata": {},
   "source": [
    "> https://leetcode.com/problems/maximum-depth-of-n-ary-tree/"
   ]
  },
  {
   "cell_type": "code",
   "execution_count": 73,
   "metadata": {},
   "outputs": [],
   "source": [
    "function maxDepth(root) {\n",
    "    if (!root) return 0;\n",
    "    if (root.children.length === 0) return 1;\n",
    "    else return root.children.map(r => maxDepth(r) + 1).reduce((a, b) => a > b ? a : b);\n",
    "}"
   ]
  },
  {
   "cell_type": "markdown",
   "metadata": {},
   "source": [
    "> https://leetcode.com/problems/binary-tree-level-order-traversal/"
   ]
  },
  {
   "cell_type": "code",
   "execution_count": 78,
   "metadata": {},
   "outputs": [
    {
     "data": {
      "text/plain": [
       "[ 1, 2, 3, 4 ]"
      ]
     },
     "execution_count": 78,
     "metadata": {},
     "output_type": "execute_result"
    }
   ],
   "source": [
    "[1, 2].concat([3, 4])"
   ]
  },
  {
   "cell_type": "code",
   "execution_count": 119,
   "metadata": {},
   "outputs": [],
   "source": [
    "function levelOrder(root) {\n",
    "    if (!root) return [];\n",
    "    if (!root.left && !root.right) return [root];\n",
    "    let result = [root].concat(_levelOrder([root.left, root.right].filter(v => v)));\n",
    "    return result.map(r => r.val);\n",
    "};\n",
    "\n",
    "function _levelOrder(l_roots) {\n",
    "    if (l_roots.length === 0) return [];\n",
    "    \n",
    "    let result = [[]];\n",
    "    for (let root of l_roots) {\n",
    "        if (root.left) result[0].push(root.left);\n",
    "        if (root.right) result[0].push(root.right);\n",
    "    }\n",
    "\n",
    "    let next = _levelOrder(result[0]);\n",
    "    return l_roots.concat(next);\n",
    "}"
   ]
  },
  {
   "cell_type": "code",
   "execution_count": 120,
   "metadata": {},
   "outputs": [
    {
     "data": {
      "text/plain": [
       "TreeNode {\n",
       "  val: 1,\n",
       "  right: TreeNode { val: 3, right: null, left: null },\n",
       "  left:\n",
       "   TreeNode {\n",
       "     val: 2,\n",
       "     right: TreeNode { val: 5, right: null, left: null },\n",
       "     left: null } }"
      ]
     },
     "execution_count": 120,
     "metadata": {},
     "output_type": "execute_result"
    }
   ],
   "source": [
    "root"
   ]
  },
  {
   "cell_type": "code",
   "execution_count": 121,
   "metadata": {},
   "outputs": [
    {
     "data": {
      "text/plain": [
       "[ 1, 2, 3, 5 ]"
      ]
     },
     "execution_count": 121,
     "metadata": {},
     "output_type": "execute_result"
    }
   ],
   "source": [
    "levelOrder(root)"
   ]
  },
  {
   "cell_type": "markdown",
   "metadata": {},
   "source": [
    "> https://leetcode.com/problems/convert-sorted-list-to-binary-search-tree/"
   ]
  },
  {
   "cell_type": "markdown",
   "metadata": {},
   "source": [
    "The \"easy\" solution is to traverse the singly-linked list to turn it into a regular list. Then recursively subpartition the list to construct trees and attach them to one another.\n",
    "\n",
    "The following (nonworking) code expresses this idea."
   ]
  },
  {
   "cell_type": "code",
   "execution_count": 131,
   "metadata": {},
   "outputs": [],
   "source": [
    "function sortedListToBST(head) {\n",
    "    // base cases\n",
    "    if (!head) return [];\n",
    "    else if (!head.next) return [head.val];\n",
    "    \n",
    "    // iterate over the values in the array and listify them\n",
    "    function listify(head) {\n",
    "        let arr = [];\n",
    "        let curr = head;\n",
    "        while (curr.next) {\n",
    "            arr.push(curr.val);\n",
    "            curr = curr.next;\n",
    "        }\n",
    "        arr.push(curr.val);\n",
    "        return arr;\n",
    "    }\n",
    "    \n",
    "    function treeify(l_vals) {\n",
    "        if (l_vals.length === 0) return null;\n",
    "        else if (l_vals.length === 1) return new TreeNode(l_vals[0]);\n",
    "\n",
    "        let pivot = Math.ceil(l_vals.length  / 2);\n",
    "        let out = new TreeNode(l_vals[pivot]);\n",
    "        out.left = treeify(l_vals.slice(0, pivot));\n",
    "        out.right = treeify(l_vals.slice(pivot));\n",
    "        return out;\n",
    "    }\n",
    "    \n",
    "    let arr = listify(head);\n",
    "    return treeify(arr);\n",
    "}"
   ]
  },
  {
   "cell_type": "markdown",
   "metadata": {},
   "source": [
    "Another way to solve this problem which has similar properties uses a pointer race: a fast pointer that traverses the entire list quickly, and a slow pointer that traverses at half of the speed of the fast pointer. The slow pointer always ends up at the midpoint of the list. This has the same time complexity as this solution, but has better memory complexity as this solution requires holding every value in the list in memory and that solution doesn't.\n",
    "\n",
    "Switching to Python..."
   ]
  },
  {
   "cell_type": "code",
   "execution_count": 1,
   "metadata": {},
   "outputs": [],
   "source": [
    "class ListNode:\n",
    "    def __init__(self, x):\n",
    "        self.val = x\n",
    "        self.next = None\n",
    "\n",
    "class TreeNode:\n",
    "    def __init__(self, x):\n",
    "        self.val = x\n",
    "        self.left = None\n",
    "        self.right = None\n",
    "\n",
    "    # For debugging. From:\n",
    "    # https://stackoverflow.com/questions/34012886/print-binary-tree-level-by-level-in-python\n",
    "    def display(self):\n",
    "        lines, _, _, _ = self._display_aux()\n",
    "        for line in lines:\n",
    "            print(line)\n",
    "\n",
    "    def _display_aux(self):\n",
    "        \"\"\"Returns list of strings, width, height, and horizontal coordinate of the root.\"\"\"\n",
    "        # No child.\n",
    "        if self.right is None and self.left is None:\n",
    "            line = '%s' % self.val\n",
    "            width = len(line)\n",
    "            height = 1\n",
    "            middle = width // 2\n",
    "            return [line], width, height, middle\n",
    "\n",
    "        # Only left child.\n",
    "        if self.right is None:\n",
    "            lines, n, p, x = self.left._display_aux()\n",
    "            s = '%s' % self.val\n",
    "            u = len(s)\n",
    "            first_line = (x + 1) * ' ' + (n - x - 1) * '_' + s\n",
    "            second_line = x * ' ' + '/' + (n - x - 1 + u) * ' '\n",
    "            shifted_lines = [line + u * ' ' for line in lines]\n",
    "            return [first_line, second_line] + shifted_lines, n + u, p + 2, n + u // 2\n",
    "\n",
    "        # Only right child.\n",
    "        if self.left is None:\n",
    "            lines, n, p, x = self.right._display_aux()\n",
    "            s = '%s' % self.val\n",
    "            u = len(s)\n",
    "            first_line = s + x * '_' + (n - x) * ' '\n",
    "            second_line = (u + x) * ' ' + '\\\\' + (n - x - 1) * ' '\n",
    "            shifted_lines = [u * ' ' + line for line in lines]\n",
    "            return [first_line, second_line] + shifted_lines, n + u, p + 2, u // 2\n",
    "\n",
    "        # Two children.\n",
    "        left, n, p, x = self.left._display_aux()\n",
    "        right, m, q, y = self.right._display_aux()\n",
    "        s = '%s' % self.val\n",
    "        u = len(s)\n",
    "        first_line = (x + 1) * ' ' + (n - x - 1) * '_' + s + y * '_' + (m - y) * ' '\n",
    "        second_line = x * ' ' + '/' + (n - x - 1 + u + y) * ' ' + '\\\\' + (m - y - 1) * ' '\n",
    "        if p < q:\n",
    "            left += [n * ' '] * (q - p)\n",
    "        elif q < p:\n",
    "            right += [m * ' '] * (p - q)\n",
    "        zipped_lines = zip(left, right)\n",
    "        lines = [first_line, second_line] + [a + u * ' ' + b for a, b in zipped_lines]\n",
    "        return lines, n + m + u, max(p, q) + 2, n + u // 2"
   ]
  },
  {
   "cell_type": "code",
   "execution_count": 2,
   "metadata": {},
   "outputs": [],
   "source": [
    "ll = ListNode(1)\n",
    "ll.next = ListNode(2)\n",
    "ll.next.next = ListNode(3)\n",
    "ll.next.next.next = ListNode(4)\n",
    "ll.next.next.next.next = ListNode(5)\n",
    "ll.next.next.next.next.next = ListNode(6)\n",
    "ll.next.next.next.next.next.next = ListNode(7)\n",
    "ll.next.next.next.next.next.next.next = ListNode(8)\n",
    "ll.next.next.next.next.next.next.next.next = ListNode(9)"
   ]
  },
  {
   "cell_type": "code",
   "execution_count": 3,
   "metadata": {},
   "outputs": [],
   "source": [
    "def print_ll(ll):\n",
    "    _repr = ''\n",
    "    curr = ll\n",
    "    while curr.next:\n",
    "        _repr += f'{curr.val}->'\n",
    "        curr = curr.next\n",
    "    _repr += str(curr.val)\n",
    "    return _repr"
   ]
  },
  {
   "cell_type": "code",
   "execution_count": 4,
   "metadata": {},
   "outputs": [
    {
     "data": {
      "text/plain": [
       "'1->2->3->4->5->6->7->8->9'"
      ]
     },
     "execution_count": 4,
     "metadata": {},
     "output_type": "execute_result"
    }
   ],
   "source": [
    "print_ll(ll)"
   ]
  },
  {
   "cell_type": "code",
   "execution_count": 7,
   "metadata": {},
   "outputs": [],
   "source": [
    "def sortedListToBST2(head):\n",
    "    if not head:\n",
    "        return \n",
    "    if not head.next:\n",
    "        return TreeNode(head.val)\n",
    "    \n",
    "    dummy = ListNode(0)\n",
    "    dummy.next = head\n",
    "    slow, fast = dummy, head\n",
    "    while fast and fast.next:\n",
    "        slow = slow.next\n",
    "        fast = fast.next.next\n",
    "    root = TreeNode(slow.next.val)\n",
    "    root.right = sortedListToBST2(slow.next.next)\n",
    "    slow.next = None\n",
    "    root.left = sortedListToBST2(head)\n",
    "    return root"
   ]
  },
  {
   "cell_type": "code",
   "execution_count": 8,
   "metadata": {},
   "outputs": [],
   "source": [
    "tree = sortedListToBST2(ll)"
   ]
  },
  {
   "cell_type": "code",
   "execution_count": 9,
   "metadata": {
    "scrolled": true
   },
   "outputs": [
    {
     "name": "stdout",
     "output_type": "stream",
     "text": [
      "   _5__  \n",
      "  /    \\ \n",
      "  3    8 \n",
      " / \\  / \\\n",
      " 2 4  7 9\n",
      "/    /   \n",
      "1    6   \n"
     ]
    }
   ],
   "source": [
    "tree.display()"
   ]
  },
  {
   "cell_type": "markdown",
   "metadata": {},
   "source": [
    "Producing this solution on the interview is good enough. I would not have gotten this solution on an interview! Solutions involving the clever use of pointers like this are still alien to me, you would never accept a linear penalty to algorithm time to gain zero algorithm memory usage in a practical setting."
   ]
  },
  {
   "cell_type": "markdown",
   "metadata": {},
   "source": [
    "Then there's a bottom up approach. This one you can just read; it's crazy and I don't expect to able to produce it at interview time anytime soon: https://leetcode.com/problems/convert-sorted-list-to-binary-search-tree/discuss/35526/Python-solutions-(convert-to-array-first-top-down-approach-bottom-up-approach)."
   ]
  },
  {
   "cell_type": "markdown",
   "metadata": {},
   "source": [
    "> https://leetcode.com/problems/sort-colors/ (in place)"
   ]
  },
  {
   "cell_type": "markdown",
   "metadata": {},
   "source": [
    "This is a comparison (bubble) sort, which is $O(n^2)$."
   ]
  },
  {
   "cell_type": "code",
   "execution_count": 28,
   "metadata": {},
   "outputs": [],
   "source": [
    "function sortColors(nums) {\n",
    "    if (nums.length === 0) return nums;\n",
    "    \n",
    "    let idx = 0;\n",
    "    while (idx < nums.length - 1) {\n",
    "        if (nums.length === idx + 1) return nums;\n",
    "        \n",
    "        if (nums[idx] < nums[idx + 1]) {\n",
    "            idx += 1;\n",
    "        } else {\n",
    "            let cidx = idx + 1;  // current idx\n",
    "            let pidx = idx;  // previous idx\n",
    "            while ((pidx >= 0) && (nums[pidx] > nums[cidx])) {\n",
    "                [nums[pidx], nums[cidx]] = [nums[cidx], nums[pidx]];\n",
    "                cidx -= 1;\n",
    "                pidx -= 1;\n",
    "            }\n",
    "            idx += 1;\n",
    "        }\n",
    "    }\n",
    "    return nums;\n",
    "}"
   ]
  },
  {
   "cell_type": "code",
   "execution_count": 29,
   "metadata": {},
   "outputs": [
    {
     "data": {
      "text/plain": [
       "[]"
      ]
     },
     "execution_count": 29,
     "metadata": {},
     "output_type": "execute_result"
    }
   ],
   "source": [
    "sortColors([])"
   ]
  },
  {
   "cell_type": "code",
   "execution_count": 30,
   "metadata": {},
   "outputs": [
    {
     "data": {
      "text/plain": [
       "[ 0 ]"
      ]
     },
     "execution_count": 30,
     "metadata": {},
     "output_type": "execute_result"
    }
   ],
   "source": [
    "sortColors([0])"
   ]
  },
  {
   "cell_type": "code",
   "execution_count": 31,
   "metadata": {},
   "outputs": [
    {
     "data": {
      "text/plain": [
       "[ 0, 1, 2 ]"
      ]
     },
     "execution_count": 31,
     "metadata": {},
     "output_type": "execute_result"
    }
   ],
   "source": [
    "sortColors([0,1,2])"
   ]
  },
  {
   "cell_type": "code",
   "execution_count": 32,
   "metadata": {},
   "outputs": [
    {
     "data": {
      "text/plain": [
       "[ 0, 1, 2 ]"
      ]
     },
     "execution_count": 32,
     "metadata": {},
     "output_type": "execute_result"
    }
   ],
   "source": [
    "sortColors([0,2,1])"
   ]
  },
  {
   "cell_type": "code",
   "execution_count": 33,
   "metadata": {},
   "outputs": [
    {
     "data": {
      "text/plain": [
       "[ 0, 1, 1, 2 ]"
      ]
     },
     "execution_count": 33,
     "metadata": {},
     "output_type": "execute_result"
    }
   ],
   "source": [
    "sortColors([0,2,1,1])"
   ]
  },
  {
   "cell_type": "code",
   "execution_count": 34,
   "metadata": {
    "scrolled": true
   },
   "outputs": [
    {
     "data": {
      "text/plain": [
       "[ 0, 0, 1, 1, 2, 2 ]"
      ]
     },
     "execution_count": 34,
     "metadata": {},
     "output_type": "execute_result"
    }
   ],
   "source": [
    "sortColors([0,2,2,1,1,0])"
   ]
  },
  {
   "cell_type": "markdown",
   "metadata": {},
   "source": [
    "> * know n**2 sorts: insertion, bubble, selection\n",
    "> * know n lg n sorts: quicksort, merge sort - understand how lg N comes into play\n",
    "> * know linear sorts: radix, counting, bucket\n",
    "\n",
    "The various sorts and their properties is something I can never remember on my own. I know roughly what they do, thanks to having first been introduced to them six years ago, but I can't implement them on command. This is squarely in the realm of things I have to review not long before going in for an interview.\n",
    "\n",
    "Let's consolidate this stuff into a notebook: [Notes on sorts](https://www.kaggle.com/residentmario/notes-on-sorts)."
   ]
  },
  {
   "cell_type": "markdown",
   "metadata": {},
   "source": [
    "> * implement one n**2 sort"
   ]
  },
  {
   "cell_type": "markdown",
   "metadata": {},
   "source": [
    "Bubble sort above."
   ]
  },
  {
   "cell_type": "markdown",
   "metadata": {},
   "source": [
    "> implement quicksort in place (without allocating new arrays), feel free to look at pseudocode\n",
    "\n",
    "> implement counting sort"
   ]
  },
  {
   "cell_type": "markdown",
   "metadata": {},
   "source": [
    "Let's do counting sort first."
   ]
  },
  {
   "cell_type": "code",
   "execution_count": 56,
   "metadata": {},
   "outputs": [],
   "source": [
    "function countSort(nums) {\n",
    "    let c = new Map();\n",
    "    \n",
    "    for (let num of nums) {\n",
    "        prior = c.has(num) ? c.get(num) : 0;\n",
    "        c.set(num, prior + 1);\n",
    "    }\n",
    "    \n",
    "    i = 0;\n",
    "    for (let num of c.keys()) {\n",
    "        n_num = c.get(num);\n",
    "        for (let _ of [...Array(n_num).keys()]) {\n",
    "            nums[i] = num;\n",
    "            i += 1;\n",
    "        }\n",
    "    }\n",
    "    return nums;\n",
    "}"
   ]
  },
  {
   "cell_type": "markdown",
   "metadata": {},
   "source": [
    "Now quicksort. First with allocation allowed, then, in-place."
   ]
  },
  {
   "cell_type": "code",
   "execution_count": 12,
   "metadata": {},
   "outputs": [],
   "source": [
    "function quickSort(arr) {\n",
    "    if (arr.length <= 1) return arr;\n",
    "    \n",
    "    let [left, right] = [[], []];\n",
    "    let pivot_idx = Math.floor(arr.length / 2);\n",
    "    let pivot_val = arr[pivot_idx];\n",
    "    for (let num of [\n",
    "        ...arr.slice(0, pivot_idx), ...arr.slice(pivot_idx + 1, arr.length + 1)\n",
    "    ]) {\n",
    "        if (num >= pivot_val) {\n",
    "            right.push(num);\n",
    "        } else {\n",
    "            left.push(num);\n",
    "        }\n",
    "    }\n",
    "    \n",
    "    [left, right] = [quickSort(left), quickSort(right)];\n",
    "    return [...left, pivot_val, ...right];\n",
    "}"
   ]
  },
  {
   "cell_type": "code",
   "execution_count": 13,
   "metadata": {},
   "outputs": [
    {
     "data": {
      "text/plain": [
       "[ 1, 2, 3 ]"
      ]
     },
     "execution_count": 13,
     "metadata": {},
     "output_type": "execute_result"
    }
   ],
   "source": [
    "quickSort([1,2,3])"
   ]
  },
  {
   "cell_type": "code",
   "execution_count": 15,
   "metadata": {},
   "outputs": [
    {
     "data": {
      "text/plain": [
       "[ 1, 2, 3, 4 ]"
      ]
     },
     "execution_count": 15,
     "metadata": {},
     "output_type": "execute_result"
    }
   ],
   "source": [
    "quickSort([4,1,2,3])"
   ]
  },
  {
   "cell_type": "code",
   "execution_count": 82,
   "metadata": {},
   "outputs": [],
   "source": [
    "function quickSortInplace(arr, xmin=null, xmax=null) {\n",
    "    if (xmax !== null && xmin !== null && (xmax - xmin <= 1)) return arr;\n",
    "    \n",
    "    if (!xmin) xmin = 0;\n",
    "    if (!xmax) xmax = arr.length;\n",
    "    \n",
    "    let pivot_idx = xmin + Math.floor((xmax - xmin) / 2);\n",
    "    let pivot_val = arr[pivot_idx];\n",
    "    \n",
    "    for (let idx of [...Array(xmax - xmin).keys()].map(i => xmin + i)) {\n",
    "        if (idx === pivot_idx) continue;\n",
    "        \n",
    "        if (arr[idx] > pivot_val && idx < pivot_idx) {\n",
    "            [arr[pivot_idx], arr[idx]] = [arr[idx], arr[pivot_idx]];\n",
    "            pivot_idx = idx;\n",
    "        }\n",
    "        else if (arr[idx] < pivot_val && idx > pivot_idx) {\n",
    "            [arr[pivot_idx], arr[pivot_idx + 1]] = [arr[pivot_idx + 1], arr[pivot_idx]];\n",
    "            [arr[pivot_idx], arr[idx]] = [arr[idx], arr[pivot_idx]];\n",
    "            pivot_idx += 1;\n",
    "        }\n",
    "    }\n",
    "\n",
    "    quickSortInplace(arr, xmin, pivot_idx);\n",
    "    quickSortInplace(arr, pivot_idx + 1, xmax);\n",
    "    return arr;\n",
    "}"
   ]
  },
  {
   "cell_type": "code",
   "execution_count": 83,
   "metadata": {},
   "outputs": [
    {
     "data": {
      "text/plain": [
       "[ 1, 2, 3 ]"
      ]
     },
     "execution_count": 83,
     "metadata": {},
     "output_type": "execute_result"
    }
   ],
   "source": [
    "quickSortInplace([3,2,1])"
   ]
  },
  {
   "cell_type": "code",
   "execution_count": 84,
   "metadata": {},
   "outputs": [
    {
     "data": {
      "text/plain": [
       "[ 1, 2, 3, 4, 5 ]"
      ]
     },
     "execution_count": 84,
     "metadata": {},
     "output_type": "execute_result"
    }
   ],
   "source": [
    "quickSortInplace([5,4,3,2,1])"
   ]
  },
  {
   "cell_type": "code",
   "execution_count": 86,
   "metadata": {},
   "outputs": [
    {
     "data": {
      "text/plain": [
       "[ 1, 2, 3, 4, 5, 6 ]"
      ]
     },
     "execution_count": 86,
     "metadata": {},
     "output_type": "execute_result"
    }
   ],
   "source": [
    "quickSortInplace([5,4,3,2,1,6])"
   ]
  },
  {
   "cell_type": "markdown",
   "metadata": {},
   "source": [
    "A couple of stumbles in the implementation of this one, but I got the idea quick enough."
   ]
  }
 ],
 "metadata": {
  "kernelspec": {
   "display_name": "Javascript (Node.js)",
   "language": "javascript",
   "name": "javascript"
  },
  "language_info": {
   "file_extension": ".js",
   "mimetype": "application/javascript",
   "name": "javascript",
   "version": "11.3.0"
  }
 },
 "nbformat": 4,
 "nbformat_minor": 2
}
