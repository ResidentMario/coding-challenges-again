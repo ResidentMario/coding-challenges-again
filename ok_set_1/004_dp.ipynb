{
 "cells": [
  {
   "cell_type": "markdown",
   "metadata": {},
   "source": [
    "> https://leetcode.com/problems/house-robber/"
   ]
  },
  {
   "cell_type": "code",
   "execution_count": 92,
   "metadata": {},
   "outputs": [],
   "source": [
    "def rob(nums):\n",
    "    memo = {(): 0}\n",
    "    best_result_seen = 0\n",
    "    \n",
    "    for n in range(1, len(nums) + 1):\n",
    "        for i in range(len(nums) + 1 - n):\n",
    "            row = nums[i:i+n]\n",
    "            for target in range(len(row)):\n",
    "                left = max(target - 1, 0)\n",
    "                right = max(target + 1, len(row) - 1)\n",
    "                subrow = row[:left] + row[right + 1:]\n",
    "                new_ans = row[target] + memo[tuple(subrow)]\n",
    "                prev = memo[tuple(row)] if tuple(row) in memo else 0\n",
    "                if new_ans > prev:\n",
    "                    memo[tuple(row)] = new_ans\n",
    "                    if new_ans > best_result_seen:\n",
    "                        best_result_seen = new_ans\n",
    "    return best_result_seen"
   ]
  },
  {
   "cell_type": "code",
   "execution_count": 93,
   "metadata": {},
   "outputs": [
    {
     "data": {
      "text/plain": [
       "6"
      ]
     },
     "execution_count": 93,
     "metadata": {},
     "output_type": "execute_result"
    }
   ],
   "source": [
    "rob([1,2,3,4])"
   ]
  },
  {
   "cell_type": "code",
   "execution_count": 94,
   "metadata": {},
   "outputs": [
    {
     "data": {
      "text/plain": [
       "4"
      ]
     },
     "execution_count": 94,
     "metadata": {},
     "output_type": "execute_result"
    }
   ],
   "source": [
    "rob([1,2,3,1])"
   ]
  },
  {
   "cell_type": "code",
   "execution_count": 95,
   "metadata": {},
   "outputs": [
    {
     "data": {
      "text/plain": [
       "12"
      ]
     },
     "execution_count": 95,
     "metadata": {},
     "output_type": "execute_result"
    }
   ],
   "source": [
    "rob([2,7,9,3,1])"
   ]
  },
  {
   "cell_type": "markdown",
   "metadata": {},
   "source": [
    "* I'd solved this problem before using JavaScript. Compare the code above to the wondrously overlong JavaScript solution:\n",
    "\n",
    "```javascript\n",
    "function rob(nums) {\n",
    "    function _rob(nums, memo) {\n",
    "        // console.log(nums, memo);\n",
    "        \n",
    "        if (!nums) return [0, memo];\n",
    "        else if (nums.length === 1) return [nums[0], memo];\n",
    "        else if (nums.length === 2) return nums[0] > nums[1] ? [nums[0], memo] : [nums[1], memo];\n",
    "        else if (memo.has(nums.join(','))) return [memo.get(nums.join(',')), memo];\n",
    "        else {\n",
    "            let best_submax = 0;\n",
    "            for (let numidx of Array(nums.length).keys()) {\n",
    "                let left_r_bound = numidx === 0 ? 0 : numidx - 1;\n",
    "                let left = nums.slice(0, left_r_bound);\n",
    "                let left_memo_key = left.join(',');\n",
    "                if (memo.has(left_memo_key)) {\n",
    "                    left = memo.get(left_memo_key);\n",
    "                } else {\n",
    "                    [left, memo] = _rob(nums.slice(0, left_r_bound), memo);\n",
    "                    memo.set(left_memo_key, left);\n",
    "                }\n",
    "                \n",
    "                let right = nums.slice(numidx + 2);\n",
    "                let right_memo_key = right.join(',');\n",
    "                if (memo.has(right_memo_key)) {\n",
    "                    right = memo.get(right_memo_key);\n",
    "                } else {\n",
    "                    [right, memo] = _rob(nums.slice(numidx + 2), memo);\n",
    "                    memo.set(right_memo_key, right);\n",
    "                }\n",
    "                \n",
    "                let tot = nums[numidx] + left + right;\n",
    "                if (tot > best_submax) best_submax = tot;\n",
    "            }\n",
    "            memo.set(nums.join(','), best_submax);\n",
    "            return [best_submax, memo];\n",
    "        }\n",
    "    }\n",
    "    \n",
    "    let memo = new Map();    \n",
    "    return _rob(nums, memo)[0];\n",
    "}\n",
    "```\n",
    "\n",
    "* I think I've gotten enough out of writing these solutions in JavaScript anyway. We're going to stick to Python from now on.\n",
    "* There are three different solutions to this classic DP problem: brute-force DFS, top-down memoization, and bottom-up dynamic programming. I iterated through the three quickly on paper.\n",
    "* Solution went OK. I had some boundarization issues.\n",
    "* Each determination-and-cache step requires constant work (it looks up a value in the memo), but we perform this determination-and-cache step $\\sum(n + (n - 1) + (n - 2) + \\ldots + 1)$ times. The sum of this sequence evaluates to $\\frac{n^2}{2}$ IIRC, so we may say that the overall algorithm is $O(n^2)$."
   ]
  },
  {
   "cell_type": "code",
   "execution_count": 131,
   "metadata": {},
   "outputs": [],
   "source": [
    "def minCostClimbingStairs(cost):\n",
    "    memo = {}\n",
    "    memo[len(cost) - 1], memo[len(cost) - 2] = cost[-1], cost[-2]\n",
    "    for i in range(len(cost) - 3, -1, -1):\n",
    "        memo[i] = cost[i] + min(memo[i + 1], memo[i + 2])\n",
    "    return min(memo[0], memo[1])"
   ]
  },
  {
   "cell_type": "code",
   "execution_count": 132,
   "metadata": {},
   "outputs": [
    {
     "data": {
      "text/plain": [
       "2"
      ]
     },
     "execution_count": 132,
     "metadata": {},
     "output_type": "execute_result"
    }
   ],
   "source": [
    "minCostClimbingStairs([1,2,3])"
   ]
  },
  {
   "cell_type": "code",
   "execution_count": 133,
   "metadata": {},
   "outputs": [
    {
     "data": {
      "text/plain": [
       "9"
      ]
     },
     "execution_count": 133,
     "metadata": {},
     "output_type": "execute_result"
    }
   ],
   "source": [
    "minCostClimbingStairs([1,2,3,4,5,6])"
   ]
  },
  {
   "cell_type": "code",
   "execution_count": 134,
   "metadata": {},
   "outputs": [
    {
     "data": {
      "text/plain": [
       "6"
      ]
     },
     "execution_count": 134,
     "metadata": {},
     "output_type": "execute_result"
    }
   ],
   "source": [
    "minCostClimbingStairs([1, 100, 1, 1, 1, 100, 1, 1, 100, 1])"
   ]
  },
  {
   "cell_type": "markdown",
   "metadata": {},
   "source": [
    "* Easy enough. This algorithm is $O(n)$."
   ]
  },
  {
   "cell_type": "markdown",
   "metadata": {},
   "source": [
    "> https://leetcode.com/problems/climbing-stairs/"
   ]
  },
  {
   "cell_type": "code",
   "execution_count": 145,
   "metadata": {},
   "outputs": [],
   "source": [
    "def climbStairs(n):\n",
    "    memo = {0: 0, 1: 1, 2:2}\n",
    "    \n",
    "    for i in range(3, n + 1):\n",
    "        memo[i] = memo[i - 1] + memo[i - 2]\n",
    "    \n",
    "    return memo[n]"
   ]
  },
  {
   "cell_type": "code",
   "execution_count": 147,
   "metadata": {},
   "outputs": [
    {
     "data": {
      "text/plain": [
       "5"
      ]
     },
     "execution_count": 147,
     "metadata": {},
     "output_type": "execute_result"
    }
   ],
   "source": [
    "climbStairs(4)"
   ]
  },
  {
   "cell_type": "markdown",
   "metadata": {},
   "source": [
    "* Easy enough. This algorithm is $O(n)$ also."
   ]
  },
  {
   "cell_type": "markdown",
   "metadata": {},
   "source": [
    "> https://leetcode.com/problems/house-robber-ii/"
   ]
  },
  {
   "cell_type": "code",
   "execution_count": 219,
   "metadata": {},
   "outputs": [],
   "source": [
    "def rob(nums):\n",
    "    if len(nums) == 0: return 0\n",
    "    if len(nums) == 1: return nums[0]\n",
    "    \n",
    "    memo = {(): 0}\n",
    "    best_max = 0\n",
    "    for nabe_size in range(1, len(nums)):\n",
    "        for start_idx in range(0, len(nums)):\n",
    "            end_idx = start_idx + nabe_size\n",
    "            nabe_idxs = []\n",
    "            for i in range(start_idx, end_idx):\n",
    "                if i < len(nums):\n",
    "                    nabe_idxs.append(i)\n",
    "                else:\n",
    "                    nabe_idxs.append(i - len(nums))\n",
    "            robbing_option_1 = nums[nabe_idxs[0]] + memo[tuple(nabe_idxs[2:])]\n",
    "            robbing_option_2 = memo[tuple(nabe_idxs[1:])]\n",
    "            new_max = max(robbing_option_1, robbing_option_2)\n",
    "            if new_max > best_max:\n",
    "                best_max = new_max\n",
    "            memo[tuple(nabe_idxs)] = max(robbing_option_1, robbing_option_2)\n",
    "    return best_max"
   ]
  },
  {
   "cell_type": "markdown",
   "metadata": {},
   "source": [
    "* Not too bad. This algorithm is $O(n^2)$."
   ]
  },
  {
   "cell_type": "markdown",
   "metadata": {},
   "source": [
    "> https://leetcode.com/problems/house-robber-iii/"
   ]
  },
  {
   "cell_type": "code",
   "execution_count": 225,
   "metadata": {},
   "outputs": [],
   "source": [
    "class Solution:\n",
    "\n",
    "    def rob(self, root):\n",
    "        if root is None:\n",
    "            return 0\n",
    "        \n",
    "        def afix_idx(root, idx):\n",
    "            root.idx = idx\n",
    "            if root.left:\n",
    "                idx = afix_idx(root.left, idx + 1)\n",
    "            if root.right:\n",
    "                idx = afix_idx(root.right, idx)\n",
    "            return idx + 1\n",
    "\n",
    "        \n",
    "        afix_idx(root, 0)\n",
    "\n",
    "        def _rob(root, memo):\n",
    "            if root.idx in memo:\n",
    "                return memo[root.idx], memo\n",
    "\n",
    "            l_ch_v, memo = _rob(root.left, memo) if root.left else [0, memo]\n",
    "            r_ch_v, memo = _rob(root.right, memo) if root.right else [0, memo]\n",
    "            r_ch_opt = l_ch_v + r_ch_v\n",
    "\n",
    "            gchs = []\n",
    "            if root.left:\n",
    "                if root.left.left:\n",
    "                    gchs.append(root.left.left)\n",
    "                if root.left.right:\n",
    "                    gchs.append(root.left.right)\n",
    "            if root.right:\n",
    "                if root.right.left:\n",
    "                    gchs.append(root.right.left)\n",
    "                if root.right.right:\n",
    "                    gchs.append(root.right.right)\n",
    "            gchs_v = 0\n",
    "            for gch in gchs:\n",
    "                gch_v, memo = _rob(gch, memo)\n",
    "                gchs_v += gch_v\n",
    "            r_self_opt = root.val + gchs_v\n",
    "\n",
    "            best_opt = max(r_ch_opt, r_self_opt)\n",
    "            memo[root.idx] = best_opt\n",
    "\n",
    "            return best_opt, memo\n",
    "\n",
    "        r = _rob(root, {})\n",
    "        return r[0]"
   ]
  },
  {
   "cell_type": "markdown",
   "metadata": {},
   "source": [
    "* This algorithm uses top-down depth-first search with memoization.\n",
    "* The inclusion of memoization requires giving each node a unique identifier for use in the memo *before* the actual code runs.\n",
    "* This algorithm is $O(n)$.\n",
    "* I struggled a lot with this one. Some minor implementation errors and one big implementation error: my first version of `afix_idx` was totally wrong, largely because I just dashed it off without studying the problem on paper first, and hence, without realizing what was wrong with the algorithm...this was easy to fix once I saw it, but I had to see it."
   ]
  },
  {
   "cell_type": "markdown",
   "metadata": {},
   "source": [
    "> https://leetcode.com/problems/coin-change/"
   ]
  },
  {
   "cell_type": "code",
   "execution_count": 228,
   "metadata": {},
   "outputs": [
    {
     "data": {
      "text/plain": [
       "2"
      ]
     },
     "execution_count": 228,
     "metadata": {},
     "output_type": "execute_result"
    }
   ],
   "source": [
    "5 // 2"
   ]
  },
  {
   "cell_type": "code",
   "execution_count": 252,
   "metadata": {},
   "outputs": [],
   "source": [
    "def coinChange(coins, amount):\n",
    "    if amount == 0: return 0\n",
    "    if len(coins) == 0: return -1\n",
    "\n",
    "    memo = {}\n",
    "    for coin in coins:\n",
    "        memo[coin] = 1\n",
    "    \n",
    "    for subchange in range(1, amount + 1):\n",
    "        best = memo[subchange] if subchange in memo else float('inf')\n",
    "        for subsubchange in range(1, subchange // 2 + 1):\n",
    "            left, right = memo[subsubchange], memo[subchange - subsubchange]\n",
    "            if left + right < best:\n",
    "                best = left + right\n",
    "        memo[subchange] = best\n",
    "    \n",
    "    if memo[amount] == float('inf'):\n",
    "        return -1\n",
    "    else:\n",
    "        return memo[amount]"
   ]
  },
  {
   "cell_type": "markdown",
   "metadata": {},
   "source": [
    "* This works. But the tests include cases like the following:\n",
    "\n",
    "    ```python\n",
    "    coinChange([3,7,405,436],8839)\n",
    "    ```\n",
    "\n",
    "    Incrementing to this value with this $O(n^2)$ algorithm is too slow, and results in a time exceeded error for the Leetcode test case. We need a speed-up.\n",
    "* I couldn't figure out the recurrence relationship on my own (even though I've done this problem before, I simply don't remember this template). So I go into the solutions and find a solution and understand it, and then copy-paste it in, except it doesn't address a range of edge cases...lesson learned...we really need to reimplement the core idea ourselves."
   ]
  },
  {
   "cell_type": "code",
   "execution_count": 342,
   "metadata": {},
   "outputs": [],
   "source": [
    "def coinChange(coins, amount):\n",
    "    coins = sorted(coins)\n",
    "\n",
    "    dp = [0] + [-1] * amount\n",
    "\n",
    "    dp[0] = 0\n",
    "    for i in coins:\n",
    "        for j in range(1, amount + 1):\n",
    "            if j >= i:\n",
    "                if dp[j - i] != -1:\n",
    "                    dp[j] = 1 + dp[j - i]\n",
    "    return dp[amount]"
   ]
  },
  {
   "cell_type": "code",
   "execution_count": 328,
   "metadata": {},
   "outputs": [
    {
     "data": {
      "text/plain": [
       "-1"
      ]
     },
     "execution_count": 328,
     "metadata": {},
     "output_type": "execute_result"
    }
   ],
   "source": [
    "coinChange([2], 3)"
   ]
  },
  {
   "cell_type": "code",
   "execution_count": 329,
   "metadata": {},
   "outputs": [
    {
     "data": {
      "text/plain": [
       "1"
      ]
     },
     "execution_count": 329,
     "metadata": {},
     "output_type": "execute_result"
    }
   ],
   "source": [
    "coinChange([3], 3)"
   ]
  },
  {
   "cell_type": "code",
   "execution_count": 330,
   "metadata": {},
   "outputs": [
    {
     "data": {
      "text/plain": [
       "-1"
      ]
     },
     "execution_count": 330,
     "metadata": {},
     "output_type": "execute_result"
    }
   ],
   "source": [
    "coinChange([4], 3)"
   ]
  },
  {
   "cell_type": "code",
   "execution_count": 331,
   "metadata": {},
   "outputs": [
    {
     "data": {
      "text/plain": [
       "-1"
      ]
     },
     "execution_count": 331,
     "metadata": {},
     "output_type": "execute_result"
    }
   ],
   "source": [
    "coinChange([3], 10)"
   ]
  },
  {
   "cell_type": "code",
   "execution_count": 332,
   "metadata": {},
   "outputs": [
    {
     "data": {
      "text/plain": [
       "3"
      ]
     },
     "execution_count": 332,
     "metadata": {},
     "output_type": "execute_result"
    }
   ],
   "source": [
    "coinChange([1,2,5], 11)"
   ]
  },
  {
   "cell_type": "code",
   "execution_count": 333,
   "metadata": {},
   "outputs": [
    {
     "data": {
      "text/plain": [
       "2"
      ]
     },
     "execution_count": 333,
     "metadata": {},
     "output_type": "execute_result"
    }
   ],
   "source": [
    "coinChange([1,2,5], 7)"
   ]
  },
  {
   "cell_type": "code",
   "execution_count": 335,
   "metadata": {},
   "outputs": [
    {
     "data": {
      "text/plain": [
       "-1"
      ]
     },
     "execution_count": 335,
     "metadata": {},
     "output_type": "execute_result"
    }
   ],
   "source": [
    "coinChange([2], 3)"
   ]
  },
  {
   "cell_type": "code",
   "execution_count": 336,
   "metadata": {},
   "outputs": [
    {
     "data": {
      "text/plain": [
       "2"
      ]
     },
     "execution_count": 336,
     "metadata": {},
     "output_type": "execute_result"
    }
   ],
   "source": [
    "coinChange([2], 4)"
   ]
  },
  {
   "cell_type": "code",
   "execution_count": 337,
   "metadata": {
    "scrolled": true
   },
   "outputs": [
    {
     "data": {
      "text/plain": [
       "0"
      ]
     },
     "execution_count": 337,
     "metadata": {},
     "output_type": "execute_result"
    }
   ],
   "source": [
    "coinChange([1], 0)"
   ]
  },
  {
   "cell_type": "code",
   "execution_count": 339,
   "metadata": {},
   "outputs": [
    {
     "data": {
      "text/plain": [
       "4"
      ]
     },
     "execution_count": 339,
     "metadata": {},
     "output_type": "execute_result"
    }
   ],
   "source": [
    "coinChange(sorted([2,5,10,1]), 27)"
   ]
  },
  {
   "cell_type": "markdown",
   "metadata": {},
   "source": [
    "* This solution is $O(mn)$, where $m$ is the number of coins and $n$, the amount."
   ]
  },
  {
   "cell_type": "markdown",
   "metadata": {},
   "source": [
    "> https://leetcode.com/problems/coin-change-2/"
   ]
  },
  {
   "cell_type": "code",
   "execution_count": 375,
   "metadata": {},
   "outputs": [],
   "source": [
    "def change(amount, coins):\n",
    "    if amount == 0: return 1\n",
    "    elif len(coins) == 0: return 0\n",
    "    \n",
    "    coins = sorted(coins)\n",
    "\n",
    "    dp = [1] + [0] * (amount)\n",
    "    for i in coins:\n",
    "        for j in range(1, amount + 1):\n",
    "            if j >= i:\n",
    "                dp[j] += dp[j - i]\n",
    "    \n",
    "    return dp[amount]"
   ]
  },
  {
   "cell_type": "code",
   "execution_count": 376,
   "metadata": {},
   "outputs": [
    {
     "data": {
      "text/plain": [
       "4"
      ]
     },
     "execution_count": 376,
     "metadata": {},
     "output_type": "execute_result"
    }
   ],
   "source": [
    "change(5, [1,2,5])"
   ]
  },
  {
   "cell_type": "code",
   "execution_count": 377,
   "metadata": {},
   "outputs": [
    {
     "data": {
      "text/plain": [
       "1"
      ]
     },
     "execution_count": 377,
     "metadata": {},
     "output_type": "execute_result"
    }
   ],
   "source": [
    "change(0, [1,2,5])"
   ]
  },
  {
   "cell_type": "code",
   "execution_count": 378,
   "metadata": {},
   "outputs": [
    {
     "data": {
      "text/plain": [
       "0"
      ]
     },
     "execution_count": 378,
     "metadata": {},
     "output_type": "execute_result"
    }
   ],
   "source": [
    "change(5, [])"
   ]
  },
  {
   "cell_type": "code",
   "execution_count": 379,
   "metadata": {},
   "outputs": [
    {
     "data": {
      "text/plain": [
       "1"
      ]
     },
     "execution_count": 379,
     "metadata": {},
     "output_type": "execute_result"
    }
   ],
   "source": [
    "change(5, [5])"
   ]
  },
  {
   "cell_type": "code",
   "execution_count": 380,
   "metadata": {},
   "outputs": [
    {
     "data": {
      "text/plain": [
       "7"
      ]
     },
     "execution_count": 380,
     "metadata": {},
     "output_type": "execute_result"
    }
   ],
   "source": [
    "change(5, [1,2,3,4,5])"
   ]
  },
  {
   "cell_type": "markdown",
   "metadata": {},
   "source": [
    "* This algorithm is $O(mn)$."
   ]
  },
  {
   "cell_type": "markdown",
   "metadata": {},
   "source": [
    "> https://leetcode.com/problems/minimum-cost-for-tickets/"
   ]
  },
  {
   "cell_type": "code",
   "execution_count": 446,
   "metadata": {},
   "outputs": [],
   "source": [
    "def mincostTickets(days, costs):\n",
    "    best = [(days[0], days[0] + 1)]\n",
    "    best_choice_cost = costs[0]\n",
    "    for ldays in range(2, len(days) + 1):\n",
    "        choices = []\n",
    "        subarr = days[:ldays]\n",
    "        \n",
    "        # if the previous best result covers the new time segment, it remains the\n",
    "        # best option; skip to the next time segment.\n",
    "        if max([elem[1] for elem in best]) - 1 >= days[ldays - 1]:\n",
    "            continue\n",
    "        \n",
    "        for tl in [30, 7, 1]:\n",
    "            for v in subarr:\n",
    "                new_elem = (v, v + tl)\n",
    "                new_choice = [new_elem]\n",
    "                for old_elem in best:\n",
    "                    if old_elem[0] < new_elem[0] or old_elem[1] > new_elem[1]:\n",
    "                        new_choice.append(old_elem)\n",
    "                choices.append(new_choice)\n",
    "        print(choices)\n",
    "        \n",
    "        new_best_choice = None\n",
    "        new_best_choice_cost = float('inf')\n",
    "        for candidate_choice in choices:\n",
    "            candidate_choice_cost = 0\n",
    "            for elem in candidate_choice:\n",
    "                choice_length = elem[1] - elem[0]\n",
    "                if choice_length == 30:\n",
    "                    candidate_choice_elem_cost = costs[2]\n",
    "                if choice_length == 7:\n",
    "                    candidate_choice_elem_cost = costs[1]\n",
    "                if choice_length == 1:\n",
    "                    candidate_choice_elem_cost = costs[0]\n",
    "                candidate_choice_cost += candidate_choice_elem_cost\n",
    "            if candidate_choice_elem_cost < new_best_choice_cost:\n",
    "                new_best_choice = candidate_choice\n",
    "                new_best_choice_cost = candidate_choice_cost\n",
    "        \n",
    "        besst_choice_cost = new_best_choice_cost\n",
    "        best = new_best_choice\n",
    "    return best"
   ]
  },
  {
   "cell_type": "code",
   "execution_count": 449,
   "metadata": {},
   "outputs": [
    {
     "name": "stdout",
     "output_type": "stream",
     "text": [
      "[[(1, 31)], [(30, 60), (1, 2)], [(1, 8)], [(30, 37), (1, 2)], [(1, 2)], [(30, 31), (1, 2)]]\n"
     ]
    },
    {
     "data": {
      "text/plain": [
       "[(1, 8)]"
      ]
     },
     "execution_count": 449,
     "metadata": {},
     "output_type": "execute_result"
    }
   ],
   "source": [
    "mincostTickets([1,30],[1,1,30])"
   ]
  },
  {
   "cell_type": "markdown",
   "metadata": {},
   "source": [
    "* This doesn't actually solve the problem, as there is a flaw in the logic it uses to construct the candidate choices.\n",
    "* I could not find the correct recurrence structure: that the minimum of the cost for a certain day is the minimum of:\n",
    "  * The cost for yesterday plus the cost for a 1 day ticket.\n",
    "  * The cost for a week ago plus the cost for a 7 day ticket.\n",
    "  * The cost for a month ago plus the cost for a 30 day ticket.\n",
    "* This recurrence relationship is most eloquently explained in [this comment on the question](https://leetcode.com/problems/minimum-cost-for-tickets/discuss/226659/Two-DP-solutions-with-pictures).\n",
    "* Practice makes perfect I guess...I have a really, really long way to go, clearly."
   ]
  },
  {
   "cell_type": "markdown",
   "metadata": {},
   "source": [
    "> https://leetcode.com/problems/longest-increasing-subsequence/"
   ]
  },
  {
   "cell_type": "code",
   "execution_count": 504,
   "metadata": {},
   "outputs": [],
   "source": [
    "def lengthOfLIS(nums):\n",
    "    if len(nums) == 0: return 0\n",
    "    \n",
    "    arrs = [[nums[-1]]]\n",
    "    for idx in range(len(nums) - 1, -1, -1):\n",
    "        v = nums[idx]\n",
    "        subseq = nums[idx + 1:]\n",
    "        \n",
    "        spawn_subseq = True\n",
    "        for arr_i in range(len(arrs)):\n",
    "            if v < arrs[arr_i][0]:\n",
    "                arrs[arr_i] = [v] + arrs[arr_i]\n",
    "                spawn_subseq = False\n",
    "            elif len(arrs[arr_i]) > 1 and v > arrs[arr_i][0] and v < arrs[arr_i][1]:\n",
    "                arrs[arr_i] = [v] + arrs[arr_i][1:]\n",
    "                spawn_subseq = False\n",
    "        \n",
    "        if spawn_subseq:\n",
    "            spawned_subseqs = [[v]]\n",
    "            for spawn_search_idx in range(len(subseq)):\n",
    "                candidate_v_next = subseq[spawn_search_idx]\n",
    "                retained_spawned_subseqs = []\n",
    "                for spawned_subseq in spawned_subseqs:\n",
    "                    if candidate_v_next > spawned_subseq[-1]:\n",
    "                        spawned_subseq.append(candidate_v_next)\n",
    "                        retained_spawned_subseqs.append(spawned_subseq)\n",
    "                for retained_spawned_subseq in retained_spawned_subseqs:\n",
    "                    spawned_subseqs += retained_spawned_subseqs\n",
    "            \n",
    "            best_idx = 0\n",
    "            maxlen = 0\n",
    "            for idx, spawned_subseq in enumerate(spawned_subseqs):\n",
    "                if len(spawned_subseq) > maxlen:\n",
    "                    best_idx = idx\n",
    "            best_spawned_subseq = spawned_subseqs[best_idx]\n",
    "            arrs.append(best_spawned_subseq)\n",
    "    \n",
    "    best_arr_idx = 0\n",
    "    best_arr_len = 0\n",
    "    for i, arr in enumerate(arrs):\n",
    "        if len(arr) > best_arr_len:\n",
    "            best_arr_idx = i\n",
    "            best_arr_len = len(arr)\n",
    "    print(arrs)\n",
    "    return best_arr_len"
   ]
  },
  {
   "cell_type": "code",
   "execution_count": 498,
   "metadata": {},
   "outputs": [
    {
     "data": {
      "text/plain": [
       "0"
      ]
     },
     "execution_count": 498,
     "metadata": {},
     "output_type": "execute_result"
    }
   ],
   "source": [
    "lengthOfLIS([])"
   ]
  },
  {
   "cell_type": "code",
   "execution_count": 499,
   "metadata": {},
   "outputs": [
    {
     "name": "stdout",
     "output_type": "stream",
     "text": [
      "[[1], [1]]\n"
     ]
    },
    {
     "data": {
      "text/plain": [
       "1"
      ]
     },
     "execution_count": 499,
     "metadata": {},
     "output_type": "execute_result"
    }
   ],
   "source": [
    "lengthOfLIS([1])"
   ]
  },
  {
   "cell_type": "code",
   "execution_count": 507,
   "metadata": {},
   "outputs": [
    {
     "name": "stdout",
     "output_type": "stream",
     "text": [
      "[18] 0 18\n",
      "[2, 5, 3, 7, 101, 18] 0 2\n",
      "[2, 5, 3, 7, 101, 18] 1 5\n",
      "[2, 5, 3, 7, 101, 18] 2 3\n",
      "[2, 5, 3, 7, 101, 18] 3 7\n",
      "[2, 5, 3, 7, 101, 18] 4 101\n",
      "[2, 5, 3, 7, 101, 18] 5 18\n",
      "[[2, 5, 7, 18], [2, 5, 7, 18], [2, 5, 7, 101], [10, 101]]\n"
     ]
    },
    {
     "data": {
      "text/plain": [
       "4"
      ]
     },
     "execution_count": 507,
     "metadata": {},
     "output_type": "execute_result"
    }
   ],
   "source": [
    "lengthOfLIS([10,9,2,5,3,7,101,18])"
   ]
  },
  {
   "cell_type": "markdown",
   "metadata": {},
   "source": [
    "* This one I got on the first try!\n",
    "* This algorithm iterates through the array once in the top loop, and then iterates through the array again in an optional bottom loop. Thus it has $O(n^2)$ time complexity.\n",
    "* The space complexity is $O(n^2)$ as well: in the worst case (continual subseqence spawning) you keep a subarray in memory for every right subarray in the input array.\n",
    "* The question asks if you can find a $O(n \\log{n})$ implementation. This time complexity implies binary search, which I think means indexing the array by value. I spent some time looking at this, but I couldn't find anything. This sort of optimization is clearly beyond my level right now, so I just moved on."
   ]
  },
  {
   "cell_type": "markdown",
   "metadata": {},
   "source": [
    "> https://leetcode.com/problems/edit-distance/"
   ]
  },
  {
   "cell_type": "markdown",
   "metadata": {},
   "source": [
    "This problem is marked Hard, which means it's pretty much out of scope for me for now. I came up with an idea for solving this problem using iterative comparison which involves no dynamic programming, and I started implementing it below, but it became pretty obvious after a while this was not the solution this question is in pursuit of (that is described in detail [here](https://leetcode.com/problems/edit-distance/discuss/159295/Python-solutions-and-intuition))."
   ]
  },
  {
   "cell_type": "code",
   "execution_count": 523,
   "metadata": {},
   "outputs": [],
   "source": [
    "def minDistance(word1, word2):\n",
    "    if len(word2) < len(word1):\n",
    "        word1, word2 = word2, word1\n",
    "    \n",
    "    char_map_w1 = {}\n",
    "    char_map_w2 = {}\n",
    "    for i in range(len(word2)):\n",
    "        char = word2[i]\n",
    "        if char in char_map_w2:\n",
    "            char_map_w2[char].append(i)\n",
    "        else:\n",
    "            char_map_w2[char] = [i]\n",
    "    for i in range(len(word1)):\n",
    "        char = word1[i]\n",
    "        if char in char_map_w1:\n",
    "            char_map_w1[char].append(i)\n",
    "        else:\n",
    "            char_map_w1[char] = [i]\n",
    "    \n",
    "    working_set = set(char_map_w1.keys()).intersection(set(char_map_w2.keys()))\n",
    "    if len(working_set) == 0:\n",
    "        return len(word2)\n",
    "\n",
    "    working_list = []\n",
    "    for char in working_set:\n",
    "        for j in char_map_w1[char]:\n",
    "            for k in char_map_w2[char]:\n",
    "                working_list.append((char, j, k, len(word2) - 1))\n",
    "    \n",
    "    while working_list:\n",
    "        for elem in working_list:\n",
    "            char, j, k, edit_dist = elem\n",
    "            next_elem_candidates = []\n",
    "            if j >= 1:\n",
    "                next_elem_candidates.append(word1[j - 1:j + 1])\n",
    "            if j >= 2:\n",
    "                next_elem_candidates.append(word1[j - 2] + '_' + word1[j])\n",
    "            if j < len(word1) - 1:\n",
    "                next_elem_candidates.append(word1[j:j + 2])                \n",
    "            if j < len(word1) - 2:\n",
    "                next_elem_candidates.append(word1[j] + '_' + word1[j + 2])\n",
    "        \n",
    "        target_edit_distance = elem[0][-1] - 1\n",
    "        next_elems = []\n",
    "        for next_elem_candidate in next_elem_candidates:\n",
    "            if '_' not in next_elem_candidate:\n",
    "                if next_elem_candidate in word2:\n",
    "                    # find all matches and append to list\n",
    "                    next_elems.append()\n",
    "            pass"
   ]
  },
  {
   "cell_type": "code",
   "execution_count": 524,
   "metadata": {},
   "outputs": [
    {
     "name": "stdout",
     "output_type": "stream",
     "text": [
      "['os', 'r_s']\n",
      "['ro', 'r_s']\n",
      "['ro', 'os']\n"
     ]
    }
   ],
   "source": [
    "minDistance('horse', 'ros')"
   ]
  }
 ],
 "metadata": {
  "kernelspec": {
   "display_name": "Python 3",
   "language": "python",
   "name": "python3"
  },
  "language_info": {
   "codemirror_mode": {
    "name": "ipython",
    "version": 3
   },
   "file_extension": ".py",
   "mimetype": "text/x-python",
   "name": "python",
   "nbconvert_exporter": "python",
   "pygments_lexer": "ipython3",
   "version": "3.7.3"
  }
 },
 "nbformat": 4,
 "nbformat_minor": 2
}
