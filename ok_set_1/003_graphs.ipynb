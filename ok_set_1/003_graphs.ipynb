{
 "cells": [
  {
   "cell_type": "markdown",
   "metadata": {},
   "source": [
    "> When do you use BFS vs DFS? (What is the important property of BFS?)\n",
    "\n",
    "DFS is implicitly recursive, which enables more elegant solutions for a wide range of problems.\n",
    "\n",
    "BFS is implicitly iterative. There's no call stack, so it has better memory consumption behavior. It's much easier to debug than a recursive algorithm is."
   ]
  },
  {
   "cell_type": "markdown",
   "metadata": {},
   "source": [
    "> https://leetcode.com/problems/number-of-islands/"
   ]
  },
  {
   "cell_type": "code",
   "execution_count": 40,
   "metadata": {},
   "outputs": [],
   "source": [
    "function fill(grid, pos, idxset) {\n",
    "    let v = grid[pos[0]][pos[1]];\n",
    "    let todo = [pos];\n",
    "    let height = grid.length;\n",
    "    let width = grid[0].length;\n",
    "    \n",
    "    while (todo.length > 0) {\n",
    "        let next_todo = [];\n",
    "        for (let pos of todo) {\n",
    "            let [x, y] = [pos[0], pos[1]];\n",
    "            for (let new_pos of [[x - 1, y], [x + 1, y], [x, y - 1], [x, y + 1]]) {\n",
    "                if (new_pos[0] < 0 || new_pos[1] < 0 || new_pos[0] >= height || new_pos[1] >= width) {\n",
    "                    continue;\n",
    "                } else if (grid[new_pos[0]][new_pos[1]] !== grid[pos[0]][pos[1]]) {\n",
    "                    continue;\n",
    "                } else if (!idxset.has(JSON.stringify(new_pos))) {\n",
    "                    idxset.add(JSON.stringify(new_pos));\n",
    "                    next_todo.push(new_pos);\n",
    "                }\n",
    "            }\n",
    "        }\n",
    "        todo = next_todo;\n",
    "    }\n",
    "    \n",
    "    return idxset;\n",
    "}\n",
    "\n",
    "\n",
    "function numIslands(grid) {\n",
    "    if (grid.length === 0 || grid[0].length === 0) return 0;\n",
    "    \n",
    "    let idxset = new Set();\n",
    "    let n_islands = 0;\n",
    "    \n",
    "    for (let x of [...Array(grid.length).keys()]) {\n",
    "        for (let y of [...Array(grid[0].length).keys()]) {\n",
    "            let pos = [x, y];\n",
    "            if (!idxset.has(JSON.stringify(pos))) {\n",
    "                idxset = fill(grid, pos, idxset);\n",
    "                n_islands += parseInt(grid[x][y]);\n",
    "            }\n",
    "        }\n",
    "    }\n",
    "    \n",
    "    return n_islands;\n",
    "}"
   ]
  },
  {
   "cell_type": "code",
   "execution_count": 31,
   "metadata": {},
   "outputs": [
    {
     "data": {
      "text/plain": [
       "1"
      ]
     },
     "execution_count": 31,
     "metadata": {},
     "output_type": "execute_result"
    }
   ],
   "source": [
    "numIslands([[\"1\",\"1\",\"1\",\"1\",\"0\"],[\"1\",\"1\",\"0\",\"1\",\"0\"],[\"1\",\"1\",\"0\",\"0\",\"0\"],[\"0\",\"0\",\"0\",\"0\",\"0\"]])"
   ]
  },
  {
   "cell_type": "code",
   "execution_count": 41,
   "metadata": {
    "scrolled": true
   },
   "outputs": [
    {
     "data": {
      "text/plain": [
       "1"
      ]
     },
     "execution_count": 41,
     "metadata": {},
     "output_type": "execute_result"
    }
   ],
   "source": [
    "numIslands([[1]])"
   ]
  },
  {
   "cell_type": "code",
   "execution_count": 43,
   "metadata": {},
   "outputs": [
    {
     "data": {
      "text/plain": [
       "0"
      ]
     },
     "execution_count": 43,
     "metadata": {},
     "output_type": "execute_result"
    }
   ],
   "source": [
    "numIslands([[]])"
   ]
  },
  {
   "cell_type": "markdown",
   "metadata": {},
   "source": [
    "* The outer loop visits every index in the array one. The inner loop (cumulatively) visits every single index in the array one. Therefore this algorithm is $O(n^2 + n^2) \\approx O(n^2)$. It also requires $O(n^2)$ space, which is used to store the set of indices already visited.\n",
    "* The theoretical maximum efficiency of a solution to this problem is $O(n^2)$; no matter what we will have to visit every single array location. Therefore we can make only constant factor optimizations to this algorithm.\n",
    "* The inner loop is BFS. It's possible to rewrite to use DFS.\n",
    "* One constant time optimization would be to maintain a second set of elements that we subtract from as we see new elements, and instead of iterating through the position array linearly, we iterate through this position set until we exhaust the options.\n",
    "* Some JavaScript weirdness involved. Empty list, `[]`, evaluates to `true` in JS. And different lists with the same values compare to false, e.g. `[1,2] !== [1,2]`. This requires a length check and the use of `JSON.stringify`, respectively.\n",
    "* A [more elegant Python solution](https://leetcode.com/problems/number-of-islands/discuss/56340/Python-Simple-DFS-Solution) uses a recursive form of DFS to make that piece of code more elegant, and it omits the need for a indices-visited map by filling in visited values with a sentinel character (`#`). This reduces the memory requirements to $O(1)$&mdash;no further arrays of non-constant length are allocated."
   ]
  },
  {
   "cell_type": "markdown",
   "metadata": {},
   "source": [
    "> https://leetcode.com/problems/redundant-connection/"
   ]
  },
  {
   "cell_type": "code",
   "execution_count": 172,
   "metadata": {},
   "outputs": [],
   "source": [
    "function treeify(edgelist) {\n",
    "    if (edgelist.length === 0) return null;\n",
    "    \n",
    "    class Node { constructor(v) { this.v = v; this.neighbors = []; } }\n",
    "    \n",
    "    let nodemap = new Map();\n",
    "    for (let edge of edgelist) {\n",
    "        for (let v of edge) {\n",
    "            if (nodemap.has(v)) {\n",
    "                n = nodemap.get(v);\n",
    "            } else {\n",
    "                nodemap.set(v, new Node(v));\n",
    "            }\n",
    "        }\n",
    "        nodemap.get(edge[0]).neighbors.push(nodemap.get(edge[1]));\n",
    "        nodemap.get(edge[1]).neighbors.push(nodemap.get(edge[0]));\n",
    "    }\n",
    "    return nodemap.get(edgelist[0][0]);\n",
    "}\n",
    "\n",
    "function findRedundantConnection(edges) {\n",
    "    let root = treeify(edges);\n",
    "    let re = new Set(_traverse(root, []).map(v => JSON.stringify(v)));\n",
    "    let i = edges.length - 1;\n",
    "    while (true) {\n",
    "        let e = edges[i];\n",
    "        if (re.has(JSON.stringify(e))) {\n",
    "            return e;\n",
    "        }\n",
    "        i -= 1;\n",
    "    }\n",
    "}\n",
    "\n",
    "function _traverse(node, prior_nodes_visited) {\n",
    "    let cyclic_edges = [];\n",
    "    \n",
    "    for (let nn of node.neighbors) {\n",
    "        // the connections we *just* followed does not count\n",
    "        if (prior_nodes_visited.length > 0 &&\n",
    "            prior_nodes_visited[prior_nodes_visited.length - 1].v === nn.v) {\n",
    "            continue;\n",
    "        }\n",
    "        // if one of the other nodes connects, we have a cycle\n",
    "        if (prior_nodes_visited.some(pn => nn === pn)) {\n",
    "            // reconstruct the cyclic edges\n",
    "            // we're doing something wrong here, but what?\n",
    "            let cyclic_edges = [];\n",
    "            let [u, v] = [null, null];\n",
    "            for (let j of [...Array(prior_nodes_visited.length - 1).keys()]) {\n",
    "                let k = j + 1;\n",
    "                [u, v] = [prior_nodes_visited[j].v, prior_nodes_visited[k].v]\n",
    "                u < v ? cyclic_edges.push([u, v]) : cyclic_edge.push([v, u]);\n",
    "            }\n",
    "            [u, v] = [prior_nodes_visited[prior_nodes_visited.length - 1].v, node.v];\n",
    "            u < v ? cyclic_edges.push([u, v]) : cyclic_edge.push([v, u]);\n",
    "            return cyclic_edges;\n",
    "        } else {\n",
    "            return _traverse(nn, [...prior_nodes_visited, node]);\n",
    "        }\n",
    "    }\n",
    "}"
   ]
  },
  {
   "cell_type": "code",
   "execution_count": 173,
   "metadata": {},
   "outputs": [
    {
     "data": {
      "text/plain": [
       "[ 2, 3 ]"
      ]
     },
     "execution_count": 173,
     "metadata": {},
     "output_type": "execute_result"
    }
   ],
   "source": [
    "findRedundantConnection([[1,2], [1,3], [2,3]])"
   ]
  },
  {
   "cell_type": "code",
   "execution_count": 174,
   "metadata": {},
   "outputs": [
    {
     "data": {
      "text/plain": [
       "[ 3, 4 ]"
      ]
     },
     "execution_count": 174,
     "metadata": {},
     "output_type": "execute_result"
    }
   ],
   "source": [
    "findRedundantConnection([[1,2], [2,3], [3,4], [1,4], [1,5]])"
   ]
  },
  {
   "cell_type": "markdown",
   "metadata": {},
   "source": [
    "* This is the solution I came up with.\n",
    "* The general idea of this solution is correct. First, the nodes are converted into a tree (because working with edgelists is clunky?). Then we perform DFS on the nodes, stopping as soon as we detect a cycle. A list of prior nodes visited is passed down the function; the values contained therein are used to determine whether or not the current edge is part of a cycle. It then iterates through the edge list backwards to determine which connection is the last cyclic one which may be broken. This is then compared one at a time to the edge list entries in a backwards iteration order to find the last matching edge, and that edge is returned.\n",
    "* Something is wrong with the implementation, but trying to fix it is just going to burn more time on a problem I have spent a f-ton of time on already, so here we leave it.\n",
    "* This algorithm is $O(n)$. It visits (up to) every node in the graph in iteration order ($n$ ops); once it discovers a cycle it visits (up to) every node in the graph again to reconstruct the cycle edge list ($n$ ops); then it compares that against the defining edgelist ($n$ ops again). $O(n + n + n) \\approx O(n)$.\n",
    "* This solution methodology is technically correct, in that it can be made to work, but I don't know how to fix this code to make that happen.\n",
    "* I feel like I completely whiffed on this problem. :(\n",
    "* The optimal solution is from [this forum post](https://leetcode.com/problems/redundant-connection/discuss/123819/Union-Find-with-Explanations-(Java-Python)):"
   ]
  },
  {
   "cell_type": "code",
   "execution_count": 4,
   "metadata": {},
   "outputs": [],
   "source": [
    "def findRedundantConnection(edges):\n",
    "    import pdb; pdb.set_trace()\n",
    "    \n",
    "    parent = [0] * len(edges)\n",
    "\n",
    "    def find(x):\n",
    "      if parent[x] == 0:\n",
    "        return x\n",
    "      parent[x] = find(parent[x])\n",
    "      return parent[x]\n",
    "\n",
    "    def union(x, y):\n",
    "      rootX = find(x)\n",
    "      rootY = find(y)\n",
    "      if rootX == rootY:\n",
    "        return False\n",
    "      parent[rootX] = rootY\n",
    "      return True\n",
    "\n",
    "    for x, y in edges:\n",
    "      if not union(x - 1, y - 1): \n",
    "        return [x, y]"
   ]
  },
  {
   "cell_type": "code",
   "execution_count": 7,
   "metadata": {},
   "outputs": [],
   "source": [
    "# findRedundantConnection([[1,2], [2,3], [3,4], [1,4], [1,5]])"
   ]
  },
  {
   "cell_type": "markdown",
   "metadata": {},
   "source": [
    "* This solution is known as a **union find**. It uses the property that in a non-directional graph with a cycle, at least two nodes necessarily have a topmost parent node in common. The non-directionality here is important: a non-directional graph has no identifiable root node, and therefore we may choose to establish the child-parent relationship arbitrarily.\n",
    "* This is a completely different technique template from DFS. Union find is not in the algo techniques \"starter kit\", so I'll skip over its use here for now."
   ]
  },
  {
   "cell_type": "code",
   "execution_count": 56,
   "metadata": {},
   "outputs": [],
   "source": [
    "function findRedundantConnection(edges) {\n",
    "    let adj = new Map();    \n",
    "    for (let edge of edges) {\n",
    "        adj.has(edge[0]) ?\n",
    "            adj.set(edge[0], [...adj.get(edge[0]), edge[1]]) :\n",
    "            adj.set(edge[0], [edge[1]]);\n",
    "        adj.has(edge[1]) ? \n",
    "            adj.set(edge[1], [...adj.get(edge[1]), edge[0]]) : \n",
    "            adj.set(edge[1], [edge[0]]);\n",
    "    }\n",
    "    let sp = edges[0][0];\n",
    "    let opts = traverse(adj, sp, [], []);\n",
    "    opts = opts.map(v => JSON.stringify(v));\n",
    "    \n",
    "    let i = edges.length - 1;\n",
    "    while (true) {\n",
    "        if (opts.includes(JSON.stringify(edges[i]))) {\n",
    "            return edges[i];\n",
    "        } else {\n",
    "            i -= 1;\n",
    "        }\n",
    "    }\n",
    "}\n",
    "\n",
    "function traverse(adj, sp, prior_nodes_visited, solutions) {\n",
    "    let nexts = adj.get(sp);\n",
    "    let prev = prior_nodes_visited[prior_nodes_visited.length - 1];\n",
    "    let prior_nodes_visited_set = new Set(prior_nodes_visited);\n",
    "    for (let next of nexts) {\n",
    "        if (next === prev) {\n",
    "            // skip the immediate predecessor node\n",
    "            continue;\n",
    "        } else if (prior_nodes_visited_set.has(next)) {\n",
    "            // cycle detected\n",
    "            let i = 0;\n",
    "            while (i < prior_nodes_visited.length - 1) {\n",
    "                let [u, v] = [prior_nodes_visited[i], prior_nodes_visited[i + 1]];\n",
    "                if (u > v) [u, v] = [v, u];\n",
    "                solutions.push([u, v]);\n",
    "                i += 1;\n",
    "            }\n",
    "            let [u, v] = [prev, sp];\n",
    "            if (u > v) [u, v] = [v, u];\n",
    "            solutions.push([u, v]);\n",
    "        } else {\n",
    "            solutions = traverse(adj, next, [...prior_nodes_visited, sp], solutions);\n",
    "        }\n",
    "    }\n",
    "    return solutions;\n",
    "}"
   ]
  },
  {
   "cell_type": "code",
   "execution_count": 58,
   "metadata": {},
   "outputs": [
    {
     "data": {
      "text/plain": [
       "[ 1, 4 ]"
      ]
     },
     "execution_count": 58,
     "metadata": {},
     "output_type": "execute_result"
    }
   ],
   "source": [
    "findRedundantConnection([[1,2],[2,3],[3,4],[1,4],[1,5]])"
   ]
  },
  {
   "cell_type": "markdown",
   "metadata": {},
   "source": [
    "* Better! Some JavaScript annoyances around array membership."
   ]
  },
  {
   "cell_type": "markdown",
   "metadata": {},
   "source": [
    "> https://leetcode.com/problems/network-delay-time/ (use djikstra)\n",
    "\n",
    "* Djikstra's algorithm is a distance-finding algorithm that can be used to find the minimum distance between two nodes, or alternatively the lattice of all distances to a node. I've relearned this algorithm probably three different times at this point...\n",
    "* We'll start with a BFS solution first.\n",
    "* ...actually after doing some work, I'm going to suspend this effort. I am starting to understand that I do not understand DFS and BFS on a sufficiently intrinsic level to be able to do this problem in the reasonable time period expected in an interview setting (30 minutes, per my notes). Per our notes on technical interviews, that means I need to go back and spend a day doing Easy problems in this technical class, before returning to and trying for Medium again.\n",
    "* Also...not having access to tuples in JavaScript is really making me unhappy, and complicating code that should be simple. I should take a minute to relearn symbols, which I'm pretty sure can do for array insertion and access in JavaScript what tuples do for it in JavaScript.\n",
    "* Since this will be time-consuming, let's suspend our efforts here and skip ahead to."
   ]
  }
 ],
 "metadata": {
  "kernelspec": {
   "display_name": "Javascript (Node.js)",
   "language": "javascript",
   "name": "javascript"
  },
  "language_info": {
   "file_extension": ".js",
   "mimetype": "application/javascript",
   "name": "javascript",
   "version": "11.3.0"
  }
 },
 "nbformat": 4,
 "nbformat_minor": 2
}
