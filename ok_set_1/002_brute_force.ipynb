{
 "cells": [
  {
   "cell_type": "markdown",
   "metadata": {},
   "source": [
    "> https://leetcode.com/problems/combinations/"
   ]
  },
  {
   "cell_type": "code",
   "execution_count": 39,
   "metadata": {},
   "outputs": [],
   "source": [
    "function _combine(nums, k) {\n",
    "    if (k === 1) return nums.map(v => [v]);\n",
    "    if (k === 0) return [];\n",
    "    \n",
    "    let num_idx = 0;\n",
    "    let out = [];\n",
    "    for (let num of nums) {\n",
    "        let remaining_nums = [...nums.slice(0, num_idx), ...nums.slice(num_idx + 1, nums.length)];\n",
    "        let combos = _combine(remaining_nums, k - 1);\n",
    "        combos = combos.map(c => [num, ...c]);\n",
    "        out = [...out, ...combos];\n",
    "        num_idx += 1;\n",
    "    }\n",
    "    return out;\n",
    "}\n",
    "\n",
    "function combine(n, k) {\n",
    "    let nums = [...Array(n).keys()].map(v=> v + 1);\n",
    "    return _combine(nums, k);\n",
    "}"
   ]
  },
  {
   "cell_type": "code",
   "execution_count": 36,
   "metadata": {},
   "outputs": [
    {
     "data": {
      "text/plain": [
       "[ [ 1, 2 ], [ 1, 3 ], [ 2, 1 ], [ 2, 3 ], [ 3, 1 ], [ 3, 2 ] ]"
      ]
     },
     "execution_count": 36,
     "metadata": {},
     "output_type": "execute_result"
    }
   ],
   "source": [
    "_combine([1,2,3], 2)"
   ]
  },
  {
   "cell_type": "code",
   "execution_count": 37,
   "metadata": {},
   "outputs": [
    {
     "data": {
      "text/plain": [
       "[ 1, 2, 3 ]"
      ]
     },
     "execution_count": 37,
     "metadata": {},
     "output_type": "execute_result"
    }
   ],
   "source": [
    "[1,2,3].slice(0,3)"
   ]
  },
  {
   "cell_type": "code",
   "execution_count": 38,
   "metadata": {},
   "outputs": [
    {
     "data": {
      "text/plain": [
       "[ [ 1, 2, 3 ],\n",
       "  [ 1, 3, 2 ],\n",
       "  [ 2, 1, 3 ],\n",
       "  [ 2, 3, 1 ],\n",
       "  [ 3, 1, 2 ],\n",
       "  [ 3, 2, 1 ] ]"
      ]
     },
     "execution_count": 38,
     "metadata": {},
     "output_type": "execute_result"
    }
   ],
   "source": [
    "_combine([1,2,3], 3)"
   ]
  },
  {
   "cell_type": "markdown",
   "metadata": {},
   "source": [
    "* Implementation stalled for a while because I had accidentally left out a `let` and thus had a global variable in the wrong place (might want to stick to `use strict;` going forward).\n",
    "* The function loops through a length $n$ array, recursively calling itself with the $k - 1$. Each subcall itself requires $n$ iterations. The call tree stops when $k = 1$, but since each subsequent layer has one fewer number to consider, the actual number of bottom calls is $k!$. Additionally, each bottom call is the subject of a call chain of length $k$. That implies $k(k!) \\approx k!$ total calls. Each call performs $n$ work, where $n$ is the length of the list, because it must translate it to a new array and store that. Thus the overall runtime is $O(n(k!))$.\n",
    "* On review, this actually solves for permutations. Whoops. Adapt the code to solve for combinations."
   ]
  },
  {
   "cell_type": "code",
   "execution_count": 40,
   "metadata": {},
   "outputs": [],
   "source": [
    "function _combine(nums, k) {\n",
    "    if (k === 1) return nums.map(v => [v]);\n",
    "    if (k === 0) return [];\n",
    "    \n",
    "    let num_idx = 0;\n",
    "    let out = [];\n",
    "    for (let num of nums) {\n",
    "        let remaining_nums = nums.slice(num_idx + 1, nums.length);\n",
    "        let combos = _combine(remaining_nums, k - 1);\n",
    "        combos = combos.map(c => [num, ...c]);\n",
    "        out = [...out, ...combos];\n",
    "        num_idx += 1;\n",
    "    }\n",
    "    return out;\n",
    "}\n",
    "\n",
    "function combine(n, k) {\n",
    "    let nums = [...Array(n).keys()].map(v=> v + 1);\n",
    "    return _combine(nums, k);\n",
    "}"
   ]
  },
  {
   "cell_type": "code",
   "execution_count": 41,
   "metadata": {},
   "outputs": [
    {
     "data": {
      "text/plain": [
       "[ [ 1, 2 ], [ 1, 3 ], [ 1, 4 ], [ 2, 3 ], [ 2, 4 ], [ 3, 4 ] ]"
      ]
     },
     "execution_count": 41,
     "metadata": {},
     "output_type": "execute_result"
    }
   ],
   "source": [
    "combine(4, 2)"
   ]
  },
  {
   "cell_type": "markdown",
   "metadata": {},
   "source": [
    "* This is a very small modification: instead of allowing for all other numbers on the recursive call, we allow only for those numbers which lie to the right of the current one.\n",
    "* This means that instead of $k!$ bottom calls have have $n \\choose k$ bottom calls, which nevertheless subtends to $n!$ calls, so the $O$ speed is unchanged."
   ]
  },
  {
   "cell_type": "markdown",
   "metadata": {},
   "source": [
    "> https://leetcode.com/problems/combination-sum/"
   ]
  },
  {
   "cell_type": "markdown",
   "metadata": {},
   "source": [
    "I already solved this one three months ago."
   ]
  },
  {
   "cell_type": "code",
   "execution_count": 83,
   "metadata": {},
   "outputs": [],
   "source": [
    "function combinationSum(candidates, k) {\n",
    "    return _combinationSum(candidates, k, [], []);\n",
    "}\n",
    "\n",
    "function _combinationSum(nums, k, prior_nums, solutions=[]) {\n",
    "    if (nums.length === 0) return solutions;\n",
    "    \n",
    "    let prior_sum = prior_nums.length !== 0 ?\n",
    "        prior_nums.reduce((a, b) => a + b) : 0;\n",
    "    let num_idx = 0;\n",
    "    for (let num of nums) {\n",
    "        if (prior_sum + num === k) {\n",
    "            solutions.push([...prior_nums, num]);\n",
    "        } else if (prior_sum + num < k) {\n",
    "            solutions = _combinationSum(\n",
    "                nums.slice(num_idx + 1, nums.length), k,\n",
    "                [...prior_nums, num], solutions\n",
    "            );\n",
    "        }\n",
    "        num_idx += 1;\n",
    "    }\n",
    "    return solutions;\n",
    "}"
   ]
  },
  {
   "cell_type": "code",
   "execution_count": 84,
   "metadata": {},
   "outputs": [
    {
     "data": {
      "text/plain": [
       "[ [ 1, 3 ], [ 4 ] ]"
      ]
     },
     "execution_count": 84,
     "metadata": {},
     "output_type": "execute_result"
    }
   ],
   "source": [
    "_combinationSum([1,2,3,4], 4, [], [])"
   ]
  },
  {
   "cell_type": "code",
   "execution_count": 85,
   "metadata": {},
   "outputs": [
    {
     "data": {
      "text/plain": [
       "[ [ 7 ] ]"
      ]
     },
     "execution_count": 85,
     "metadata": {},
     "output_type": "execute_result"
    }
   ],
   "source": [
    "combinationSum([2,3,6,7], 7)"
   ]
  },
  {
   "cell_type": "markdown",
   "metadata": {},
   "source": [
    "* Welp! This solves for the case where numbers cannot be repeated, but the problem allows repeats."
   ]
  },
  {
   "cell_type": "code",
   "execution_count": 86,
   "metadata": {},
   "outputs": [],
   "source": [
    "function combinationSum(candidates, k) {\n",
    "    return _combinationSum(candidates, k, [], []);\n",
    "}\n",
    "\n",
    "function _combinationSum(nums, k, prior_nums, solutions=[]) {\n",
    "    if (nums.length === 0) return solutions;\n",
    "    \n",
    "    let prior_sum = prior_nums.length !== 0 ?\n",
    "        prior_nums.reduce((a, b) => a + b) : 0;\n",
    "    let num_idx = 0;\n",
    "    for (let num of nums) {\n",
    "        if (prior_sum + num === k) {\n",
    "            solutions.push([...prior_nums, num]);\n",
    "        } else if (prior_sum + num < k) {\n",
    "            solutions = _combinationSum(\n",
    "                nums, k,\n",
    "                [...prior_nums, num], solutions\n",
    "            );\n",
    "        }\n",
    "        num_idx += 1;\n",
    "    }\n",
    "    return solutions;\n",
    "}"
   ]
  },
  {
   "cell_type": "code",
   "execution_count": 87,
   "metadata": {},
   "outputs": [
    {
     "data": {
      "text/plain": [
       "[ [ 2, 2, 3 ], [ 2, 3, 2 ], [ 3, 2, 2 ], [ 7 ] ]"
      ]
     },
     "execution_count": 87,
     "metadata": {},
     "output_type": "execute_result"
    }
   ],
   "source": [
    "combinationSum([2,3,6,7], 7)"
   ]
  },
  {
   "cell_type": "markdown",
   "metadata": {},
   "source": [
    "* This code solves for *permutations* with repeats, whilst we need *combinations* with repeats. Easily enough fixed using a map instead, however.\n",
    "* Here's a much better solution in Python that was posted [to the forums](https://leetcode.com/problems/combination-sum/discuss/16554/Share-My-Python-Solution-beating-98.17):"
   ]
  },
  {
   "cell_type": "code",
   "execution_count": 3,
   "metadata": {},
   "outputs": [],
   "source": [
    "def combinationSum(candidates, target):\n",
    "    result = []\n",
    "    candidates = sorted(candidates)\n",
    "    \n",
    "    def dfs(remain, stack):\n",
    "        if remain == 0:\n",
    "            result.append(stack)\n",
    "            return \n",
    "\n",
    "        for item in candidates:\n",
    "            if item > remain: break\n",
    "            if stack and item < stack[-1]: continue\n",
    "            else:\n",
    "                dfs(remain - item, stack + [item])\n",
    "    \n",
    "    dfs(target, [])\n",
    "    return result"
   ]
  },
  {
   "cell_type": "code",
   "execution_count": 18,
   "metadata": {
    "scrolled": true
   },
   "outputs": [
    {
     "data": {
      "text/plain": [
       "[ [ 3, 2, 2 ], [ 7 ] ]"
      ]
     },
     "execution_count": 18,
     "metadata": {},
     "output_type": "execute_result"
    }
   ],
   "source": [
    "combinationSum([2,3,6,7], 7)"
   ]
  },
  {
   "cell_type": "markdown",
   "metadata": {},
   "source": [
    "* This solution is the same as my solution (albeit much less verbose) with a key difference. It sorts the values beforehand. Then, during iteration, it only branches recursively if the number it is on is equal to or greater than the last number on the stack. This ensures that the values are iterated over in ascending shape, e.g. `[2,2,3]`, and neatly handles the \"permutations revisiting the same solution\" problem, which I couldn't immediately think of a way to avoid.\n",
    "* The use of the prior sort also allows for backtracking: exiting the task loop when the remaining numbers are all too large. I did this too in my solution, but on a case-by-case basis, e.g. I did not break out completely but only stopped work on a case-by-case basis. This is thus only a linear time optimization.\n",
    "* Implemented in JS below."
   ]
  },
  {
   "cell_type": "code",
   "execution_count": 17,
   "metadata": {},
   "outputs": [],
   "source": [
    "function combinationSum(candidates, k) {\n",
    "    return _combinationSum(candidates.sort((a, b) => a - b), k, [], []);\n",
    "}\n",
    "\n",
    "function _combinationSum(nums, k, prior_nums, solutions=[]) {\n",
    "    if (nums.length === 0) return solutions;\n",
    "    \n",
    "    let prior_sum = prior_nums.length !== 0 ?\n",
    "        prior_nums.reduce((a, b) => a + b) : 0;\n",
    "    let num_idx = 0;\n",
    "    for (let num of nums) {\n",
    "        if (prior_sum + num === k) {\n",
    "            solutions.push([...prior_nums, num]);\n",
    "        } else if ((prior_sum + num < k) &&\n",
    "                   ((prior_nums.length > 0) && (num >= prior_nums[prior_nums.length - 1]))) {\n",
    "        } else if ((prior_sum + num < k)) {\n",
    "            solutions = _combinationSum(\n",
    "                nums, k,\n",
    "                [...prior_nums, num], solutions\n",
    "            );\n",
    "        } else {\n",
    "            break;\n",
    "        }\n",
    "        num_idx += 1;\n",
    "    }\n",
    "    return solutions;\n",
    "}"
   ]
  },
  {
   "cell_type": "code",
   "execution_count": 4,
   "metadata": {},
   "outputs": [
    {
     "data": {
      "text/plain": [
       "[[2, 2, 3], [7]]"
      ]
     },
     "execution_count": 4,
     "metadata": {},
     "output_type": "execute_result"
    }
   ],
   "source": [
    "combinationSum([2,3,6,7], 7)"
   ]
  },
  {
   "cell_type": "markdown",
   "metadata": {},
   "source": [
    "* There are $n!$ bottom calls (assuming, as in the worst case, no backtracking), each of which is up to $n$ in length. Each call performs constant (amortized) work. There is also a sort, which is $O(n \\log{n})$. The total cost is $O(n\\log{n} + n(n!)) \\approx O(n!)$."
   ]
  },
  {
   "cell_type": "markdown",
   "metadata": {},
   "source": [
    "> https://leetcode.com/problems/combination-sum-ii/"
   ]
  },
  {
   "cell_type": "code",
   "execution_count": 92,
   "metadata": {},
   "outputs": [],
   "source": [
    "function combinationSum2(candidates, k) {\n",
    "    return _combinationSum2(candidates.sort((a, b) => a - b), k, [], []);\n",
    "}\n",
    "\n",
    "function _combinationSum2(nums, k, prior_nums, solutions=[]) {\n",
    "    if (nums.length === 0) return solutions;\n",
    "    let prior_sum = prior_nums.length === 0 ? 0 : prior_nums.reduce((a, b) => a + b);\n",
    "    \n",
    "    let num_idx = 0;\n",
    "    let numbers_already_seen = new Set();\n",
    "    \n",
    "    for (let num of nums) {\n",
    "        if (numbers_already_seen.has(num)) {\n",
    "            //\n",
    "        } else if (prior_sum + num === k) {\n",
    "            solutions.push([...prior_nums, num]);\n",
    "        } else if (prior_sum + num > k) {\n",
    "            break\n",
    "        } else if ((prior_nums.length === 0) &&\n",
    "                   (prior_nums[prior_nums.length - 1] === num)) {\n",
    "            console.log(nums, k, prior_nums, solutions, num);\n",
    "        } else {\n",
    "            solutions = _combinationSum2(\n",
    "                nums.slice(num_idx + 1, nums.length), k,\n",
    "                [...prior_nums, num], solutions\n",
    "            );\n",
    "        }\n",
    "        numbers_already_seen.add(num);\n",
    "        num_idx += 1;\n",
    "    }\n",
    "    \n",
    "    return solutions;\n",
    "}"
   ]
  },
  {
   "cell_type": "code",
   "execution_count": 88,
   "metadata": {},
   "outputs": [
    {
     "data": {
      "text/plain": [
       "[ [ 1, 1, 6 ], [ 1, 2, 5 ], [ 1, 7 ], [ 2, 6 ] ]"
      ]
     },
     "execution_count": 88,
     "metadata": {},
     "output_type": "execute_result"
    }
   ],
   "source": [
    "combinationSum2([10,1,2,7,6,1,5], 8)"
   ]
  },
  {
   "cell_type": "code",
   "execution_count": 89,
   "metadata": {},
   "outputs": [
    {
     "data": {
      "text/plain": [
       "[ [ 1, 2, 5 ], [ 1, 7 ], [ 2, 6 ] ]"
      ]
     },
     "execution_count": 89,
     "metadata": {},
     "output_type": "execute_result"
    }
   ],
   "source": [
    "combinationSum2([10,1,2,7,6,5], 8)"
   ]
  },
  {
   "cell_type": "code",
   "execution_count": 93,
   "metadata": {},
   "outputs": [
    {
     "data": {
      "text/plain": [
       "[ [ 1, 1, 1, 5 ], [ 1, 1, 3, 3 ], [ 3, 5 ] ]"
      ]
     },
     "execution_count": 93,
     "metadata": {},
     "output_type": "execute_result"
    }
   ],
   "source": [
    "combinationSum2([3,1,3,5,1,1], 8)"
   ]
  },
  {
   "cell_type": "markdown",
   "metadata": {},
   "source": [
    "* This one took me much longer than I care to admit. Sigh.\n",
    "* I figured out relatively quickly what the trick to doing this one is on paper. Order the elements, and then iterate them in the same backtracking, post-nodal manner as in the previous combinatorical problem. This time, however, instead of simply picking the next value from the list for recursive investigation, we pick the next *unique* value from the list for recursive investigation. In other words, if we have an array `[1,1,1,2,3,...]` the elements at the top level of the iteration are `[1,2,3,..]`.\n",
    "\n",
    "  Although I grasped how this could be done conceptually easily enough, I struggled at implementing this logic in code (e.g. the mind-code connection), and placed in the wrong place in the iteration order, and struggled to understand where the right place to put it was.\n",
    "  \n",
    "  I needed to do more paper analysis! Do a better job of figuring out the cases on paper before implementation!"
   ]
  },
  {
   "cell_type": "markdown",
   "metadata": {},
   "source": [
    "> https://leetcode.com/problems/letter-combinations-of-a-phone-number/"
   ]
  },
  {
   "cell_type": "code",
   "execution_count": 11,
   "metadata": {},
   "outputs": [],
   "source": [
    "let dmap = new Map([\n",
    "    ['2', 'abc'],\n",
    "    ['3', 'def'],\n",
    "    ['4', 'ghi'],\n",
    "    ['5', 'jkl'],\n",
    "    ['6', 'mno'],\n",
    "    ['7', 'pqrs'],\n",
    "    ['8', 'tuv'],\n",
    "    ['9', 'wxyz']\n",
    "]);"
   ]
  },
  {
   "cell_type": "code",
   "execution_count": 13,
   "metadata": {},
   "outputs": [],
   "source": [
    "function letterCombinations(digits) {\n",
    "    if (digits.length === 0) return [];\n",
    "    if (digits.length === 1) return dmap.get(digits).split('');\n",
    "    \n",
    "    let [first, remainder] = [digits.toString()[0],\n",
    "                              digits.toString().slice(1)];\n",
    "    let lCs = letterCombinations(remainder);\n",
    "    let fdOpts = dmap.get(first).split('');\n",
    "    let res = [];\n",
    "    for (let lC of lCs) {\n",
    "        for (let fdOpt of fdOpts) {\n",
    "            res.push(fdOpt + lC);\n",
    "        }\n",
    "    }\n",
    "    return res;\n",
    "}"
   ]
  },
  {
   "cell_type": "markdown",
   "metadata": {},
   "source": [
    "* Easy enough.\n",
    "* This function is $O(3^n)$ amortized time. Each call creates three recursive branches, except in the case that the 7 key is hit, but the 7 key is hit rarely enough that we can just say that the branching factor is three. The number of times branching is required is the length of the string. There are $n$ prior calls leading up to each bottom call, but since the functin does constant work this does not affect the O-speed. The total time cost is $O(3^n)$.\n",
    "* This function uses $n$ stack space. At most $3^n$ space is required for the array constructed for output. Therefore this function has $O(3^n)$ memory cost."
   ]
  },
  {
   "cell_type": "markdown",
   "metadata": {},
   "source": [
    "* Summary of this segment of problems. Permutations with and without replacement and combinations with and without replacement all have their own slightly different iteration strategies that you need to employ to get them. And, how to implement said strategies has to be intuitively obvious."
   ]
  },
  {
   "cell_type": "markdown",
   "metadata": {},
   "source": [
    "> https://leetcode.com/problems/two-sum/"
   ]
  },
  {
   "cell_type": "code",
   "execution_count": 25,
   "metadata": {},
   "outputs": [],
   "source": [
    "function twoSum(nums, target) {\n",
    "    let outset = new Set();\n",
    "    for (let num of nums) {\n",
    "        if (num <= target) {\n",
    "            let remainder = target - num;\n",
    "            if (outset.has(remainder)) return [remainder, num];\n",
    "            else outset.add(num);\n",
    "        }\n",
    "    }\n",
    "}"
   ]
  },
  {
   "cell_type": "code",
   "execution_count": 26,
   "metadata": {},
   "outputs": [
    {
     "data": {
      "text/plain": [
       "[ 1, 2 ]"
      ]
     },
     "execution_count": 26,
     "metadata": {},
     "output_type": "execute_result"
    }
   ],
   "source": [
    "twoSum([1,2],3)"
   ]
  },
  {
   "cell_type": "markdown",
   "metadata": {},
   "source": [
    "* This is the first problem on Leetcode numerically. I had solved this one before, of course. This solution is $O(n)$, and requires $O(n)$ space."
   ]
  },
  {
   "cell_type": "markdown",
   "metadata": {},
   "source": [
    "> https://leetcode.com/problems/two-sum-ii-input-array-is-sorted/ (try two pointer method)"
   ]
  },
  {
   "cell_type": "code",
   "execution_count": 27,
   "metadata": {},
   "outputs": [],
   "source": [
    "function twoSum(nums, target) {\n",
    "    let [lp, rp] = [0, nums.length - 1];\n",
    "    while (lp < rp) {\n",
    "        if (nums[lp] + nums[rp] === target) {\n",
    "            return [lp + 1, rp + 1];\n",
    "        } else if (nums[lp] + nums[rp] > target) {\n",
    "            rp -= 1;\n",
    "        } else if (nums[lp] + nums[rp] < target) {\n",
    "            lp += 1;\n",
    "        }\n",
    "    }\n",
    "}"
   ]
  },
  {
   "cell_type": "markdown",
   "metadata": {},
   "source": [
    "* This algorithm is still $O(n)$ but requires only $O(1)$ space. It'd be $O(n \\log{n})$ if the input array wasn't mandated to be sorted ahead of time."
   ]
  },
  {
   "cell_type": "markdown",
   "metadata": {},
   "source": [
    "> https://leetcode.com/problems/3sum/"
   ]
  },
  {
   "cell_type": "code",
   "execution_count": 48,
   "metadata": {},
   "outputs": [],
   "source": [
    "function threeSum(nums) {\n",
    "    let first_idx = 0;\n",
    "    let out = [];\n",
    "    \n",
    "    nums = nums.sort((a, b) => a - b);\n",
    "    \n",
    "    for (let num of nums) {\n",
    "        if (first_idx > 0 && num === nums[first_idx - 1]) {\n",
    "            first_idx += 1;\n",
    "            continue;\n",
    "        }\n",
    "        \n",
    "        let [second_idx, third_idx] = [first_idx + 1, nums.length - 1];\n",
    "        \n",
    "        while (second_idx < third_idx) {\n",
    "            if (nums[second_idx] + nums[third_idx] + nums[first_idx] === 0) {\n",
    "                out.push([nums[first_idx], nums[second_idx], nums[third_idx]]);\n",
    "                \n",
    "                while ((second_idx + 1 < third_idx) && nums[second_idx + 1] === nums[second_idx]) {\n",
    "                    second_idx += 1;\n",
    "                }\n",
    "                second_idx += 1;\n",
    "\n",
    "                while ((third_idx - 1 > second_idx) && nums[third_idx - 1] === nums[third_idx]) {\n",
    "                    third_idx -= 1;\n",
    "                }\n",
    "                third_idx -= 1;\n",
    "                \n",
    "            } else if (nums[second_idx] + nums[third_idx] + nums[first_idx] < 0) {\n",
    "                second_idx += 1;\n",
    "            } else {\n",
    "                third_idx -= 1;\n",
    "            }\n",
    "        }\n",
    "        \n",
    "        first_idx += 1;\n",
    "    }\n",
    "    \n",
    "    return out;\n",
    "}"
   ]
  },
  {
   "cell_type": "code",
   "execution_count": 49,
   "metadata": {},
   "outputs": [
    {
     "data": {
      "text/plain": [
       "[ [ -1, -1, 2 ], [ -1, 0, 1 ] ]"
      ]
     },
     "execution_count": 49,
     "metadata": {},
     "output_type": "execute_result"
    }
   ],
   "source": [
    "threeSum([-1,0,1,2,-1,-4])"
   ]
  },
  {
   "cell_type": "markdown",
   "metadata": {},
   "source": [
    "* Another one I had previously solved three months ago.\n",
    "* This algorithm is $O(n^2)$, as it iterates over the array (with a pointer) whilst iterating over the array (with a for loop). As we are appending to an output array, it requires $O(n)$ space."
   ]
  },
  {
   "cell_type": "markdown",
   "metadata": {},
   "source": [
    "> https://leetcode.com/problems/4sum/ (can you do this in better than O(n**3)?)"
   ]
  },
  {
   "cell_type": "code",
   "execution_count": 108,
   "metadata": {},
   "outputs": [],
   "source": [
    "function fourSum(nums, target) {\n",
    "    function skipMoveRight(nums, p_idx, max_idx) {\n",
    "        let curr_v = nums[p_idx];\n",
    "        while (p_idx < max_idx && curr_v === nums[p_idx + 1]) p_idx += 1;\n",
    "        p_idx += 1;\n",
    "        return p_idx;\n",
    "    }\n",
    "    \n",
    "    function skipMoveLeft(nums, p_idx, min_idx) {\n",
    "        let curr_v = nums[p_idx];\n",
    "        while (p_idx > min_idx && curr_v === nums[p_idx - 1]) p_idx -= 1;\n",
    "        p_idx -= 1;\n",
    "        return p_idx;\n",
    "    }\n",
    "    \n",
    "    let out = [];\n",
    "    let [outer_left_p, outer_right_p] = [0, nums.length -1];\n",
    "    let increment = 'left';\n",
    "    nums = nums.sort((a, b) => a - b);\n",
    "    \n",
    "    while (outer_left_p < outer_right_p) {\n",
    "        let [inner_left_p, inner_right_p] = [outer_left_p + 1, outer_right_p - 1];\n",
    "        \n",
    "        while (inner_left_p < inner_right_p) {\n",
    "            let [a, b, c, d] = [\n",
    "                nums[outer_left_p], nums[inner_left_p], nums[outer_right_p], nums[inner_right_p]\n",
    "            ];\n",
    "            let s = a + b + c + d;\n",
    "            if (s < target) inner_left_p += 1;\n",
    "            else if (s > target) inner_right_p -= 1;\n",
    "            else if (s === target) {\n",
    "                out.push([a, b, c, d]);\n",
    "                inner_left_p = skipMoveRight(nums, inner_left_p, inner_right_p);\n",
    "                inner_right_p = skipMoveLeft(nums, inner_right_p, inner_left_p);\n",
    "            }\n",
    "        }\n",
    "        \n",
    "        if (outer_left_p < outer_right_p - 3) {\n",
    "            outer_left_p = skipMoveRight(nums, outer_left_p, outer_right_p - 3);\n",
    "        } else if (outer_right_p > 3) {\n",
    "            outer_right_p = skipMoveLeft(nums, outer_right_p, 3);\n",
    "            outer_left_p = 0;\n",
    "        } else {\n",
    "            break;\n",
    "        }\n",
    "        \n",
    "    }\n",
    "    \n",
    "    return out;\n",
    "}"
   ]
  },
  {
   "cell_type": "code",
   "execution_count": 109,
   "metadata": {},
   "outputs": [
    {
     "data": {
      "text/plain": [
       "[ [ -2, -1, 2, 1 ], [ -2, 0, 2, 0 ], [ -1, 0, 1, 0 ] ]"
      ]
     },
     "execution_count": 109,
     "metadata": {},
     "output_type": "execute_result"
    }
   ],
   "source": [
    "fourSum([1, 0, -1, 0, -2, 2], 0)"
   ]
  },
  {
   "cell_type": "code",
   "execution_count": 110,
   "metadata": {},
   "outputs": [
    {
     "data": {
      "text/plain": [
       "[ [ 0, 0, 0, 0 ] ]"
      ]
     },
     "execution_count": 110,
     "metadata": {},
     "output_type": "execute_result"
    }
   ],
   "source": [
    "fourSum([0, 0, 0, 0], 0)"
   ]
  },
  {
   "cell_type": "code",
   "execution_count": 111,
   "metadata": {},
   "outputs": [
    {
     "data": {
      "text/plain": [
       "[]"
      ]
     },
     "execution_count": 111,
     "metadata": {},
     "output_type": "execute_result"
    }
   ],
   "source": [
    "fourSum([0, 0, 0, 0], 1)"
   ]
  },
  {
   "cell_type": "code",
   "execution_count": 112,
   "metadata": {},
   "outputs": [
    {
     "data": {
      "text/plain": [
       "[ [ -3, -1, 4, 0 ] ]"
      ]
     },
     "execution_count": 112,
     "metadata": {},
     "output_type": "execute_result"
    }
   ],
   "source": [
    "fourSum([-3,-1,0,2,4,5], 0)"
   ]
  },
  {
   "cell_type": "code",
   "execution_count": 113,
   "metadata": {},
   "outputs": [
    {
     "data": {
      "text/plain": [
       "[ [ -5, 1, 5, 3 ] ]"
      ]
     },
     "execution_count": 113,
     "metadata": {},
     "output_type": "execute_result"
    }
   ],
   "source": [
    "fourSum([5,5,3,5,1,-5,1,-2], 4)"
   ]
  },
  {
   "cell_type": "markdown",
   "metadata": {},
   "source": [
    "* My initial idea, which turned out incorrect, was that you could get all of the cases if you incremented a left outer pointer, then a right outer pointer, in sequence.\n",
    "* The correct implementation instead uses a for-style iterator (with the important exception that it skips over same-number values).\n",
    "* This question took a long time to get a fully correct answer for besides that because of various small code errors. It's a pretty complex routine.\n",
    "* This algorithm is $O(n^3)$, I don't see how you could do this faster."
   ]
  },
  {
   "cell_type": "markdown",
   "metadata": {},
   "source": [
    "> Implement BFS and DFS using stacks and queues. Learn how to put tuples into a stack (instead of just one item)\n",
    "\n",
    "Stacks are LIFO, queues are FIFO. A good implementation of either has $O(1)$ inserts and $O(1)$ pop/dequeue operations. Stacks are easily enough implemented using an array, which has $O(1)$ amortized time for the built-in `pop` and `push` operations. A queue requires a singly linked list with two pointers: one pointing to the start, one at the end. Each insert moves the end pointer. Each dequeue moves the start pointer (using the pointer to next to find the new starting node).\n",
    "\n",
    "Putting a tuple of elements in a stack is as simple as calling push multiple times?\n",
    "\n",
    "The call stack for recursive BFS is an implicit stack. The recursive solution can be rewritten as an iterative one by using an explicit stack and a while loop that attempts to exhaust that stack.\n",
    "\n",
    "DFS has two simultaneous queues or stacks, one with the current nodes and one with the next deepest layer of nodes. You can build up one while you exhaust the other."
   ]
  }
 ],
 "metadata": {
  "kernelspec": {
   "display_name": "Javascript (Node.js)",
   "language": "javascript",
   "name": "javascript"
  },
  "language_info": {
   "file_extension": ".js",
   "mimetype": "application/javascript",
   "name": "javascript",
   "version": "11.3.0"
  }
 },
 "nbformat": 4,
 "nbformat_minor": 2
}
