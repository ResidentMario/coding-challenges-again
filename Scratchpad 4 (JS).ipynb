{
 "cells": [
  {
   "cell_type": "markdown",
   "metadata": {},
   "source": [
    "## Spiral Matrix Traversal (Leetcode 54)\n",
    "\n",
    "Given a matrix of m x n elements (m rows, n columns), return all elements of the matrix in spiral order."
   ]
  },
  {
   "cell_type": "code",
   "execution_count": 22,
   "metadata": {},
   "outputs": [],
   "source": [
    "function spiralOrder(matrix) {\n",
    "    if (matrix.length === 0) return [];\n",
    "    \n",
    "    let [i, j] = [0, 0];\n",
    "    let dir = [0, 1];\n",
    "    let pad = 0;\n",
    "    let out = [];\n",
    "    \n",
    "    function updateDirection(dir) {\n",
    "        if (dir[0] === 0 && dir[1] === 1) return [1, 0];\n",
    "        if (dir[0] === 1 && dir[1] === 0) return [0, -1];\n",
    "        if (dir[0] === 0 && dir[1] === -1) return [-1, 0];\n",
    "        if (dir[0] === -1 && dir[1] === 0) return [0, 1];\n",
    "    }\n",
    "    function currentMoveIsLegal() {\n",
    "        return (\n",
    "            (i + dir[0] < matrix.length - pad) &&\n",
    "            (j + dir[1] < matrix[0].length - pad) &&\n",
    "            (i + dir[0] >= 0) && \n",
    "            (j + dir[1] >= 0)\n",
    "        );\n",
    "    }\n",
    "    \n",
    "    while (true) {\n",
    "        if (!currentMoveIsLegal()) {\n",
    "            dir = updateDirection(dir);\n",
    "            if (dir[0] === -1 && dir[1] === 0) {\n",
    "                pad += 1;\n",
    "            }\n",
    "            if (!currentMoveIsLegal()) {\n",
    "                out.push(matrix[i][j]);\n",
    "                return out;\n",
    "            }\n",
    "        }\n",
    "\n",
    "        out.push(matrix[i][j]);\n",
    "        [i, j] = [i + dir[0], j + dir[1]];\n",
    "    }\n",
    "}"
   ]
  },
  {
   "cell_type": "markdown",
   "metadata": {},
   "source": [
    "There's some bug in this implementation somewhere but whatever.\n",
    "\n",
    "This algorithm is $O(nm) \\to O(n^2)$. The maximally efficient theoretical implementation is $O(n^2)$, since it would have to visit every index in the array regardless.\n",
    "\n",
    "I drew a bunch of matrices. First I tried to find transition rules for individual points, but this was too complex for a problem. Then I batched the transition rules into fours, with the clockwise turn from moving left to moving up representing the point at which a buffer value increases by one, keeping the traversal one point further inside of the matrix. This is a correct solution."
   ]
  },
  {
   "cell_type": "markdown",
   "metadata": {},
   "source": [
    "## Jump Game (Leetcode 55)\n",
    "\n",
    "Given an array of non-negative integers, you are initially positioned at the first index of the array. Each element in the array represents your maximum jump length at that position. Determine if you are able to reach the last index."
   ]
  },
  {
   "cell_type": "code",
   "execution_count": 34,
   "metadata": {},
   "outputs": [],
   "source": [
    "function canJump(nums) {\n",
    "    if (nums.length <= 1) return true;\n",
    "    \n",
    "    let idxmax = 0;\n",
    "    for (let idx of Array(nums.length).keys()) {\n",
    "        idxmax = Math.max(idxmax, idx + nums[idx]);\n",
    "        if (idxmax >= nums.length - 1) return true;\n",
    "        if ((idx + 1) > idxmax) return false;\n",
    "    }\n",
    "}"
   ]
  },
  {
   "cell_type": "code",
   "execution_count": 35,
   "metadata": {},
   "outputs": [
    {
     "data": {
      "text/plain": [
       "true"
      ]
     },
     "execution_count": 35,
     "metadata": {},
     "output_type": "execute_result"
    }
   ],
   "source": [
    "canJump([0])"
   ]
  },
  {
   "cell_type": "code",
   "execution_count": 36,
   "metadata": {},
   "outputs": [
    {
     "data": {
      "text/plain": [
       "false"
      ]
     },
     "execution_count": 36,
     "metadata": {},
     "output_type": "execute_result"
    }
   ],
   "source": [
    "canJump([0, 0])"
   ]
  },
  {
   "cell_type": "code",
   "execution_count": 37,
   "metadata": {},
   "outputs": [
    {
     "data": {
      "text/plain": [
       "true"
      ]
     },
     "execution_count": 37,
     "metadata": {},
     "output_type": "execute_result"
    }
   ],
   "source": [
    "canJump([1, 0])"
   ]
  },
  {
   "cell_type": "code",
   "execution_count": 38,
   "metadata": {},
   "outputs": [
    {
     "data": {
      "text/plain": [
       "false"
      ]
     },
     "execution_count": 38,
     "metadata": {},
     "output_type": "execute_result"
    }
   ],
   "source": [
    "canJump([1, 0, 0])"
   ]
  },
  {
   "cell_type": "code",
   "execution_count": 42,
   "metadata": {},
   "outputs": [
    {
     "data": {
      "text/plain": [
       "true"
      ]
     },
     "execution_count": 42,
     "metadata": {},
     "output_type": "execute_result"
    }
   ],
   "source": [
    "canJump([2, 0, 2, 0, 2, 0, 2, 0])"
   ]
  },
  {
   "cell_type": "code",
   "execution_count": 41,
   "metadata": {},
   "outputs": [
    {
     "data": {
      "text/plain": [
       "false"
      ]
     },
     "execution_count": 41,
     "metadata": {},
     "output_type": "execute_result"
    }
   ],
   "source": [
    "canJump([2, 0, 2, 0, 2, 0, 0, 0])"
   ]
  },
  {
   "cell_type": "markdown",
   "metadata": {},
   "source": [
    "This one went quickly."
   ]
  },
  {
   "cell_type": "markdown",
   "metadata": {},
   "source": [
    "## Jump Game II (Leetcode 45)\n",
    "\n",
    "Assuming you can always reach the last index, find the minimum number of jumps required to do so."
   ]
  },
  {
   "cell_type": "code",
   "execution_count": 103,
   "metadata": {},
   "outputs": [],
   "source": [
    "function jump(nums) {\n",
    "    if (nums.length <= 1) return 0;\n",
    "    \n",
    "    let struct = new Map();\n",
    "    struct.set(0, 0);\n",
    "    for (let idx of [...Array(nums.length).keys()]) {\n",
    "        let minimum_jumps_to_self = struct.get(idx);\n",
    "        let own_value = nums[idx];\n",
    "        let potential_minimum = minimum_jumps_to_self + 1;\n",
    "        let iterlen = Math.min(own_value, nums.length - idx);\n",
    "        for (let nextidx of [...Array(iterlen).keys()].map(v => v + 1 + idx)) {\n",
    "            let next_minimum = struct.has(nextidx) ?\n",
    "                    Math.min(struct.get(nextidx), potential_minimum) :\n",
    "                    potential_minimum\n",
    "            struct.set(nextidx, next_minimum);\n",
    "        }\n",
    "    }\n",
    "    return struct.get(nums.length - 1);\n",
    "}"
   ]
  },
  {
   "cell_type": "code",
   "execution_count": 104,
   "metadata": {},
   "outputs": [
    {
     "data": {
      "text/plain": [
       "0"
      ]
     },
     "execution_count": 104,
     "metadata": {},
     "output_type": "execute_result"
    }
   ],
   "source": [
    "jump([0])"
   ]
  },
  {
   "cell_type": "code",
   "execution_count": 105,
   "metadata": {},
   "outputs": [
    {
     "data": {
      "text/plain": [
       "1"
      ]
     },
     "execution_count": 105,
     "metadata": {},
     "output_type": "execute_result"
    }
   ],
   "source": [
    "jump([1, 1])"
   ]
  },
  {
   "cell_type": "code",
   "execution_count": 106,
   "metadata": {},
   "outputs": [
    {
     "data": {
      "text/plain": [
       "3"
      ]
     },
     "execution_count": 106,
     "metadata": {},
     "output_type": "execute_result"
    }
   ],
   "source": [
    "jump([1, 1, 1, 1])"
   ]
  },
  {
   "cell_type": "code",
   "execution_count": 107,
   "metadata": {},
   "outputs": [
    {
     "data": {
      "text/plain": [
       "2"
      ]
     },
     "execution_count": 107,
     "metadata": {},
     "output_type": "execute_result"
    }
   ],
   "source": [
    "jump([2, 5, 1, 1, 1, 1, 0])"
   ]
  },
  {
   "cell_type": "markdown",
   "metadata": {},
   "source": [
    "This is a working solution, and has the same time complexity as the \"best\" solution. The best solution is BFS."
   ]
  },
  {
   "cell_type": "markdown",
   "metadata": {},
   "source": [
    "## Median of Two Sorted Arrays (Leetcode 4)"
   ]
  },
  {
   "cell_type": "code",
   "execution_count": 10,
   "metadata": {},
   "outputs": [],
   "source": [
    "function convert(s, numRows) {\n",
    "    let out = Array();\n",
    "    let itervals = [...Array(Math.floor(s.length / numRows)).keys()];\n",
    "    for (let j of [...Array(numRows).keys()]) {\n",
    "        for (let k of itervals) {\n",
    "            out.push(s[j + k * numRows]);\n",
    "        }\n",
    "    }\n",
    "    return out.join('');\n",
    "}"
   ]
  },
  {
   "cell_type": "code",
   "execution_count": 11,
   "metadata": {},
   "outputs": [
    {
     "data": {
      "text/plain": [
       "'ACEBDF'"
      ]
     },
     "execution_count": 11,
     "metadata": {},
     "output_type": "execute_result"
    }
   ],
   "source": [
    "convert('ABCDEF', 2)"
   ]
  },
  {
   "cell_type": "code",
   "execution_count": 12,
   "metadata": {},
   "outputs": [
    {
     "data": {
      "text/plain": [
       "'ADBECF'"
      ]
     },
     "execution_count": 12,
     "metadata": {},
     "output_type": "execute_result"
    }
   ],
   "source": [
    "convert('ABCDEF', 3)"
   ]
  },
  {
   "cell_type": "code",
   "execution_count": null,
   "metadata": {},
   "outputs": [],
   "source": [
    "class Solution(object):\n",
    "    def convert(self, s, numRows):\n",
    "        \"\"\"\n",
    "        :type s: str\n",
    "        :type numRows: int\n",
    "        :rtype: str\n",
    "        \"\"\"\n",
    "        if numRows == 1 or numRows >= len(s):\n",
    "            return s\n",
    "\n",
    "        L = [''] * numRows\n",
    "        index, step = 0, 1\n",
    "\n",
    "        for x in s:\n",
    "            L[index] += x\n",
    "            if index == 0:\n",
    "                step = 1\n",
    "            elif index == numRows -1:\n",
    "                step = -1\n",
    "            index += step\n",
    "\n",
    "        return ''.join(L)"
   ]
  }
 ],
 "metadata": {
  "kernelspec": {
   "display_name": "Javascript (Node.js)",
   "language": "javascript",
   "name": "javascript"
  },
  "language_info": {
   "file_extension": ".js",
   "mimetype": "application/javascript",
   "name": "javascript",
   "version": "11.3.0"
  }
 },
 "nbformat": 4,
 "nbformat_minor": 2
}
