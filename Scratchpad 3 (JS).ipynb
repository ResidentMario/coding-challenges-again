{
 "cells": [
  {
   "cell_type": "markdown",
   "metadata": {},
   "source": [
    "## Search in Rotated Sorted Array (Leetcode 39)\n",
    "\n",
    "Suppose an array sorted in ascending order is rotated at some pivot unknown to you beforehand.\n",
    "\n",
    "(i.e., [0,1,2,4,5,6,7] might become [4,5,6,7,0,1,2]).\n",
    "\n",
    "You are given a target value to search. If found in the array return its index, otherwise return -1.\n",
    "\n",
    "You may assume no duplicate exists in the array.\n",
    "\n",
    "Your algorithm's runtime complexity must be in the order of $O(\\log{n})$.\n",
    "\n",
    "```\n",
    "Example 1:\n",
    "\n",
    "Input: nums = [4,5,6,7,0,1,2], target = 0\n",
    "Output: 4\n",
    "Example 2:\n",
    "\n",
    "Input: nums = [4,5,6,7,0,1,2], target = 3\n",
    "Output: -1\n",
    "```"
   ]
  },
  {
   "cell_type": "code",
   "execution_count": 39,
   "metadata": {},
   "outputs": [],
   "source": [
    "function search(nums, target) {\n",
    "    function _search(nums, target, p_dir, p_val) {\n",
    "        // base cases\n",
    "        if (nums.length === 0) return -1;\n",
    "        else if (nums.length === 1) return nums[0] === target ? 0: -1;\n",
    "\n",
    "        // solution case\n",
    "        let pivot = Math.floor(nums.length / 2);\n",
    "        if (nums[pivot] === target) return pivot;\n",
    "\n",
    "        console.log(p_dir, p_val, nums, pivot, nums[pivot]);\n",
    "        // first iteration or normal binary case, perform normal binary search\n",
    "        if (\n",
    "            (!p_dir && !p_val) ||\n",
    "            (p_dir === 'right' && p_val > nums[pivot]) ||\n",
    "            (p_dir === 'left' && p_val < nums[pivot])\n",
    "        ) {\n",
    "            if (nums[pivot] < target) {\n",
    "                let result = _search(nums.slice(pivot + 1), target, 'left', nums[pivot]);\n",
    "                return result === -1 ? -1 : pivot + 1 + result;\n",
    "            }\n",
    "            else\n",
    "                return _search(nums.slice(0, pivot), target, 'right', nums[pivot]);\n",
    "        }\n",
    "\n",
    "        // search left, exclude inner left zone\n",
    "        else if (nums[pivot] > target && p_dir === 'right' && target > p_val)\n",
    "            return _search(nums.slice(0, pivot), target, 'right', nums[pivot]);\n",
    "\n",
    "        // search right, exclude inner right zone\n",
    "        else if (nums[pivot] < target && p_dir === 'left' && target < p_val) {\n",
    "            let result = _search(nums.slice(pivot + 1), target, 'left', nums[pivot]);\n",
    "            return result === -1 ? -1 : pivot + 1 + result;\n",
    "        }\n",
    "\n",
    "        // search left, inner left zone first\n",
    "        else if ((nums[pivot] < target || target < p_val) && p_dir === 'right') {\n",
    "            let inner_result = _search(nums.slice(pivot + 1), target, 'left', nums[pivot]);\n",
    "            if (inner_result !== -1) return inner_result\n",
    "            else return _search(nums.slice(0, pivot), target, 'right', nums[pivot]);\n",
    "        }\n",
    "\n",
    "        // search right, inner right zone first\n",
    "        else if ((nums[pivot] > target || target > p_val) && p_dir === 'left') {\n",
    "            let inner_result = _search(nums.slice(pivot + 1), target, 'left', nums[pivot]);\n",
    "            if (inner_result !== -1) return pivot + 1 + inner_result;\n",
    "            else return _search(nums.slice(0, pivot), target, 'right', nums[pivot]);\n",
    "        }\n",
    "    }\n",
    "    \n",
    "    return _search(nums, target, null, null);\n",
    "}"
   ]
  },
  {
   "cell_type": "markdown",
   "metadata": {},
   "source": [
    "This code, which is wrong but demonstratory, does the following:\n",
    "\n",
    "* If we binary search right from $a$ to $b$ and $b > a$, perform normal binary search.\n",
    "* If we binary search right from $a$ to $b$ and $b < a$ and $k > a$ or $k < b$, search the left subspace, then search the right subspace.\n",
    "* If we binary search right from $a$ to $b$ and $b < a$ and $a < k < b$, perform normal binary search.\n",
    "\n",
    "This is mirrored on the opposite side.\n",
    "\n",
    "However this is still too many cases to make for an elegant solution, and this code contains difficult to address compositional problems around the recycling of old unexplored number spaces. Sigh.\n",
    "\n",
    "The trick to this question isn't to perform modified binary search to look for the target value, but to instead perform modified binary search for look for the *minimum* value, and only *then* perform target binary search, using the pinned values as your guide."
   ]
  },
  {
   "cell_type": "code",
   "execution_count": 7,
   "metadata": {},
   "outputs": [],
   "source": [
    "function get_pivot(nums) {\n",
    "    if (nums.length === 1) return 0\n",
    "    \n",
    "    let a_idx = 0;\n",
    "    let b_idx = nums.length - 1;\n",
    "    let rightmost_idx_visited = nums.length - 1;\n",
    "    let idx_min = 0;\n",
    "    let pivot_idx = null;\n",
    "    \n",
    "    while (true) {\n",
    "        let a = nums[a_idx];\n",
    "        let b = nums[b_idx];\n",
    "        \n",
    "        if ((b > a) && (b_idx > a_idx)) {\n",
    "            pivot_idx = a_idx;\n",
    "            break;\n",
    "        } else if ((b < a) && (b_idx > a_idx)) {  // next_val < prev_val\n",
    "            [a_idx, b_idx] = [b_idx, a_idx + Math.ceil((b_idx - a_idx) / 2)]\n",
    "        } else if ((b > a) && (b_idx < a_idx)) {\n",
    "            if ((a_idx - 1) === b_idx) {\n",
    "                pivot_idx = a_idx;\n",
    "                break;\n",
    "            } else {\n",
    "                [a_idx, b_idx] = [b_idx, a_idx - 1];\n",
    "            }\n",
    "        } else {  // (b < a) && (b_idx < a_idx)\n",
    "            if (b_idx === 0) {\n",
    "                pivot_idx = 0;\n",
    "                break;\n",
    "            } else {\n",
    "                [a_idx, b_idx] = [b_idx, b_idx - 1];\n",
    "            }\n",
    "        }\n",
    "    }\n",
    "    \n",
    "    return pivot_idx;\n",
    "}"
   ]
  },
  {
   "cell_type": "code",
   "execution_count": 13,
   "metadata": {},
   "outputs": [
    {
     "data": {
      "text/plain": [
       "0"
      ]
     },
     "execution_count": 13,
     "metadata": {},
     "output_type": "execute_result"
    }
   ],
   "source": [
    "get_pivot([1])"
   ]
  },
  {
   "cell_type": "code",
   "execution_count": 15,
   "metadata": {},
   "outputs": [
    {
     "data": {
      "text/plain": [
       "0"
      ]
     },
     "execution_count": 15,
     "metadata": {},
     "output_type": "execute_result"
    }
   ],
   "source": [
    "get_pivot([1, 2, 3])"
   ]
  },
  {
   "cell_type": "code",
   "execution_count": 16,
   "metadata": {},
   "outputs": [
    {
     "data": {
      "text/plain": [
       "3"
      ]
     },
     "execution_count": 16,
     "metadata": {},
     "output_type": "execute_result"
    }
   ],
   "source": [
    "get_pivot([1, 2, 3, 0])"
   ]
  },
  {
   "cell_type": "code",
   "execution_count": 17,
   "metadata": {
    "scrolled": true
   },
   "outputs": [
    {
     "data": {
      "text/plain": [
       "4"
      ]
     },
     "execution_count": 17,
     "metadata": {},
     "output_type": "execute_result"
    }
   ],
   "source": [
    "get_pivot([5, 6, 7, 8, 0, 1, 2, 3, 4])"
   ]
  },
  {
   "cell_type": "markdown",
   "metadata": {},
   "source": [
    "This code implements the first part of that operation: finding the pin. It searches through the space using the following structure:\n",
    "\n",
    "* On the first iteration, compare the first value with the last value.\n",
    "* If comparing forward and the right value is smaller than the left value, step to the midpoint of the values, unless the values are neighbors, in which case return the right index.\n",
    "* If comparing forward and the right value is larger than the left value, stop and return the left value.\n",
    "* If comparing backwards and the left value is larger than the right value, step back one element in the array, unless the current element is the first element in the array, in which case return 0.\n",
    "\n",
    "This code appears to be correct, and is $O(\\log{n})$ amortized time, and is what I came up with once I had the hint that looking for the midpoint was a good first thing to do. But it has four cases and two subcases, which is still  complex.\n",
    "\n",
    "Here's a transcription of [a more concise solution](https://leetcode.com/problems/search-in-rotated-sorted-array/discuss/14425/Concise-O(log-N)-Binary-search-solution):"
   ]
  },
  {
   "cell_type": "code",
   "execution_count": 30,
   "metadata": {},
   "outputs": [],
   "source": [
    "function get_pivot(nums, target) {\n",
    "    let [lo, hi] = [0, nums.length - 1];\n",
    "    let mid = null;\n",
    "\n",
    "    while(lo < hi) {\n",
    "        mid = (lo + hi) / 2;\n",
    "        if (nums[mid] > nums[hi]) {\n",
    "            if (target > nums[mid] || target <= nums[hi]) {\n",
    "                lo = mid + 1;\n",
    "            } else {\n",
    "                hi = mid;\n",
    "            }\n",
    "        } else {\n",
    "            if (target > nums[mid] && target <= nums[hi]) {\n",
    "                lo = mid + 1;\n",
    "            } else {\n",
    "                hi = mid;\n",
    "            }\n",
    "        }\n",
    "    }\n",
    "    \n",
    "    if (lo == hi && target != nums[lo]) return -1;\n",
    "    return lo;\n",
    "}"
   ]
  },
  {
   "cell_type": "markdown",
   "metadata": {},
   "source": [
    "OK, the original code:\n",
    "\n",
    "```\n",
    "public class Solution {\n",
    "public int search(int[] nums, int target) {\n",
    "    int start = 0, end = nums.length - 1;\n",
    "    while (start < end) {\n",
    "        int mid = (start + end) / 2;\n",
    "        if (nums[mid] > nums[end]) {  // eg. 3,4,5,6,1,2\n",
    "            if (target > nums[mid] || target <= nums[end]) {\n",
    "                start = mid + 1;\n",
    "            } else {\n",
    "                end = mid;\n",
    "            }\n",
    "        } else {  // eg. 5,6,1,2,3,4\n",
    "            if (target > nums[mid] && target <= nums[end]) {\n",
    "                start = mid + 1;\n",
    "            } else {\n",
    "                end = mid;\n",
    "            }\n",
    "        }\n",
    "    }\n",
    "    if (start == end && target != nums[start]) return -1;\n",
    "    return start;\n",
    "}\n",
    "}\n",
    "```"
   ]
  },
  {
   "cell_type": "markdown",
   "metadata": {},
   "source": [
    "This is closer to my original solution. If we know a value is not in the subset, we move the pointer. Why wasn't I capable of writing this originally? Hmm.\n",
    "\n",
    "...overall, I struggled *immensely* with this problem. =("
   ]
  },
  {
   "cell_type": "markdown",
   "metadata": {},
   "source": [
    "## First and Last Index of Element in Sorted Array (Leetcode 34)\n",
    "\n",
    "Given an array of integers nums sorted in ascending order, find the starting and ending position of a given target value.\n",
    "\n",
    "Your algorithm's runtime complexity must be in the order of O(log n).\n",
    "\n",
    "If the target is not found in the array, return [-1, -1].\n",
    "\n",
    "```\n",
    "Example 1:\n",
    "\n",
    "Input: nums = [5,7,7,8,8,10], target = 8\n",
    "Output: [3,4]\n",
    "Example 2:\n",
    "\n",
    "Input: nums = [5,7,7,8,8,10], target = 6\n",
    "Output: [-1,-1]\n",
    "```"
   ]
  },
  {
   "cell_type": "code",
   "execution_count": 111,
   "metadata": {},
   "outputs": [],
   "source": [
    "function leftBinaryBoundSearch(nums, target) {\n",
    "    if (nums.length === 0) return -1;\n",
    "    \n",
    "    let pivot = Math.floor(nums.length / 2);\n",
    "    if (nums[pivot] === target) {\n",
    "        let prior = leftBinaryBoundSearch(nums.slice(0, pivot), target);\n",
    "        return prior === -1 ? pivot : prior;\n",
    "    } else if (nums[pivot] > target) {\n",
    "        return leftBinaryBoundSearch(nums.slice(0, pivot), target);\n",
    "    } else {  // nums[pivot] < target\n",
    "        let posterior = leftBinaryBoundSearch(nums.slice(pivot + 1), target);\n",
    "        return (posterior === -1 ? -1 : pivot + 1 + posterior);\n",
    "    }\n",
    "}\n",
    "\n",
    "function rightBinaryBoundSearch(nums, target) {\n",
    "    if (nums.length === 0) return -1;\n",
    "    \n",
    "    let pivot = Math.floor(nums.length / 2);\n",
    "    if (nums[pivot] === target) {\n",
    "        let posterior = rightBinaryBoundSearch(nums.slice(pivot + 1), target);\n",
    "        return posterior === -1 ? pivot : pivot + 1 + posterior;\n",
    "    } else {  // nums[pivot] > target\n",
    "        return rightBinaryBoundSearch(nums.slice(0, pivot + 1), target);\n",
    "    }\n",
    "    \n",
    "    let leftwise_pivot = leftBinaryBoundSearch(nums.reverse(), target);\n",
    "    return leftwise_pivot === -1 ? -1 : nums.length - leftwise_pivot - 1;\n",
    "}\n",
    "\n",
    "function binarySearch(nums, target) {\n",
    "    if (nums.length === 0) return nums;\n",
    "    \n",
    "    let pivot = Math.floor(nums.length / 2);\n",
    "    if (nums[pivot] === target) return pivot;\n",
    "    else if (nums[pivot] > target) return binarySearch(nums.slice(0, pivot), target);\n",
    "    else {  // nums[pivot] < target\n",
    "        let subsearch = binarySearch(nums.slice(pivot + 1), target);\n",
    "        return subsearch === -1 ? -1 : pivot + 1 + subsearch;\n",
    "    }\n",
    "}\n",
    "\n",
    "function searchRange(nums, target) {\n",
    "    let pivot = binarySearch(nums, target);\n",
    "    if (pivot === -1) return [-1, -1];\n",
    "    \n",
    "    console.log(nums.slice(pivot));\n",
    "    let l = leftBinaryBoundSearch(nums.slice(0, pivot + 1), target);\n",
    "    let r = rightBinaryBoundSearch(nums.slice(pivot), target);\n",
    "    r = (r === -1 ? r : pivot + r);\n",
    "\n",
    "    // console.log(l, pivot, r);\n",
    "    return [l, r];\n",
    "}"
   ]
  },
  {
   "cell_type": "markdown",
   "metadata": {},
   "source": [
    "For this first attempt I reasons that I could implement binary search to find the target value easily. At that point the work splits into two cases: finding the left edge with $O(\\log{n})$ efficiency, and finding the right edge with $O(\\log{n})$ efficiency. I made the really bad mistake of thinking that solving for the right is equivalent to solving for the left on a reversed list, which is completely wrong.\n",
    "\n",
    "So we need to have another go around. Goddamned I'm bad at this crap."
   ]
  },
  {
   "cell_type": "code",
   "execution_count": 240,
   "metadata": {},
   "outputs": [],
   "source": [
    "function binarySearch(nums, target, comparator) {\n",
    "    if (nums.length === 0) return -1;\n",
    "    \n",
    "    let pivot = Math.floor(nums.length / 2);\n",
    "    if (comparator(nums[pivot]) < 0) {\n",
    "        // search right subcase\n",
    "        // console.log(nums, nums[pivot], comparator(nums[pivot]), 'right');\n",
    "        let posterior = binarySearch(nums.slice(pivot + 1), target, comparator);\n",
    "        return (posterior === -1 ? posterior : pivot + 1 + posterior);\n",
    "    } else if (comparator(nums[pivot]) > 0) {\n",
    "        // search left subcase\n",
    "        // console.log(nums, nums[pivot], comparator(nums[pivot]), 'left');\n",
    "        return binarySearch(nums.slice(0, pivot), target, comparator);\n",
    "    } else {  // === 0\n",
    "        // console.log(nums, nums[pivot], comparator(nums[pivot]), 'probe right');\n",
    "        let posterior = binarySearch(nums.slice(pivot + 1), target, comparator);\n",
    "        return (posterior === -1 ? pivot : pivot + 1 + posterior);\n",
    "    }\n",
    "}\n",
    "\n",
    "function searchRange(nums, target) {\n",
    "    if (nums.length === 0) return [-1, -1];\n",
    "    \n",
    "    let right = binarySearch(nums, target, (v => v - target));\n",
    "    let left = binarySearch(nums.slice(0, right + 1).reverse(), target, (v => target - v));\n",
    "    left = (left === -1 ? left : right - left);\n",
    "    return [left, right];\n",
    "}"
   ]
  },
  {
   "cell_type": "code",
   "execution_count": 241,
   "metadata": {},
   "outputs": [
    {
     "data": {
      "text/plain": [
       "[ -1, -1 ]"
      ]
     },
     "execution_count": 241,
     "metadata": {},
     "output_type": "execute_result"
    }
   ],
   "source": [
    "searchRange([], 0)"
   ]
  },
  {
   "cell_type": "code",
   "execution_count": 242,
   "metadata": {},
   "outputs": [
    {
     "data": {
      "text/plain": [
       "[ 0, 0 ]"
      ]
     },
     "execution_count": 242,
     "metadata": {},
     "output_type": "execute_result"
    }
   ],
   "source": [
    "searchRange([0], 0)"
   ]
  },
  {
   "cell_type": "code",
   "execution_count": 243,
   "metadata": {},
   "outputs": [
    {
     "data": {
      "text/plain": [
       "[ 0, 1 ]"
      ]
     },
     "execution_count": 243,
     "metadata": {},
     "output_type": "execute_result"
    }
   ],
   "source": [
    "searchRange([0,0], 0)"
   ]
  },
  {
   "cell_type": "code",
   "execution_count": 244,
   "metadata": {},
   "outputs": [
    {
     "data": {
      "text/plain": [
       "[ 0, 2 ]"
      ]
     },
     "execution_count": 244,
     "metadata": {},
     "output_type": "execute_result"
    }
   ],
   "source": [
    "searchRange([0,0,0], 0)"
   ]
  },
  {
   "cell_type": "code",
   "execution_count": 245,
   "metadata": {},
   "outputs": [
    {
     "data": {
      "text/plain": [
       "[ 0, 4 ]"
      ]
     },
     "execution_count": 245,
     "metadata": {},
     "output_type": "execute_result"
    }
   ],
   "source": [
    "searchRange([0,0,0,0,0], 0)"
   ]
  },
  {
   "cell_type": "code",
   "execution_count": 246,
   "metadata": {},
   "outputs": [
    {
     "data": {
      "text/plain": [
       "[ 1, 1 ]"
      ]
     },
     "execution_count": 246,
     "metadata": {},
     "output_type": "execute_result"
    }
   ],
   "source": [
    "searchRange([0,1], 1)"
   ]
  },
  {
   "cell_type": "code",
   "execution_count": 247,
   "metadata": {},
   "outputs": [
    {
     "data": {
      "text/plain": [
       "[ 0, 0 ]"
      ]
     },
     "execution_count": 247,
     "metadata": {},
     "output_type": "execute_result"
    }
   ],
   "source": [
    "searchRange([1,2], 1)"
   ]
  },
  {
   "cell_type": "code",
   "execution_count": 248,
   "metadata": {},
   "outputs": [
    {
     "data": {
      "text/plain": [
       "[ 1, 1 ]"
      ]
     },
     "execution_count": 248,
     "metadata": {},
     "output_type": "execute_result"
    }
   ],
   "source": [
    "searchRange([1,2], 2)"
   ]
  },
  {
   "cell_type": "code",
   "execution_count": 249,
   "metadata": {
    "scrolled": true
   },
   "outputs": [
    {
     "data": {
      "text/plain": [
       "[ 1, 1 ]"
      ]
     },
     "execution_count": 249,
     "metadata": {},
     "output_type": "execute_result"
    }
   ],
   "source": [
    "searchRange([0,1,2], 1)"
   ]
  },
  {
   "cell_type": "code",
   "execution_count": 250,
   "metadata": {},
   "outputs": [
    {
     "data": {
      "text/plain": [
       "[ 1, 2 ]"
      ]
     },
     "execution_count": 250,
     "metadata": {},
     "output_type": "execute_result"
    }
   ],
   "source": [
    "searchRange([0,1,1,2], 1)"
   ]
  },
  {
   "cell_type": "code",
   "execution_count": 251,
   "metadata": {},
   "outputs": [
    {
     "data": {
      "text/plain": [
       "[ 1, 3 ]"
      ]
     },
     "execution_count": 251,
     "metadata": {},
     "output_type": "execute_result"
    }
   ],
   "source": [
    "searchRange([0,1,1,1,2], 1)"
   ]
  },
  {
   "cell_type": "code",
   "execution_count": 252,
   "metadata": {},
   "outputs": [
    {
     "data": {
      "text/plain": [
       "[ 6, 8 ]"
      ]
     },
     "execution_count": 252,
     "metadata": {},
     "output_type": "execute_result"
    }
   ],
   "source": [
    "searchRange([0,0,0,1,1,1,2,2,2,3,3,3,4,4,4], 2)"
   ]
  },
  {
   "cell_type": "code",
   "execution_count": 253,
   "metadata": {},
   "outputs": [
    {
     "data": {
      "text/plain": [
       "[ -1, -1 ]"
      ]
     },
     "execution_count": 253,
     "metadata": {},
     "output_type": "execute_result"
    }
   ],
   "source": [
    "searchRange([5,7,7,8,8,10], 6)"
   ]
  },
  {
   "cell_type": "code",
   "execution_count": 254,
   "metadata": {},
   "outputs": [
    {
     "data": {
      "text/plain": [
       "[ 2, 2 ]"
      ]
     },
     "execution_count": 254,
     "metadata": {},
     "output_type": "execute_result"
    }
   ],
   "source": [
    "searchRange([1,2,3], 3)"
   ]
  },
  {
   "cell_type": "markdown",
   "metadata": {},
   "source": [
    "OK, this is a correct solution. This solution solves the problem using two algorithms:\n",
    "\n",
    "* Given that $a$ is an array in ascending order, find the rightmost entry $k$ in the array such that $k = target$.\n",
    "* Given that $a$ is an array in descending order, find the rightmost entry $k$ in the array such that $k = target$.\n",
    "\n",
    "The problem is solved in two steps:\n",
    "\n",
    "1. Solve for $l = k$ in $a$ (ascending).\n",
    "2. Solve for $k$ in $\\text{reverse}(\\text{slice}(0, l))$ (descending). The right boundary $r$ is a well-known function of $k$, e.g. $r = f(k)$.\n",
    "\n",
    "This solution uses the insight that searching for the rightmost index in an ascending array is equivalent to searching for the rightmost index in a descending array with the comparator reversed.\n",
    "\n",
    "Getting the boolean logic just right was tricky, as always.\n",
    "\n",
    "If I had gone to this approach to begin with instead of making an incorrect observation about list reversal this would have been an adequate (and timely enough, given my standards) solve. This solution is elegant, and runs in true $O(\\log{n})$ time."
   ]
  },
  {
   "cell_type": "markdown",
   "metadata": {},
   "source": [
    "## Valid Sudoku (Leetcode 36)\n",
    "\n",
    "Determine if a 9x9 Sudoku board is valid. Only the filled cells need to be validated according to the following rules:\n",
    "\n",
    "* Each row must contain the digits 1-9 without repetition.\n",
    "* Each column must contain the digits 1-9 without repetition.\n",
    "* Each of the 9 3x3 sub-boxes of the grid must contain the digits 1-9 without repetition.\n",
    "\n",
    "A partially filled sudoku which is valid.\n",
    "\n",
    "The Sudoku board could be partially filled, where empty cells are filled with the character '.'.\n",
    "\n",
    "```\n",
    "Example 1:\n",
    "\n",
    "Input:\n",
    "[\n",
    "  [\"5\",\"3\",\".\",\".\",\"7\",\".\",\".\",\".\",\".\"],\n",
    "  [\"6\",\".\",\".\",\"1\",\"9\",\"5\",\".\",\".\",\".\"],\n",
    "  [\".\",\"9\",\"8\",\".\",\".\",\".\",\".\",\"6\",\".\"],\n",
    "  [\"8\",\".\",\".\",\".\",\"6\",\".\",\".\",\".\",\"3\"],\n",
    "  [\"4\",\".\",\".\",\"8\",\".\",\"3\",\".\",\".\",\"1\"],\n",
    "  [\"7\",\".\",\".\",\".\",\"2\",\".\",\".\",\".\",\"6\"],\n",
    "  [\".\",\"6\",\".\",\".\",\".\",\".\",\"2\",\"8\",\".\"],\n",
    "  [\".\",\".\",\".\",\"4\",\"1\",\"9\",\".\",\".\",\"5\"],\n",
    "  [\".\",\".\",\".\",\".\",\"8\",\".\",\".\",\"7\",\"9\"]\n",
    "]\n",
    "Output: true\n",
    "Example 2:\n",
    "\n",
    "Input:\n",
    "[\n",
    "  [\"8\",\"3\",\".\",\".\",\"7\",\".\",\".\",\".\",\".\"],\n",
    "  [\"6\",\".\",\".\",\"1\",\"9\",\"5\",\".\",\".\",\".\"],\n",
    "  [\".\",\"9\",\"8\",\".\",\".\",\".\",\".\",\"6\",\".\"],\n",
    "  [\"8\",\".\",\".\",\".\",\"6\",\".\",\".\",\".\",\"3\"],\n",
    "  [\"4\",\".\",\".\",\"8\",\".\",\"3\",\".\",\".\",\"1\"],\n",
    "  [\"7\",\".\",\".\",\".\",\"2\",\".\",\".\",\".\",\"6\"],\n",
    "  [\".\",\"6\",\".\",\".\",\".\",\".\",\"2\",\"8\",\".\"],\n",
    "  [\".\",\".\",\".\",\"4\",\"1\",\"9\",\".\",\".\",\"5\"],\n",
    "  [\".\",\".\",\".\",\".\",\"8\",\".\",\".\",\"7\",\"9\"]\n",
    "]\n",
    "Output: false\n",
    "Explanation: Same as Example 1, except with the 5 in the top left corner being \n",
    "    modified to 8. Since there are two 8's in the top left 3x3 sub-box, it is invalid.\n",
    "Note:\n",
    "\n",
    "A Sudoku board (partially filled) could be valid but is not necessarily solvable.\n",
    "Only the filled cells need to be validated according to the mentioned rules.\n",
    "The given board contain only digits 1-9 and the character '.'.\n",
    "The given board size is always 9x9.\n",
    "```"
   ]
  },
  {
   "cell_type": "code",
   "execution_count": 381,
   "metadata": {},
   "outputs": [],
   "source": [
    "function fillOptions(board, pos) {\n",
    "    let row_nums = new Set(board[pos[0]].filter(v => (v !== '.')));\n",
    "    let col_nums = new Set(board.map(row => row[pos[1]]).filter(v => v !== '.'));\n",
    "\n",
    "    let x_box_start_pos = Math.floor(pos[0] / 3) * 3;\n",
    "    let x_box_end_pos = x_box_start_pos + 3;\n",
    "    let y_box_start_pos = Math.floor(pos[1] / 3) * 3;\n",
    "    let y_box_end_pos = y_box_start_pos + 3;\n",
    "    let box = board.slice(x_box_start_pos, x_box_end_pos);\n",
    "    box = box.map(col => col.slice(y_box_start_pos, y_box_end_pos));\n",
    "    let box_nums = new Set(box.map(row => row.filter(v => v != '.')).reduce((a, b) => a.concat(b), []));\n",
    "\n",
    "    let opts = ['1','2','3','4','5','6','7','8','9'];\n",
    "    return opts.filter(v => (!row_nums.has(v) && !col_nums.has(v) && !box_nums.has(v)));\n",
    "    return opts;\n",
    "}\n",
    "\n",
    "function nextToFill(board) {\n",
    "    for (let i of Array(board.length).keys()) {\n",
    "        for (let j of Array(board.length).keys()) {\n",
    "            // console.log(i, j);\n",
    "            if (board[i][j] === '.') return [i,j];\n",
    "        }\n",
    "    }\n",
    "    return null;\n",
    "}\n",
    "\n",
    "function isValidSudoku(board) {\n",
    "    let pos = nextToFill(board);\n",
    "    if (!pos) return true;\n",
    "    \n",
    "    for (let opt of fillOptions(board, pos)) {\n",
    "        board[pos[0]][pos[1]] = opt;\n",
    "        if (isValidSudoku(board)) {\n",
    "            return true;\n",
    "        } else {\n",
    "            board[pos[0]][pos[1]] = '.'\n",
    "        }\n",
    "    }\n",
    "    \n",
    "    return false;\n",
    "}"
   ]
  },
  {
   "cell_type": "code",
   "execution_count": 304,
   "metadata": {},
   "outputs": [
    {
     "data": {
      "text/plain": [
       "[ 0, 0 ]"
      ]
     },
     "execution_count": 304,
     "metadata": {},
     "output_type": "execute_result"
    }
   ],
   "source": [
    "nextToFill([['.']])"
   ]
  },
  {
   "cell_type": "code",
   "execution_count": 305,
   "metadata": {},
   "outputs": [
    {
     "data": {
      "text/plain": [
       "null"
      ]
     },
     "execution_count": 305,
     "metadata": {},
     "output_type": "execute_result"
    }
   ],
   "source": [
    "nextToFill([['1']])"
   ]
  },
  {
   "cell_type": "code",
   "execution_count": 306,
   "metadata": {},
   "outputs": [
    {
     "data": {
      "text/plain": [
       "[ 0, 0 ]"
      ]
     },
     "execution_count": 306,
     "metadata": {},
     "output_type": "execute_result"
    }
   ],
   "source": [
    "nextToFill([['.', '.'],\n",
    "            ['.', '.']])"
   ]
  },
  {
   "cell_type": "code",
   "execution_count": 308,
   "metadata": {},
   "outputs": [
    {
     "data": {
      "text/plain": [
       "[ 0, 1 ]"
      ]
     },
     "execution_count": 308,
     "metadata": {},
     "output_type": "execute_result"
    }
   ],
   "source": [
    "nextToFill([['1', '.'],\n",
    "            ['.', '.']])"
   ]
  },
  {
   "cell_type": "code",
   "execution_count": 310,
   "metadata": {},
   "outputs": [
    {
     "data": {
      "text/plain": [
       "[ 1, 0 ]"
      ]
     },
     "execution_count": 310,
     "metadata": {},
     "output_type": "execute_result"
    }
   ],
   "source": [
    "nextToFill([['1', '2'],\n",
    "            ['.', '.']])"
   ]
  },
  {
   "cell_type": "code",
   "execution_count": 312,
   "metadata": {},
   "outputs": [
    {
     "data": {
      "text/plain": [
       "[ 1, 1 ]"
      ]
     },
     "execution_count": 312,
     "metadata": {},
     "output_type": "execute_result"
    }
   ],
   "source": [
    "nextToFill([['1', '2'],\n",
    "            ['3', '.']])"
   ]
  },
  {
   "cell_type": "code",
   "execution_count": 313,
   "metadata": {},
   "outputs": [
    {
     "data": {
      "text/plain": [
       "null"
      ]
     },
     "execution_count": 313,
     "metadata": {},
     "output_type": "execute_result"
    }
   ],
   "source": [
    "nextToFill([['1', '2'],\n",
    "            ['3', '4']])"
   ]
  },
  {
   "cell_type": "code",
   "execution_count": 332,
   "metadata": {},
   "outputs": [
    {
     "data": {
      "text/plain": [
       "[ '1', '2', '3', '4', '5', '6', '7', '8', '9' ]"
      ]
     },
     "execution_count": 332,
     "metadata": {},
     "output_type": "execute_result"
    }
   ],
   "source": [
    "fillOptions([['.']], [0, 0])"
   ]
  },
  {
   "cell_type": "code",
   "execution_count": 335,
   "metadata": {
    "scrolled": true
   },
   "outputs": [
    {
     "data": {
      "text/plain": [
       "[ '2', '3', '4', '5', '6', '7', '8', '9' ]"
      ]
     },
     "execution_count": 335,
     "metadata": {},
     "output_type": "execute_result"
    }
   ],
   "source": [
    "fillOptions([['.','1']], [0, 0])"
   ]
  },
  {
   "cell_type": "code",
   "execution_count": 336,
   "metadata": {},
   "outputs": [
    {
     "data": {
      "text/plain": [
       "[ '1' ]"
      ]
     },
     "execution_count": 336,
     "metadata": {},
     "output_type": "execute_result"
    }
   ],
   "source": [
    "fillOptions([['.','2', '3', '4', '5', '6', '7', '8', '9']], [0, 0])"
   ]
  },
  {
   "cell_type": "code",
   "execution_count": 337,
   "metadata": {},
   "outputs": [
    {
     "data": {
      "text/plain": [
       "[ '1' ]"
      ]
     },
     "execution_count": 337,
     "metadata": {},
     "output_type": "execute_result"
    }
   ],
   "source": [
    "fillOptions([['.','2', '3'],\n",
    "             ['4', '5', '6'],\n",
    "             ['7', '8', '9']], [0, 0])"
   ]
  },
  {
   "cell_type": "code",
   "execution_count": 342,
   "metadata": {},
   "outputs": [
    {
     "name": "stdout",
     "output_type": "stream",
     "text": [
      "[ [], [ '2' ], [ '3' ] ]\n"
     ]
    },
    {
     "data": {
      "text/plain": [
       "[ '1' ]"
      ]
     },
     "execution_count": 342,
     "metadata": {},
     "output_type": "execute_result"
    }
   ],
   "source": [
    "fillOptions([['.'],\n",
    "             ['2'],\n",
    "             ['3'],\n",
    "             ['4'],\n",
    "             ['5'],\n",
    "             ['6'],\n",
    "             ['7'],\n",
    "             ['8'],\n",
    "             ['9']], [0, 0])"
   ]
  },
  {
   "cell_type": "code",
   "execution_count": 353,
   "metadata": {},
   "outputs": [
    {
     "data": {
      "text/plain": [
       "[ '4' ]"
      ]
     },
     "execution_count": 353,
     "metadata": {},
     "output_type": "execute_result"
    }
   ],
   "source": [
    "fillOptions([['1', '2', '3', '.','5', '6'],\n",
    "             ['7', '8', '9', '1', '2', '3'],\n",
    "             ['4', '5', '6', '7', '8', '9']], [0, 3])"
   ]
  },
  {
   "cell_type": "code",
   "execution_count": 359,
   "metadata": {},
   "outputs": [
    {
     "data": {
      "text/plain": [
       "true"
      ]
     },
     "execution_count": 359,
     "metadata": {},
     "output_type": "execute_result"
    }
   ],
   "source": [
    "isValidSudoku([['.']])"
   ]
  },
  {
   "cell_type": "code",
   "execution_count": 360,
   "metadata": {},
   "outputs": [
    {
     "data": {
      "text/plain": [
       "true"
      ]
     },
     "execution_count": 360,
     "metadata": {},
     "output_type": "execute_result"
    }
   ],
   "source": [
    "isValidSudoku([['1', '2', '3', '4', '5', '6', '7', '8', '.']])"
   ]
  },
  {
   "cell_type": "code",
   "execution_count": 382,
   "metadata": {},
   "outputs": [
    {
     "data": {
      "text/plain": [
       "false"
      ]
     },
     "execution_count": 382,
     "metadata": {},
     "output_type": "execute_result"
    }
   ],
   "source": [
    "isValidSudoku([\n",
    "  [\"8\",\"3\",\".\",\".\",\"7\",\".\",\".\",\".\",\".\"],\n",
    "  [\"6\",\".\",\".\",\"1\",\"9\",\"5\",\".\",\".\",\".\"],\n",
    "  [\".\",\"9\",\"8\",\".\",\".\",\".\",\".\",\"6\",\".\"],\n",
    "  [\"8\",\".\",\".\",\".\",\"6\",\".\",\".\",\".\",\"3\"],\n",
    "  [\"4\",\".\",\".\",\"8\",\".\",\"3\",\".\",\".\",\"1\"],\n",
    "  [\"7\",\".\",\".\",\".\",\"2\",\".\",\".\",\".\",\"6\"],\n",
    "  [\".\",\"6\",\".\",\".\",\".\",\".\",\"2\",\"8\",\".\"],\n",
    "  [\".\",\".\",\".\",\"4\",\"1\",\"9\",\".\",\".\",\"5\"],\n",
    "  [\".\",\".\",\".\",\".\",\"8\",\".\",\".\",\"7\",\"9\"]\n",
    "])"
   ]
  },
  {
   "cell_type": "code",
   "execution_count": 383,
   "metadata": {},
   "outputs": [
    {
     "data": {
      "text/plain": [
       "true"
      ]
     },
     "execution_count": 383,
     "metadata": {},
     "output_type": "execute_result"
    }
   ],
   "source": [
    "isValidSudoku([\n",
    "  [\"5\",\"3\",\".\",\".\",\"7\",\".\",\".\",\".\",\".\"],\n",
    "  [\"6\",\".\",\".\",\"1\",\"9\",\"5\",\".\",\".\",\".\"],\n",
    "  [\".\",\"9\",\"8\",\".\",\".\",\".\",\".\",\"6\",\".\"],\n",
    "  [\"8\",\".\",\".\",\".\",\"6\",\".\",\".\",\".\",\"3\"],\n",
    "  [\"4\",\".\",\".\",\"8\",\".\",\"3\",\".\",\".\",\"1\"],\n",
    "  [\"7\",\".\",\".\",\".\",\"2\",\".\",\".\",\".\",\"6\"],\n",
    "  [\".\",\"6\",\".\",\".\",\".\",\".\",\"2\",\"8\",\".\"],\n",
    "  [\".\",\".\",\".\",\"4\",\"1\",\"9\",\".\",\".\",\"5\"],\n",
    "  [\".\",\".\",\".\",\".\",\"8\",\".\",\".\",\"7\",\"9\"]\n",
    "])"
   ]
  },
  {
   "cell_type": "code",
   "execution_count": 384,
   "metadata": {},
   "outputs": [
    {
     "data": {
      "text/plain": [
       "false"
      ]
     },
     "execution_count": 384,
     "metadata": {},
     "output_type": "execute_result"
    }
   ],
   "source": [
    "isValidSudoku([\n",
    "    [\".\",\"8\",\"7\",\"6\",\"5\",\"4\",\"3\",\"2\",\"1\"],\n",
    "    [\"2\",\".\",\".\",\".\",\".\",\".\",\".\",\".\",\".\"],\n",
    "    [\"3\",\".\",\".\",\".\",\".\",\".\",\".\",\".\",\".\"],\n",
    "    [\"4\",\".\",\".\",\".\",\".\",\".\",\".\",\".\",\".\"],\n",
    "    [\"5\",\".\",\".\",\".\",\".\",\".\",\".\",\".\",\".\"],\n",
    "    [\"6\",\".\",\".\",\".\",\".\",\".\",\".\",\".\",\".\"],\n",
    "    [\"7\",\".\",\".\",\".\",\".\",\".\",\".\",\".\",\".\"],\n",
    "    [\"8\",\".\",\".\",\".\",\".\",\".\",\".\",\".\",\".\"],\n",
    "    [\"9\",\".\",\".\",\".\",\".\",\".\",\".\",\".\",\".\"]])"
   ]
  },
  {
   "cell_type": "markdown",
   "metadata": {},
   "source": [
    "This is a classic recursion problem. There's some dynamic programming tricks that can be applied to it. The question actually asks for the mirror of the problem: to solve for the filled positions. Which is significantly easier."
   ]
  },
  {
   "cell_type": "markdown",
   "metadata": {},
   "source": [
    "## Combination Sum (Leetcode 39)"
   ]
  },
  {
   "cell_type": "code",
   "execution_count": 474,
   "metadata": {},
   "outputs": [],
   "source": [
    "function combineSets(a, b) {\n",
    "    let out = [];\n",
    "    for (let _a of a) {\n",
    "        for (let _b of b) {\n",
    "            out.push(_a.concat(_b));\n",
    "        }\n",
    "    }\n",
    "    return out;\n",
    "}\n",
    "\n",
    "function permutationSum(candidates, target) {\n",
    "    // candidates are already in sorted order\n",
    "    if (candidates.length === 0) return [];\n",
    "    \n",
    "    let memo = [];\n",
    "    let c_idx = 0;\n",
    "    for (let i of Array(target + 1).keys()) {\n",
    "        memo[i] = [];\n",
    "        // console.log(memo);\n",
    "        while ((c_idx < candidates.length) && (candidates[c_idx] === i)) {\n",
    "            memo[i].push([candidates[c_idx]])\n",
    "            // console.log(memo);\n",
    "            c_idx += 1;\n",
    "        }\n",
    "        for (let j of Array(Math.floor(i / 2) + 1).keys()) {\n",
    "            let k = i - j;\n",
    "            memo[i] = memo[i].concat(combineSets(memo[j], memo[k]));\n",
    "        }\n",
    "    }\n",
    "    \n",
    "    return memo[target];\n",
    "}"
   ]
  },
  {
   "cell_type": "code",
   "execution_count": 475,
   "metadata": {},
   "outputs": [
    {
     "data": {
      "text/plain": [
       "[ [ 1 ] ]"
      ]
     },
     "execution_count": 475,
     "metadata": {},
     "output_type": "execute_result"
    }
   ],
   "source": [
    "permutationSum([1,2,3], 1)"
   ]
  },
  {
   "cell_type": "code",
   "execution_count": 476,
   "metadata": {},
   "outputs": [
    {
     "data": {
      "text/plain": [
       "[ [ 2 ], [ 1, 1 ] ]"
      ]
     },
     "execution_count": 476,
     "metadata": {},
     "output_type": "execute_result"
    }
   ],
   "source": [
    "permutationSum([1,2,3], 2)"
   ]
  },
  {
   "cell_type": "code",
   "execution_count": 477,
   "metadata": {},
   "outputs": [
    {
     "data": {
      "text/plain": [
       "[ [ 3 ], [ 1, 2 ], [ 1, 1, 1 ] ]"
      ]
     },
     "execution_count": 477,
     "metadata": {},
     "output_type": "execute_result"
    }
   ],
   "source": [
    "permutationSum([1,2,3], 3)"
   ]
  },
  {
   "cell_type": "code",
   "execution_count": 478,
   "metadata": {},
   "outputs": [
    {
     "data": {
      "text/plain": [
       "[ [ 6 ],\n",
       "  [ 1, 5 ],\n",
       "  [ 1, 1, 4 ],\n",
       "  [ 1, 1, 1, 3 ],\n",
       "  [ 1, 1, 1, 1, 2 ],\n",
       "  [ 1, 1, 1, 1, 1, 1 ],\n",
       "  [ 1, 1, 2, 2 ],\n",
       "  [ 1, 1, 2, 1, 1 ],\n",
       "  [ 1, 1, 1, 1, 2 ],\n",
       "  [ 1, 1, 1, 1, 1, 1 ],\n",
       "  [ 1, 2, 3 ],\n",
       "  [ 1, 2, 1, 2 ],\n",
       "  [ 1, 2, 1, 1, 1 ],\n",
       "  [ 1, 1, 1, 3 ],\n",
       "  [ 1, 1, 1, 1, 2 ],\n",
       "  [ 1, 1, 1, 1, 1, 1 ],\n",
       "  [ 2, 4 ],\n",
       "  [ 2, 1, 3 ],\n",
       "  [ 2, 1, 1, 2 ],\n",
       "  [ 2, 1, 1, 1, 1 ],\n",
       "  [ 2, 2, 2 ],\n",
       "  [ 2, 2, 1, 1 ],\n",
       "  [ 2, 1, 1, 2 ],\n",
       "  [ 2, 1, 1, 1, 1 ],\n",
       "  [ 1, 1, 4 ],\n",
       "  [ 1, 1, 1, 3 ],\n",
       "  [ 1, 1, 1, 1, 2 ],\n",
       "  [ 1, 1, 1, 1, 1, 1 ],\n",
       "  [ 1, 1, 2, 2 ],\n",
       "  [ 1, 1, 2, 1, 1 ],\n",
       "  [ 1, 1, 1, 1, 2 ],\n",
       "  [ 1, 1, 1, 1, 1, 1 ],\n",
       "  [ 3, 3 ],\n",
       "  [ 3, 1, 2 ],\n",
       "  [ 3, 1, 1, 1 ],\n",
       "  [ 1, 2, 3 ],\n",
       "  [ 1, 2, 1, 2 ],\n",
       "  [ 1, 2, 1, 1, 1 ],\n",
       "  [ 1, 1, 1, 3 ],\n",
       "  [ 1, 1, 1, 1, 2 ],\n",
       "  [ 1, 1, 1, 1, 1, 1 ] ]"
      ]
     },
     "execution_count": 478,
     "metadata": {},
     "output_type": "execute_result"
    }
   ],
   "source": [
    "permutationSum([1, 2, 3, 4, 5, 6], 6)"
   ]
  },
  {
   "cell_type": "code",
   "execution_count": 494,
   "metadata": {},
   "outputs": [],
   "source": [
    "function combineUniqueSets(a, b, uniquifier) {\n",
    "    let out = [];\n",
    "    for (let _a of a) {\n",
    "        for (let _b of b) {\n",
    "            let proposal = _a.concat(_b);\n",
    "            let proposal_str = proposal.sort((a, b) => a - b).join('');\n",
    "            if (!uniquifier.has(proposal_str)) {\n",
    "                out.push(_a.concat(_b));\n",
    "                uniquifier.add(proposal_str);\n",
    "            }\n",
    "        }\n",
    "    }\n",
    "    return out;\n",
    "}\n",
    "\n",
    "function combinationSum(candidates, target) {\n",
    "    if (candidates.length === 0) return [];\n",
    "    candidates = candidates.sort((a, b) => a - b);\n",
    "    \n",
    "    let memo = [];\n",
    "    let uniquifier = new Set();\n",
    "    let c_idx = 0;\n",
    "    for (let i of Array(target + 1).keys()) {\n",
    "        memo[i] = [];\n",
    "        while ((c_idx < candidates.length) && (candidates[c_idx] === i)) {\n",
    "            memo[i].push([candidates[c_idx]])\n",
    "            uniquifier.add(candidates[c_idx].toString());\n",
    "            c_idx += 1;\n",
    "        }\n",
    "        for (let j of Array(Math.floor(i / 2) + 1).keys()) {\n",
    "            let k = i - j;\n",
    "            memo[i] = memo[i].concat(combineUniqueSets(memo[j], memo[k], uniquifier));\n",
    "        }\n",
    "    }\n",
    "    \n",
    "    return memo[target];\n",
    "}"
   ]
  },
  {
   "cell_type": "markdown",
   "metadata": {},
   "source": [
    "The difference between finding unique permutations of things and finding unique combinations of things is linear work and additiion space. For a combination with replacement problem such as this one, the easiest solution (IMO) is usually to solve for permutations with replacement, then inline uniqueness checks. This is what I've done here.\n",
    "\n",
    "This ia dynamic programming solution (memoization, nothing fancy). Combining items from the memo is constant work. We do this $n /2$ times per iteration, and we iterate $n$ times, making this algorithm $O(n^2)$."
   ]
  },
  {
   "cell_type": "markdown",
   "metadata": {},
   "source": [
    "## Combination Sum II (Leetcode 40)\n",
    "\n",
    "This time without repeats."
   ]
  },
  {
   "cell_type": "markdown",
   "metadata": {},
   "source": [
    "## Multiply Strings (Leetcode 43)\n",
    "\n",
    "Given two non-negative integers num1 and num2 represented as strings, return the product of num1 and num2, also represented as a string.\n",
    "\n",
    "```\n",
    "Example 1:\n",
    "\n",
    "Input: num1 = \"2\", num2 = \"3\"\n",
    "Output: \"6\"\n",
    "Example 2:\n",
    "\n",
    "Input: num1 = \"123\", num2 = \"456\"\n",
    "Output: \"56088\"\n",
    "Note:\n",
    "\n",
    "The length of both num1 and num2 is < 110.\n",
    "Both num1 and num2 contain only digits 0-9.\n",
    "Both num1 and num2 do not contain any leading zero, except the number 0 itself.\n",
    "You must not use any built-in BigInteger library or convert the inputs to integer directly.\n",
    "```"
   ]
  },
  {
   "cell_type": "code",
   "execution_count": 501,
   "metadata": {},
   "outputs": [
    {
     "data": {
      "text/plain": [
       "[ 1, 2, 3 ]"
      ]
     },
     "execution_count": 501,
     "metadata": {},
     "output_type": "execute_result"
    }
   ],
   "source": [
    "[...Array(2 + 2 - 1).keys()].map(v => v + 1)"
   ]
  },
  {
   "cell_type": "code",
   "execution_count": 538,
   "metadata": {},
   "outputs": [],
   "source": [
    "function multiply(num1, num2) {\n",
    "    let out = Array(num1.length + num2.length - 1);\n",
    "    \n",
    "    function place_digit_combos(num1, num2) {\n",
    "        for (let j of Array(num1.length).keys()) {\n",
    "            for (let k of Array(num2.length).keys()) {\n",
    "                let zeros = j + k;\n",
    "                if (out[zeros]) {\n",
    "                    out[zeros] = out[zeros].concat([[num1[j], num2[k]]]);\n",
    "                } else {\n",
    "                    out[zeros] = [[num1[j], num2[k]]]\n",
    "                }\n",
    "            }\n",
    "        }\n",
    "        return out;\n",
    "    }\n",
    "    \n",
    "    let digits_sorted = place_digit_combos(num1, num2);\n",
    "    let digits_sorted_idx = 0;\n",
    "    while (digits_sorted_idx < digits_sorted.length) {\n",
    "        let subsum = 0;\n",
    "        for (let [digit1, digit2] of digits_sorted_idx) {\n",
    "            subsum = parseInt(digit1) * parseInt(digit2);\n",
    "            // more code...more tedious than difficult\n",
    "        }\n",
    "    }\n",
    "}\n"
   ]
  },
  {
   "cell_type": "code",
   "execution_count": 539,
   "metadata": {
    "scrolled": true
   },
   "outputs": [
    {
     "data": {
      "text/plain": [
       "[ [ [ '1', '1' ] ],\n",
       "  [ [ '1', '2' ], [ '2', '1' ] ],\n",
       "  [ [ '2', '2' ] ] ]"
      ]
     },
     "execution_count": 539,
     "metadata": {},
     "output_type": "execute_result"
    }
   ],
   "source": [
    "multiply('12', '12')"
   ]
  },
  {
   "cell_type": "markdown",
   "metadata": {},
   "source": [
    "## Permutations (Leetcode 46)"
   ]
  },
  {
   "cell_type": "code",
   "execution_count": 561,
   "metadata": {},
   "outputs": [],
   "source": [
    "function permute(nums) {\n",
    "    if (nums.length <= 1) return [nums];\n",
    "    \n",
    "    let out = [];\n",
    "    for (let i of Array(nums.length).keys()) {\n",
    "        let subperms = permute(nums.slice(0, i).concat(nums.slice(i + 1)));\n",
    "        for (let subperm of subperms) {\n",
    "            // console.log(subperm);\n",
    "            out.push([nums[i], ...subperm]);\n",
    "        }\n",
    "    }\n",
    "    return out;\n",
    "}"
   ]
  },
  {
   "cell_type": "code",
   "execution_count": 562,
   "metadata": {},
   "outputs": [
    {
     "data": {
      "text/plain": [
       "[ [ 1, 2, 3 ],\n",
       "  [ 1, 3, 2 ],\n",
       "  [ 2, 1, 3 ],\n",
       "  [ 2, 3, 1 ],\n",
       "  [ 3, 1, 2 ],\n",
       "  [ 3, 2, 1 ] ]"
      ]
     },
     "execution_count": 562,
     "metadata": {},
     "output_type": "execute_result"
    }
   ],
   "source": [
    "permute([1,2,3])"
   ]
  },
  {
   "cell_type": "markdown",
   "metadata": {},
   "source": [
    "Straightforward recursion (backtracking). Solution is $O(n!)$."
   ]
  },
  {
   "cell_type": "markdown",
   "metadata": {},
   "source": [
    "## Permutations II (Leetcode 47)"
   ]
  },
  {
   "cell_type": "markdown",
   "metadata": {},
   "source": [
    "Given a collection of numbers that might contain duplicates, return all possible unique permutations.\n",
    "\n",
    "```\n",
    "Example:\n",
    "\n",
    "Input: [1,1,2]\n",
    "Output:\n",
    "[\n",
    "  [1,1,2],\n",
    "  [1,2,1],\n",
    "  [2,1,1]\n",
    "]\n",
    "```"
   ]
  },
  {
   "cell_type": "markdown",
   "metadata": {},
   "source": [
    "This question was a learning experience.\n",
    "\n",
    "It's easy to modify the code from the previous section to solve this problem as well by adding deduplication to the routine. This is a linear cost, easy to program, and doesn't affect the $O$ performance of the algorithm.\n",
    "\n",
    "I thought how to invert this problem and solve it using dynamic programming. The set of solutions for $(a, b, c)$ relies on the sets of solutions $\\{(a - 1, b, c), (a, b - 1, c), (a, b, c - 1)\\}$. However, this is a recursive backwards-facing solution space, and I couldn't puzzle out how to iterate through the cases without implementing a whole second complicated algorithm.\n",
    "\n",
    "Ultimately the solution was to add a stop condition to the insertion operation in the original algorithm. I tested this out on paper and it works. I don't know how I would discover this stop condition on my own, in my own analysis, but now that I know about it, this is a useful trick that will come in handy in the future."
   ]
  },
  {
   "cell_type": "markdown",
   "metadata": {},
   "source": [
    "```python\n",
    "def permuteUnique(self, nums):\n",
    "    ans = [[]]\n",
    "    for n in nums:\n",
    "        new_ans = []\n",
    "        for l in ans:\n",
    "            for i in range(len(l)+1):\n",
    "                new_ans.append(l[:i]+[n]+l[i:])\n",
    "                if i<len(l) and l[i]==n: break              #handles duplication\n",
    "        ans = new_ans\n",
    "    return ans\n",
    "```"
   ]
  },
  {
   "cell_type": "markdown",
   "metadata": {},
   "source": [
    "## Rotate Image (Leetcode 48)"
   ]
  },
  {
   "cell_type": "code",
   "execution_count": 596,
   "metadata": {},
   "outputs": [],
   "source": [
    "function rotate(matrix) {\n",
    "    for (let x of Array(matrix.length).keys()) {\n",
    "        for (let y of Array(matrix.length - x - 1).keys()) {\n",
    "            let [x_c, y_c] = [matrix.length - 1 - y, matrix.length - 1 - x];\n",
    "            [matrix[x][y], matrix[x_c][y_c]] = [matrix[x_c][y_c], matrix[x][y]];\n",
    "        }\n",
    "    }\n",
    "    \n",
    "    for (let x of Array(Math.floor(matrix.length / 2)).keys()) {\n",
    "        for (let y of Array(matrix.length).keys()) {\n",
    "            let [x_c, y_c] = [matrix.length - 1 - x, y];\n",
    "            [matrix[x][y], matrix[x_c][y_c]] = [matrix[x_c][y_c], matrix[x][y]];\n",
    "        }\n",
    "    }\n",
    "}"
   ]
  },
  {
   "cell_type": "code",
   "execution_count": 597,
   "metadata": {},
   "outputs": [
    {
     "data": {
      "text/plain": [
       "[ [ '3', '1' ], [ '4', '2' ] ]"
      ]
     },
     "execution_count": 597,
     "metadata": {},
     "output_type": "execute_result"
    }
   ],
   "source": [
    "rotate([['1', '2'], ['3', '4']])"
   ]
  },
  {
   "cell_type": "markdown",
   "metadata": {},
   "source": [
    "## Group Anagrams (Leetcode 49)"
   ]
  },
  {
   "cell_type": "code",
   "execution_count": 16,
   "metadata": {},
   "outputs": [],
   "source": [
    "function groupAnagrams(strs) {\n",
    "    let pos_map = new Map;\n",
    "    let out = [];\n",
    "    \n",
    "    for (let str of strs) {\n",
    "        let char_seq = [...str].sort((a, b) => a.charCodeAt(0) - b.charCodeAt(0)).join('');\n",
    "        \n",
    "        if (pos_map.has(char_seq)) {\n",
    "            out[pos_map.get(char_seq)].push(str);\n",
    "        } else {\n",
    "            pos_map.set(char_seq, out.length);\n",
    "            out[out.length] = [str];\n",
    "        }\n",
    "    }\n",
    "    return out;\n",
    "}"
   ]
  },
  {
   "cell_type": "code",
   "execution_count": 22,
   "metadata": {},
   "outputs": [
    {
     "data": {
      "text/plain": [
       "[ [ 'abc', 'acb', 'cab', 'cba' ] ]"
      ]
     },
     "execution_count": 22,
     "metadata": {},
     "output_type": "execute_result"
    }
   ],
   "source": [
    "groupAnagrams(['abc', 'acb', 'cab', 'cba'])"
   ]
  },
  {
   "cell_type": "markdown",
   "metadata": {},
   "source": [
    "Two words being anagrams of one another reduces to those two words having a unique sorted sequences of characters, e.g. `eat` and `tea` would both reduce to `aet`. We map each index in the output array to a specific output sequence in iteration discovery order, using a hash map to make find-index into an $O(1)$ operation. Generating the sorted character sequence is an $O(m\\log{m})$ operation, where $m$ is the length of the word. So the overall algorithm is $O(nm\\log{m})$.\n",
    "\n",
    "Compare with this following Python solution:\n",
    "\n",
    "```python\n",
    "def groupAnagrams(self, strs):\n",
    "    d = {}\n",
    "    for w in sorted(strs):\n",
    "        key = tuple(sorted(w))\n",
    "        d[key] = d.get(key, []) + [w]\n",
    "    return d.values()\n",
    "```\n",
    "\n",
    "This algorithm is $O(n\\log{n})$. Which of these two is better seems like it'd depend mostly on the length of the words."
   ]
  },
  {
   "cell_type": "markdown",
   "metadata": {},
   "source": [
    "## House Robbers (Leetcode 198)\n",
    "\n",
    "Apparently a pretty famous problem, discussed it on the roof last night."
   ]
  },
  {
   "cell_type": "code",
   "execution_count": 53,
   "metadata": {},
   "outputs": [],
   "source": [
    "function rob(nums) {\n",
    "    if (!nums) return 0;\n",
    "    else if (nums.length === 1) return nums[0];\n",
    "    else if (nums.length === 2) return nums[0] > nums[1] ? nums[0] : nums[1];\n",
    "    else {\n",
    "        let best_submax = 0;\n",
    "        for (let numidx of Array(nums.length).keys()) {\n",
    "            let left_r_bound = numidx === 0 ? 0 : numidx - 1;\n",
    "            let left = rob(nums.slice(0, left_r_bound));\n",
    "            let right = rob(nums.slice(numidx + 2));\n",
    "            let tot = nums[numidx] + left + right;\n",
    "            if (tot > best_submax) best_submax = tot;\n",
    "        }\n",
    "        return best_submax;\n",
    "    }\n",
    "}"
   ]
  },
  {
   "cell_type": "code",
   "execution_count": 54,
   "metadata": {},
   "outputs": [
    {
     "data": {
      "text/plain": [
       "0"
      ]
     },
     "execution_count": 54,
     "metadata": {},
     "output_type": "execute_result"
    }
   ],
   "source": [
    "rob([])"
   ]
  },
  {
   "cell_type": "code",
   "execution_count": 55,
   "metadata": {},
   "outputs": [
    {
     "data": {
      "text/plain": [
       "1"
      ]
     },
     "execution_count": 55,
     "metadata": {},
     "output_type": "execute_result"
    }
   ],
   "source": [
    "rob([1])"
   ]
  },
  {
   "cell_type": "code",
   "execution_count": 56,
   "metadata": {},
   "outputs": [
    {
     "data": {
      "text/plain": [
       "2"
      ]
     },
     "execution_count": 56,
     "metadata": {},
     "output_type": "execute_result"
    }
   ],
   "source": [
    "rob([1,2])"
   ]
  },
  {
   "cell_type": "code",
   "execution_count": 57,
   "metadata": {},
   "outputs": [
    {
     "data": {
      "text/plain": [
       "4"
      ]
     },
     "execution_count": 57,
     "metadata": {},
     "output_type": "execute_result"
    }
   ],
   "source": [
    "rob([1,2,3])"
   ]
  },
  {
   "cell_type": "code",
   "execution_count": 58,
   "metadata": {},
   "outputs": [
    {
     "data": {
      "text/plain": [
       "4"
      ]
     },
     "execution_count": 58,
     "metadata": {},
     "output_type": "execute_result"
    }
   ],
   "source": [
    "rob([1,2,3,1])"
   ]
  },
  {
   "cell_type": "code",
   "execution_count": 59,
   "metadata": {},
   "outputs": [
    {
     "data": {
      "text/plain": [
       "12"
      ]
     },
     "execution_count": 59,
     "metadata": {},
     "output_type": "execute_result"
    }
   ],
   "source": [
    "rob([2,7,9,3,1])"
   ]
  },
  {
   "cell_type": "markdown",
   "metadata": {},
   "source": [
    "<s>This solution is $O(n!)$ because each case for an array of length $n$ breaks down (roughly) into $n$ cases of arrays of length $n - 2$. That requires a recursion tree of cost $(1)(3)(5)\\ldots(n - 2)(n) \\leq n!$</s>\n",
    "\n",
    "The actual answer for time complexity: $O(2^n)$. Why you get this lower bound:\n",
    "\n",
    "$$W(n=7) = W(5) + W(4) + (W(1) + W(3)) + W(2) + W(2) + (W(1) + W(3)) + W(4) + W(5)$$\n",
    "$$= 2(W(5) + W(4) + 2(W(3) + W(1))$$\n",
    "$$= 2(W(n-2)) + 2(W(n-3)) + 4(W(n-4)) + 4(W(n-5)) + \\ldots \\: | \\: n > 0$$\n",
    "$$= \\sum_{k=0}^{k=\\lfloor n / 2 \\rfloor} 2^k (W(n- 2 - 2k) + W(n- 3 - 2k))$$\n",
    "$$\\leq 2^n$$\n",
    "\n",
    "\"[Because Fibbonacci](https://medium.com/outco/how-to-solve-the-house-robber-problem-f3535ebaef1b)\".\n",
    "\n",
    "This solution is correct but extremely slow. The Leetcode exercise asks for an answer for the following, the computation time for which exceeds the time limit:\n",
    "\n",
    "```\n",
    "rob([183,219,57,193,94,233,202,154,65,240,97,234,100,249,186,66,90,238,168,\n",
    "     128,177,235,50,81,185,165,217,207,88,80,112,78,135,62,228,247,211])\n",
    "```\n",
    "\n",
    "There are two ways to get speed-ups. The most immediately implementable way is to perform memoization. The other, much more difficult way is to reverse the problem into one in dynamic programming."
   ]
  },
  {
   "cell_type": "code",
   "execution_count": 81,
   "metadata": {},
   "outputs": [],
   "source": [
    "function rob(nums) {\n",
    "    function _rob(nums, memo) {\n",
    "        // console.log(nums, memo);\n",
    "        \n",
    "        if (!nums) return [0, memo];\n",
    "        else if (nums.length === 1) return [nums[0], memo];\n",
    "        else if (nums.length === 2) return nums[0] > nums[1] ? [nums[0], memo] : [nums[1], memo];\n",
    "        else if (memo.has(nums.join(','))) return [memo.get(nums.join(',')), memo];\n",
    "        else {\n",
    "            let best_submax = 0;\n",
    "            for (let numidx of Array(nums.length).keys()) {\n",
    "                let left_r_bound = numidx === 0 ? 0 : numidx - 1;\n",
    "                let left = nums.slice(0, left_r_bound);\n",
    "                let left_memo_key = left.join(',');\n",
    "                if (memo.has(left_memo_key)) {\n",
    "                    left = memo.get(left_memo_key);\n",
    "                } else {\n",
    "                    [left, memo] = _rob(nums.slice(0, left_r_bound), memo);\n",
    "                    memo.set(left_memo_key, left);\n",
    "                }\n",
    "                \n",
    "                let right = nums.slice(numidx + 2);\n",
    "                let right_memo_key = right.join(',');\n",
    "                if (memo.has(right_memo_key)) {\n",
    "                    right = memo.get(right_memo_key);\n",
    "                } else {\n",
    "                    [right, memo] = _rob(nums.slice(numidx + 2), memo);\n",
    "                    memo.set(right_memo_key, right);\n",
    "                }\n",
    "                \n",
    "                let tot = nums[numidx] + left + right;\n",
    "                if (tot > best_submax) best_submax = tot;\n",
    "            }\n",
    "            memo.set(nums.join(','), best_submax);\n",
    "            return [best_submax, memo];\n",
    "        }\n",
    "    }\n",
    "    \n",
    "    let memo = new Map();    \n",
    "    return _rob(nums, memo)[0];\n",
    "}"
   ]
  },
  {
   "cell_type": "code",
   "execution_count": 83,
   "metadata": {},
   "outputs": [
    {
     "data": {
      "text/plain": [
       "0"
      ]
     },
     "execution_count": 83,
     "metadata": {},
     "output_type": "execute_result"
    }
   ],
   "source": [
    "rob([])"
   ]
  },
  {
   "cell_type": "code",
   "execution_count": 84,
   "metadata": {},
   "outputs": [
    {
     "data": {
      "text/plain": [
       "1"
      ]
     },
     "execution_count": 84,
     "metadata": {},
     "output_type": "execute_result"
    }
   ],
   "source": [
    "rob([1])"
   ]
  },
  {
   "cell_type": "code",
   "execution_count": 85,
   "metadata": {},
   "outputs": [
    {
     "data": {
      "text/plain": [
       "2"
      ]
     },
     "execution_count": 85,
     "metadata": {},
     "output_type": "execute_result"
    }
   ],
   "source": [
    "rob([2])"
   ]
  },
  {
   "cell_type": "code",
   "execution_count": 86,
   "metadata": {},
   "outputs": [
    {
     "data": {
      "text/plain": [
       "12"
      ]
     },
     "execution_count": 86,
     "metadata": {},
     "output_type": "execute_result"
    }
   ],
   "source": [
    "rob([2,7,9,3,1])"
   ]
  },
  {
   "cell_type": "code",
   "execution_count": 87,
   "metadata": {},
   "outputs": [
    {
     "data": {
      "text/plain": [
       "3365"
      ]
     },
     "execution_count": 87,
     "metadata": {},
     "output_type": "execute_result"
    }
   ],
   "source": [
    "rob([183,219,57,193,94,233,202,154,65,240,97,234,100,249,186,66,90,238,168,\n",
    "     128,177,235,50,81,185,165,217,207,88,80,112,78,135,62,228,247,211])"
   ]
  },
  {
   "cell_type": "markdown",
   "metadata": {},
   "source": [
    "Memoization did the trick. How fast is this solution? Well, it guaranteed that we only ever solve each possible subproblem once, and we are guaranteed to visit every single subproblem. So the answer is the number of neighborhoods of every possible size in the ordered list. There are $n$ one-element neighborhoods, $n - 1$ two-element neighborhoods, as so on. So memoization turns this solution into a $n + (n - 1) + \\ldots + 1 = \\sum_{i=1}^n i = \\frac{n(n + 1)}{2} \\leq n^2 \\implies O(n^2)$ solution.\n",
    "\n",
    "At first I thought that dymanic programming would not speed up the $O$ speed of the solution because it would only eliminate redudant memo checks. But it turns out that there is a deeper recurrance relationship within the call stack that dynamic programming can indeed eliminate. We use the relation that $f(arr) \\leq f(arr + [n])$; e.g. that the solution to the problem when one additional house is added is equivalent to the solution the previous subproblem, plus potentially an ascending pattern of values:\n",
    "\n",
    "![](https://miro.medium.com/max/5462/1*CQqAenqZdRXQljynJ8s2wQ.png)\n",
    "\n",
    "This solution is $O(n)$. =(\n",
    "\n",
    "Things that didn't go right here:\n",
    "* Finding the time complexity boundary of the naive recursive solution.\n",
    "* One of the explainers makes the following comment about the memoized solution:\n",
    "\n",
    "  > Much better, this should run in O(n) time. \n",
    "  \n",
    "  Which I don't believe.\n",
    "* Not finding the deeper subproblem division.\n",
    "\n",
    "Overall, this problem definitely doesn't qualify as \"Easy\"."
   ]
  }
 ],
 "metadata": {
  "kernelspec": {
   "display_name": "Javascript (Node.js)",
   "language": "javascript",
   "name": "javascript"
  },
  "language_info": {
   "file_extension": ".js",
   "mimetype": "application/javascript",
   "name": "javascript",
   "version": "11.3.0"
  }
 },
 "nbformat": 4,
 "nbformat_minor": 2
}
