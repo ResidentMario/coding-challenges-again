{
 "cells": [
  {
   "cell_type": "markdown",
   "metadata": {},
   "source": [
    "In this section, going over the problems I was not completely correct on in the fourth section of the problem set, DP."
   ]
  },
  {
   "cell_type": "markdown",
   "metadata": {},
   "source": [
    "> * house robber is O(N), not O(N**2) - you can use the combination skeleton from earlier to solve it, like so:\n"
   ]
  },
  {
   "cell_type": "markdown",
   "metadata": {},
   "source": [
    "* Top-down brute force fast."
   ]
  },
  {
   "cell_type": "code",
   "execution_count": 10,
   "metadata": {},
   "outputs": [],
   "source": [
    "def rob(nums):\n",
    "    if len(nums) == 0: return 0\n",
    "    if len(nums) == 1: return nums[0]\n",
    "    if len(nums) == 2: return max(*nums)\n",
    "    return max(nums[0] + rob(nums[2:]), nums[1] + rob(nums[3:]))"
   ]
  },
  {
   "cell_type": "code",
   "execution_count": 11,
   "metadata": {},
   "outputs": [
    {
     "data": {
      "text/plain": [
       "9"
      ]
     },
     "execution_count": 11,
     "metadata": {},
     "output_type": "execute_result"
    }
   ],
   "source": [
    "rob([1,2,3,4,5])"
   ]
  },
  {
   "cell_type": "code",
   "execution_count": 12,
   "metadata": {},
   "outputs": [
    {
     "data": {
      "text/plain": [
       "2"
      ]
     },
     "execution_count": 12,
     "metadata": {},
     "output_type": "execute_result"
    }
   ],
   "source": [
    "rob([1,2])"
   ]
  },
  {
   "cell_type": "code",
   "execution_count": 13,
   "metadata": {},
   "outputs": [
    {
     "data": {
      "text/plain": [
       "12"
      ]
     },
     "execution_count": 13,
     "metadata": {},
     "output_type": "execute_result"
    }
   ],
   "source": [
    "rob([2,7,9,3,1])"
   ]
  },
  {
   "cell_type": "markdown",
   "metadata": {},
   "source": [
    "* Now to memoize."
   ]
  },
  {
   "cell_type": "code",
   "execution_count": 26,
   "metadata": {},
   "outputs": [],
   "source": [
    "def rob(nums):\n",
    "    def _rob(nums, memo):\n",
    "        if len(nums) == 0: return 0, memo\n",
    "        if len(nums) == 1: return nums[0], memo\n",
    "        if tuple(nums) in memo:\n",
    "            return memo[tuple(nums)], memo\n",
    "        \n",
    "        if len(nums) == 2:\n",
    "            memo[tuple(nums)] = max(*nums)\n",
    "            return memo[tuple(nums)], memo\n",
    "        \n",
    "        p1, memo = _rob(nums[2:], memo)\n",
    "        p2, memo = _rob(nums[3:], memo)\n",
    "        memo[tuple(nums)] = max(nums[0] + p1, nums[1] + p2)\n",
    "        return memo[tuple(nums)], memo\n",
    "    \n",
    "    return _rob(nums, {})[0]"
   ]
  },
  {
   "cell_type": "code",
   "execution_count": 27,
   "metadata": {
    "scrolled": false
   },
   "outputs": [
    {
     "data": {
      "text/plain": [
       "12"
      ]
     },
     "execution_count": 27,
     "metadata": {},
     "output_type": "execute_result"
    }
   ],
   "source": [
    "rob([2,7,9,3,1])"
   ]
  },
  {
   "cell_type": "markdown",
   "metadata": {},
   "source": [
    "* This is $O(n)$ (this is the mistake I made last time) because memoized computations are constant work. In particular, we will solve `max([3, 1])`, then `max([5, 3, 1])`, then `max([9, 5, 3, 1])`...all of the subcalculations otherwise are memoized and constant work."
   ]
  },
  {
   "cell_type": "markdown",
   "metadata": {},
   "source": [
    "> https://leetcode.com/problems/house-robber-ii/"
   ]
  },
  {
   "cell_type": "code",
   "execution_count": 38,
   "metadata": {},
   "outputs": [],
   "source": [
    "def rob(nums):\n",
    "    if len(nums) == 0: return 0\n",
    "    if len(nums) == 1: return nums[0]\n",
    "    if len(nums) == 2: return max(*nums)\n",
    "    return max(nums[0] + rob(nums[2:-1]), nums[1] + rob(nums[3:]))"
   ]
  },
  {
   "cell_type": "code",
   "execution_count": 39,
   "metadata": {},
   "outputs": [
    {
     "data": {
      "text/plain": [
       "12"
      ]
     },
     "execution_count": 39,
     "metadata": {},
     "output_type": "execute_result"
    }
   ],
   "source": [
    "rob([9, 5, 3, 1])"
   ]
  },
  {
   "cell_type": "code",
   "execution_count": 144,
   "metadata": {},
   "outputs": [],
   "source": [
    "def rob(nums):\n",
    "    if len(nums) == 0: return 0\n",
    "    if len(nums) == 1: return nums[0]\n",
    "    if len(nums) == 2: return max(nums[0], nums[1])\n",
    "    \n",
    "    def _rob(nums, memo):\n",
    "        if len(nums) == 0: return 0, memo\n",
    "        if len(nums) == 1: return nums[0], memo\n",
    "        if tuple(nums) in memo:\n",
    "            return memo[tuple(nums)], memo\n",
    "        \n",
    "        if len(nums) == 2:\n",
    "            memo[tuple(nums)] = max(*nums)\n",
    "            return memo[tuple(nums)], memo\n",
    "        \n",
    "        p1, memo = _rob(nums[2:], memo)\n",
    "        p2, memo = _rob(nums[3:], memo)\n",
    "        memo[tuple(nums)] = max(nums[0] + p1, nums[1] + p2)\n",
    "        return memo[tuple(nums)], memo\n",
    "    \n",
    "    # ignore wrapping rule for non-final arrays\n",
    "    # we always take one of the first entry, the second entry, or the last entry\n",
    "    opt1, _ = _rob(nums[2:-1], {})\n",
    "    opt2, _ = _rob(nums[1:-2], {})\n",
    "    opt3, _ = _rob(nums[3:], {})\n",
    "    \n",
    "    return max(nums[0] + opt1, nums[-1] + opt2, nums[1] + opt3)"
   ]
  },
  {
   "cell_type": "code",
   "execution_count": 145,
   "metadata": {},
   "outputs": [
    {
     "data": {
      "text/plain": [
       "3"
      ]
     },
     "execution_count": 145,
     "metadata": {},
     "output_type": "execute_result"
    }
   ],
   "source": [
    "rob([1, 3, 1])"
   ]
  },
  {
   "cell_type": "code",
   "execution_count": 146,
   "metadata": {},
   "outputs": [
    {
     "data": {
      "text/plain": [
       "16"
      ]
     },
     "execution_count": 146,
     "metadata": {},
     "output_type": "execute_result"
    }
   ],
   "source": [
    "rob([1, 2, 3, 4, 5, 1, 2, 3, 4, 5])"
   ]
  },
  {
   "cell_type": "code",
   "execution_count": 147,
   "metadata": {},
   "outputs": [
    {
     "data": {
      "text/plain": [
       "5"
      ]
     },
     "execution_count": 147,
     "metadata": {},
     "output_type": "execute_result"
    }
   ],
   "source": [
    "rob([1, 3, 4, 1])"
   ]
  },
  {
   "cell_type": "markdown",
   "metadata": {},
   "source": [
    "* Similarly $O(n)$, only difference is the need for three top-level cases."
   ]
  },
  {
   "cell_type": "markdown",
   "metadata": {},
   "source": [
    "> https://leetcode.com/problems/house-robber-iii/\n",
    ">\n",
    "> i'm noticing a pattern where your recursion sometimes acts on root.left.left, but ideally your recursion should only need to operate on root.left (the current node and not look forward twice - you had a similar issue with the base cases i mentioned earlier: your recursive call is accessing stuff that can be taken care of in another layer)"
   ]
  },
  {
   "cell_type": "code",
   "execution_count": 198,
   "metadata": {},
   "outputs": [],
   "source": [
    "def rob(root):\n",
    "    \n",
    "    def grandchildren(root):\n",
    "        out = []\n",
    "        if root.left and root.left.left:\n",
    "            out.append(root.left.left)\n",
    "        if root.left and root.left.right:\n",
    "            out.append(root.left.right)\n",
    "        if root.right and root.right.left:\n",
    "            out.append(root.right.left)\n",
    "        if root.right and root.right.right:\n",
    "            out.append(root.right.right)\n",
    "        return out\n",
    "    \n",
    "    def _rob(root, memo):\n",
    "        if not root:\n",
    "            return 0, memo\n",
    "        if not root.left and not root.right:\n",
    "            return root.val, memo\n",
    "        if root in memo:\n",
    "            return memo[root], memo\n",
    "        else:\n",
    "            gchildren = grandchildren(root)\n",
    "            gch_total_val = 0\n",
    "            for gchild in gchildren:\n",
    "                g_val, memo = _rob(gchild, memo)\n",
    "                gch_total_val += g_val\n",
    "            opt1 = root.val + gch_total_val\n",
    "            opt2 = sum([_rob(root.left, memo)[0], _rob(root.right, memo)[0]])\n",
    "            out = max(opt1, opt2)\n",
    "            memo[root] = out\n",
    "            return out, memo\n",
    "    \n",
    "    return _rob(root, {})[0]\n",
    "    \n",
    "class Node:\n",
    "    def __init__(self, val):\n",
    "        self.val = val\n",
    "        self.left = None\n",
    "        self.right = None"
   ]
  },
  {
   "cell_type": "code",
   "execution_count": 199,
   "metadata": {},
   "outputs": [
    {
     "data": {
      "text/plain": [
       "5"
      ]
     },
     "execution_count": 199,
     "metadata": {},
     "output_type": "execute_result"
    }
   ],
   "source": [
    "root = Node(1)\n",
    "root.left = Node(2)\n",
    "root.right = Node(3)\n",
    "rob(root)"
   ]
  },
  {
   "cell_type": "code",
   "execution_count": 200,
   "metadata": {},
   "outputs": [
    {
     "data": {
      "text/plain": [
       "10"
      ]
     },
     "execution_count": 200,
     "metadata": {},
     "output_type": "execute_result"
    }
   ],
   "source": [
    "root = Node(10)\n",
    "root.left = Node(2)\n",
    "root.right = Node(3)\n",
    "rob(root)"
   ]
  },
  {
   "cell_type": "code",
   "execution_count": 201,
   "metadata": {},
   "outputs": [
    {
     "data": {
      "text/plain": [
       "5"
      ]
     },
     "execution_count": 201,
     "metadata": {},
     "output_type": "execute_result"
    }
   ],
   "source": [
    "root = Node(1)\n",
    "root.left = Node(2)\n",
    "root.right = Node(3)\n",
    "root.left.left = Node(1)\n",
    "root.left.right = Node(1)\n",
    "root.right.left = Node(1)\n",
    "root.right.right = Node(1)\n",
    "rob(root)"
   ]
  },
  {
   "cell_type": "code",
   "execution_count": 202,
   "metadata": {},
   "outputs": [
    {
     "data": {
      "text/plain": [
       "9"
      ]
     },
     "execution_count": 202,
     "metadata": {},
     "output_type": "execute_result"
    }
   ],
   "source": [
    "root = Node(1)\n",
    "root.left = Node(2)\n",
    "root.right = Node(3)\n",
    "root.left.left = Node(2)\n",
    "root.left.right = Node(2)\n",
    "root.right.left = Node(2)\n",
    "root.right.right = Node(2)\n",
    "rob(root)"
   ]
  },
  {
   "cell_type": "code",
   "execution_count": 203,
   "metadata": {},
   "outputs": [
    {
     "data": {
      "text/plain": [
       "7"
      ]
     },
     "execution_count": 203,
     "metadata": {},
     "output_type": "execute_result"
    }
   ],
   "source": [
    "root = Node(1)\n",
    "root.left = Node(2)\n",
    "root.right = Node(3)\n",
    "root.left.left = Node(2)\n",
    "root.left.right = Node(2)\n",
    "root.right.left = Node(2)\n",
    "rob(root)"
   ]
  },
  {
   "cell_type": "code",
   "execution_count": 204,
   "metadata": {},
   "outputs": [
    {
     "data": {
      "text/plain": [
       "7"
      ]
     },
     "execution_count": 204,
     "metadata": {},
     "output_type": "execute_result"
    }
   ],
   "source": [
    "root = Node(2)\n",
    "root.left = Node(1)\n",
    "root.right = Node(3)\n",
    "root.left.right = Node(4)\n",
    "rob(root)"
   ]
  },
  {
   "cell_type": "code",
   "execution_count": 205,
   "metadata": {
    "scrolled": true
   },
   "outputs": [
    {
     "data": {
      "text/plain": [
       "10"
      ]
     },
     "execution_count": 205,
     "metadata": {},
     "output_type": "execute_result"
    }
   ],
   "source": [
    "root = Node(1)\n",
    "root.left = Node(2)\n",
    "root.right = Node(6)\n",
    "root.left.left = Node(2)\n",
    "root.left.right = Node(2)\n",
    "root.right.left = Node(2)\n",
    "root.right.right = Node(2)\n",
    "rob(root)"
   ]
  },
  {
   "cell_type": "markdown",
   "metadata": {},
   "source": [
    "* Hmm, this problem seems to require looking at grandchildren as part of the recursive structure, though?"
   ]
  },
  {
   "cell_type": "markdown",
   "metadata": {},
   "source": [
    "> https://leetcode.com/problems/minimum-cost-for-tickets/\n",
    "\n",
    "* I can't redo this one because I remember the trick with it, because I was so irritated I missed it. :)"
   ]
  },
  {
   "cell_type": "markdown",
   "metadata": {},
   "source": [
    "> https://leetcode.com/problems/edit-distance/"
   ]
  },
  {
   "cell_type": "code",
   "execution_count": 247,
   "metadata": {},
   "outputs": [
    {
     "data": {
      "text/plain": [
       "0"
      ]
     },
     "execution_count": 247,
     "metadata": {},
     "output_type": "execute_result"
    }
   ],
   "source": [
    "int(not ('a' == 'a'))"
   ]
  },
  {
   "cell_type": "code",
   "execution_count": 344,
   "metadata": {},
   "outputs": [],
   "source": [
    "def minDistance(word1, word2):\n",
    "    def findDistance(i, j):\n",
    "        if i == 0 or j == 0:\n",
    "            return max(i, j)\n",
    "        if (i, j) in d:\n",
    "            return d[(i, j)]\n",
    "        \n",
    "        d[(i - 1, j)] = findDistance(i - 1, j)\n",
    "        case1 = d[(i - 1, j)] + 1\n",
    "        d[(i, j - 1)] = findDistance(i, j - 1)\n",
    "        case2 = d[(i, j - 1)] + 1\n",
    "        d[(i - 1, j - 1)] = findDistance(i - 1, j - 1)\n",
    "        case3 = d[(i - 1, j - 1)] + int(not (word1[i - 1] == word2[j - 1]))\n",
    "        return min(case1, case2, case3)\n",
    "\n",
    "    i = 1\n",
    "    j = 1\n",
    "    d = {(0, 0): 0, (0, 1): 1, (1, 0): 1}\n",
    "    \n",
    "    while i <= len(word1) and j <= len(word2):\n",
    "        d[(i, j)] = findDistance(i, j)\n",
    "        if j < i:\n",
    "            j += 1\n",
    "        else:\n",
    "            i += 1\n",
    "    \n",
    "    i = min(i, len(word1))\n",
    "    j = min(j, len(word2))\n",
    "    while i <= len(word1):\n",
    "        d[(i, j)] = findDistance(i, j)\n",
    "        i += 1\n",
    "    i -= 1\n",
    "    while j <= len(word2):\n",
    "        d[(i, j)] = findDistance(i, j)\n",
    "        j += 1\n",
    "    \n",
    "    return d[(len(word1), len(word2))]"
   ]
  },
  {
   "cell_type": "code",
   "execution_count": 345,
   "metadata": {},
   "outputs": [
    {
     "data": {
      "text/plain": [
       "0"
      ]
     },
     "execution_count": 345,
     "metadata": {},
     "output_type": "execute_result"
    }
   ],
   "source": [
    "minDistance('a', 'a')"
   ]
  },
  {
   "cell_type": "code",
   "execution_count": 346,
   "metadata": {},
   "outputs": [
    {
     "data": {
      "text/plain": [
       "2"
      ]
     },
     "execution_count": 346,
     "metadata": {},
     "output_type": "execute_result"
    }
   ],
   "source": [
    "minDistance('abc', 'a')"
   ]
  },
  {
   "cell_type": "code",
   "execution_count": 347,
   "metadata": {},
   "outputs": [
    {
     "data": {
      "text/plain": [
       "1"
      ]
     },
     "execution_count": 347,
     "metadata": {},
     "output_type": "execute_result"
    }
   ],
   "source": [
    "minDistance('abc', 'abd')"
   ]
  },
  {
   "cell_type": "code",
   "execution_count": 348,
   "metadata": {},
   "outputs": [
    {
     "data": {
      "text/plain": [
       "5"
      ]
     },
     "execution_count": 348,
     "metadata": {},
     "output_type": "execute_result"
    }
   ],
   "source": [
    "minDistance('abc', 'abdgggg')"
   ]
  },
  {
   "cell_type": "code",
   "execution_count": 349,
   "metadata": {},
   "outputs": [
    {
     "data": {
      "text/plain": [
       "1"
      ]
     },
     "execution_count": 349,
     "metadata": {},
     "output_type": "execute_result"
    }
   ],
   "source": [
    "minDistance('b', 'c')"
   ]
  },
  {
   "cell_type": "code",
   "execution_count": 350,
   "metadata": {},
   "outputs": [
    {
     "data": {
      "text/plain": [
       "1"
      ]
     },
     "execution_count": 350,
     "metadata": {},
     "output_type": "execute_result"
    }
   ],
   "source": [
    "minDistance('101', '11')"
   ]
  },
  {
   "cell_type": "code",
   "execution_count": 351,
   "metadata": {},
   "outputs": [
    {
     "data": {
      "text/plain": [
       "0"
      ]
     },
     "execution_count": 351,
     "metadata": {},
     "output_type": "execute_result"
    }
   ],
   "source": [
    "minDistance('', '')"
   ]
  },
  {
   "cell_type": "code",
   "execution_count": 352,
   "metadata": {},
   "outputs": [
    {
     "data": {
      "text/plain": [
       "3"
      ]
     },
     "execution_count": 352,
     "metadata": {},
     "output_type": "execute_result"
    }
   ],
   "source": [
    "minDistance('', '101')"
   ]
  },
  {
   "cell_type": "code",
   "execution_count": 353,
   "metadata": {},
   "outputs": [
    {
     "data": {
      "text/plain": [
       "6"
      ]
     },
     "execution_count": 353,
     "metadata": {},
     "output_type": "execute_result"
    }
   ],
   "source": [
    "minDistance('dinitrophenylhydrazine', 'acetylphenylhydrazine')"
   ]
  },
  {
   "cell_type": "markdown",
   "metadata": {},
   "source": [
    "* This is a bottom-up implementation using the Levenshtein distance recurrence relationship, which is not something I was able to derive independently.\n",
    "* This algorithm is $O(n)$. Every combination of character counts where $|i - k| <= 1$ is visited. We then increment up to $\\max(l(\\text{word1}), l(\\text{word2}))$, performing constant work along the way.\n",
    "* I found the left-right incrementation tricky to implement."
   ]
  }
 ],
 "metadata": {
  "kernelspec": {
   "display_name": "Python 3",
   "language": "python",
   "name": "python3"
  },
  "language_info": {
   "codemirror_mode": {
    "name": "ipython",
    "version": 3
   },
   "file_extension": ".py",
   "mimetype": "text/x-python",
   "name": "python",
   "nbconvert_exporter": "python",
   "pygments_lexer": "ipython3",
   "version": "3.7.3"
  }
 },
 "nbformat": 4,
 "nbformat_minor": 2
}
