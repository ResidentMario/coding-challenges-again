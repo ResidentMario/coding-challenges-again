{
 "cells": [
  {
   "cell_type": "markdown",
   "metadata": {},
   "source": [
    "Recall that we stopped early on graph problems when we ran into Djikstra. I wasn't satisfied with how well I was understanding my BFS and DFS implementations. See the third notebook for me working through the implementation for Djikstra. This notebook will be a bunch of graph search problems, focusing on ones I haven't done yet, for practice writing BFS and DFS code. Once I feel a bit more confident with these I'll revisit the graphs problem set."
   ]
  },
  {
   "cell_type": "markdown",
   "metadata": {},
   "source": [
    "> https://leetcode.com/problems/same-tree/"
   ]
  },
  {
   "cell_type": "code",
   "execution_count": null,
   "metadata": {},
   "outputs": [],
   "source": [
    "class TreeNode:\n",
    "    def __init__(self, x):\n",
    "        self.val = x\n",
    "        self.left = None\n",
    "        self.right = None\n",
    "\n",
    "\n",
    "def isSameTree(p, q):\n",
    "    if ((p is None and q is not None) or\n",
    "        (p is not None and q is None)):\n",
    "        return False\n",
    "    elif p is None and q is None:\n",
    "        return True\n",
    "    elif p.val != q.val:\n",
    "        return False\n",
    "    \n",
    "    return isSameTree(p.left, q.left) and isSameTree(p.right, q.right)"
   ]
  },
  {
   "cell_type": "code",
   "execution_count": null,
   "metadata": {},
   "outputs": [],
   "source": [
    "p = TreeNode(1)\n",
    "p.left = TreeNode(2)\n",
    "p.right = TreeNode(3)\n",
    "q = p\n",
    "isSameTree(p, q)"
   ]
  },
  {
   "cell_type": "code",
   "execution_count": null,
   "metadata": {},
   "outputs": [],
   "source": [
    "p = TreeNode(1)\n",
    "p.left = TreeNode(2)\n",
    "p.right = TreeNode(3)\n",
    "q = TreeNode(1)\n",
    "q.left = TreeNode(2)\n",
    "isSameTree(p, q)"
   ]
  },
  {
   "cell_type": "code",
   "execution_count": null,
   "metadata": {},
   "outputs": [],
   "source": [
    "p = None\n",
    "q = None\n",
    "isSameTree(p, q)"
   ]
  },
  {
   "cell_type": "code",
   "execution_count": null,
   "metadata": {},
   "outputs": [],
   "source": [
    "p = TreeNode(1)\n",
    "q = TreeNode(2)\n",
    "isSameTree(p, q)"
   ]
  },
  {
   "cell_type": "code",
   "execution_count": null,
   "metadata": {
    "scrolled": true
   },
   "outputs": [],
   "source": [
    "p = TreeNode(1)\n",
    "p.left = TreeNode(2)\n",
    "p.right = TreeNode(3)\n",
    "q = TreeNode(1)\n",
    "q.left = TreeNode(2)\n",
    "q.right = TreeNode(4)\n",
    "isSameTree(p, q)"
   ]
  },
  {
   "cell_type": "markdown",
   "metadata": {},
   "source": [
    "> https://leetcode.com/problems/symmetric-tree/"
   ]
  },
  {
   "cell_type": "code",
   "execution_count": null,
   "metadata": {},
   "outputs": [],
   "source": [
    "def isSymmetric(root):\n",
    "    if root is None:\n",
    "        return True\n",
    "    \n",
    "    nodes = [root]\n",
    "    node_values = [root.val]\n",
    "    while any([n is not None for n in nodes]):\n",
    "        if len(nodes) > 1:\n",
    "            c = int(len(node_values) / 2)\n",
    "            if node_values[:c] != node_values[c:][::-1]:\n",
    "                return False\n",
    "        \n",
    "        next_nodes = []\n",
    "        next_node_values = []\n",
    "        \n",
    "        for node in nodes:\n",
    "            if node is None:\n",
    "                next_nodes.append(None)\n",
    "            else:\n",
    "                next_nodes.append(node.left)\n",
    "            if node is None:\n",
    "                next_node_values.append(None)\n",
    "                next_node_values.append(None)\n",
    "            elif node.left is not None:\n",
    "                next_node_values.append(node.left.val)\n",
    "            else:\n",
    "                next_node_values.append(None)\n",
    "            \n",
    "            if node is None:\n",
    "                next_nodes.append(None)\n",
    "            else:\n",
    "                next_nodes.append(node.right)\n",
    "            if node is None:\n",
    "                next_node_values.append(None)\n",
    "                next_node_values.append(None)\n",
    "            elif node.right is not None:\n",
    "                next_node_values.append(node.right.val)\n",
    "            else:\n",
    "                next_node_values.append(None)\n",
    "        \n",
    "        nodes = next_nodes\n",
    "        node_values = next_node_values\n",
    "    \n",
    "    return True"
   ]
  },
  {
   "cell_type": "code",
   "execution_count": null,
   "metadata": {},
   "outputs": [],
   "source": [
    "isSymmetric(None)"
   ]
  },
  {
   "cell_type": "code",
   "execution_count": null,
   "metadata": {},
   "outputs": [],
   "source": [
    "isSymmetric(TreeNode(1))"
   ]
  },
  {
   "cell_type": "code",
   "execution_count": null,
   "metadata": {},
   "outputs": [],
   "source": [
    "tree = TreeNode(1)\n",
    "tree.left = TreeNode(2)\n",
    "tree.right = TreeNode(3)\n",
    "\n",
    "isSymmetric(tree)"
   ]
  },
  {
   "cell_type": "code",
   "execution_count": null,
   "metadata": {},
   "outputs": [],
   "source": [
    "tree = TreeNode(1)\n",
    "tree.left = TreeNode(2)\n",
    "tree.right = TreeNode(2)\n",
    "\n",
    "isSymmetric(tree)"
   ]
  },
  {
   "cell_type": "code",
   "execution_count": null,
   "metadata": {},
   "outputs": [],
   "source": [
    "tree = TreeNode(1)\n",
    "tree.left = TreeNode(2)\n",
    "tree.right = None\n",
    "\n",
    "isSymmetric(tree)"
   ]
  },
  {
   "cell_type": "code",
   "execution_count": null,
   "metadata": {},
   "outputs": [],
   "source": [
    "tree = TreeNode(1)\n",
    "tree.left = TreeNode(2)\n",
    "tree.right = TreeNode(2)\n",
    "tree.left.left = TreeNode(3)\n",
    "tree.right.right = TreeNode(3)\n",
    "\n",
    "isSymmetric(tree)"
   ]
  },
  {
   "cell_type": "code",
   "execution_count": null,
   "metadata": {},
   "outputs": [],
   "source": [
    "tree = TreeNode(1)\n",
    "tree.left = TreeNode(2)\n",
    "tree.right = TreeNode(2)\n",
    "tree.left.left = TreeNode(3)\n",
    "tree.right.right = TreeNode(3)\n",
    "tree.left.left.right = TreeNode(4)\n",
    "tree.right.right.left = TreeNode(4)\n",
    "\n",
    "isSymmetric(tree)"
   ]
  },
  {
   "cell_type": "code",
   "execution_count": null,
   "metadata": {
    "scrolled": true
   },
   "outputs": [],
   "source": [
    "tree = TreeNode(1)\n",
    "tree.left = TreeNode(2)\n",
    "tree.right = TreeNode(2)\n",
    "tree.left.left = TreeNode(3)\n",
    "tree.right.right = TreeNode(3)\n",
    "tree.left.left.right = TreeNode(4)\n",
    "tree.right.right.right = TreeNode(4)\n",
    "\n",
    "isSymmetric(tree)"
   ]
  },
  {
   "cell_type": "markdown",
   "metadata": {},
   "source": [
    "> https://leetcode.com/problems/number-of-enclaves/"
   ]
  },
  {
   "cell_type": "code",
   "execution_count": null,
   "metadata": {},
   "outputs": [],
   "source": [
    "def numEnclaves(A):\n",
    "    def extinguish(j, k, dim0, dim1):\n",
    "        A[j][k] = 0\n",
    "        for _j, _k in [[j + 1, k], [j -1, k], [j, k - 1], [j, k + 1]]:\n",
    "            if _j < 0 or _k < 0 or _j >= dim0 or _k >= dim1:\n",
    "                continue\n",
    "            \n",
    "            if A[_j][_k] == 1:\n",
    "                extinguish(_j, _k, dim0, dim1)\n",
    "\n",
    "    if len(A) == 0 or len(A[0]) == 0:\n",
    "        return 0\n",
    "    \n",
    "    dim0, dim1 = len(A), len(A[0])\n",
    "    for j in range(dim0):\n",
    "        k = 0\n",
    "        if A[j][k] == 1:\n",
    "            extinguish(j, k, dim0, dim1)\n",
    "        k = dim1 - 1\n",
    "        if A[j][k] == 1:\n",
    "            extinguish(j, k, dim0, dim1)\n",
    "    \n",
    "    for k in range(1, dim1 - 1):\n",
    "        j = 0\n",
    "        if A[j][k] == 1:\n",
    "            extinguish(j, k, dim0, dim1)\n",
    "        j = dim0 - 1\n",
    "        if A[j][k] == 1:\n",
    "            extinguish(j, k, dim0, dim1)\n",
    "    \n",
    "    return sum([sum(a) for a in A])"
   ]
  },
  {
   "cell_type": "code",
   "execution_count": null,
   "metadata": {},
   "outputs": [],
   "source": [
    "numEnclaves([[0, 0, 0],[1, 1, 0], [0, 0, 0]])"
   ]
  },
  {
   "cell_type": "code",
   "execution_count": null,
   "metadata": {},
   "outputs": [],
   "source": [
    "numEnclaves([[0, 0, 0, 0],[0, 1, 1, 0], [0, 0, 0, 0]])"
   ]
  },
  {
   "cell_type": "code",
   "execution_count": null,
   "metadata": {},
   "outputs": [],
   "source": [
    "numEnclaves([[0, 0, 0, 0],[0, 1, 1, 0], [0, 0, 0, 0]])"
   ]
  },
  {
   "cell_type": "code",
   "execution_count": null,
   "metadata": {},
   "outputs": [],
   "source": [
    "numEnclaves([[0, 0, 0, 0],[0, 1, 1, 1], [0, 0, 0, 0]])"
   ]
  },
  {
   "cell_type": "markdown",
   "metadata": {},
   "source": [
    "* Got this one of the first try! :)\n",
    "* My initial approach used BFS, but I realized that DFS is easier to implement (it's much more elegant). This is a simple applied DFS with bounds checks."
   ]
  },
  {
   "cell_type": "markdown",
   "metadata": {},
   "source": [
    "> https://leetcode.com/problems/max-points-on-a-line/"
   ]
  },
  {
   "cell_type": "markdown",
   "metadata": {},
   "source": [
    "This isn't quite right, but it expresses the idea. It's strange that this question is rated hard, as it is quite easy in my opinion. The best way to do it isn't particularly clever, and it's only $O(n^2)$."
   ]
  },
  {
   "cell_type": "code",
   "execution_count": null,
   "metadata": {},
   "outputs": [],
   "source": [
    "def linearize(p, q):\n",
    "    if p[0] > q[0]:\n",
    "        p, q = q, p\n",
    "    try:\n",
    "        m = (q[1] - q[0]) / (p[1] - p[0])\n",
    "    except:\n",
    "        m = float('inf')\n",
    "        b = p[1]\n",
    "        return m, b\n",
    "    b = p[1] - m * p[0]\n",
    "    return m, b\n",
    "\n",
    "def maxPoints(points):\n",
    "    maxlen = 1\n",
    "    for p in points:\n",
    "        mb = {}\n",
    "        for q in points:\n",
    "            if p == q:\n",
    "                continue\n",
    "            m, b = linearize(p, q)\n",
    "            if (m, b) in mb:\n",
    "                mb[(m, b)] += [q]\n",
    "            else:\n",
    "                mb[(m, b)] = [q]\n",
    "        if mb:\n",
    "            best = max([len(mb[k]) for k in mb])\n",
    "            if best > maxlen - 1:\n",
    "                maxlen = best + 1\n",
    "    return maxlen"
   ]
  },
  {
   "cell_type": "code",
   "execution_count": null,
   "metadata": {},
   "outputs": [],
   "source": [
    "maxPoints([[1,1]])"
   ]
  },
  {
   "cell_type": "code",
   "execution_count": null,
   "metadata": {},
   "outputs": [],
   "source": [
    "maxPoints([[1,1], [1,2]])"
   ]
  },
  {
   "cell_type": "code",
   "execution_count": null,
   "metadata": {},
   "outputs": [],
   "source": [
    "maxPoints([[1,1], [1,2], [1, 3]])"
   ]
  },
  {
   "cell_type": "code",
   "execution_count": null,
   "metadata": {},
   "outputs": [],
   "source": [
    "maxPoints([[1,1], [2,2], [3,3]])"
   ]
  },
  {
   "cell_type": "markdown",
   "metadata": {},
   "source": [
    "> https://leetcode.com/problems/word-search/"
   ]
  },
  {
   "cell_type": "code",
   "execution_count": null,
   "metadata": {},
   "outputs": [],
   "source": [
    "def exist(board, word):\n",
    "    def dfs(word, j, k, priors):\n",
    "        if word == '':\n",
    "            return True\n",
    "        \n",
    "        for direction in [[-1, 0], [1, 0], [0, -1], [0, 1]]:\n",
    "            nj = j + direction[0]\n",
    "            nk = k + direction[1]\n",
    "            if nj < 0 or nk < 0 or nj >= jmax or nk >= kmax:\n",
    "                continue\n",
    "            if (nj, nk) in priors:\n",
    "                continue\n",
    "        \n",
    "            if board[nj][nk] == word[0]:\n",
    "                if dfs(word[1:], nj, nk, {*priors, (nj, nk)}):\n",
    "                    return True\n",
    "        \n",
    "        return False\n",
    "    \n",
    "    if word == '': return True\n",
    "    \n",
    "    jmax, kmax = len(board), len(board[0])\n",
    "    for j in range(jmax):\n",
    "        for k in range(kmax):\n",
    "            if board[j][k] == word[0]:\n",
    "                if dfs(word[1:], j, k, {(j, k)}):\n",
    "                    return True\n",
    "\n",
    "    return False"
   ]
  },
  {
   "cell_type": "code",
   "execution_count": null,
   "metadata": {},
   "outputs": [],
   "source": [
    "board = [\n",
    "  ['A','B','C','E'],\n",
    "  ['S','F','C','S'],\n",
    "  ['A','D','E','E']\n",
    "]"
   ]
  },
  {
   "cell_type": "code",
   "execution_count": null,
   "metadata": {},
   "outputs": [],
   "source": [
    "exist(board, 'ABCCED')"
   ]
  },
  {
   "cell_type": "code",
   "execution_count": null,
   "metadata": {},
   "outputs": [],
   "source": [
    "exist(board, 'SEE')"
   ]
  },
  {
   "cell_type": "code",
   "execution_count": null,
   "metadata": {},
   "outputs": [],
   "source": [
    "exist(board, 'ABCB')"
   ]
  },
  {
   "cell_type": "code",
   "execution_count": null,
   "metadata": {},
   "outputs": [],
   "source": [
    "exist(board, '')"
   ]
  },
  {
   "cell_type": "code",
   "execution_count": null,
   "metadata": {},
   "outputs": [],
   "source": [
    "exist([[]], 'ABCB')"
   ]
  },
  {
   "cell_type": "markdown",
   "metadata": {},
   "source": [
    "* Easy, expedient $O(mn)$ solution ($m$ and $n$ are the dimensions)."
   ]
  },
  {
   "cell_type": "markdown",
   "metadata": {},
   "source": [
    "> https://leetcode.com/problems/word-search-ii/"
   ]
  },
  {
   "cell_type": "code",
   "execution_count": 52,
   "metadata": {},
   "outputs": [],
   "source": [
    "def wordlist_to_trie(wordlist):\n",
    "    class Node:\n",
    "        def __init__(self, val, parent):\n",
    "            self.val = val\n",
    "            self.children = {}\n",
    "            self.parent = parent\n",
    "            self.is_word_ending = False\n",
    "    \n",
    "    root = Node(None, None)\n",
    "    for word in wordlist:\n",
    "        curr_node = root\n",
    "        for char in word:\n",
    "            if char in curr_node.children:\n",
    "                curr_node = curr_node.children[char]\n",
    "            else:\n",
    "                curr_node.children[char] = Node(char, curr_node)\n",
    "                curr_node = curr_node.children[char]\n",
    "        curr_node.is_word_ending = True\n",
    "    return root\n",
    "\n",
    "def get_word_from_ending(node):\n",
    "    out = []\n",
    "    while node.val is not None:\n",
    "        out += [node.val]\n",
    "        node = node.parent\n",
    "    return ''.join(out[::-1])\n",
    "\n",
    "def findWords(board, words):\n",
    "    jmax, kmax = len(board), len(board[0])\n",
    "    root = wordlist_to_trie(words)\n",
    "    out = []\n",
    "    \n",
    "    def dfs(j, k, root, priors):\n",
    "        out = []\n",
    "        \n",
    "        if root.is_word_ending:\n",
    "            word = get_word_from_ending(root)\n",
    "            out += [word]\n",
    "            root.is_word_ending = False\n",
    "        if len(root.children) == 0:\n",
    "            return out\n",
    "        \n",
    "        for d in [[-1, 0], [1, 0], [0, -1], [0, 1]]:\n",
    "            jn, kn = j + d[0], k + d[1]\n",
    "            if jn < 0 or kn < 0 or jn >= jmax or kn >= kmax:\n",
    "                continue\n",
    "            if (jn, kn) in priors:\n",
    "                continue\n",
    "            \n",
    "            char = board[jn][kn]\n",
    "            if char in root.children:\n",
    "                out += dfs(jn, kn, root.children[char], {*priors, (jn, kn)})\n",
    "\n",
    "        return out\n",
    "   \n",
    "    if len(words) == 0: return []\n",
    "    if len(board) == 0: return []\n",
    "    \n",
    "    for j in range(jmax):\n",
    "        for k in range(kmax):\n",
    "            char = board[j][k]\n",
    "            if char in root.children:\n",
    "                out += dfs(j, k, root.children[char], {(j, k)})\n",
    "    \n",
    "    return out"
   ]
  },
  {
   "cell_type": "code",
   "execution_count": 53,
   "metadata": {},
   "outputs": [
    {
     "data": {
      "text/plain": [
       "['A', 'AB', 'ABC']"
      ]
     },
     "execution_count": 53,
     "metadata": {},
     "output_type": "execute_result"
    }
   ],
   "source": [
    "findWords([['A', 'B', 'C']], ['ABC', 'AB', 'A'])"
   ]
  },
  {
   "cell_type": "code",
   "execution_count": 54,
   "metadata": {},
   "outputs": [
    {
     "data": {
      "text/plain": [
       "['A', 'AB', 'ABC']"
      ]
     },
     "execution_count": 54,
     "metadata": {},
     "output_type": "execute_result"
    }
   ],
   "source": [
    "findWords([['A', 'B', 'D'], ['F', 'C', 'G']], ['ABC', 'AB', 'A'])"
   ]
  },
  {
   "cell_type": "code",
   "execution_count": 55,
   "metadata": {},
   "outputs": [
    {
     "data": {
      "text/plain": [
       "['A', 'AB']"
      ]
     },
     "execution_count": 55,
     "metadata": {},
     "output_type": "execute_result"
    }
   ],
   "source": [
    "findWords([['A', 'B', 'D'], ['F', 'N', 'G']], ['ABC', 'AB', 'A'])"
   ]
  },
  {
   "cell_type": "code",
   "execution_count": 49,
   "metadata": {},
   "outputs": [
    {
     "data": {
      "text/plain": [
       "[]"
      ]
     },
     "execution_count": 49,
     "metadata": {},
     "output_type": "execute_result"
    }
   ],
   "source": [
    "findWords([[]], ['ABC', 'AB', 'A'])"
   ]
  },
  {
   "cell_type": "code",
   "execution_count": 51,
   "metadata": {},
   "outputs": [
    {
     "data": {
      "text/plain": [
       "[]"
      ]
     },
     "execution_count": 51,
     "metadata": {},
     "output_type": "execute_result"
    }
   ],
   "source": [
    "findWords([['A', 'B', 'D'], ['F', 'N', 'G']], [])"
   ]
  },
  {
   "cell_type": "code",
   "execution_count": 57,
   "metadata": {},
   "outputs": [
    {
     "data": {
      "text/plain": [
       "['A']"
      ]
     },
     "execution_count": 57,
     "metadata": {},
     "output_type": "execute_result"
    }
   ],
   "source": [
    "findWords([['A', 'A']], ['A'])"
   ]
  },
  {
   "cell_type": "markdown",
   "metadata": {},
   "source": [
    "* I got the core idea (trie lookup) right away. However, actually implementing this algorithm took a long time, because there is a lot of code to write.\n",
    "* I did a reasonable job of modularizing it.\n",
    "* I did not immediately catch the important duplicate words case.\n",
    "* This algorithm is $O(mn)$ amortized time, where $m$ and $n$ are the dimensions of the array."
   ]
  },
  {
   "cell_type": "markdown",
   "metadata": {},
   "source": [
    "> https://leetcode.com/problems/longest-increasing-path-in-a-matrix/"
   ]
  },
  {
   "cell_type": "code",
   "execution_count": 71,
   "metadata": {},
   "outputs": [],
   "source": [
    "def longestIncreasingPath(matrix):\n",
    "    if len(matrix) == 0: return 0\n",
    "    \n",
    "    longest = []\n",
    "    for j in range(len(matrix)):\n",
    "        for k in range(len(matrix[0])):\n",
    "            longest.append([(j, k)])\n",
    "    \n",
    "    while True:\n",
    "        next_longest = []\n",
    "        for long in longest:\n",
    "            x, y = long[-1]\n",
    "            for d in [[-1, 0], [1, 0], [0, -1], [0, 1]]:\n",
    "                nx, ny = x + d[0], y + d[1]\n",
    "                if nx < 0 or ny < 0 or nx >= len(matrix) or ny >= len(matrix[0]):\n",
    "                    continue\n",
    "                v = matrix[nx][ny]\n",
    "                if v < matrix[x][y]:\n",
    "                    next_longest.append(long + [(nx, ny)])\n",
    "        \n",
    "        if not next_longest:\n",
    "            return len(longest[0])\n",
    "        else:\n",
    "            longest = next_longest"
   ]
  },
  {
   "cell_type": "markdown",
   "metadata": {},
   "source": [
    "* This is a brute-force BFS solution. Implemented in one go in a fairly clean way. I did BFS, even though DFS is also possible, mainly to get a bit more practice with BFS.\n",
    "* How can we make this faster? It's a todo..."
   ]
  }
 ],
 "metadata": {
  "kernelspec": {
   "display_name": "Python 3",
   "language": "python",
   "name": "python3"
  },
  "language_info": {
   "codemirror_mode": {
    "name": "ipython",
    "version": 3
   },
   "file_extension": ".py",
   "mimetype": "text/x-python",
   "name": "python",
   "nbconvert_exporter": "python",
   "pygments_lexer": "ipython3",
   "version": "3.7.3"
  }
 },
 "nbformat": 4,
 "nbformat_minor": 2
}
