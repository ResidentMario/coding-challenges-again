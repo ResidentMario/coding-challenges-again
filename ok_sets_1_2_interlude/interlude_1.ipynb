{
 "cells": [
  {
   "cell_type": "markdown",
   "metadata": {},
   "source": [
    "> combinations is 2**n, not n! think about why this is the case [...]\n",
    "\n",
    "Let's redo this problem: https://leetcode.com/problems/combinations/."
   ]
  },
  {
   "cell_type": "code",
   "execution_count": 10,
   "metadata": {},
   "outputs": [],
   "source": [
    "def combine(n, k):\n",
    "    return _combine(k, list(range(1, n + 1)))\n",
    "\n",
    "def _combine(k, nums):\n",
    "    if len(nums) == 0: return []\n",
    "    if k == 0: return []\n",
    "    if k > len(nums): return []\n",
    "\n",
    "    if k == 1: return [[n] for n in nums]\n",
    "    \n",
    "    out = []\n",
    "    for i in range(len(nums)):\n",
    "        remaining_nums = nums[i + 1:]\n",
    "        lead_num = nums[i]\n",
    "        subanswers = _combine(k - 1, remaining_nums)\n",
    "        result = [[lead_num] + s for s in subanswers]\n",
    "        out += result\n",
    "    return out"
   ]
  },
  {
   "cell_type": "markdown",
   "metadata": {},
   "source": [
    "* This time I knew the combinations property and did this right on the first try and at speed.\n",
    "* Ok says that my analysis of the runtime is wrong, and provides the following template for the purposes of evaluation."
   ]
  },
  {
   "cell_type": "code",
   "execution_count": 21,
   "metadata": {},
   "outputs": [],
   "source": [
    "def combinations(arr, i=0, cur=[], output=[]):\n",
    "    if i >= len(arr):\n",
    "        output.append(cur[:])\n",
    "        return\n",
    "\n",
    "    # add the current element\n",
    "    cur.append(arr[i])\n",
    "    combinations(arr, i + 1, cur, output)\n",
    "    cur.pop()\n",
    "\n",
    "    # left branch: skip the current element\n",
    "    combinations(arr, i + 1, cur, output)"
   ]
  },
  {
   "cell_type": "markdown",
   "metadata": {},
   "source": [
    "* I tried reanalyzing my version of this function but arrived at the same conclusion. I tried analyzing Ok's algorithm (I did not understand the logic immediately) and found that this template nets you all combinations of the numbers of any length and that it does indeed branch $2^n$ time, with an overall runtime he suggests.\n",
    "* Despite a lot of time spent starting at a paper analysis of this problem, I don't see a way of arriving at this boundary using the code as I wrote it (this is a Q for Ok).\n",
    "* When looking at the problem from a pick-any-k perspective, it's obvious. Each number can be picked or not picked. That's 2 options per number, and there are n numbers, and hence we get $2^n$.\n"
   ]
  },
  {
   "cell_type": "code",
   "execution_count": 30,
   "metadata": {},
   "outputs": [],
   "source": [
    "def combinations(arr):\n",
    "    if len(arr) == 0: return []\n",
    "    if len(arr) == 1: return [[v] for v in arr]\n",
    "    \n",
    "    subcombinations = combinations(arr[1:])\n",
    "    options_pick = [[arr[0]] + c for c in subcombinations]\n",
    "    options_no_pick = subcombinations\n",
    "    return options_pick + options_no_pick"
   ]
  },
  {
   "cell_type": "code",
   "execution_count": 31,
   "metadata": {},
   "outputs": [
    {
     "data": {
      "text/plain": [
       "[[1, 2, 3], [1, 3], [2, 3], [3]]"
      ]
     },
     "execution_count": 31,
     "metadata": {},
     "output_type": "execute_result"
    }
   ],
   "source": [
    "combinations([1,2,3])"
   ]
  },
  {
   "cell_type": "markdown",
   "metadata": {},
   "source": [
    "* Here's my implementation of this idea, which is clearer to me than the former implementation, for whatever reason.\n",
    "* Can we modify this to work for combinations only of a certain length? Obviously this will come down to restricting the base case against the `k` value."
   ]
  },
  {
   "cell_type": "code",
   "execution_count": 40,
   "metadata": {},
   "outputs": [],
   "source": [
    "def combinations(arr, k):\n",
    "    if len(arr) == 0: return []\n",
    "    if len(arr) < k: return []\n",
    "    if k == 1: return [[v] for v in arr]\n",
    "    \n",
    "    options_pick = [[arr[0]] + c for c in combinations(arr[1:], k - 1)]\n",
    "    options_no_pick = combinations(arr[1:], k)\n",
    "    return options_pick + options_no_pick"
   ]
  },
  {
   "cell_type": "code",
   "execution_count": 45,
   "metadata": {},
   "outputs": [
    {
     "data": {
      "text/plain": [
       "[[1, 2], [1, 3], [2, 3]]"
      ]
     },
     "execution_count": 45,
     "metadata": {},
     "output_type": "execute_result"
    }
   ],
   "source": [
    "combinations([1,2,3], 2)"
   ]
  },
  {
   "cell_type": "markdown",
   "metadata": {},
   "source": [
    "* I don't think I can see $O(n^2)$ in this answer either, except in knowing about the any-`k` case implementation, knowing this one is a subset of that implementation, and reasoning therefore that the lower bound for the any-`k` case must also be the lower bound for this code."
   ]
  },
  {
   "cell_type": "markdown",
   "metadata": {},
   "source": [
    "> for four sum: can you call into your two sum solution to solve it? what's the time complexity\n",
    "\n",
    "First we reimplement `twoSum`."
   ]
  },
  {
   "cell_type": "code",
   "execution_count": 47,
   "metadata": {},
   "outputs": [],
   "source": [
    "def twoSum(nums, target):\n",
    "    for i in range(len(nums)):\n",
    "        for j in range(len(nums)):\n",
    "            if i != j:\n",
    "                if nums[i] + nums[j] == target:\n",
    "                    return [i, j]"
   ]
  },
  {
   "cell_type": "code",
   "execution_count": 49,
   "metadata": {
    "scrolled": true
   },
   "outputs": [
    {
     "data": {
      "text/plain": [
       "[0, 2]"
      ]
     },
     "execution_count": 49,
     "metadata": {},
     "output_type": "execute_result"
    }
   ],
   "source": [
    "twoSum([2,3,5,7], 7)"
   ]
  },
  {
   "cell_type": "markdown",
   "metadata": {},
   "source": [
    "* This is $O(n^2)$.\n",
    "* We can do this in $O(n\\log{n})$ time with sorting, or in $O(n)$ time by using an additional memory store."
   ]
  },
  {
   "cell_type": "code",
   "execution_count": 50,
   "metadata": {},
   "outputs": [],
   "source": [
    "def twoSum(nums, target):\n",
    "    outmap = {}\n",
    "    for i in range(len(nums)):\n",
    "        value_needed = target - nums[i]\n",
    "        if value_needed in outmap:\n",
    "            return [outmap[value_needed], i]\n",
    "        else:\n",
    "            outmap[nums[i]] = i"
   ]
  },
  {
   "cell_type": "code",
   "execution_count": 51,
   "metadata": {},
   "outputs": [
    {
     "data": {
      "text/plain": [
       "[0, 2]"
      ]
     },
     "execution_count": 51,
     "metadata": {},
     "output_type": "execute_result"
    }
   ],
   "source": [
    "twoSum([2,3,5,7], 7)"
   ]
  },
  {
   "cell_type": "markdown",
   "metadata": {},
   "source": [
    "* Ok, so like, 4sum."
   ]
  },
  {
   "cell_type": "code",
   "execution_count": 1,
   "metadata": {},
   "outputs": [],
   "source": [
    "def fourSum(nums, target):\n",
    "    outmap = {}\n",
    "    for j in range(len(nums)):\n",
    "        for k in range(j + 1, len(nums)):\n",
    "            tot = nums[j] + nums[k]\n",
    "            if tot not in outmap:\n",
    "                outmap[tot] = [[j, k]]\n",
    "            else:\n",
    "                outmap[tot] = outmap[tot] + [[j, k]]\n",
    "    \n",
    "    out = []\n",
    "    seen = set()\n",
    "    for first_double_sum in outmap:\n",
    "        for second_double_sum in outmap:\n",
    "            for tup1 in outmap[first_double_sum]:\n",
    "                for tup2 in outmap[second_double_sum]:\n",
    "                    if len(set(tup1).intersection(set(tup2))) == 0:\n",
    "                        sorted_quintuple = sorted(tup1 + tup2)\n",
    "                        if first_double_sum + second_double_sum == target:\n",
    "                            if tuple(sorted_quintuple) not in seen:\n",
    "                                out.append(sorted_quintuple)\n",
    "                                seen.add(tuple(sorted_quintuple))\n",
    "    return [sorted([nums[i] for i in tup]) for tup in out]"
   ]
  },
  {
   "cell_type": "markdown",
   "metadata": {},
   "source": [
    "* This solution is correct (absent some minor iteration order bug). But is it actually faster?\n",
    "* First we double-iterate through the array to build an in-memory structure containing all pairs in the array by total: an $O(n^2)$ operation. Then we quadruple iterate over all combinations in the structure, comparing them to one another to try and find working quadruples. We know that visiting every combination of numbers in an array, as here, is an $O(2^n)$ operation; this implies that we are performing $O(n^2 + 2^n)$ work...but $2^n$ will eclipse $n^2$ at large values of $n$, so this solution is actually *worse* than the previous one.\n",
    "* Actually if we take advantage of ordering the mapping we can do this in $O(n^2)$ work, but this solution is still too complex. Incomplete attempt below."
   ]
  },
  {
   "cell_type": "code",
   "execution_count": 2,
   "metadata": {},
   "outputs": [
    {
     "data": {
      "text/plain": [
       "[[1, 2, 3, 4]]"
      ]
     },
     "execution_count": 2,
     "metadata": {},
     "output_type": "execute_result"
    }
   ],
   "source": [
    "fourSum([1,2,3,4,100,125,1000], 10)"
   ]
  },
  {
   "cell_type": "code",
   "execution_count": 3,
   "metadata": {},
   "outputs": [
    {
     "data": {
      "text/plain": [
       "[[-1, 0, 0, 1], [-2, -1, 1, 2], [-2, 0, 0, 2]]"
      ]
     },
     "execution_count": 3,
     "metadata": {},
     "output_type": "execute_result"
    }
   ],
   "source": [
    "fourSum([1, 0, -1, 0, -2, 2], 0)"
   ]
  },
  {
   "cell_type": "code",
   "execution_count": 4,
   "metadata": {},
   "outputs": [
    {
     "data": {
      "text/plain": [
       "[(1, [1, 2])]"
      ]
     },
     "execution_count": 4,
     "metadata": {},
     "output_type": "execute_result"
    }
   ],
   "source": [
    "list({1: [1,2]}.items())"
   ]
  },
  {
   "cell_type": "code",
   "execution_count": 5,
   "metadata": {},
   "outputs": [],
   "source": [
    "def fourSum(nums, target):\n",
    "    outmap = {}\n",
    "    for j in range(len(nums)):\n",
    "        for k in range(j + 1, len(nums)):\n",
    "            tot = nums[j] + nums[k]\n",
    "            if tot not in outmap:\n",
    "                outmap[tot] = [[j, k]]\n",
    "            else:\n",
    "                outmap[tot] = outmap[tot] + [[j, k]]\n",
    "\n",
    "    \n",
    "    outmap_keys = sorted(list(outmap.keys()))\n",
    "    j = 0\n",
    "    k = len(outmap_keys) - 1\n",
    "    \n",
    "    out = []\n",
    "    out_seen = set()\n",
    "    while j < k:\n",
    "        s = outmap_keys[j] + outmap_keys[k]\n",
    "        if s == target:\n",
    "            for a in outmap[outmap_keys[j]]:\n",
    "                for b in outmap[outmap_keys[k]]:\n",
    "                    quadruple = [nums[a[0]], nums[a[1]], nums[b[0]], nums[b[1]]]\n",
    "                    if len(set(a + b)) == 4 and tuple(quadruple) not in out_seen:\n",
    "                        out += [quadruple]\n",
    "                        out_seen.add(tuple(quadruple))\n",
    "            j += 1\n",
    "            k -= 1\n",
    "        elif s < target:\n",
    "            j += 1\n",
    "        else:  # s > target\n",
    "            k -= 1\n",
    "    \n",
    "    return out"
   ]
  },
  {
   "cell_type": "code",
   "execution_count": 6,
   "metadata": {},
   "outputs": [
    {
     "data": {
      "text/plain": [
       "[[-1, -2, 1, 2], [0, -2, 0, 2], [1, -2, -1, 2], [0, -1, 1, 0], [-1, 0, 1, 0]]"
      ]
     },
     "execution_count": 6,
     "metadata": {},
     "output_type": "execute_result"
    }
   ],
   "source": [
    "fourSum([1, 0, -1, 0, -2, 2], 0)"
   ]
  },
  {
   "cell_type": "code",
   "execution_count": 7,
   "metadata": {},
   "outputs": [],
   "source": [
    "def fourSum(nums, target):\n",
    "    outmap = {}\n",
    "    for j in range(len(nums)):\n",
    "        for k in range(j + 1, len(nums)):\n",
    "            tot = nums[j] + nums[k]\n",
    "            if tot not in outmap:\n",
    "                outmap[tot] = [[j, k]]\n",
    "            else:\n",
    "                outmap[tot] = outmap[tot] + [[j, k]]\n",
    "    \n",
    "    out = []\n",
    "    for v in outmap:\n",
    "        for pairA in outmap[v]:\n",
    "            pairB = twoSum(\n",
    "                nums[:pairA[0]] + nums[pairA[0] + 1:pairA[1]] + nums[pairA[1] + 1:],\n",
    "                target - (pairA[0] + pairA[1])\n",
    "            )\n",
    "            if pairB is not None:\n",
    "                out += [pairA + pairB]\n",
    "    return out"
   ]
  },
  {
   "cell_type": "code",
   "execution_count": 9,
   "metadata": {},
   "outputs": [],
   "source": [
    "# fourSum([1, 0, -1, 0, -2, 2], 0)"
   ]
  },
  {
   "cell_type": "markdown",
   "metadata": {},
   "source": [
    "* The answer is something like this. Call `twoSum` as a subroutine to complete the existing pair. However I am tired of staring at this problem so I'm not fixing this implementation further.\n",
    "* Here's the actual solution, courtesy of the comments:"
   ]
  },
  {
   "cell_type": "code",
   "execution_count": 10,
   "metadata": {},
   "outputs": [],
   "source": [
    "def fourSum(self, nums, target):\n",
    "    def findNsum(nums, target, N, result, results):\n",
    "        if len(nums) < N or N < 2 or target < nums[0]*N or target > nums[-1]*N:  # early termination\n",
    "            return\n",
    "        if N == 2: # two pointers solve sorted 2-sum problem\n",
    "            l,r = 0,len(nums)-1\n",
    "            while l < r:\n",
    "                s = nums[l] + nums[r]\n",
    "                if s == target:\n",
    "                    results.append(result + [nums[l], nums[r]])\n",
    "                    l += 1\n",
    "                    while l < r and nums[l] == nums[l-1]:\n",
    "                        l += 1\n",
    "                elif s < target:\n",
    "                    l += 1\n",
    "                else:\n",
    "                    r -= 1\n",
    "        else: # recursively reduce N\n",
    "            for i in range(len(nums)-N+1):\n",
    "                if i == 0 or (i > 0 and nums[i-1] != nums[i]):\n",
    "                    findNsum(nums[i+1:], target-nums[i], N-1, result+[nums[i]], results)\n",
    "\n",
    "    results = []\n",
    "    findNsum(sorted(nums), target, 4, [], results)\n",
    "    return results"
   ]
  },
  {
   "cell_type": "markdown",
   "metadata": {},
   "source": [
    "> https://leetcode.com/problems/network-delay-time/ (djikstra)\n",
    "\n",
    "* This question requires Djikstra's algorithm, so before we do any implementation for it we need to study Djikstra's algorithm in some depth.\n",
    "* After spending some...OK, a lot of time just spinning the wheels with Djikstra, I realized a few things.\n",
    "  * One, I really need to spend more time with data structures, and have them and their properties at hand, and that this need precludes working on Djikstra.\n",
    "  * Two, I need to have a specific step in my solve workflow for defining the data structures I will use for the solve, and understanding how they flow through the solution. Data structures, not the algorithm itself, was the source of my inability to implement Djikstra right away."
   ]
  }
 ],
 "metadata": {
  "kernelspec": {
   "display_name": "Python 3",
   "language": "python",
   "name": "python3"
  },
  "language_info": {
   "codemirror_mode": {
    "name": "ipython",
    "version": 3
   },
   "file_extension": ".py",
   "mimetype": "text/x-python",
   "name": "python",
   "nbconvert_exporter": "python",
   "pygments_lexer": "ipython3",
   "version": "3.7.3"
  }
 },
 "nbformat": 4,
 "nbformat_minor": 2
}
