{
 "cells": [
  {
   "cell_type": "markdown",
   "metadata": {},
   "source": [
    "This notebook a continuation of the previous one. In this notebook: data structures!"
   ]
  },
  {
   "cell_type": "markdown",
   "metadata": {},
   "source": [
    "### List\n",
    "\n",
    "* A list of the simplest useful data structure.\n",
    "* A list is actually a sequence of fixed-size slots, each one containing a pointer to a piece of data elsewhere on the machine.\n",
    "* Lists are a fixed length. When all of a list's slots are saturated, the list is expanded. The precise expansion algorithm used is implementation-dependent, but in Python the size of the list is generally doubled. Doubling is achieved by allocating as many new slots as necessary to achieve the new length.\n",
    "* Doubling requires copying the entire list over to a new location. This is necessary to ensure that the list slots are contiguous in memory, and thus to ensure that list access stays a constant speed operation.\n",
    "* Lists are technically pointer arrays, or they would be if you were doing this in C.\n",
    "* Lists have the following operation runtimes:\n",
    "  * $O(1)$ access by index. The index value is multiplied by pointer length (64 bits on a modern machine) to arrive at the correct location in memory.\n",
    "  * $O(1)$ append. Even though append operations ocassionally trigger list doubling, which requires an $O(n)$ copy, this operation is considered so rare that list append is still $O(1)$ in amortized time.\n",
    "  * $O(1)$ pop. See append.\n",
    "  * $O(n)$ insert. Because a list's pointers are contiguous in memory, inserting into a list requires shifting every subsequent pointer over one index.\n",
    "  * $O(n)$ remove.\n",
    "  * $O(n)$ access by value if the list is unsorted, otherwise, $O(\\log{n})$ access by value.\n",
    "\n",
    "\n",
    "### Hash map\n",
    "* A hash map (or, in Python, dictionary) is a key-value pair structure.\n",
    "* As of Python 3.6, a hash map in Python consists of two lists. Each time a value is inserted into the hash map, it is hashed using a fast equidistributed function. The trailing digits of this hash are used as the lookup index for a sparse list. The contents of the sparse list is indices in a dense list, or None if there is no object in the dense list already which has this value.\n",
    "\n",
    "  If the sparse list value is None, a (pointer, hash) entry for the value is appended to the end of the dense list, and the value in the sparse list is set to the next index.\n",
    "  \n",
    "  If the sparse list value is not None, e.g. there is already a value stored that has this hash, the pointer to that value is modified to point to that value *and* to the new value, with the new value appearing as a subsequent node in a singly linked list of nodes.\n",
    "* At lookup time, the key is hashed, and the hash is used to index into the sparse array, which is used to index into the dense array. In the dense array, the full hash of the leading value struct is compared with the full hash of the key. If they match, the value is returned. If they do not match, the next value in the linked list is selected. This operation continues until a matching value is found.\n",
    "* The larger the number of items and the smaller the hash edge used for the key lookups, the larger the number of key collisions. To avoid key collisions, Python attempts to keep at least 1/3 of the hash map empty. When this threshold is exceed the hash map is expanded: another digit of the hash is consumed, the sparse list is resized, etcetera.\n",
    "* Key values are restricted to those values which are immutable, and hence, hashable. E.g. a notable exception is lists.\n",
    "* Hash maps have the following operation runtimes:\n",
    "  * $O(1)$ lookup by key. Key collisions are rare, so the amortized time is constant.\n",
    "  * $O(1)$ insert. Key collisions and resize operations are rare, so the amortized time is constant.\n",
    "  * $O(1)$ remove.\n",
    "\n",
    "\n",
    "### Set\n",
    "* A set is an iterable containing only unique values. Just like the mathematical definition.\n",
    "* Sets provide a fast uniqueness check. Under the hood they are just hash maps.\n",
    "* Runtimes:\n",
    "  * $O(1)$ insert.\n",
    "  * $O(1)$ remove.\n",
    "  * $O(1)$ set membership check.\n",
    "  * $O(n)$ search.\n",
    "\n",
    "\n",
    "### Singly linked list\n",
    "* A singly-linked list is a set of nodes with pointers in between nodes. Pointers only point one way, away from a lead node.\n",
    "* This is a very simple data structure. No fanciness at all. They're good for access to first and last.\n",
    "* Singly-linked lists have the following operation runtimes:\n",
    "  * $O(1)$ prepend and append, so long as you retain a pointer to the last element.\n",
    "  * $O(1)$ peak. The first element is always easy to get.\n",
    "  * $O(n)$ lookup and insert. Looking up a value or index requires jumping through pointers to get to that value or index.\n",
    "\n",
    "\n",
    "### Binary search tree\n",
    "* A binary search tree is a tree where each node has up to two children. The rule being that the left subchild is always smaller than the parent value, and the right subchild, bigger.\n",
    "* The value of this data structure is that it allows for faster search, at the cost of slower inserts and deletes.\n",
    "* The runtimes are:\n",
    "  * $O(\\log{n})$ search.\n",
    "  * $O(\\log{n})$ insert.\n",
    "  * $O(\\log{n})$ delete.\n",
    "\n",
    "\n",
    "### Stack\n",
    "* A first-in, last-out (FILO) data structure. Easily implemented using a list or singly linked list.\n",
    "* This data structure has practical application in programming language design: functional state in most programming languages is managed via stack frames on a call stack.\n",
    "* Runtimes are:\n",
    "  * $O(1)$ pop (get last).\n",
    "  * $O(1)$ insert.\n",
    "  * $O(n)$ lookup.\n",
    "\n",
    "\n",
    "### Queue\n",
    "* A first-in, first-out (FIFO) data structure.\n",
    "* A queue can be implemented using a singly-linked list (see the definition below).\n",
    "* Runtime characteristics are:\n",
    "  * $O(1)$ enqueue.\n",
    "  * $O(1)$ dequeue (get first).\n",
    "  * $O(n)$ lookup."
   ]
  },
  {
   "cell_type": "code",
   "execution_count": 22,
   "metadata": {},
   "outputs": [],
   "source": [
    "class Node:\n",
    "    def __init__(self, v):\n",
    "        self.v = v\n",
    "        self.next = None\n",
    "    \n",
    "class Q:\n",
    "    def __init__(self):\n",
    "        self.first = None\n",
    "        self.last = None\n",
    "    \n",
    "    def enqueue(self, v):\n",
    "        if self.first is None:\n",
    "            self.first = self.last = Node(v)\n",
    "        else:\n",
    "            _next = Node(v)\n",
    "            self.last.next = _next\n",
    "            self.last = self.last.next\n",
    "    \n",
    "    def dequeue(self):\n",
    "        first = self.first\n",
    "        self.first = self.first.next\n",
    "        return first.v"
   ]
  },
  {
   "cell_type": "code",
   "execution_count": 23,
   "metadata": {},
   "outputs": [
    {
     "name": "stdout",
     "output_type": "stream",
     "text": [
      "1\n",
      "2\n",
      "3\n"
     ]
    }
   ],
   "source": [
    "q = Q()\n",
    "q.enqueue(1)\n",
    "q.enqueue(2)\n",
    "q.enqueue(3)\n",
    "print(q.dequeue())\n",
    "print(q.dequeue())\n",
    "print(q.dequeue())"
   ]
  },
  {
   "cell_type": "markdown",
   "metadata": {},
   "source": [
    "### Dequeue\n",
    "* A dequeue is a double-sided queue. You can consume both first and last values of a dequeue efficiently.\n",
    "* A dequeue is implemented using a double-sided list.\n",
    "* Runtime characteristics are:\n",
    "  * $O(1)$ enqueue and push.\n",
    "  * $O(1)$ dequeue and pop.\n",
    "  * $O(n)$ lookup."
   ]
  },
  {
   "cell_type": "code",
   "execution_count": 18,
   "metadata": {},
   "outputs": [],
   "source": [
    "class Node:\n",
    "    def __init__(self, v):\n",
    "        self.v = v\n",
    "        self.next = None\n",
    "        self.prev = None\n",
    "    \n",
    "class Dequeue:\n",
    "    def __init__(self):\n",
    "        self.first = None\n",
    "        self.last = None\n",
    "    \n",
    "    def push(self, v):\n",
    "        if self.first is None:\n",
    "            self.first = self.last = Node(v)\n",
    "        else:\n",
    "            first = Node(v)\n",
    "            first.next = self.first\n",
    "            self.first.prev = first\n",
    "            self.first = first\n",
    "    \n",
    "    def pop(self):\n",
    "        first = self.first\n",
    "        self.first = self.first.next\n",
    "        self.first.prev = None\n",
    "        return first.v\n",
    "    \n",
    "    def enqueue(self, v):\n",
    "        if self.last is None:\n",
    "            self.first = self.last = Node(v)\n",
    "        else:\n",
    "            last = Node(v)\n",
    "            last.prev = self.last\n",
    "            self.last.next = last\n",
    "            self.last = last\n",
    "    \n",
    "    def dequeue(self):\n",
    "        last = self.last\n",
    "        self.last.prev.next = None\n",
    "        self.last = self.last.prev\n",
    "        return last.v"
   ]
  },
  {
   "cell_type": "code",
   "execution_count": 19,
   "metadata": {},
   "outputs": [
    {
     "name": "stdout",
     "output_type": "stream",
     "text": [
      "3\n",
      "1\n"
     ]
    }
   ],
   "source": [
    "dq = Dequeue()\n",
    "dq.enqueue(1)\n",
    "dq.enqueue(2)\n",
    "dq.enqueue(3)\n",
    "print(dq.dequeue())\n",
    "print(dq.pop())"
   ]
  },
  {
   "cell_type": "markdown",
   "metadata": {},
   "source": [
    "### Binary heap\n",
    "* A **binary heap** (or just **heap**) is a binary tree whose nodes always have an either greater-than or lesser-than relationship with their parents. If the root node is the smallest value in the tree, the tree is a min heap; if the root node is the largest value in the tree, it is a max heap.\n",
    "* Heaps provide a $O(1)$ access to the minimum or maximum element of the tree. For this reason they are the data structure of choice for the implementation of **priority queues**.\n",
    "* An advanced variant known as a **Fibbonacci heap** reduces this runtime further, down to $O(1)$. This is the \"killer feature\" of heaps in practical applications, but is not relevant to the simple binary tree implementation.\n",
    "* Binary heaps are implemented on disk as a layered array with progressively larger node counts. E.g. the first element of the array is a pointer to the top array element. The next two indices are its children. The next four are its children. And so on. Note: binary trees are implemented on disk the same way.\n",
    "* Runtimes are:\n",
    "  * $O(\\log{n})$ insert.\n",
    "  * $O(1)$ get-min or get-max.\n",
    "  * $O(\\log{n})$ get and delete."
   ]
  },
  {
   "cell_type": "markdown",
   "metadata": {},
   "source": [
    "### Balanced binary search trees (AVL tree)\n",
    "* A balanced binary search tree is one in which the height of the tree is close to optimal for the given number of nodes.\n",
    "* The first algorithmic implementation achieving this effect is the AVL tree algorithm. AVL trees work by rebalancing the tree using node pivot operations whenever a node insertion would violate the height constraint to rebalance the tree.\n",
    "* Runtimes are the same as that of an ordinary binary search tree."
   ]
  }
 ],
 "metadata": {
  "kernelspec": {
   "display_name": "Python 3",
   "language": "python",
   "name": "python3"
  },
  "language_info": {
   "codemirror_mode": {
    "name": "ipython",
    "version": 3
   },
   "file_extension": ".py",
   "mimetype": "text/x-python",
   "name": "python",
   "nbconvert_exporter": "python",
   "pygments_lexer": "ipython3",
   "version": "3.7.3"
  }
 },
 "nbformat": 4,
 "nbformat_minor": 2
}
