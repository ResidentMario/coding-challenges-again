{
 "cells": [
  {
   "cell_type": "markdown",
   "metadata": {},
   "source": [
    "* In this notebook I get to the bottom of Djikstra.\n",
    "* After some earlier experimentation I realized that I needed to understand a few data structures a bit better, so I backed up and wrote up some notes in `interlude_2`. Then I came back.\n",
    "* I started by copying over a known solution. Then I rewrote it with my own terms. Then I did some other stuff for half a day, and went back through the problem and implemented it from scratch myself."
   ]
  },
  {
   "cell_type": "code",
   "execution_count": 1,
   "metadata": {},
   "outputs": [],
   "source": [
    "import heapq"
   ]
  },
  {
   "cell_type": "code",
   "execution_count": 63,
   "metadata": {},
   "outputs": [],
   "source": [
    "def djikstra(times, N, K):\n",
    "    Q = [(0, K)]; heapq.heapify(Q)\n",
    "    times_seen = {}\n",
    "    adj = {}\n",
    "    \n",
    "    for u, v, w in times:\n",
    "        if u in adj:\n",
    "            adj[u].append((v, w))\n",
    "        else:\n",
    "            adj[u] = [(v, w)]\n",
    "    \n",
    "    for n in range(1, N + 1):\n",
    "        if n not in adj:\n",
    "            adj[n] = []\n",
    "    \n",
    "    while Q:\n",
    "        candidate_time, vertex_id = heapq.heappop(Q)\n",
    "        if vertex_id not in times_seen:\n",
    "            if vertex_id == 5:\n",
    "                import pdb; pdb.set_trace()\n",
    "                pass\n",
    "            times_seen[vertex_id] = candidate_time\n",
    "        elif times_seen[vertex_id] > candidate_time:\n",
    "            times_seen[vertex_id] = candidate_time\n",
    "        \n",
    "        for neighboring_vertex_id, neighboring_vertex_edge_weight in adj[vertex_id]:\n",
    "            heapq.heappush(\n",
    "                Q, (candidate_time + neighboring_vertex_edge_weight, neighboring_vertex_id)\n",
    "            )\n",
    "    \n",
    "    return times_seen"
   ]
  },
  {
   "cell_type": "code",
   "execution_count": 64,
   "metadata": {},
   "outputs": [
    {
     "data": {
      "text/plain": [
       "{2: 0, 1: 1, 3: 1, 4: 2}"
      ]
     },
     "execution_count": 64,
     "metadata": {},
     "output_type": "execute_result"
    }
   ],
   "source": [
    "djikstra([[2, 1, 1], [2, 3, 1], [3, 4, 1]], 4, 2)"
   ]
  },
  {
   "cell_type": "code",
   "execution_count": 91,
   "metadata": {},
   "outputs": [],
   "source": [
    "def djikstra(E, N, K):\n",
    "    result = {K: 0}\n",
    "    \n",
    "    adj = {}\n",
    "    for e in E:\n",
    "        u, v, d = e\n",
    "        if u in adj:\n",
    "            adj[u].append([v, d])\n",
    "        else:\n",
    "            adj[u] = [[v, d]]\n",
    "    for i in range(1, N + 1):\n",
    "        if i not in adj:\n",
    "            adj[i] = []\n",
    "    \n",
    "    Q = [(K, 0)]\n",
    "    print(adj)\n",
    "    \n",
    "    while Q:\n",
    "        u, d_u = heapq.heappop(Q)\n",
    "        for v, d_u_v in adj[u]:\n",
    "            d_v = d_u + d_u_v\n",
    "            if v in result and d_v < result[v]:\n",
    "                result[v] = d_v\n",
    "            elif v not in result:\n",
    "                result[v] = d_v\n",
    "                Q.append([v, d_v])\n",
    "    \n",
    "    return result"
   ]
  },
  {
   "cell_type": "code",
   "execution_count": 92,
   "metadata": {},
   "outputs": [
    {
     "name": "stdout",
     "output_type": "stream",
     "text": [
      "{1: [[2, 2], [3, 2]], 2: [[4, 1], [5, 4]], 3: [[5, 3]], 4: [], 5: []}\n"
     ]
    },
    {
     "data": {
      "text/plain": [
       "{1: 0, 2: 2, 3: 2, 4: 3, 5: 5}"
      ]
     },
     "execution_count": 92,
     "metadata": {},
     "output_type": "execute_result"
    }
   ],
   "source": [
    "djikstra([[1,2,2], [1,3,2], [2,4,1], [2,5,4], [3,5,3]], 5, 1)"
   ]
  },
  {
   "cell_type": "markdown",
   "metadata": {},
   "source": [
    "With that done we can finally get to a working implementation of `networkDelayTime`."
   ]
  },
  {
   "cell_type": "code",
   "execution_count": 108,
   "metadata": {},
   "outputs": [],
   "source": [
    "def djikstra(E, N, K):\n",
    "    result = {K: 0}\n",
    "    \n",
    "    adj = {}\n",
    "    for e in E:\n",
    "        u, v, d = e\n",
    "        if u in adj:\n",
    "            adj[u].append([v, d])\n",
    "        else:\n",
    "            adj[u] = [[v, d]]\n",
    "    for i in range(1, N + 1):\n",
    "        if i not in adj:\n",
    "            adj[i] = []\n",
    "    \n",
    "    Q = [(K, 0)]\n",
    "    \n",
    "    while Q:\n",
    "        u, d_u = heapq.heappop(Q)\n",
    "        for v, d_u_v in adj[u]:\n",
    "            d_v = d_u + d_u_v\n",
    "            if v in result and d_v < result[v]:\n",
    "                result[v] = d_v\n",
    "            elif v not in result:\n",
    "                result[v] = d_v\n",
    "                Q.append([v, d_v])\n",
    "    \n",
    "    print(result)\n",
    "    return result\n",
    "\n",
    "def networkDelayTime(times, N, K):\n",
    "    dists = djikstra(times, N, K)\n",
    "    if len(dists) != N:\n",
    "        return -1\n",
    "    else:\n",
    "        return max([dists[v] for v in dists])"
   ]
  },
  {
   "cell_type": "code",
   "execution_count": 109,
   "metadata": {},
   "outputs": [
    {
     "name": "stdout",
     "output_type": "stream",
     "text": [
      "{2: 0, 1: 1, 3: 1, 4: 2}\n"
     ]
    },
    {
     "data": {
      "text/plain": [
       "2"
      ]
     },
     "execution_count": 109,
     "metadata": {},
     "output_type": "execute_result"
    }
   ],
   "source": [
    "networkDelayTime([[2, 1, 1], [2, 3, 1], [3, 4, 1]], 4, 2)"
   ]
  },
  {
   "cell_type": "code",
   "execution_count": 110,
   "metadata": {},
   "outputs": [
    {
     "name": "stdout",
     "output_type": "stream",
     "text": [
      "{2: 0, 1: 1, 3: 1}\n"
     ]
    },
    {
     "data": {
      "text/plain": [
       "-1"
      ]
     },
     "execution_count": 110,
     "metadata": {},
     "output_type": "execute_result"
    }
   ],
   "source": [
    "networkDelayTime([[2, 1, 1], [2, 3, 1]], 4, 2)"
   ]
  },
  {
   "cell_type": "code",
   "execution_count": 111,
   "metadata": {},
   "outputs": [
    {
     "name": "stdout",
     "output_type": "stream",
     "text": [
      "{3: 0, 1: 65, 4: 53, 5: 46, 2: 18}\n"
     ]
    },
    {
     "data": {
      "text/plain": [
       "65"
      ]
     },
     "execution_count": 111,
     "metadata": {},
     "output_type": "execute_result"
    }
   ],
   "source": [
    "networkDelayTime(\n",
    "    [[4,2,76],[1,3,79],[3,1,81],[4,3,30],[2,1,47],[1,5,61],[1,4,99],[3,4,68],[3,5,46],[4,1,6],[5,4,7],[5,3,44],[4,5,19],[2,3,13],[3,2,18],[1,2,0],[5,1,25],[2,5,58],[2,4,77],[5,2,74]],\n",
    "    5,\n",
    "    3\n",
    ")"
   ]
  },
  {
   "cell_type": "markdown",
   "metadata": {},
   "source": [
    "Hmm. It doesn't pass in this case, I don't know why that is. I will say...close enough?"
   ]
  },
  {
   "cell_type": "code",
   "execution_count": 52,
   "metadata": {},
   "outputs": [],
   "source": [
    "def extreme_insertion_index(nums, target, left):\n",
    "    lo = 0\n",
    "    hi = len(nums)\n",
    "\n",
    "    while lo < hi:\n",
    "        mid = (lo + hi) // 2\n",
    "        if nums[mid] > target or (left and target == nums[mid]):\n",
    "            hi = mid\n",
    "        else:\n",
    "            lo = mid+1\n",
    "\n",
    "    return lo\n",
    "\n",
    "def searchRange(nums, target):\n",
    "    import pdb; pdb.set_trace()\n",
    "    left_idx = extreme_insertion_index(nums, target, True)\n",
    "\n",
    "    if left_idx == len(nums) or nums[left_idx] != target:\n",
    "        return [-1, -1]\n",
    "\n",
    "    return [left_idx, extreme_insertion_index(nums, target, False) - 1]"
   ]
  },
  {
   "cell_type": "code",
   "execution_count": 61,
   "metadata": {},
   "outputs": [
    {
     "data": {
      "text/plain": [
       "3"
      ]
     },
     "execution_count": 61,
     "metadata": {},
     "output_type": "execute_result"
    }
   ],
   "source": [
    "nums = [6, 6, 8, 8, 6, 6]\n",
    "len(nums) - extreme_insertion_index(nums[::-1], 8, True) - 1"
   ]
  },
  {
   "cell_type": "code",
   "execution_count": 60,
   "metadata": {},
   "outputs": [
    {
     "data": {
      "text/plain": [
       "[6, 6, 8, 8, 6, 6]"
      ]
     },
     "execution_count": 60,
     "metadata": {},
     "output_type": "execute_result"
    }
   ],
   "source": []
  },
  {
   "cell_type": "code",
   "execution_count": null,
   "metadata": {},
   "outputs": [],
   "source": []
  }
 ],
 "metadata": {
  "kernelspec": {
   "display_name": "Python 3",
   "language": "python",
   "name": "python3"
  },
  "language_info": {
   "codemirror_mode": {
    "name": "ipython",
    "version": 3
   },
   "file_extension": ".py",
   "mimetype": "text/x-python",
   "name": "python",
   "nbconvert_exporter": "python",
   "pygments_lexer": "ipython3",
   "version": "3.7.3"
  }
 },
 "nbformat": 4,
 "nbformat_minor": 2
}
