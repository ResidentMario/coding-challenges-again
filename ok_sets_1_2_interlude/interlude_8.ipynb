{
 "cells": [
  {
   "cell_type": "markdown",
   "metadata": {},
   "source": [
    "Just some more problems."
   ]
  },
  {
   "cell_type": "markdown",
   "metadata": {},
   "source": [
    "> https://leetcode.com/problems/flatten-a-multilevel-doubly-linked-list/"
   ]
  },
  {
   "cell_type": "code",
   "execution_count": 32,
   "metadata": {},
   "outputs": [],
   "source": [
    "class Node:\n",
    "    def __init__(self, val, prev, next, child):\n",
    "        self.val = val\n",
    "        self.prev = prev\n",
    "        self.next = next\n",
    "        self.child = child\n",
    "        \n",
    "def flatten(head):\n",
    "    return _flatten(head)[0]\n",
    "\n",
    "def _flatten(head):\n",
    "    if head is None:\n",
    "        return None, None\n",
    "    \n",
    "    out = curr = head\n",
    "    while curr.child is None and curr.next is not None:\n",
    "        curr = curr.next\n",
    "    \n",
    "    if curr.child is not None:\n",
    "        first, last = _flatten(curr.child)\n",
    "        curr.child = None\n",
    "        if curr.next is not None:\n",
    "            curr.next.prev, last.next = last, curr.next\n",
    "        curr.next, first.prev = first, curr\n",
    "        last.next, curr = _flatten(last.next)\n",
    "    \n",
    "    return head, curr"
   ]
  },
  {
   "cell_type": "code",
   "execution_count": 28,
   "metadata": {},
   "outputs": [],
   "source": [
    "root = Node(1, None, None, None)\n",
    "\n",
    "root.next = Node(2, root, None, None)\n",
    "\n",
    "root.next.next = Node(5, root.next, None, None)\n",
    "\n",
    "root.next.child = Node(3, root.next, None, None)\n",
    "\n",
    "root.next.child.next = Node(4, root.next.child, None, None)"
   ]
  },
  {
   "cell_type": "code",
   "execution_count": 29,
   "metadata": {},
   "outputs": [],
   "source": [
    "result = flatten(root)"
   ]
  },
  {
   "cell_type": "code",
   "execution_count": 30,
   "metadata": {
    "scrolled": true
   },
   "outputs": [
    {
     "data": {
      "text/plain": [
       "<__main__.Node at 0x109c9fa20>"
      ]
     },
     "execution_count": 30,
     "metadata": {},
     "output_type": "execute_result"
    }
   ],
   "source": [
    "flatten(result)"
   ]
  },
  {
   "cell_type": "markdown",
   "metadata": {},
   "source": [
    "* This is correct, modulo an edge case.\n",
    "* The solutions point out that there is a stack-based solution, can we figure that out?"
   ]
  },
  {
   "cell_type": "code",
   "execution_count": 46,
   "metadata": {},
   "outputs": [],
   "source": [
    "class Node:\n",
    "    def __init__(self, val, prev, next, child):\n",
    "        self.val = val\n",
    "        self.prev = prev\n",
    "        self.next = next\n",
    "        self.child = child\n",
    "        \n",
    "def flatten(head):\n",
    "    if head is None: return head\n",
    "    \n",
    "    stack = [head]\n",
    "    head = Node(0, None, None, None)\n",
    "    curr = head\n",
    "    \n",
    "    while stack:\n",
    "        node = stack.pop()\n",
    "        curr.next, node.prev = node, curr\n",
    "        curr = curr.next\n",
    "        \n",
    "        if node.next is not None:\n",
    "            stack.append(node.next)\n",
    "        if node.child is not None:\n",
    "            stack.append(node.child)\n",
    "            node.child = None\n",
    "    \n",
    "    head = head.next\n",
    "    head.prev = None\n",
    "    return head"
   ]
  },
  {
   "cell_type": "code",
   "execution_count": 47,
   "metadata": {},
   "outputs": [],
   "source": [
    "root = Node(1, None, None, None)\n",
    "\n",
    "root.next = Node(2, root, None, None)\n",
    "\n",
    "root.next.next = Node(5, root.next, None, None)\n",
    "\n",
    "root.next.child = Node(3, root.next, None, None)\n",
    "\n",
    "root.next.child.next = Node(4, root.next.child, None, None)"
   ]
  },
  {
   "cell_type": "code",
   "execution_count": 48,
   "metadata": {},
   "outputs": [],
   "source": [
    "result = flatten(root)"
   ]
  },
  {
   "cell_type": "markdown",
   "metadata": {},
   "source": [
    "* Yep. :) This is an easier-to-write and cleaner solution to this problem. Lesson learned for the future, consider cases in which stacks are useful!"
   ]
  },
  {
   "cell_type": "markdown",
   "metadata": {},
   "source": [
    "> https://leetcode.com/problems/recover-binary-search-tree"
   ]
  },
  {
   "cell_type": "markdown",
   "metadata": {},
   "source": [
    "* I did not find the tree relationship necessary to solve this problem because I am not sufficiently familiar with the tree structure. After looking up and coming to understand the relationship, I nevertheless struggled with the implementation because I did not understand in-order traversal well enough.\n",
    "\n",
    "  In particular, I did not realize that in-order traversal has the important property that nodes are visited in-order with respect to their value in the binary tree.\n",
    "  \n",
    "  Although I know how to write an in-order traversal algorithm, this problem requires a version of this algorithm that keeps a reference to the node immediately prior to the current one in traversal order. Getting this structure took a lot of figuring out. See `inOrderTraversalWithPreviousRef`.\n",
    "  \n",
    "  Clearly my understanding of tree search is insufficient for the demands!"
   ]
  },
  {
   "cell_type": "code",
   "execution_count": 26,
   "metadata": {},
   "outputs": [],
   "source": [
    "class TreeNode:\n",
    "    def __init__(self, x):\n",
    "        self.val = x\n",
    "        self.left = None\n",
    "        self.right = None"
   ]
  },
  {
   "cell_type": "code",
   "execution_count": 33,
   "metadata": {},
   "outputs": [],
   "source": [
    "def inOrderTraversal(root):\n",
    "    if root.left:\n",
    "        inOrderTraversal(root.left)\n",
    "    # workon node\n",
    "    print(root.val)\n",
    "    if root.right:\n",
    "        inOrderTraversal(root.right)"
   ]
  },
  {
   "cell_type": "code",
   "execution_count": 37,
   "metadata": {},
   "outputs": [],
   "source": [
    "root = TreeNode(3)\n",
    "root.left = TreeNode(1)\n",
    "root.left.right= TreeNode(2)"
   ]
  },
  {
   "cell_type": "code",
   "execution_count": 38,
   "metadata": {},
   "outputs": [
    {
     "name": "stdout",
     "output_type": "stream",
     "text": [
      "1\n",
      "2\n",
      "3\n"
     ]
    }
   ],
   "source": [
    "inOrderTraversal(root)"
   ]
  },
  {
   "cell_type": "code",
   "execution_count": 43,
   "metadata": {},
   "outputs": [],
   "source": [
    "def inOrderTraversalWithParentRef(root, parent=None):\n",
    "    if root.left:\n",
    "        inOrderTraversalWithParentRef(root.left, root)\n",
    "    print(root.val, parent.val if parent else None)\n",
    "    if root.right:\n",
    "        inOrderTraversalWithParentRef(root.right, root)"
   ]
  },
  {
   "cell_type": "code",
   "execution_count": 44,
   "metadata": {},
   "outputs": [
    {
     "name": "stdout",
     "output_type": "stream",
     "text": [
      "1 3\n",
      "2 1\n",
      "3 None\n"
     ]
    }
   ],
   "source": [
    "inOrderTraversalWithParentRef(root)"
   ]
  },
  {
   "cell_type": "code",
   "execution_count": 132,
   "metadata": {},
   "outputs": [],
   "source": [
    "def inOrderTraversalWithPreviousRef(root, previous=None):\n",
    "    if root.left:\n",
    "        previous = inOrderTraversalWithPreviousRef(root.left, previous)\n",
    "    \n",
    "    if previous is not None:\n",
    "        print(root.val, previous.val)\n",
    "    else:\n",
    "        print(root.val, previous)\n",
    "    \n",
    "    if root.right:\n",
    "        last = inOrderTraversalWithPreviousRef(root.right, root)\n",
    "    else:\n",
    "        last = root\n",
    "    \n",
    "    return last"
   ]
  },
  {
   "cell_type": "code",
   "execution_count": 133,
   "metadata": {},
   "outputs": [
    {
     "name": "stdout",
     "output_type": "stream",
     "text": [
      "1 None\n",
      "2 1\n",
      "3 2\n"
     ]
    },
    {
     "data": {
      "text/plain": [
       "<__main__.TreeNode at 0x10f88ac18>"
      ]
     },
     "execution_count": 133,
     "metadata": {},
     "output_type": "execute_result"
    }
   ],
   "source": [
    "root = TreeNode(3)\n",
    "root.left = TreeNode(1)\n",
    "root.left.right= TreeNode(2)\n",
    "inOrderTraversalWithPreviousRef(root)"
   ]
  },
  {
   "cell_type": "markdown",
   "metadata": {},
   "source": [
    "OK now we modify this traversal algorithm to do the work required of it by our algorithm."
   ]
  },
  {
   "cell_type": "code",
   "execution_count": 162,
   "metadata": {},
   "outputs": [],
   "source": [
    "def recoverTree(root):\n",
    "    first = second = None\n",
    "    \n",
    "    def traverse(root, first, second, previous=None):\n",
    "        if root.left:\n",
    "            first, second, previous = traverse(root.left, first, second, previous)\n",
    "\n",
    "        print(root.val, previous.val if previous else None)\n",
    "        if previous is not None:\n",
    "            if first is None and previous.val > root.val:\n",
    "                first = previous\n",
    "            elif second is None and previous.val > root.val:\n",
    "                second = root\n",
    "\n",
    "        if root.right:\n",
    "            first, second, last = traverse(root.right, first, second, root)\n",
    "        else:\n",
    "            last = root\n",
    "        return first, second, last\n",
    "        \n",
    "    a, b, _ = traverse(root, None, None, None)\n",
    "    a.val, b.val = b.val, a.val\n",
    "    return root"
   ]
  },
  {
   "cell_type": "code",
   "execution_count": 155,
   "metadata": {},
   "outputs": [
    {
     "name": "stdout",
     "output_type": "stream",
     "text": [
      "> <ipython-input-154-233e875db2cf>(22)recoverTree()\n",
      "-> a.val, b.val = b.val, a.val\n",
      "(Pdb) a.val, b.val\n",
      "root = <__main__.TreeNode object at 0x10f65bdd8>\n",
      "(Pdb) !a.val, b.val\n",
      "(3, 1)\n",
      "(Pdb) root.val\n",
      "1\n",
      "(Pdb) root.left.val\n",
      "3\n",
      "(Pdb) root.left.rigt.val\n",
      "*** AttributeError: 'TreeNode' object has no attribute 'rigt'\n",
      "(Pdb) root.left.right.val\n",
      "2\n",
      "(Pdb) c\n"
     ]
    }
   ],
   "source": [
    "root = TreeNode(1)\n",
    "root.left = TreeNode(3)\n",
    "root.left.right= TreeNode(2)\n",
    "result = recoverTree(root)"
   ]
  },
  {
   "cell_type": "code",
   "execution_count": 160,
   "metadata": {},
   "outputs": [
    {
     "data": {
      "text/plain": [
       "(3, 1, 2)"
      ]
     },
     "execution_count": 160,
     "metadata": {},
     "output_type": "execute_result"
    }
   ],
   "source": [
    "result.val, result.left.val, result.left.right.val"
   ]
  },
  {
   "cell_type": "code",
   "execution_count": 163,
   "metadata": {},
   "outputs": [
    {
     "name": "stdout",
     "output_type": "stream",
     "text": [
      "1 None\n",
      "3 1\n",
      "2 3\n",
      "4 2\n"
     ]
    },
    {
     "ename": "AttributeError",
     "evalue": "'NoneType' object has no attribute 'val'",
     "output_type": "error",
     "traceback": [
      "\u001b[0;31m---------------------------------------------------------------------------\u001b[0m",
      "\u001b[0;31mAttributeError\u001b[0m                            Traceback (most recent call last)",
      "\u001b[0;32m<ipython-input-163-f33361260451>\u001b[0m in \u001b[0;36m<module>\u001b[0;34m\u001b[0m\n\u001b[1;32m      3\u001b[0m \u001b[0mroot\u001b[0m\u001b[0;34m.\u001b[0m\u001b[0mright\u001b[0m\u001b[0;34m=\u001b[0m \u001b[0mTreeNode\u001b[0m\u001b[0;34m(\u001b[0m\u001b[0;36m4\u001b[0m\u001b[0;34m)\u001b[0m\u001b[0;34m\u001b[0m\u001b[0;34m\u001b[0m\u001b[0m\n\u001b[1;32m      4\u001b[0m \u001b[0mroot\u001b[0m\u001b[0;34m.\u001b[0m\u001b[0mright\u001b[0m\u001b[0;34m.\u001b[0m\u001b[0mleft\u001b[0m \u001b[0;34m=\u001b[0m \u001b[0mTreeNode\u001b[0m\u001b[0;34m(\u001b[0m\u001b[0;36m2\u001b[0m\u001b[0;34m)\u001b[0m\u001b[0;34m\u001b[0m\u001b[0;34m\u001b[0m\u001b[0m\n\u001b[0;32m----> 5\u001b[0;31m \u001b[0mresult\u001b[0m \u001b[0;34m=\u001b[0m \u001b[0mrecoverTree\u001b[0m\u001b[0;34m(\u001b[0m\u001b[0mroot\u001b[0m\u001b[0;34m)\u001b[0m\u001b[0;34m\u001b[0m\u001b[0;34m\u001b[0m\u001b[0m\n\u001b[0m",
      "\u001b[0;32m<ipython-input-162-c4422022bc24>\u001b[0m in \u001b[0;36mrecoverTree\u001b[0;34m(root)\u001b[0m\n\u001b[1;32m     20\u001b[0m \u001b[0;34m\u001b[0m\u001b[0m\n\u001b[1;32m     21\u001b[0m     \u001b[0ma\u001b[0m\u001b[0;34m,\u001b[0m \u001b[0mb\u001b[0m\u001b[0;34m,\u001b[0m \u001b[0m_\u001b[0m \u001b[0;34m=\u001b[0m \u001b[0mtraverse\u001b[0m\u001b[0;34m(\u001b[0m\u001b[0mroot\u001b[0m\u001b[0;34m,\u001b[0m \u001b[0;32mNone\u001b[0m\u001b[0;34m,\u001b[0m \u001b[0;32mNone\u001b[0m\u001b[0;34m,\u001b[0m \u001b[0;32mNone\u001b[0m\u001b[0;34m)\u001b[0m\u001b[0;34m\u001b[0m\u001b[0;34m\u001b[0m\u001b[0m\n\u001b[0;32m---> 22\u001b[0;31m     \u001b[0ma\u001b[0m\u001b[0;34m.\u001b[0m\u001b[0mval\u001b[0m\u001b[0;34m,\u001b[0m \u001b[0mb\u001b[0m\u001b[0;34m.\u001b[0m\u001b[0mval\u001b[0m \u001b[0;34m=\u001b[0m \u001b[0mb\u001b[0m\u001b[0;34m.\u001b[0m\u001b[0mval\u001b[0m\u001b[0;34m,\u001b[0m \u001b[0ma\u001b[0m\u001b[0;34m.\u001b[0m\u001b[0mval\u001b[0m\u001b[0;34m\u001b[0m\u001b[0;34m\u001b[0m\u001b[0m\n\u001b[0m\u001b[1;32m     23\u001b[0m     \u001b[0;32mreturn\u001b[0m \u001b[0mroot\u001b[0m\u001b[0;34m\u001b[0m\u001b[0;34m\u001b[0m\u001b[0m\n",
      "\u001b[0;31mAttributeError\u001b[0m: 'NoneType' object has no attribute 'val'"
     ]
    }
   ],
   "source": [
    "root = TreeNode(3)\n",
    "root.left = TreeNode(1)\n",
    "root.right= TreeNode(4)\n",
    "root.right.left = TreeNode(2)\n",
    "result = recoverTree(root)"
   ]
  },
  {
   "cell_type": "markdown",
   "metadata": {},
   "source": [
    "* It doesn't work because the relationship defined in the answer doesn't always hold? Whatever, spent enough time on this one as it is."
   ]
  },
  {
   "cell_type": "markdown",
   "metadata": {},
   "source": [
    "> https://leetcode.com/problems/merge-intervals/"
   ]
  },
  {
   "cell_type": "code",
   "execution_count": 184,
   "metadata": {},
   "outputs": [],
   "source": [
    "def merge(intervals):\n",
    "    if len(intervals) == 0: return intervals\n",
    "    \n",
    "    intervals = sorted(intervals, key=lambda intvl: intvl[0])\n",
    "    out = intervals[:1]\n",
    "    current_l, current_r = out[-1][0], out[-1][1]\n",
    "    \n",
    "    for (l, r) in intervals[1:]:\n",
    "        if l <= current_r:\n",
    "            current_l = min(current_l, l)\n",
    "            current_r = max(current_r, r)\n",
    "            out[-1] = [current_l, current_r]\n",
    "        else:\n",
    "            current_l, current_r = l, r\n",
    "            out.append([l, r])\n",
    "    \n",
    "    return out"
   ]
  },
  {
   "cell_type": "code",
   "execution_count": 185,
   "metadata": {},
   "outputs": [
    {
     "data": {
      "text/plain": [
       "[[1, 3]]"
      ]
     },
     "execution_count": 185,
     "metadata": {},
     "output_type": "execute_result"
    }
   ],
   "source": [
    "merge([[1,2], [2,3]])"
   ]
  },
  {
   "cell_type": "code",
   "execution_count": 186,
   "metadata": {},
   "outputs": [
    {
     "data": {
      "text/plain": [
       "[[1, 4]]"
      ]
     },
     "execution_count": 186,
     "metadata": {},
     "output_type": "execute_result"
    }
   ],
   "source": [
    "merge([[1,2], [2,3], [3, 4]])"
   ]
  },
  {
   "cell_type": "code",
   "execution_count": 187,
   "metadata": {},
   "outputs": [
    {
     "data": {
      "text/plain": [
       "[[1, 4], [5, 6]]"
      ]
     },
     "execution_count": 187,
     "metadata": {},
     "output_type": "execute_result"
    }
   ],
   "source": [
    "merge([[1,2], [2,3], [3, 4], [5, 6]])"
   ]
  },
  {
   "cell_type": "code",
   "execution_count": 188,
   "metadata": {},
   "outputs": [
    {
     "data": {
      "text/plain": [
       "[[1, 4], [5, 6]]"
      ]
     },
     "execution_count": 188,
     "metadata": {},
     "output_type": "execute_result"
    }
   ],
   "source": [
    "merge([[1,2], [1,2], [1,2], [1,3], [1,4], [5, 6]])"
   ]
  },
  {
   "cell_type": "code",
   "execution_count": 190,
   "metadata": {},
   "outputs": [
    {
     "data": {
      "text/plain": [
       "[]"
      ]
     },
     "execution_count": 190,
     "metadata": {},
     "output_type": "execute_result"
    }
   ],
   "source": [
    "merge([])"
   ]
  },
  {
   "cell_type": "code",
   "execution_count": 193,
   "metadata": {
    "scrolled": true
   },
   "outputs": [
    {
     "data": {
      "text/plain": [
       "[[3, 10], [500, 1500]]"
      ]
     },
     "execution_count": 193,
     "metadata": {},
     "output_type": "execute_result"
    }
   ],
   "source": [
    "merge([[500, 1250], [1000, 1500], [3, 10]])"
   ]
  },
  {
   "cell_type": "markdown",
   "metadata": {},
   "source": [
    "* Easy solve, didn't particularly learn anything. $O(n\\log{n})$."
   ]
  }
 ],
 "metadata": {
  "kernelspec": {
   "display_name": "Python 3",
   "language": "python",
   "name": "python3"
  },
  "language_info": {
   "codemirror_mode": {
    "name": "ipython",
    "version": 3
   },
   "file_extension": ".py",
   "mimetype": "text/x-python",
   "name": "python",
   "nbconvert_exporter": "python",
   "pygments_lexer": "ipython3",
   "version": "3.7.3"
  }
 },
 "nbformat": 4,
 "nbformat_minor": 2
}
