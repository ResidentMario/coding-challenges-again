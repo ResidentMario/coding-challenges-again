{
 "cells": [
  {
   "cell_type": "markdown",
   "metadata": {},
   "source": [
    "* In this notebook. Binary search problems. I did not get the iteration order in Leetcode 34, which is good signal that I need to do a stretch of binary search problems."
   ]
  },
  {
   "cell_type": "markdown",
   "metadata": {},
   "source": [
    "## Binary search with and without recursion\n",
    "\n",
    "* I was not aware of the style of implementation of binary search which does not use recursion, but that was really useful for this problem."
   ]
  },
  {
   "cell_type": "code",
   "execution_count": 11,
   "metadata": {},
   "outputs": [],
   "source": [
    "# recursive version\n",
    "def binarySearch(arr, n):\n",
    "    if len(arr) == 0:\n",
    "        return -1\n",
    "\n",
    "    i = len(arr) // 2\n",
    "    if arr[i] == n:\n",
    "        return i\n",
    "    elif arr[i] < n:\n",
    "        subsearch_result = binarySearch(arr[i + 1:], n)\n",
    "        return subsearch_result if subsearch_result == -1\\\n",
    "            else i + 1 + subsearch_result\n",
    "    else:  # arr[i] > n\n",
    "        return binarySearch(arr[:i], n)"
   ]
  },
  {
   "cell_type": "code",
   "execution_count": 9,
   "metadata": {},
   "outputs": [
    {
     "data": {
      "text/plain": [
       "0"
      ]
     },
     "execution_count": 9,
     "metadata": {},
     "output_type": "execute_result"
    }
   ],
   "source": [
    "binarySearch([1,2,3,4,5,6,7,8,9], 1)"
   ]
  },
  {
   "cell_type": "code",
   "execution_count": 12,
   "metadata": {},
   "outputs": [
    {
     "data": {
      "text/plain": [
       "8"
      ]
     },
     "execution_count": 12,
     "metadata": {},
     "output_type": "execute_result"
    }
   ],
   "source": [
    "binarySearch([1,2,3,4,5,6,7,8,9], 9)"
   ]
  },
  {
   "cell_type": "code",
   "execution_count": 63,
   "metadata": {},
   "outputs": [],
   "source": [
    "# iterative version\n",
    "import math\n",
    "\n",
    "def binarySearch(arr, n):\n",
    "    c = len(arr) // 2\n",
    "    l = 0\n",
    "    r = len(arr) - 1\n",
    "    \n",
    "    while (l != r):\n",
    "        if arr[c] == n:\n",
    "            return c\n",
    "        elif arr[c] < n:\n",
    "            l = c\n",
    "            c = c + math.ceil((r - l) / 2)\n",
    "        else:  # arr[c] > n\n",
    "            r = c\n",
    "            c = c - math.ceil((r - l) / 2)\n",
    "\n",
    "    return -1"
   ]
  },
  {
   "cell_type": "code",
   "execution_count": 64,
   "metadata": {
    "scrolled": true
   },
   "outputs": [
    {
     "data": {
      "text/plain": [
       "8"
      ]
     },
     "execution_count": 64,
     "metadata": {},
     "output_type": "execute_result"
    }
   ],
   "source": [
    "binarySearch([1,2,3,4,5,6,7,8,9], 9)"
   ]
  },
  {
   "cell_type": "code",
   "execution_count": 65,
   "metadata": {},
   "outputs": [
    {
     "data": {
      "text/plain": [
       "0"
      ]
     },
     "execution_count": 65,
     "metadata": {},
     "output_type": "execute_result"
    }
   ],
   "source": [
    "binarySearch([1,2,3,4,5,6,7,8,9], 1)"
   ]
  },
  {
   "cell_type": "markdown",
   "metadata": {},
   "source": [
    "> https://leetcode.com/problems/find-first-and-last-position-of-element-in-sorted-array/"
   ]
  },
  {
   "cell_type": "markdown",
   "metadata": {},
   "source": [
    "* The iterator style uses a three-pointers style. The recursive version uses recursion with a sentinel value.\n",
    "* The iterator style is more convenient when you need to manage state, because passing complex state down via recursion is burdensome."
   ]
  },
  {
   "cell_type": "code",
   "execution_count": 110,
   "metadata": {},
   "outputs": [],
   "source": [
    "import math\n",
    "\n",
    "def searchRange(nums, target):\n",
    "    if len(nums) == 0: return [-1, -1]\n",
    "    \n",
    "    def searchLeft(nums, target):\n",
    "        if len(nums) == 0: return -1\n",
    "        \n",
    "        c = len(nums) // 2\n",
    "        l = 0\n",
    "        r = len(nums) - 1\n",
    "        \n",
    "        while (l < r):\n",
    "            c = (l + r) // 2\n",
    "            if nums[c] == target:\n",
    "                r = c\n",
    "            if nums[c] < target:\n",
    "                l = c + 1\n",
    "            if nums[c] > target:\n",
    "                r = c\n",
    "        \n",
    "        return l\n",
    "    \n",
    "    def searchRight(nums, target):\n",
    "        if len(nums) == 0: return -1\n",
    "        \n",
    "        c = len(nums) // 2\n",
    "        l = 0\n",
    "        r = len(nums) - 1\n",
    "        \n",
    "        while (l < r):\n",
    "            c = math.ceil((l + r) / 2)\n",
    "            if nums[c] == target:\n",
    "                l = c\n",
    "            if nums[c] < target:\n",
    "                l = c + 1\n",
    "            if nums[c] > target:\n",
    "                r = c - 1\n",
    "        \n",
    "        return l\n",
    "    \n",
    "    lb = searchLeft(nums, target)\n",
    "    rb = searchRight(nums, target)\n",
    "    \n",
    "    if nums[lb] == target and nums[rb] == target:\n",
    "        return [lb, rb]\n",
    "    else:\n",
    "        return [-1, -1]"
   ]
  },
  {
   "cell_type": "code",
   "execution_count": 106,
   "metadata": {
    "scrolled": false
   },
   "outputs": [
    {
     "data": {
      "text/plain": [
       "[4, 5]"
      ]
     },
     "execution_count": 106,
     "metadata": {},
     "output_type": "execute_result"
    }
   ],
   "source": [
    "searchRange([5,7,7,7,8,8,10], 8)"
   ]
  },
  {
   "cell_type": "code",
   "execution_count": 107,
   "metadata": {},
   "outputs": [
    {
     "data": {
      "text/plain": [
       "[-1, 1]"
      ]
     },
     "execution_count": 107,
     "metadata": {},
     "output_type": "execute_result"
    }
   ],
   "source": [
    "searchRange([5,7,7,8,8,10], 6)"
   ]
  },
  {
   "cell_type": "code",
   "execution_count": 111,
   "metadata": {
    "scrolled": true
   },
   "outputs": [
    {
     "data": {
      "text/plain": [
       "[-1, -1]"
      ]
     },
     "execution_count": 111,
     "metadata": {},
     "output_type": "execute_result"
    }
   ],
   "source": [
    "searchRange([], 6)"
   ]
  },
  {
   "cell_type": "markdown",
   "metadata": {},
   "source": [
    "> https://leetcode.com/problems/first-bad-version/"
   ]
  },
  {
   "cell_type": "code",
   "execution_count": 138,
   "metadata": {},
   "outputs": [],
   "source": [
    "def firstBadVersion(n):\n",
    "    if n == 1: return 1\n",
    "    \n",
    "    import math\n",
    "    l = 1\n",
    "    r = n\n",
    "    \n",
    "    while (l != r):\n",
    "        c = l + ((r - l) // 2)\n",
    "        if isBadVersion(c):\n",
    "            r = c\n",
    "        else:\n",
    "            l = c + 1\n",
    "    \n",
    "    return l"
   ]
  },
  {
   "cell_type": "code",
   "execution_count": 139,
   "metadata": {},
   "outputs": [
    {
     "data": {
      "text/plain": [
       "1"
      ]
     },
     "execution_count": 139,
     "metadata": {},
     "output_type": "execute_result"
    }
   ],
   "source": [
    "def isBadVersion(n):\n",
    "    return n >= 1\n",
    "firstBadVersion(5)"
   ]
  },
  {
   "cell_type": "code",
   "execution_count": 140,
   "metadata": {},
   "outputs": [
    {
     "data": {
      "text/plain": [
       "2"
      ]
     },
     "execution_count": 140,
     "metadata": {},
     "output_type": "execute_result"
    }
   ],
   "source": [
    "def isBadVersion(n):\n",
    "    return n >= 2\n",
    "firstBadVersion(5)"
   ]
  },
  {
   "cell_type": "code",
   "execution_count": 142,
   "metadata": {},
   "outputs": [
    {
     "data": {
      "text/plain": [
       "3"
      ]
     },
     "execution_count": 142,
     "metadata": {},
     "output_type": "execute_result"
    }
   ],
   "source": [
    "def isBadVersion(n):\n",
    "    return n >= 3\n",
    "firstBadVersion(5)"
   ]
  },
  {
   "cell_type": "code",
   "execution_count": 143,
   "metadata": {},
   "outputs": [
    {
     "data": {
      "text/plain": [
       "4"
      ]
     },
     "execution_count": 143,
     "metadata": {},
     "output_type": "execute_result"
    }
   ],
   "source": [
    "def isBadVersion(n):\n",
    "    return n >= 4\n",
    "firstBadVersion(5)"
   ]
  },
  {
   "cell_type": "code",
   "execution_count": 144,
   "metadata": {},
   "outputs": [
    {
     "data": {
      "text/plain": [
       "5"
      ]
     },
     "execution_count": 144,
     "metadata": {},
     "output_type": "execute_result"
    }
   ],
   "source": [
    "def isBadVersion(n):\n",
    "    return n >= 5\n",
    "firstBadVersion(5)"
   ]
  },
  {
   "cell_type": "code",
   "execution_count": 145,
   "metadata": {},
   "outputs": [
    {
     "data": {
      "text/plain": [
       "1"
      ]
     },
     "execution_count": 145,
     "metadata": {},
     "output_type": "execute_result"
    }
   ],
   "source": [
    "firstBadVersion(1)"
   ]
  },
  {
   "cell_type": "markdown",
   "metadata": {},
   "source": [
    "* Runtime is $O(\\log{n})$.\n",
    "* Good solve."
   ]
  },
  {
   "cell_type": "markdown",
   "metadata": {},
   "source": [
    "> https://leetcode.com/problems/search-insert-position/"
   ]
  },
  {
   "cell_type": "code",
   "execution_count": 153,
   "metadata": {},
   "outputs": [],
   "source": [
    "# recursive version\n",
    "def searchInsert(nums, target):\n",
    "    if len(nums) == 0: return 0\n",
    "    \n",
    "    c = len(nums) // 2\n",
    "    \n",
    "    if nums[c] == target:\n",
    "        return c\n",
    "    elif nums[c] < target:\n",
    "        return c + 1 + searchInsert(nums[c + 1:], target)\n",
    "    elif nums[c] > target and c == 0:\n",
    "        return c\n",
    "    else:  # nums[c] > target and c != 0\n",
    "        return searchInsert(nums[:c], target)"
   ]
  },
  {
   "cell_type": "code",
   "execution_count": 240,
   "metadata": {},
   "outputs": [],
   "source": [
    "# iterative version\n",
    "def searchInsert(nums, target):\n",
    "    if len(nums) == 0: return 0\n",
    "    \n",
    "    l = 0\n",
    "    r = len(nums) - 1\n",
    "    \n",
    "    while l < r:\n",
    "        c = l + ((r - l) // 2)\n",
    "        \n",
    "        if nums[c] == target:\n",
    "            return c\n",
    "        elif nums[c] < target:\n",
    "            l = c + 1\n",
    "        else:  # nums[c] > target\n",
    "            r = c\n",
    "    \n",
    "    if nums[l] >= target: return l\n",
    "    else: return l + 1"
   ]
  },
  {
   "cell_type": "code",
   "execution_count": 241,
   "metadata": {
    "scrolled": false
   },
   "outputs": [
    {
     "data": {
      "text/plain": [
       "0"
      ]
     },
     "execution_count": 241,
     "metadata": {},
     "output_type": "execute_result"
    }
   ],
   "source": [
    "searchInsert([1,2,3],1)"
   ]
  },
  {
   "cell_type": "code",
   "execution_count": 242,
   "metadata": {},
   "outputs": [
    {
     "data": {
      "text/plain": [
       "1"
      ]
     },
     "execution_count": 242,
     "metadata": {},
     "output_type": "execute_result"
    }
   ],
   "source": [
    "searchInsert([1,2,3],2)"
   ]
  },
  {
   "cell_type": "code",
   "execution_count": 243,
   "metadata": {},
   "outputs": [
    {
     "data": {
      "text/plain": [
       "2"
      ]
     },
     "execution_count": 243,
     "metadata": {},
     "output_type": "execute_result"
    }
   ],
   "source": [
    "searchInsert([1,2,3],3)"
   ]
  },
  {
   "cell_type": "code",
   "execution_count": 244,
   "metadata": {},
   "outputs": [
    {
     "data": {
      "text/plain": [
       "3"
      ]
     },
     "execution_count": 244,
     "metadata": {},
     "output_type": "execute_result"
    }
   ],
   "source": [
    "searchInsert([1,2,3],5)"
   ]
  },
  {
   "cell_type": "code",
   "execution_count": 245,
   "metadata": {},
   "outputs": [
    {
     "data": {
      "text/plain": [
       "1"
      ]
     },
     "execution_count": 245,
     "metadata": {},
     "output_type": "execute_result"
    }
   ],
   "source": [
    "searchInsert([1,3,4],2)"
   ]
  },
  {
   "cell_type": "code",
   "execution_count": 246,
   "metadata": {},
   "outputs": [
    {
     "data": {
      "text/plain": [
       "0"
      ]
     },
     "execution_count": 246,
     "metadata": {},
     "output_type": "execute_result"
    }
   ],
   "source": [
    "searchInsert([1,2,3],0)"
   ]
  },
  {
   "cell_type": "code",
   "execution_count": 247,
   "metadata": {},
   "outputs": [
    {
     "data": {
      "text/plain": [
       "0"
      ]
     },
     "execution_count": 247,
     "metadata": {},
     "output_type": "execute_result"
    }
   ],
   "source": [
    "searchInsert([],10)"
   ]
  },
  {
   "cell_type": "code",
   "execution_count": 248,
   "metadata": {
    "scrolled": true
   },
   "outputs": [
    {
     "data": {
      "text/plain": [
       "1"
      ]
     },
     "execution_count": 248,
     "metadata": {},
     "output_type": "execute_result"
    }
   ],
   "source": [
    "searchInsert([1,3,5,6], 2)"
   ]
  },
  {
   "cell_type": "markdown",
   "metadata": {},
   "source": [
    "* Runtime is $O(\\log{n})$.\n",
    "* Recursive version was a near-instant solve. Iterative version took much longer; I didn't get the if-else on return logic correct right away.\n",
    "\n",
    "\n",
    "* OK, at this point I feel like I've done (or redone) enough problems to recall that form factor of the iterative solution.\n",
    "* Key is to remember to set `l = c + 1`, e.g. to skip the current central pointer's value. Otherwise we get stuck at `l = c = r - 1` and don't converge to the termination condition, `l = r`.\n",
    "* Another importnat point to remember is that the `l` and `r` pointers are converged onto a value, but the `c` pointer is \"left behind\" by the iteration order (although, we can put the `c` at the end to address this).\n",
    "* Next, we'll do a bunch of tree search problems, then jump back into tree search problem set from the first problem set we stopped early on."
   ]
  }
 ],
 "metadata": {
  "kernelspec": {
   "display_name": "Python 3",
   "language": "python",
   "name": "python3"
  },
  "language_info": {
   "codemirror_mode": {
    "name": "ipython",
    "version": 3
   },
   "file_extension": ".py",
   "mimetype": "text/x-python",
   "name": "python",
   "nbconvert_exporter": "python",
   "pygments_lexer": "ipython3",
   "version": "3.7.3"
  }
 },
 "nbformat": 4,
 "nbformat_minor": 2
}
