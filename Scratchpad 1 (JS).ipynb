{
 "cells": [
  {
   "cell_type": "raw",
   "metadata": {},
   "source": [
    "## Hamming distance (Leetcode 461)"
   ]
  },
  {
   "cell_type": "code",
   "execution_count": 1,
   "metadata": {},
   "outputs": [],
   "source": [
    "/* Returns the binary representation of the input integer. */\n",
    "function binary_repr(int) {\n",
    "    if (int === 0) return '0';\n",
    "    if (int === 1) return '1';\n",
    "\n",
    "    let out = '';\n",
    "    while (true) {\n",
    "        const [mod_part, divisor_part] = [int % 2, Math.floor(int / 2)];\n",
    "        \n",
    "        if (int === 1) {\n",
    "            out = '1' + out;\n",
    "            return out;\n",
    "        } else {\n",
    "            out = mod_part + out;\n",
    "            int = divisor_part;\n",
    "        }\n",
    "    }\n",
    "}"
   ]
  },
  {
   "cell_type": "code",
   "execution_count": 2,
   "metadata": {},
   "outputs": [],
   "source": [
    "const assert = require('assert');\n",
    "\n",
    "assert.equal('0', binary_repr(0));\n",
    "assert.equal('1', binary_repr(1));\n",
    "assert.equal('10', binary_repr(2));\n",
    "assert.equal('11', binary_repr(3));\n",
    "assert.equal('100', binary_repr(4));\n",
    "assert.equal('101001101', binary_repr(333));"
   ]
  },
  {
   "cell_type": "code",
   "execution_count": 3,
   "metadata": {},
   "outputs": [],
   "source": [
    "/* Pads the smaller of two strings with leading zeroes. */\n",
    "function pad_left_zeroes(v1, v2) {\n",
    "    if (v1.length === v2.length) return [v1, v2];\n",
    "    else {\n",
    "        if (v1.length < v2.length) {\n",
    "            const d = v2.length - v1.length;\n",
    "            v1 = Array(d).fill(0).join('') + v1;\n",
    "            return [v1, v2];\n",
    "        } else {  // v2.length < v1.length\n",
    "            const d = v1.length - v2.length;\n",
    "            v2 = Array(d).fill(0).join('') + v2;\n",
    "            return [v1, v2];\n",
    "        }\n",
    "    }\n",
    "}"
   ]
  },
  {
   "cell_type": "code",
   "execution_count": 4,
   "metadata": {},
   "outputs": [],
   "source": [
    "function hammingDistance(v1, v2) {\n",
    "    [v1, v2] = pad_left_zeroes(binary_repr(v1), binary_repr(v2));\n",
    "    dist = 0;\n",
    "    \n",
    "    for (let i of Array(v1.length).keys()) {\n",
    "        if (v1[i] !== v2[i]) dist += 1;\n",
    "    }\n",
    "    return dist;\n",
    "}"
   ]
  },
  {
   "cell_type": "markdown",
   "metadata": {},
   "source": [
    "Determining the binary sequence is $O(\\log_2{n})$. Performing the comparison operation is $O(\\max\\{{\\log_2{n}, \\log_2{m}\\}})$. So the whole operation is $O(\\log_2{n})$."
   ]
  },
  {
   "cell_type": "markdown",
   "metadata": {},
   "source": [
    "## Minimum Absolute Interlink Difference in Binary Search Tree\n",
    "\n",
    "Given a binary search tree with non-negative values, find the minimum absolute difference between values of two connected nodes.\n",
    "\n",
    "> This was originally an attempt at a Leetcode exercise, except I misread the exercise..."
   ]
  },
  {
   "cell_type": "code",
   "execution_count": 1,
   "metadata": {},
   "outputs": [],
   "source": [
    "class TreeNode {\n",
    "    constructor(val) {\n",
    "        this.val = val;\n",
    "        this.left = this.right = null;\n",
    "    }\n",
    "}"
   ]
  },
  {
   "cell_type": "code",
   "execution_count": 9,
   "metadata": {},
   "outputs": [],
   "source": [
    "function getMinimumDifference(root) {\n",
    "    if (!root) return Infinity;\n",
    "\n",
    "    let left_dist = (root.left) ? root.val - root.left.val : Infinity;\n",
    "    let right_dist = (root.right) ? root.right.val - root.val: Infinity;\n",
    "    let self_dist = Math.min(left_dist, right_dist);\n",
    "    let dist = Math.min(self_dist, getMinimumDifference(root.left), getMinimumDifference(root.right));\n",
    "    return dist;\n",
    "}"
   ]
  },
  {
   "cell_type": "code",
   "execution_count": 8,
   "metadata": {},
   "outputs": [
    {
     "data": {
      "text/plain": [
       "TreeNode { val: 7, right: null, left: null }"
      ]
     },
     "execution_count": 8,
     "metadata": {},
     "output_type": "execute_result"
    }
   ],
   "source": [
    "let _root = new TreeNode(4);\n",
    "_root.left = new TreeNode(2);\n",
    "_root.right = new TreeNode(6);\n",
    "_root.left.left = new TreeNode(0);\n",
    "_root.left.right = new TreeNode(3);\n",
    "_root.right.left = new TreeNode(5);\n",
    "_root.right.right = new TreeNode(7);"
   ]
  },
  {
   "cell_type": "code",
   "execution_count": 3,
   "metadata": {},
   "outputs": [],
   "source": [
    "// let _root = new TreeNode(1);\n",
    "// _root.right = new TreeNode(2);"
   ]
  },
  {
   "cell_type": "code",
   "execution_count": 10,
   "metadata": {
    "scrolled": true
   },
   "outputs": [
    {
     "data": {
      "text/plain": [
       "1"
      ]
     },
     "execution_count": 10,
     "metadata": {},
     "output_type": "execute_result"
    }
   ],
   "source": [
    "getMinimumDifference(_root);"
   ]
  },
  {
   "cell_type": "markdown",
   "metadata": {},
   "source": [
    "This code is $O(n)$, where $n$ is the depth of the tree."
   ]
  },
  {
   "cell_type": "markdown",
   "metadata": {},
   "source": [
    "## Maximum Depth of Binary Tree (Leetcode 104)\n",
    "\n",
    "The maximum depth is the number of nodes along the longest path from the root node down to the farthest leaf node."
   ]
  },
  {
   "cell_type": "code",
   "execution_count": 1,
   "metadata": {},
   "outputs": [],
   "source": [
    "class TreeNode {\n",
    "    constructor(val) {\n",
    "        this.val = val;\n",
    "        this.left = this.right = null;\n",
    "    }\n",
    "}"
   ]
  },
  {
   "cell_type": "code",
   "execution_count": 12,
   "metadata": {},
   "outputs": [],
   "source": [
    "function maxDepth(root) {\n",
    "    if (!root) return 0;\n",
    "    if (!root.left & !root.right) return 1;\n",
    "    \n",
    "    let children = [];\n",
    "    if (root.left) children.push(maxDepth(root.left) + 1);\n",
    "    if (root.right) children.push(maxDepth(root.right) + 1);\n",
    "    \n",
    "    return Math.max(...children);\n",
    "}"
   ]
  },
  {
   "cell_type": "markdown",
   "metadata": {},
   "source": [
    "This code is $O(n)$, where $n$ is the depth of the tree."
   ]
  },
  {
   "cell_type": "markdown",
   "metadata": {},
   "source": [
    "## Convert Sorted Array to Binary Search Tree (Leetcode 108)\n",
    "\n",
    "Given an array where elements are sorted in ascending order, convert it to a height balanced BST."
   ]
  },
  {
   "cell_type": "code",
   "execution_count": 1,
   "metadata": {},
   "outputs": [],
   "source": [
    "class TreeNode {\n",
    "    constructor(val) {\n",
    "        this.val = val;\n",
    "        this.left = this.right = null;\n",
    "    }\n",
    "}"
   ]
  },
  {
   "cell_type": "code",
   "execution_count": 57,
   "metadata": {},
   "outputs": [],
   "source": [
    "function sortedArrayToBST(nums) {\n",
    "    if (!nums || nums.length === 0) return null;\n",
    "    if (nums.length === 1) return new TreeNode(nums[0]);\n",
    "    if (nums.length === 2) {\n",
    "        let up = new TreeNode(nums[1]);\n",
    "        up.left = new TreeNode(nums[0]);\n",
    "        return up;\n",
    "    }\n",
    "\n",
    "    const pivot = Math.ceil(nums.length / 2) - 1;\n",
    "    const [left, right] = [\n",
    "        sortedArrayToBST(nums.slice(0, pivot)), sortedArrayToBST(nums.slice(pivot + 1))\n",
    "    ];\n",
    "\n",
    "    let up = new TreeNode(nums[pivot]);\n",
    "    up.left = left;\n",
    "    up.right = right;\n",
    "    return up;\n",
    "}"
   ]
  },
  {
   "cell_type": "code",
   "execution_count": 59,
   "metadata": {},
   "outputs": [
    {
     "data": {
      "text/plain": [
       "TreeNode {\n",
       "  val: 0,\n",
       "  right:\n",
       "   TreeNode {\n",
       "     val: 9,\n",
       "     right: null,\n",
       "     left: TreeNode { val: 5, right: null, left: null } },\n",
       "  left:\n",
       "   TreeNode {\n",
       "     val: -3,\n",
       "     right: null,\n",
       "     left: TreeNode { val: -10, right: null, left: null } } }"
      ]
     },
     "execution_count": 59,
     "metadata": {},
     "output_type": "execute_result"
    }
   ],
   "source": [
    "sortedArrayToBST([-10,-3,0,5,9]);"
   ]
  },
  {
   "cell_type": "markdown",
   "metadata": {},
   "source": [
    "## Prime Permutations (Leetcode 1175)\n",
    "\n",
    "Count the number of permutations of the numbers up to `n` where prime numbers are prime-indexed."
   ]
  },
  {
   "cell_type": "code",
   "execution_count": 152,
   "metadata": {},
   "outputs": [],
   "source": [
    "function is_prime(n) {\n",
    "    if (n === 0) return false;\n",
    "    if (n === 1) return false;\n",
    "\n",
    "    const max = Math.floor(Math.sqrt(n));\n",
    "    for (let i of [...Array(max - 1).keys()].map(v => v + 2)) {\n",
    "        if (n % i === 0) return false;\n",
    "    }\n",
    "    return true;\n",
    "}\n",
    "\n",
    "function factorial(n) {\n",
    "    let out = 1;\n",
    "    for (let i of Array(n).keys()) {\n",
    "        out *= (i + 1);\n",
    "    }\n",
    "    return out;\n",
    "}\n",
    "\n",
    "function numPrimeArrangements(n) {\n",
    "    let n_primes = n_composites = 0;\n",
    "    let itervals = [...Array(n).keys()].map(v => v + 1);  // [1, ..., n]\n",
    "    for (let i of itervals) {\n",
    "        is_prime(i) ? n_primes += 1 : n_composites += 1;\n",
    "    }\n",
    "    return (factorial(n_primes) * factorial(n_composites)) % (10**9 + 7)\n",
    "}"
   ]
  },
  {
   "cell_type": "markdown",
   "metadata": {},
   "source": [
    "While this solution works for small numbers, it suffers from numerical precision errors with the larger numbers that we generate.\n",
    "\n",
    "JavaScript uses the `double` for storing its type. The maximum number representable with this $2^{32} - 1$, and the numbers we generate in this routine substantially outstrip this value, resulting in overflows and an inaccurate result for large numerical values.\n",
    "\n",
    "The solution is to use the `BigInt` primative, which uses the usual stringification type tricks to avoid overflowing on large numbers. The following code block implements the small amount of additional code necessary to get this in a working state."
   ]
  },
  {
   "cell_type": "code",
   "execution_count": 178,
   "metadata": {},
   "outputs": [],
   "source": [
    "function is_prime(n) {\n",
    "    if (n === 0) return false;\n",
    "    if (n === 1) return false;\n",
    "\n",
    "    const max = Math.floor(Math.sqrt(n));\n",
    "    for (let i of [...Array(max - 1).keys()].map(v => v + 2)) {\n",
    "        if (n % i === 0) return false;\n",
    "    }\n",
    "    return true;\n",
    "}\n",
    "\n",
    "function factorial(n) {\n",
    "    let out = BigInt(1);\n",
    "    for (let i of Array(n).keys()) {\n",
    "        out *= BigInt(i + 1);\n",
    "    }\n",
    "    return out;\n",
    "}\n",
    "\n",
    "function numPrimeArrangements(n) {\n",
    "    let n_primes = n_composites = 0;\n",
    "    let itervals = [...Array(n).keys()].map(v => v + 1);  // [1, ..., n]\n",
    "    for (let i of itervals) {\n",
    "        is_prime(i) ? n_primes += 1 : n_composites += 1;\n",
    "    }\n",
    "    return parseInt((factorial(n_primes) * factorial(n_composites)) % BigInt(10**9 + 7))\n",
    "}"
   ]
  },
  {
   "cell_type": "code",
   "execution_count": 179,
   "metadata": {},
   "outputs": [
    {
     "data": {
      "text/plain": [
       "682289015"
      ]
     },
     "execution_count": 179,
     "metadata": {},
     "output_type": "execute_result"
    }
   ],
   "source": [
    "(numPrimeArrangements(100))"
   ]
  },
  {
   "cell_type": "markdown",
   "metadata": {},
   "source": [
    "## Second Minimum Node in a Binary Tree (Leetcode 671)\n",
    "\n",
    "Given a non-empty special binary tree consisting of nodes with the non-negative value, where each node in this tree has exactly two or zero sub-node. If the node has two sub-nodes, then this node's value is the smaller value among its two sub-nodes. More formally, the property root.val = min(root.left.val, root.right.val) always holds.\n",
    "\n",
    "Given such a binary tree, you need to output the second minimum value in the set made of all the nodes' value in the whole tree.\n",
    "\n",
    "If no such second minimum value exists, output -1 instead.\n",
    "\n",
    "```\n",
    "Example 1:\n",
    "\n",
    "Input: \n",
    "    2\n",
    "   / \\\n",
    "  2   5\n",
    "     / \\\n",
    "    5   7\n",
    "    \n",
    "Output: 5\n",
    "Explanation: The smallest value is 2, the second smallest value is 5.\n",
    "```"
   ]
  },
  {
   "cell_type": "markdown",
   "metadata": {},
   "source": [
    "**Discussion**:\n",
    "\n",
    "* The root and left child are always equivalent.\n",
    "* If we arrange the children in sort order, we ensure that the right child is $\\geq$.\n",
    "  * If the right child is $>$, its value is the solution.\n",
    "  * If the right child is $=$, $f(\\text{root}) \\equiv f(\\text{root.right})$ (recurrence relationship).\n",
    "* If there is no right child, the answer is -1."
   ]
  },
  {
   "cell_type": "code",
   "execution_count": 1,
   "metadata": {},
   "outputs": [],
   "source": [
    "class TreeNode {\n",
    "    constructor(val) {\n",
    "        this.val = val;\n",
    "        this.left = this.right = null;\n",
    "    }\n",
    "}"
   ]
  },
  {
   "cell_type": "code",
   "execution_count": 13,
   "metadata": {},
   "outputs": [],
   "source": [
    "function findSecondMinimumValue(root) {\n",
    "    // empty case and null case return -1\n",
    "    if (!root) return -1;\n",
    "    else if (!root.left && !root.right) return -1;\n",
    "\n",
    "    // otherwise, rearrange the children into sort, right-precedence order\n",
    "    else if (root.left && !root.right) {\n",
    "        root.right = root.left;\n",
    "        root.left = null;\n",
    "    }\n",
    "    else if (root.left && root.right && (root.left.val > root.right.val)) {\n",
    "        [root.right, root.left] = [root.left, root.right];\n",
    "    }\n",
    "\n",
    "    // solve immediately or solve the subtree\n",
    "    if (root.right.val !== root.val) return root.right.val;\n",
    "    else return findSecondMinimumValue(root.right);\n",
    "}"
   ]
  },
  {
   "cell_type": "code",
   "execution_count": 3,
   "metadata": {},
   "outputs": [],
   "source": [
    "const assert = require('assert');"
   ]
  },
  {
   "cell_type": "code",
   "execution_count": 4,
   "metadata": {},
   "outputs": [
    {
     "data": {
      "text/plain": [
       "-1"
      ]
     },
     "execution_count": 4,
     "metadata": {},
     "output_type": "execute_result"
    }
   ],
   "source": [
    "findSecondMinimumValue(null)"
   ]
  },
  {
   "cell_type": "code",
   "execution_count": 6,
   "metadata": {},
   "outputs": [],
   "source": [
    "let empty_tree = new TreeNode(1);"
   ]
  },
  {
   "cell_type": "code",
   "execution_count": 14,
   "metadata": {},
   "outputs": [
    {
     "data": {
      "text/plain": [
       "-1"
      ]
     },
     "execution_count": 14,
     "metadata": {},
     "output_type": "execute_result"
    }
   ],
   "source": [
    "findSecondMinimumValue(empty_tree);"
   ]
  },
  {
   "cell_type": "code",
   "execution_count": 15,
   "metadata": {},
   "outputs": [
    {
     "data": {
      "text/plain": [
       "2"
      ]
     },
     "execution_count": 15,
     "metadata": {},
     "output_type": "execute_result"
    }
   ],
   "source": [
    "let simple_tree = new TreeNode(1);\n",
    "simple_tree.left = new TreeNode(1);\n",
    "simple_tree.right = new TreeNode(2);\n",
    "findSecondMinimumValue(simple_tree);"
   ]
  },
  {
   "cell_type": "markdown",
   "metadata": {},
   "source": [
    "Nah. But, whatever."
   ]
  },
  {
   "cell_type": "markdown",
   "metadata": {},
   "source": [
    "## Binary Tree Tilt (Leetcode 563)\n",
    "\n",
    "Given a binary tree, return the tilt of the whole tree.\n",
    "\n",
    "The tilt of a tree node is defined as the absolute difference between the sum of all left subtree node values and the sum of all right subtree node values. Null node has tilt 0.\n",
    "\n",
    "The tilt of the whole tree is defined as the sum of all nodes' tilt.\n",
    "\n",
    "```\n",
    "Example:\n",
    "Input: \n",
    "         1\n",
    "       /   \\\n",
    "      2     3\n",
    "Output: 1\n",
    "Explanation: \n",
    "Tilt of node 2 : 0\n",
    "Tilt of node 3 : 0\n",
    "Tilt of node 1 : |2-3| = 1\n",
    "Tilt of binary tree : 0 + 0 + 1 = 1\n",
    "```\n",
    "\n",
    "\n",
    "Notes:\n",
    "* The sum of node values in any subtree won't exceed the range of 32-bit integer.\n",
    "* All the tilt values won't exceed the range of 32-bit integer."
   ]
  },
  {
   "cell_type": "code",
   "execution_count": null,
   "metadata": {},
   "outputs": [],
   "source": [
    "class TreeNode {\n",
    "    constructor(val) {\n",
    "        this.val = val;\n",
    "        this.left = this.right = null;\n",
    "    }\n",
    "}"
   ]
  },
  {
   "cell_type": "code",
   "execution_count": 70,
   "metadata": {},
   "outputs": [],
   "source": [
    "function traverse(root) {\n",
    "    if (!root) return null;\n",
    "    \n",
    "    root.left = traverse(root.left);\n",
    "    root.right = traverse(root.right);\n",
    "\n",
    "    let left_val = root.left ? root.left.val : 0;\n",
    "    let right_val = root.right ? root.right.val : 0;\n",
    "    let left_sum = root.left ? root.left.sum : 0;\n",
    "    let right_sum = root.right ? root.right.sum : 0;\n",
    "    root.sum = left_sum + right_sum + root.val;\n",
    "    root.tilt = Math.abs(left_sum - right_sum);\n",
    "    \n",
    "    return root;\n",
    "}"
   ]
  },
  {
   "cell_type": "code",
   "execution_count": 110,
   "metadata": {},
   "outputs": [],
   "source": [
    "function findTilt(root) {\n",
    "    if (!root) return 0;\n",
    "    \n",
    "    root = traverse(root);\n",
    "    let out = root.tilt;\n",
    "    \n",
    "    function traverseTilt(root) {\n",
    "        if (!root) return;\n",
    "        let leftTilt = root.left ? root.left.tilt : 0;\n",
    "        let rightTilt = root.right ? root.right.tilt : 0;\n",
    "        out += leftTilt + rightTilt;\n",
    "        traverseTilt(root.left);\n",
    "        traverseTilt(root.right);\n",
    "    }\n",
    "    \n",
    "    traverseTilt(root);\n",
    "    return out;\n",
    "}"
   ]
  },
  {
   "cell_type": "code",
   "execution_count": 56,
   "metadata": {},
   "outputs": [],
   "source": [
    "const assert = require('assert');"
   ]
  },
  {
   "cell_type": "code",
   "execution_count": 122,
   "metadata": {},
   "outputs": [],
   "source": [
    "function findTiltTreeNull() {\n",
    "    assert.equal(findTilt(null), 0);\n",
    "}\n",
    "\n",
    "function findTiltTreeSingle() {\n",
    "    assert.equal(findTilt(new TreeNode(1)), 0);\n",
    "}\n",
    "\n",
    "function findTiltTreeHeight2() {\n",
    "    let root = new TreeNode(1);\n",
    "    root.left = new TreeNode(2);\n",
    "    root.right = new TreeNode(3);\n",
    "    assert.equal(findTilt(root), 1);\n",
    "}\n",
    "\n",
    "function findTiltTreeHeight3() {\n",
    "    let root = new TreeNode(1);\n",
    "    root.left = new TreeNode(2);\n",
    "    root.right = new TreeNode(3);\n",
    "    root.left.left = new TreeNode(4);\n",
    "    root.left.right = new TreeNode(5);\n",
    "    root.right.left = new TreeNode(6);\n",
    "    root.right.right = new TreeNode(7);\n",
    "\n",
    "    assert.equal(findTilt(root), 5);\n",
    "}\n",
    "\n",
    "findTiltTreeNull();\n",
    "findTiltTreeSingle();\n",
    "findTiltTreeHeight2();\n",
    "findTiltTreeHeight3();"
   ]
  },
  {
   "cell_type": "markdown",
   "metadata": {},
   "source": [
    "Here's a solution that follows immediately that doesn't require double traversal. Just sum things as you go along."
   ]
  },
  {
   "cell_type": "code",
   "execution_count": 118,
   "metadata": {},
   "outputs": [],
   "source": [
    "function traverse(root) {\n",
    "    if (!root) return null;\n",
    "    \n",
    "    root.left = traverse(root.left);\n",
    "    root.right = traverse(root.right);\n",
    "\n",
    "    let left_val = root.left ? root.left.val : 0;\n",
    "    let right_val = root.right ? root.right.val : 0;\n",
    "    let left_sum = root.left ? root.left.sum : 0;\n",
    "    let right_sum = root.right ? root.right.sum : 0;\n",
    "    root.sum = left_sum + right_sum + root.val;\n",
    "    root.tilt = Math.abs(left_sum - right_sum);\n",
    "    \n",
    "    let left_tilt = root.left ? root.left.tilt : 0;\n",
    "    let right_tilt = root.right ? root.right.tilt : 0;\n",
    "    root.tilt_sum = left_tilt + right_tilt + root.tilt;\n",
    "    \n",
    "    return root;\n",
    "}\n",
    "\n",
    "function findTilt(root) {\n",
    "    if (!root) return 0;\n",
    "    root = traverse(root);\n",
    "    return root.tilt;\n",
    "}"
   ]
  },
  {
   "cell_type": "code",
   "execution_count": 124,
   "metadata": {},
   "outputs": [],
   "source": [
    "findTiltTreeNull();\n",
    "findTiltTreeSingle();\n",
    "findTiltTreeHeight2();\n",
    "findTiltTreeHeight3();"
   ]
  },
  {
   "cell_type": "markdown",
   "metadata": {},
   "source": [
    "OK, some comments.\n",
    "\n",
    "This took vastly longer than it should, because I did not immediately catch on to how this algorithm can be solved in one pass of searching (even though I should have). I also made some silly errors in the code design that are, in the grand scheme of things, mainly due to inexperience..."
   ]
  },
  {
   "cell_type": "markdown",
   "metadata": {},
   "source": [
    "## Average of Levels in Binary Tree (Leetcode 637)\n",
    "\n",
    "Given a non-empty binary tree, return the average value of the nodes on each level in the form of an array.\n",
    "\n",
    "```\n",
    "Example 1:\n",
    "Input:\n",
    "    3\n",
    "   / \\\n",
    "  9  20\n",
    "    /  \\\n",
    "   15   7\n",
    "Output: [3, 14.5, 11]\n",
    "Explanation:\n",
    "The average value of nodes on level 0 is 3,  on level 1 is 14.5, and on level 2 is 11. Hence return [3, 14.5, 11].\n",
    "```"
   ]
  },
  {
   "cell_type": "code",
   "execution_count": 127,
   "metadata": {},
   "outputs": [],
   "source": [
    "function dfs_step(nodes) {\n",
    "    next_nodes = [];\n",
    "    nodes.forEach(node => {\n",
    "        if (node.left) next_nodes.push(node.left);\n",
    "        if (node.right) next_nodes.push(node.right);\n",
    "    });\n",
    "    return next_nodes;\n",
    "}\n",
    "\n",
    "function averageOfLevels(root) {\n",
    "    let vals = [root.val];\n",
    "    let curr_nodes = [root];\n",
    "\n",
    "    while (true) {\n",
    "        curr_nodes = dfs_step(curr_nodes);\n",
    "        if (curr_nodes.length > 0) {\n",
    "            vals.push(curr_nodes.map(node => node.val).reduce((prev, curr) => prev + curr) / curr_nodes.length);\n",
    "        } else {\n",
    "            break;\n",
    "        }\n",
    "    }\n",
    "    return vals;\n",
    "}"
   ]
  },
  {
   "cell_type": "markdown",
   "metadata": {},
   "source": [
    "## Trim a Binary Search Tree (Leetcode 669)\n",
    "\n",
    "Given a binary search tree and the lowest and highest boundaries as L and R, trim the tree so that all its elements lies in [L, R] (R >= L). You might need to change the root of the tree, so the result should return the new root of the trimmed binary search tree.\n",
    "\n",
    "```\n",
    "Example 1:\n",
    "Input: \n",
    "    1\n",
    "   / \\\n",
    "  0   2\n",
    "\n",
    "  L = 1\n",
    "  R = 2\n",
    "\n",
    "Output: \n",
    "    1\n",
    "      \\\n",
    "       2\n",
    "Example 2:\n",
    "Input: \n",
    "    3\n",
    "   / \\\n",
    "  0   4\n",
    "   \\\n",
    "    2\n",
    "   /\n",
    "  1\n",
    "\n",
    "  L = 1\n",
    "  R = 3\n",
    "\n",
    "Output: \n",
    "      3\n",
    "     / \n",
    "   2   \n",
    "  /\n",
    " 1\n",
    "```"
   ]
  },
  {
   "cell_type": "code",
   "execution_count": 201,
   "metadata": {},
   "outputs": [],
   "source": [
    "function trimBST(root, L, R) {\n",
    "    if (!root) {\n",
    "        return null;\n",
    "    };\n",
    "    if (root.val < L) {\n",
    "        root = root.right;\n",
    "        root = trimBST(root, L, R);\n",
    "    } else if (root.val > R) {\n",
    "        root = root.left;\n",
    "        root = trimBST(root, L, R);\n",
    "    } else {\n",
    "        root.left = trimBST(root.left, L, R);\n",
    "        root.right = trimBST(root.right, L, R);\n",
    "    }\n",
    "    return root;\n",
    "}"
   ]
  },
  {
   "cell_type": "code",
   "execution_count": 202,
   "metadata": {},
   "outputs": [
    {
     "data": {
      "text/plain": [
       "TreeNode {\n",
       "  val: 1,\n",
       "  right: TreeNode { val: 2, right: null, left: null },\n",
       "  left: null }"
      ]
     },
     "execution_count": 202,
     "metadata": {},
     "output_type": "execute_result"
    }
   ],
   "source": [
    "function testTrimBST() {\n",
    "    let root = new TreeNode(1);\n",
    "    root.left = new TreeNode(0);\n",
    "    root.right = new TreeNode(2);\n",
    "    return trimBST(root, 1, 2);\n",
    "}\n",
    "testTrimBST();"
   ]
  },
  {
   "cell_type": "markdown",
   "metadata": {},
   "source": [
    "## Excel Sheet Column Number (Leetcode 121)\n",
    "\n",
    "Given a column title as appear in an Excel sheet, return its corresponding column number.\n",
    "\n",
    "```\n",
    "For example:\n",
    "\n",
    "    A -> 1\n",
    "    B -> 2\n",
    "    C -> 3\n",
    "    ...\n",
    "    Z -> 26\n",
    "    AA -> 27\n",
    "    AB -> 28 \n",
    "    ...\n",
    "```"
   ]
  },
  {
   "cell_type": "code",
   "execution_count": 250,
   "metadata": {},
   "outputs": [],
   "source": [
    "function titleToNumber(s) {\n",
    "    const letters = 'ABCDEFGHIJKLMNOPQRSTUVWXYZ';\n",
    "    const letterToValue = (letter) => letters.indexOf(letter) + 1;\n",
    "\n",
    "    let out = 0;\n",
    "    for (let digits_place of [...Array(s.length).keys()].reverse()) {\n",
    "        let digit = letterToValue(s[digits_place]);\n",
    "        let digit_value = digit * 26**(s.length - digits_place - 1);\n",
    "        out += digit_value;\n",
    "    }\n",
    "    return out;\n",
    "}"
   ]
  },
  {
   "cell_type": "markdown",
   "metadata": {},
   "source": [
    "This algorithm is $O(n)$, where $n$ is the length of $s$ in characters."
   ]
  },
  {
   "cell_type": "markdown",
   "metadata": {},
   "source": [
    "## Rotate Array (Leetcode 189)\n",
    "\n",
    "Rotate an array in place to the right by $k$ steps.\n",
    "\n",
    "```\n",
    "Example 1:\n",
    "\n",
    "Input: [1,2,3,4,5,6,7] and k = 3\n",
    "Output: [5,6,7,1,2,3,4]\n",
    "Explanation:\n",
    "rotate 1 steps to the right: [7,1,2,3,4,5,6]\n",
    "rotate 2 steps to the right: [6,7,1,2,3,4,5]\n",
    "rotate 3 steps to the right: [5,6,7,1,2,3,4]\n",
    "Example 2:\n",
    "\n",
    "Input: [-1,-100,3,99] and k = 2\n",
    "Output: [3,99,-1,-100]\n",
    "Explanation: \n",
    "rotate 1 steps to the right: [99,-1,-100,3]\n",
    "rotate 2 steps to the right: [3,99,-1,-100]\n",
    "```"
   ]
  },
  {
   "cell_type": "code",
   "execution_count": 1,
   "metadata": {},
   "outputs": [],
   "source": [
    "function rotate(nums, k) {\n",
    "    let out = Array(nums.length);\n",
    "    let real_move_length = k % nums.length;\n",
    "    nums.forEach((val, idx) => {\n",
    "        if (real_move_length <= (nums.length - idx - 1)) {\n",
    "            out[idx + real_move_length] = val;\n",
    "        } else {\n",
    "            out[real_move_length - (nums.length - idx)] = val;\n",
    "        }\n",
    "    })\n",
    "    return out;\n",
    "}"
   ]
  },
  {
   "cell_type": "code",
   "execution_count": 2,
   "metadata": {},
   "outputs": [
    {
     "data": {
      "text/plain": [
       "[ 5, 6, 7, 1, 2, 3, 4 ]"
      ]
     },
     "execution_count": 2,
     "metadata": {},
     "output_type": "execute_result"
    }
   ],
   "source": [
    "rotate([1,2,3,4,5,6,7], 3)"
   ]
  },
  {
   "cell_type": "markdown",
   "metadata": {},
   "source": [
    "For some reason this code is correct here, but returns an unmodified array in the Leetcode environment. I'm not interested in figuring out why."
   ]
  },
  {
   "cell_type": "markdown",
   "metadata": {},
   "source": [
    "## Factorial Trailing Zeroes (Leetcode 172)"
   ]
  },
  {
   "cell_type": "code",
   "execution_count": 1,
   "metadata": {},
   "outputs": [],
   "source": [
    "function trailingZeroes(n) {\n",
    "    let out = 0;\n",
    "    for (let i of Array(Math.floor(n / 5)).keys()) {\n",
    "        i += 1;\n",
    "        let fact = 5 * i;\n",
    "        let zeroes_added = 0;\n",
    "        while ((fact % 5) === 0) {\n",
    "            zeroes_added += 1;\n",
    "            fact /= 5;\n",
    "        }\n",
    "        out += zeroes_added;\n",
    "    }\n",
    "    return out;\n",
    "}"
   ]
  },
  {
   "cell_type": "markdown",
   "metadata": {},
   "source": [
    "This first function is correct, and faster than brute force factorization, but still not fast enough.\n",
    "\n",
    "This solution is $O(n)$. Supposedly there is a solution which is $O(\\log{n})$.\n",
    "\n",
    "After some further thought on the mathematical properties of the factorials, the realization to be made is that the count of zeroes for a value $n$, $f(n)$, has the following closed-form solution:\n",
    "\n",
    "$$f(n) = \\sum_{\\{i | 5^i < n\\}}\\text{nf}(5^i)$$\n",
    "\n",
    "Where $\\text{nf}(n, v) = \\lfloor n / 5^v\\rfloor$. An analytic solution comes from there."
   ]
  },
  {
   "cell_type": "code",
   "execution_count": 3,
   "metadata": {},
   "outputs": [
    {
     "data": {
      "text/plain": [
       "12"
      ]
     },
     "execution_count": 3,
     "metadata": {},
     "output_type": "execute_result"
    }
   ],
   "source": [
    "trailingZeroes(50)"
   ]
  },
  {
   "cell_type": "code",
   "execution_count": 18,
   "metadata": {},
   "outputs": [],
   "source": [
    "function trailingZeroes(n) {\n",
    "    let nf = (n, v) => Math.floor(n / v);\n",
    "    \n",
    "    let count = nf(n, 5);\n",
    "    \n",
    "    let i = 2;\n",
    "    while (true) {\n",
    "        let addtl = nf(n, 5**i)\n",
    "        if (addtl === 0) {\n",
    "            break;\n",
    "        } else {\n",
    "            count += addtl;\n",
    "            i += 1;\n",
    "        }\n",
    "    }\n",
    "    return count;\n",
    "}"
   ]
  },
  {
   "cell_type": "code",
   "execution_count": 19,
   "metadata": {},
   "outputs": [
    {
     "data": {
      "text/plain": [
       "49"
      ]
     },
     "execution_count": 19,
     "metadata": {},
     "output_type": "execute_result"
    }
   ],
   "source": [
    "trailingZeroes(200);"
   ]
  },
  {
   "cell_type": "markdown",
   "metadata": {},
   "source": [
    "This solution is logorithmic time."
   ]
  },
  {
   "cell_type": "markdown",
   "metadata": {},
   "source": [
    "## Two Sum (Leetcode 1)\n",
    "\n",
    "Given an array of integers, return indices of the two numbers such that they add up to a specific target.\n",
    "\n",
    "You may assume that each input would have exactly one solution, and you may not use the same element twice.\n",
    "\n",
    "```\n",
    "Example:\n",
    "\n",
    "Given nums = [2, 7, 11, 15], target = 9,\n",
    "\n",
    "Because nums[0] + nums[1] = 2 + 7 = 9,\n",
    "return [0, 1].\n",
    "```"
   ]
  },
  {
   "cell_type": "code",
   "execution_count": 24,
   "metadata": {},
   "outputs": [],
   "source": [
    "function twoSum(nums, target) {\n",
    "    let outmap = {};\n",
    "    for (let idx of nums.keys()) {\n",
    "        const value_needed = target - nums[idx];\n",
    "        if (value_needed in outmap) {\n",
    "            return [outmap[value_needed], idx];\n",
    "        } else {\n",
    "            outmap[nums[idx]] = idx;\n",
    "        }\n",
    "    }\n",
    "}"
   ]
  },
  {
   "cell_type": "markdown",
   "metadata": {},
   "source": [
    "## Kth Largest Element in a Stream (Leetcode 703)"
   ]
  },
  {
   "cell_type": "code",
   "execution_count": 1,
   "metadata": {},
   "outputs": [],
   "source": [
    "class KthLargest {\n",
    "    constructor(k, nums) {\n",
    "        let initializer = nums.slice(0, k).sort((a, b) => a-b);\n",
    "        this.k = k;\n",
    "        this.kth_val = initializer[0];\n",
    "        this.larger_nums = initializer.slice(1);\n",
    "        \n",
    "        nums = nums.slice(k);\n",
    "        nums.forEach(n => this.add(n));\n",
    "    }\n",
    "    \n",
    "    add(n) {\n",
    "        if (n > this.kth_val && ((n < this.larger_nums[0]) || (this.k === 1))) {\n",
    "            this.kth_val = n;\n",
    "        } else if (n >= this.kth_val && n >= this.larger_nums[0]) {\n",
    "            this.kth_val = this.larger_nums[0];\n",
    "            this.larger_nums = this.larger_nums.slice(1);\n",
    "            this.larger_nums.push(n);\n",
    "            this.larger_nums = this.larger_nums.sort((a, b) => a - b);\n",
    "        }\n",
    "        return this.kth_val;\n",
    "    }\n",
    "}"
   ]
  },
  {
   "cell_type": "code",
   "execution_count": 2,
   "metadata": {},
   "outputs": [],
   "source": [
    "// let kth = new KthLargest(1, [5]);"
   ]
  },
  {
   "cell_type": "code",
   "execution_count": 12,
   "metadata": {},
   "outputs": [],
   "source": [
    "// let real_kth = new KthLargest(3, [1, 2, 3, 4, 5]);"
   ]
  },
  {
   "cell_type": "code",
   "execution_count": 13,
   "metadata": {},
   "outputs": [],
   "source": [
    "// let real_kth = new KthLargest(2, [0]);"
   ]
  },
  {
   "cell_type": "markdown",
   "metadata": {},
   "source": [
    "Unfinished. A sterling example of what happens when I fail to consider what happens in the edge cases, and have to hamfist something in. This algorithm works under the case that the initializer array is longer than the value `k`, but fails in the case that it is not."
   ]
  },
  {
   "cell_type": "markdown",
   "metadata": {},
   "source": [
    "## First Unique Character in a String (Leetcode 387)"
   ]
  },
  {
   "cell_type": "code",
   "execution_count": 76,
   "metadata": {},
   "outputs": [],
   "source": [
    "function firstUniqChar(s) {\n",
    "    let uniqueSet = new Set();\n",
    "    let nonuniqueSet = new Set();\n",
    "    let uniqueSetMap = {};\n",
    "    for (let idx of Array(s.length).keys()) {\n",
    "        const char = s[idx];\n",
    "        if (uniqueSet.has(char)) {\n",
    "            nonuniqueSet.add(char);\n",
    "            uniqueSet.delete(char);\n",
    "            delete uniqueSetMap[char];\n",
    "        } else if (!nonuniqueSet.has(char)) {\n",
    "            uniqueSet.add(char);\n",
    "            uniqueSetMap[char] = idx;\n",
    "        }\n",
    "    }\n",
    "    if (Object.keys(uniqueSetMap).length === 0) {\n",
    "        return -1;\n",
    "    } else {\n",
    "        let best_idx = s.length;\n",
    "        let best_char = null;\n",
    "        for (let key of Object.keys(uniqueSetMap)) {\n",
    "            if (uniqueSetMap[key] < best_idx) {\n",
    "                best_idx = uniqueSetMap[key];\n",
    "                best_char = key;\n",
    "            }\n",
    "        }\n",
    "        return best_idx;\n",
    "    }\n",
    "}"
   ]
  },
  {
   "cell_type": "markdown",
   "metadata": {},
   "source": [
    "**Comment**: I was able to solve the pseudocode right away. Had some issues with the LeetCode answer interpreter post-processing my output, which took figuring out to understand why my answer (which was accidentally the character, *not* the index) was being set to `NaN`."
   ]
  },
  {
   "cell_type": "markdown",
   "metadata": {},
   "source": [
    "## Duplicate Zeros (Leetcode 1089)"
   ]
  },
  {
   "cell_type": "code",
   "execution_count": 17,
   "metadata": {},
   "outputs": [],
   "source": [
    "function duplicateZeros(arr) {\n",
    "    let out = Array();\n",
    "    let arr_idx = 0;\n",
    "    while (out.length < arr.length) {\n",
    "        const num = arr[arr_idx];\n",
    "        if (num != 0) out.push(num);\n",
    "        if (num === 0) out = out.concat([0, 0]);\n",
    "        arr_idx += 1;\n",
    "    }\n",
    "    return out;\n",
    "}"
   ]
  },
  {
   "cell_type": "markdown",
   "metadata": {},
   "source": [
    "Failed to do it in place. >:("
   ]
  },
  {
   "cell_type": "code",
   "execution_count": 28,
   "metadata": {},
   "outputs": [],
   "source": [
    "function duplicateZeros(arr) {\n",
    "    let orig = arr.slice(0);\n",
    "    let orig_pointer = 0;\n",
    "    let out_pointer = 0;\n",
    "    while (out_pointer < orig.length) {\n",
    "        const num = orig[orig_pointer];\n",
    "        \n",
    "        if (num === 0) {\n",
    "            arr[out_pointer] = 0;\n",
    "            out_pointer += 1;\n",
    "            if (out_pointer < orig.length) {\n",
    "                arr[out_pointer] = 0;\n",
    "            }\n",
    "            out_pointer += 1;\n",
    "            orig_pointer += 1;\n",
    "        } else {\n",
    "            arr[out_pointer] = num;\n",
    "            orig_pointer += 1;\n",
    "            out_pointer += 1;\n",
    "        }\n",
    "    }\n",
    "}"
   ]
  },
  {
   "cell_type": "markdown",
   "metadata": {},
   "source": [
    "**Comment**: This was an easy problem computationally. Two things to pay attention to are (1) the in-place condition, which I screwed up on and (2) the check-length condition for doubling the zeroes, which I also screwed up on. I clearly have a long way to go when it comes to attentiveness on conditions...sigh."
   ]
  }
 ],
 "metadata": {
  "kernelspec": {
   "display_name": "Javascript (Node.js)",
   "language": "javascript",
   "name": "javascript"
  },
  "language_info": {
   "file_extension": ".js",
   "mimetype": "application/javascript",
   "name": "javascript",
   "version": "11.3.0"
  }
 },
 "nbformat": 4,
 "nbformat_minor": 2
}
