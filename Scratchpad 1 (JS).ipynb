{
 "cells": [
  {
   "cell_type": "markdown",
   "metadata": {},
   "source": [
    "## Hamming distance (Leetcode 461)"
   ]
  },
  {
   "cell_type": "code",
   "execution_count": 1,
   "metadata": {},
   "outputs": [],
   "source": [
    "/* Returns the binary representation of the input integer. */\n",
    "function binary_repr(int) {\n",
    "    if (int === 0) return '0';\n",
    "    if (int === 1) return '1';\n",
    "\n",
    "    let out = '';\n",
    "    while (true) {\n",
    "        const [mod_part, divisor_part] = [int % 2, Math.floor(int / 2)];\n",
    "        \n",
    "        if (int === 1) {\n",
    "            out = '1' + out;\n",
    "            return out;\n",
    "        } else {\n",
    "            out = mod_part + out;\n",
    "            int = divisor_part;\n",
    "        }\n",
    "    }\n",
    "}"
   ]
  },
  {
   "cell_type": "code",
   "execution_count": 2,
   "metadata": {},
   "outputs": [],
   "source": [
    "const assert = require('assert');\n",
    "\n",
    "assert.equal('0', binary_repr(0));\n",
    "assert.equal('1', binary_repr(1));\n",
    "assert.equal('10', binary_repr(2));\n",
    "assert.equal('11', binary_repr(3));\n",
    "assert.equal('100', binary_repr(4));\n",
    "assert.equal('101001101', binary_repr(333));"
   ]
  },
  {
   "cell_type": "code",
   "execution_count": 3,
   "metadata": {},
   "outputs": [],
   "source": [
    "/* Pads the smaller of two strings with leading zeroes. */\n",
    "function pad_left_zeroes(v1, v2) {\n",
    "    if (v1.length === v2.length) return [v1, v2];\n",
    "    else {\n",
    "        if (v1.length < v2.length) {\n",
    "            const d = v2.length - v1.length;\n",
    "            v1 = Array(d).fill(0).join('') + v1;\n",
    "            return [v1, v2];\n",
    "        } else {  // v2.length < v1.length\n",
    "            const d = v1.length - v2.length;\n",
    "            v2 = Array(d).fill(0).join('') + v2;\n",
    "            return [v1, v2];\n",
    "        }\n",
    "    }\n",
    "}"
   ]
  },
  {
   "cell_type": "code",
   "execution_count": 4,
   "metadata": {},
   "outputs": [],
   "source": [
    "function hammingDistance(v1, v2) {\n",
    "    [v1, v2] = pad_left_zeroes(binary_repr(v1), binary_repr(v2));\n",
    "    dist = 0;\n",
    "    \n",
    "    for (let i of Array(v1.length).keys()) {\n",
    "        if (v1[i] !== v2[i]) dist += 1;\n",
    "    }\n",
    "    return dist;\n",
    "}"
   ]
  },
  {
   "cell_type": "markdown",
   "metadata": {},
   "source": [
    "Determining the binary sequence is $O(\\log_2{n})$. Performing the comparison operation is $O(\\max\\{{\\log_2{n}, \\log_2{m}\\}})$. So the whole operation is $O(\\log_2{n})$."
   ]
  },
  {
   "cell_type": "markdown",
   "metadata": {},
   "source": [
    "## Minimum Absolute Interlink Difference in Binary Search Tree\n",
    "\n",
    "Given a binary search tree with non-negative values, find the minimum absolute difference between values of two connected nodes.\n",
    "\n",
    "> This was originally an attempt at a Leetcode exercise, except I misread the exercise..."
   ]
  },
  {
   "cell_type": "code",
   "execution_count": 1,
   "metadata": {},
   "outputs": [],
   "source": [
    "class TreeNode {\n",
    "    constructor(val) {\n",
    "        this.val = val;\n",
    "        this.left = this.right = null;\n",
    "    }\n",
    "}"
   ]
  },
  {
   "cell_type": "code",
   "execution_count": 9,
   "metadata": {},
   "outputs": [],
   "source": [
    "function getMinimumDifference(root) {\n",
    "    if (!root) return Infinity;\n",
    "\n",
    "    let left_dist = (root.left) ? root.val - root.left.val : Infinity;\n",
    "    let right_dist = (root.right) ? root.right.val - root.val: Infinity;\n",
    "    let self_dist = Math.min(left_dist, right_dist);\n",
    "    let dist = Math.min(self_dist, getMinimumDifference(root.left), getMinimumDifference(root.right));\n",
    "    return dist;\n",
    "}"
   ]
  },
  {
   "cell_type": "code",
   "execution_count": 8,
   "metadata": {},
   "outputs": [
    {
     "data": {
      "text/plain": [
       "TreeNode { val: 7, right: null, left: null }"
      ]
     },
     "execution_count": 8,
     "metadata": {},
     "output_type": "execute_result"
    }
   ],
   "source": [
    "let _root = new TreeNode(4);\n",
    "_root.left = new TreeNode(2);\n",
    "_root.right = new TreeNode(6);\n",
    "_root.left.left = new TreeNode(0);\n",
    "_root.left.right = new TreeNode(3);\n",
    "_root.right.left = new TreeNode(5);\n",
    "_root.right.right = new TreeNode(7);"
   ]
  },
  {
   "cell_type": "code",
   "execution_count": 3,
   "metadata": {},
   "outputs": [],
   "source": [
    "// let _root = new TreeNode(1);\n",
    "// _root.right = new TreeNode(2);"
   ]
  },
  {
   "cell_type": "code",
   "execution_count": 10,
   "metadata": {
    "scrolled": true
   },
   "outputs": [
    {
     "data": {
      "text/plain": [
       "1"
      ]
     },
     "execution_count": 10,
     "metadata": {},
     "output_type": "execute_result"
    }
   ],
   "source": [
    "getMinimumDifference(_root);"
   ]
  },
  {
   "cell_type": "markdown",
   "metadata": {},
   "source": [
    "This code is $O(n)$, where $n$ is the depth of the tree."
   ]
  },
  {
   "cell_type": "markdown",
   "metadata": {},
   "source": [
    "## Maximum Depth of Binary Tree (Leetcode 104)\n",
    "\n",
    "The maximum depth is the number of nodes along the longest path from the root node down to the farthest leaf node."
   ]
  },
  {
   "cell_type": "code",
   "execution_count": 1,
   "metadata": {},
   "outputs": [],
   "source": [
    "class TreeNode {\n",
    "    constructor(val) {\n",
    "        this.val = val;\n",
    "        this.left = this.right = null;\n",
    "    }\n",
    "}"
   ]
  },
  {
   "cell_type": "code",
   "execution_count": 12,
   "metadata": {},
   "outputs": [],
   "source": [
    "function maxDepth(root) {\n",
    "    if (!root) return 0;\n",
    "    if (!root.left & !root.right) return 1;\n",
    "    \n",
    "    let children = [];\n",
    "    if (root.left) children.push(maxDepth(root.left) + 1);\n",
    "    if (root.right) children.push(maxDepth(root.right) + 1);\n",
    "    \n",
    "    return Math.max(...children);\n",
    "}"
   ]
  },
  {
   "cell_type": "markdown",
   "metadata": {},
   "source": [
    "This code is $O(n)$, where $n$ is the depth of the tree."
   ]
  },
  {
   "cell_type": "markdown",
   "metadata": {},
   "source": [
    "## Convert Sorted Array to Binary Search Tree (Leetcode 108)\n",
    "\n",
    "Given an array where elements are sorted in ascending order, convert it to a height balanced BST."
   ]
  },
  {
   "cell_type": "code",
   "execution_count": 1,
   "metadata": {},
   "outputs": [],
   "source": [
    "class TreeNode {\n",
    "    constructor(val) {\n",
    "        this.val = val;\n",
    "        this.left = this.right = null;\n",
    "    }\n",
    "}"
   ]
  },
  {
   "cell_type": "code",
   "execution_count": 57,
   "metadata": {},
   "outputs": [],
   "source": [
    "function sortedArrayToBST(nums) {\n",
    "    if (!nums || nums.length === 0) return null;\n",
    "    if (nums.length === 1) return new TreeNode(nums[0]);\n",
    "    if (nums.length === 2) {\n",
    "        let up = new TreeNode(nums[1]);\n",
    "        up.left = new TreeNode(nums[0]);\n",
    "        return up;\n",
    "    }\n",
    "\n",
    "    const pivot = Math.ceil(nums.length / 2) - 1;\n",
    "    const [left, right] = [\n",
    "        sortedArrayToBST(nums.slice(0, pivot)), sortedArrayToBST(nums.slice(pivot + 1))\n",
    "    ];\n",
    "\n",
    "    let up = new TreeNode(nums[pivot]);\n",
    "    up.left = left;\n",
    "    up.right = right;\n",
    "    return up;\n",
    "}"
   ]
  },
  {
   "cell_type": "code",
   "execution_count": 59,
   "metadata": {},
   "outputs": [
    {
     "data": {
      "text/plain": [
       "TreeNode {\n",
       "  val: 0,\n",
       "  right:\n",
       "   TreeNode {\n",
       "     val: 9,\n",
       "     right: null,\n",
       "     left: TreeNode { val: 5, right: null, left: null } },\n",
       "  left:\n",
       "   TreeNode {\n",
       "     val: -3,\n",
       "     right: null,\n",
       "     left: TreeNode { val: -10, right: null, left: null } } }"
      ]
     },
     "execution_count": 59,
     "metadata": {},
     "output_type": "execute_result"
    }
   ],
   "source": [
    "sortedArrayToBST([-10,-3,0,5,9]);"
   ]
  },
  {
   "cell_type": "code",
   "execution_count": null,
   "metadata": {},
   "outputs": [],
   "source": []
  }
 ],
 "metadata": {
  "kernelspec": {
   "display_name": "Javascript (Node.js)",
   "language": "javascript",
   "name": "javascript"
  },
  "language_info": {
   "file_extension": ".js",
   "mimetype": "application/javascript",
   "name": "javascript",
   "version": "11.3.0"
  }
 },
 "nbformat": 4,
 "nbformat_minor": 2
}
